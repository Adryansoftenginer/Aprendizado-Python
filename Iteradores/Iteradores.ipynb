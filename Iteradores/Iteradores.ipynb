{
 "cells": [
  {
   "cell_type": "markdown",
   "id": "2b06fe64-6d3c-4455-aa75-ceed2a21eb23",
   "metadata": {},
   "source": [
    "# Iteradores"
   ]
  },
  {
   "cell_type": "markdown",
   "id": "308f938a-25b9-4e15-a519-9d885376ec15",
   "metadata": {},
   "source": [
    "Um iterador é um objeto que implementa o protocolo do iterador, que consiste em dois métodos: __iter__() e __next__().\n",
    "\n",
    "O método __iter__() retorna o próprio objeto iterador.\n",
    "O método __next__() retorna o próximo item da iteração. Se não houver mais itens, ele levanta uma exceção StopIteration."
   ]
  },
  {
   "cell_type": "code",
   "execution_count": 1,
   "id": "ba89b8d1-43cc-4501-bd7d-a5a622ec3b36",
   "metadata": {},
   "outputs": [
    {
     "name": "stdout",
     "output_type": "stream",
     "text": [
      "1\n",
      "2\n",
      "3\n",
      "4\n"
     ]
    }
   ],
   "source": [
    "# Este exemplo demonstra como obter um iterador de uma lista e recuperar elementos usando next().\n",
    "# Iterador Básico com uma Lista\n",
    "lista = [1,2,3,4]\n",
    "iterador = iter(lista)\n",
    "print(next(iterador)) # Saída: 1\n",
    "print(next(iterador)) # Saída: 2\n",
    "print(next(iterador)) # Saída: 3\n",
    "print(next(iterador)) # Saída: 4\n",
    "\n",
    "# O type() do objeto iterador é list_iterator.\n",
    "\n",
    "# Tentar chamar next() após todos os elementos terem sido recuperados resultará em um erro StopIteration, conforme mostrado no código comentado no notebook original."
   ]
  },
  {
   "cell_type": "markdown",
   "id": "be0b13b8-17ab-4cd4-9f65-8ad9dd5824cd",
   "metadata": {},
   "source": [
    "# Iterando com um Loop for\n",
    "O loop for implicitamente lida com o protocolo de iteração, chamando iter() e next() internamente e capturando a exceção StopIteration."
   ]
  },
  {
   "cell_type": "code",
   "execution_count": 2,
   "id": "ae28c665-6458-4deb-8f8e-52de7588d38e",
   "metadata": {},
   "outputs": [
    {
     "name": "stdout",
     "output_type": "stream",
     "text": [
      "1\n",
      "2\n",
      "3\n",
      "4\n"
     ]
    }
   ],
   "source": [
    "lista = [1,2,3,4]\n",
    "for item in lista:\n",
    "  print(item)"
   ]
  },
  {
   "cell_type": "markdown",
   "id": "e705c0f2-8d76-41c9-8e56-ad5f7f9c062a",
   "metadata": {},
   "source": [
    "# Classe de Iterador Personalizada\n",
    "Este exemplo demonstra a criação de uma classe iterável personalizada ColecaoNumeros que gera números até um máximo especificado."
   ]
  },
  {
   "cell_type": "code",
   "execution_count": 4,
   "id": "4c15bee7-c282-49ed-8dd2-549f55b1be29",
   "metadata": {},
   "outputs": [
    {
     "name": "stdout",
     "output_type": "stream",
     "text": [
      "1\n",
      "2\n",
      "3\n",
      "4\n",
      "5\n",
      "6\n"
     ]
    }
   ],
   "source": [
    "class ColecaoNumeros:\n",
    "  def __init__(self, numero_max):\n",
    "    self.max = numero_max\n",
    "  def __iter__(self):\n",
    "    self.numero_atual = 1\n",
    "    return self\n",
    "\n",
    "  def __next__(self):\n",
    "    if self.numero_atual <= self.max:\n",
    "      retorno = self.numero_atual\n",
    "      self.numero_atual +=1\n",
    "      return retorno\n",
    "    else:\n",
    "      raise StopIteration\n",
    "\n",
    "colecao = ColecaoNumeros(6)\n",
    "\n",
    "for item in colecao:\n",
    "  print(item)"
   ]
  },
  {
   "cell_type": "code",
   "execution_count": null,
   "id": "d02109f7-97a1-49a0-b955-43db8fb8e567",
   "metadata": {},
   "outputs": [],
   "source": [
    "# O operador in também funciona com iteradores personalizados\n"
   ]
  },
  {
   "cell_type": "code",
   "execution_count": 6,
   "id": "d44ed4a9-8fea-41a1-ae2e-fb057fc588a9",
   "metadata": {},
   "outputs": [
    {
     "name": "stdout",
     "output_type": "stream",
     "text": [
      "True\n"
     ]
    }
   ],
   "source": [
    "print(2 in colecao)"
   ]
  },
  {
   "cell_type": "code",
   "execution_count": 7,
   "id": "22d55499-07d1-42ca-a5c6-c5ff31f9444f",
   "metadata": {},
   "outputs": [
    {
     "name": "stdout",
     "output_type": "stream",
     "text": [
      "1\n",
      "2\n",
      "3\n",
      "4\n"
     ]
    }
   ],
   "source": [
    "# Você também pode iterar manualmente por uma instância de ColecaoNumeros usando iter() e next():\n",
    "colecao = ColecaoNumeros(6)\n",
    "iterador = iter(colecao)\n",
    "print(next(iterador)) # Saída: 1\n",
    "print(next(iterador)) # Saída: 2\n",
    "print(next(iterador)) # Saída: 3\n",
    "print(next(iterador)) # Saída: 4"
   ]
  },
  {
   "cell_type": "markdown",
   "id": "4631fd5a-65a2-46d4-a373-ec1eaa0a047a",
   "metadata": {},
   "source": [
    "# Geradores\n",
    "Geradores são uma maneira mais simples de criar iteradores usando funções e a palavra-chave yield. Quando uma função geradora é chamada, ela retorna um objeto gerador sem iniciar a execução imediatamente. \n",
    "A execução começa quando next() é chamado no objeto gerador, e ele pausa em cada instrução yield, retornando o valor cedido. Na próxima chamada de next(), a execução é retomada de onde parou."
   ]
  },
  {
   "cell_type": "code",
   "execution_count": null,
   "id": "11563630-3d0c-40e5-868c-1d6c622e0096",
   "metadata": {},
   "outputs": [],
   "source": [
    "# Função Geradora Básica"
   ]
  },
  {
   "cell_type": "code",
   "execution_count": 9,
   "id": "52ac0591-e4b9-47e0-9ec1-1ea9a3a67ea8",
   "metadata": {},
   "outputs": [
    {
     "name": "stdout",
     "output_type": "stream",
     "text": [
      "2\n",
      "1\n",
      "3\n"
     ]
    }
   ],
   "source": [
    "# Função Geradora Básica\n",
    "def ancora():\n",
    "  yield 2\n",
    "  yield 1\n",
    "  yield 3\n",
    "\n",
    "for item in ancora():\n",
    "  print(item)"
   ]
  },
  {
   "cell_type": "code",
   "execution_count": 11,
   "id": "232209a6-9ff1-4211-a117-8a3928067f13",
   "metadata": {},
   "outputs": [
    {
     "name": "stdout",
     "output_type": "stream",
     "text": [
      "False\n",
      "True\n"
     ]
    }
   ],
   "source": [
    "#O operador in também funciona com funções geradoras. \n",
    "print(10 in ancora()) # Saída: False\n",
    "print(2 in ancora())  # Saída: True"
   ]
  },
  {
   "cell_type": "code",
   "execution_count": 12,
   "id": "4b6810cc-c8ca-4202-a134-fd7d5fd3bcaa",
   "metadata": {},
   "outputs": [
    {
     "name": "stdout",
     "output_type": "stream",
     "text": [
      "2\n",
      "1\n",
      "3\n"
     ]
    }
   ],
   "source": [
    "# Você também pode iterar manualmente por um gerador usando next():\n",
    "func = ancora()\n",
    "\n",
    "print(next(func)) # Saída: 1\n",
    "print(next(func)) # Saída: 2\n",
    "print(next(func)) # Saída: 3"
   ]
  },
  {
   "cell_type": "code",
   "execution_count": 13,
   "id": "efa6fe9b-198b-4607-a95f-9096ffc7b8de",
   "metadata": {},
   "outputs": [
    {
     "name": "stdout",
     "output_type": "stream",
     "text": [
      "0\n",
      "1\n",
      "2\n",
      "3\n",
      "4\n",
      "5\n",
      "6\n",
      "7\n",
      "8\n",
      "9\n"
     ]
    }
   ],
   "source": [
    "# Implementando uma Função range() Personalizada com um Gerador\n",
    "# Este exemplo mostra como criar um gerador que imita o comportamento da função range() embutida do Python.\n",
    "def meu_range(num):\n",
    "  local_num = 0\n",
    "  while local_num < num:\n",
    "    yield local_num\n",
    "    local_num += 1\n",
    "\n",
    "for i in meu_range(10):\n",
    "  print(i)"
   ]
  },
  {
   "cell_type": "markdown",
   "id": "8890ef0a-d1d7-4637-abe5-e64e75b3331c",
   "metadata": {},
   "source": [
    "# Função enumerate()\n",
    "A função enumerate() adiciona um contador a um iterável e o retorna como um objeto enumerador. Este objeto pode ser usado diretamente em loops for para obter tanto o índice quanto o valor."
   ]
  },
  {
   "cell_type": "code",
   "execution_count": 14,
   "id": "7b66680d-284a-4b8e-aa58-4bce24162fa6",
   "metadata": {},
   "outputs": [
    {
     "name": "stdout",
     "output_type": "stream",
     "text": [
      "(0, 'a')\n",
      "(1, 'b')\n",
      "(2, 'c')\n"
     ]
    }
   ],
   "source": [
    "# Usando enumerate() com uma Lista\n",
    "lista = ['a','b','c']\n",
    "\n",
    "for item in enumerate(lista):\n",
    "  print(item)"
   ]
  },
  {
   "cell_type": "code",
   "execution_count": 15,
   "id": "2445aa24-61af-4feb-b9cf-b9980b6061e4",
   "metadata": {},
   "outputs": [
    {
     "name": "stdout",
     "output_type": "stream",
     "text": [
      "0 a\n",
      "1 b\n",
      "2 c\n"
     ]
    }
   ],
   "source": [
    "# Você pode desempacotar o índice e o valor diretamente no loop for:\n",
    "for indice, valor in enumerate(lista):\n",
    "  print(indice, valor)"
   ]
  },
  {
   "cell_type": "code",
   "execution_count": 16,
   "id": "5c8abf59-7766-4fed-907c-1134de67e6af",
   "metadata": {},
   "outputs": [
    {
     "name": "stdout",
     "output_type": "stream",
     "text": [
      "0 2000\n",
      "1 2001\n",
      "2 2002\n",
      "3 2003\n",
      "4 2004\n",
      "5 2005\n"
     ]
    }
   ],
   "source": [
    "# Usando enumerate() com um Gerador\n",
    "def anos():\n",
    "  yield '2000'\n",
    "  yield '2001'\n",
    "  yield '2002'\n",
    "  yield '2003'\n",
    "  yield '2004'\n",
    "  yield '2005'        \n",
    "\n",
    "for indice, valor in enumerate(anos()):\n",
    "  print(indice, valor)"
   ]
  },
  {
   "cell_type": "markdown",
   "id": "762c0b9a-f859-4158-830a-fc5ac6b535cc",
   "metadata": {},
   "source": [
    "# Desempacotamento de Iteráveis\n",
    "Python permite desempacotar elementos de iteráveis diretamente em variáveis, o que é especialmente útil ao iterar sobre listas de listas ou funções geradoras que retornam vários valores.\n",
    "\n",
    "\n"
   ]
  },
  {
   "cell_type": "code",
   "execution_count": 17,
   "id": "abed6f68-f688-435c-9561-f363afe2ce9d",
   "metadata": {},
   "outputs": [
    {
     "name": "stdout",
     "output_type": "stream",
     "text": [
      "carro 200.000\n",
      "cadeira 1000\n",
      "moto 33000\n",
      "geladeira 2000\n",
      "armário 15000\n"
     ]
    }
   ],
   "source": [
    "produtos = [\n",
    "['carro', '200.000'],\n",
    "['cadeira','1000'],\n",
    "['moto','33000'],\n",
    "['geladeira','2000'],\n",
    "['armário','15000']\n",
    "]\n",
    "\n",
    "for produto, valor in produtos:\n",
    "  print(produto, valor)"
   ]
  },
  {
   "cell_type": "code",
   "execution_count": 18,
   "id": "e7c2fa1d-f491-42cf-af26-2747ab5b8cc8",
   "metadata": {},
   "outputs": [
    {
     "name": "stdout",
     "output_type": "stream",
     "text": [
      "1 2\n",
      "3 4\n",
      "5 6\n"
     ]
    }
   ],
   "source": [
    "# Desempacotamento de um Gerador que Retorna Tuplas/Listas\n",
    "def gen1():\n",
    "  yield [1,2]\n",
    "  yield [3,4]\n",
    "  yield [5,6]\n",
    "\n",
    "for x,y in gen1():\n",
    "  print(x,y)"
   ]
  },
  {
   "cell_type": "markdown",
   "id": "cab07dc6-b460-4c6e-bde9-8d0b4e4a4239",
   "metadata": {},
   "source": [
    "# Geradores Aninhados\n",
    "Geradores podem ser aninhados para criar padrões de iteração mais complexos.\n",
    "\n"
   ]
  },
  {
   "cell_type": "code",
   "execution_count": 19,
   "id": "c46c5da5-0e7d-426d-b4bd-212357f4b325",
   "metadata": {},
   "outputs": [
    {
     "name": "stdout",
     "output_type": "stream",
     "text": [
      "1 a\n",
      "1 b\n",
      "1 c\n",
      "2 a\n",
      "2 b\n",
      "2 c\n",
      "3 a\n",
      "3 b\n",
      "3 c\n"
     ]
    }
   ],
   "source": [
    "# Geradores Aninhados\n",
    "def gen1():\n",
    "  yield 1\n",
    "  yield 2\n",
    "  yield 3\n",
    "\n",
    "def gen2():\n",
    "  for i in gen1():\n",
    "    yield i,'a'\n",
    "    yield i,'b'\n",
    "    yield i,'c'\n",
    "\n",
    "for x,y in gen2():\n",
    "  print(x,y)"
   ]
  },
  {
   "cell_type": "markdown",
   "id": "311c5203-e005-4951-aefd-10530431d1fe",
   "metadata": {},
   "source": [
    "# O Método de String join()\n",
    "O método de string join() é usado para concatenar elementos de um iterável (por exemplo, uma lista ou um gerador) em uma única string. A string na qual join() é chamado atua como o separador entre os elementos. Todos os elementos no iterável devem ser strings."
   ]
  },
  {
   "cell_type": "code",
   "execution_count": 23,
   "id": "1aab751d-0ae1-43fe-91a2-0cd5b5098ebf",
   "metadata": {},
   "outputs": [
    {
     "name": "stdout",
     "output_type": "stream",
     "text": [
      "o#l#á\n"
     ]
    }
   ],
   "source": [
    "#  Uso Básico de join()\n",
    "texto1 = 'olá'\n",
    "print(\"#\".join(texto1))"
   ]
  },
  {
   "cell_type": "code",
   "execution_count": 24,
   "id": "a03c3cd7-0ac2-4fef-a6f4-288d1908da5a",
   "metadata": {},
   "outputs": [
    {
     "name": "stdout",
     "output_type": "stream",
     "text": [
      "a b c d\n"
     ]
    }
   ],
   "source": [
    "lista = ['a','b','c','d']\n",
    "letras = ' '.join(lista)\n",
    "print(letras)"
   ]
  },
  {
   "cell_type": "code",
   "execution_count": 26,
   "id": "b1a13cbe-d336-48d8-b080-0bba2445868f",
   "metadata": {},
   "outputs": [
    {
     "name": "stdout",
     "output_type": "stream",
     "text": [
      "0-1-2-3-4-5-6-7-8-9\n"
     ]
    }
   ],
   "source": [
    "# join() com uma List Comprehension\n",
    "letras = '-'.join([str(i) for i in range(10)])\n",
    "print(letras)"
   ]
  },
  {
   "cell_type": "code",
   "execution_count": 27,
   "id": "9382eece-127b-4e9b-857a-d0af06c676a2",
   "metadata": {},
   "outputs": [
    {
     "name": "stdout",
     "output_type": "stream",
     "text": [
      "2020-2021-2022-2023-2024-2025-2026-2027-2028-2029\n"
     ]
    }
   ],
   "source": [
    "# join() com um Gerador\n",
    "def anos():\n",
    "  for i in range(2020,2030):\n",
    "    yield str(i)\n",
    "\n",
    "letras = '-'.join(anos())\n",
    "print(letras)"
   ]
  },
  {
   "cell_type": "markdown",
   "id": "ec69ec0d-ff6f-4c10-a52b-74f969ced38d",
   "metadata": {},
   "source": [
    "# Lidando com StopIteration\n",
    "Ao iterar manualmente com next(), uma exceção StopIteration é levantada quando todos os elementos foram consumidos. Isso pode ser tratado usando um bloco try-except."
   ]
  },
  {
   "cell_type": "code",
   "execution_count": 28,
   "id": "b2cd9e08-411c-4050-967b-d6d5c9a0a386",
   "metadata": {},
   "outputs": [
    {
     "name": "stdout",
     "output_type": "stream",
     "text": [
      "1\n",
      "2\n",
      "3\n"
     ]
    }
   ],
   "source": [
    "lista = [1,2,3]\n",
    "\n",
    "iterator = iter(lista)\n",
    "\n",
    "while(True):\n",
    "  try:\n",
    "    print(next(iterator))\n",
    "  except:\n",
    "    break;"
   ]
  },
  {
   "cell_type": "markdown",
   "id": "1fdc9cf5-2d79-4968-b927-06b75e5addc1",
   "metadata": {},
   "source": [
    "# Exercícios e Soluções:\n",
    "O documento inclui vários exercícios para reforçar a compreensão de iteradores e geradores."
   ]
  },
  {
   "cell_type": "code",
   "execution_count": 30,
   "id": "20a069df-76e6-4e3b-8f9b-0f874435e850",
   "metadata": {},
   "outputs": [
    {
     "name": "stdout",
     "output_type": "stream",
     "text": [
      "janeiro\n",
      "fevereiro\n",
      "março\n",
      "abril\n",
      "maio\n",
      "junho\n",
      "julho\n",
      "agosto\n",
      "setembro\n",
      "outubro\n",
      "novembro\n",
      "dezembro\n"
     ]
    }
   ],
   "source": [
    "# Exercício 1: Crie uma função iterável \"meses\" que retorne meses. Use um laço for para mostrar os valores.\n",
    "def meses():\n",
    "  meses = ['janeiro','fevereiro','março','abril','maio','junho','julho',\\\n",
    "           'agosto','setembro','outubro','novembro','dezembro']\n",
    "  for i in meses:\n",
    "    yield i\n",
    "\n",
    "for mes in meses():\n",
    "  print(mes)"
   ]
  },
  {
   "cell_type": "code",
   "execution_count": 31,
   "id": "db19bd2b-0a63-4892-be85-c76416136515",
   "metadata": {},
   "outputs": [
    {
     "name": "stdout",
     "output_type": "stream",
     "text": [
      "2\n",
      "4\n",
      "6\n",
      "8\n",
      "10\n"
     ]
    }
   ],
   "source": [
    "# Crie uma função iterável que receba uma lista de números e retorne a cada iteração um item dessa lista multiplicado por dois.\n",
    "def duplicado(lista):\n",
    "  for i in lista:\n",
    "    yield i*2\n",
    "\n",
    "lista = [1,2,3,4,5]\n",
    "\n",
    "for i in duplicado(lista):\n",
    "  print(i)"
   ]
  },
  {
   "cell_type": "code",
   "execution_count": 32,
   "id": "e4047145-bce6-4ad3-a09c-cb2d30edfe64",
   "metadata": {},
   "outputs": [
    {
     "name": "stdout",
     "output_type": "stream",
     "text": [
      "2\n",
      "4\n",
      "6\n",
      "8\n",
      "10\n",
      "12\n",
      "14\n",
      "16\n",
      "18\n",
      "20\n"
     ]
    }
   ],
   "source": [
    "# Exercício 3: Crie uma classe iterável chamada \"Tabuada\" que calcule a tabuada da multiplicação do número recebido no construtor. A cada iteração ela deve retornar um resultado da tabuada. Para testar use um laço for.\n",
    "class Tabuada:\n",
    "  def __init__(self, num):\n",
    "    self.num = num\n",
    "  def __iter__(self):\n",
    "    self.atual = 0\n",
    "    return self\n",
    "  def __next__(self):\n",
    "    self.atual += 1\n",
    "    if(self.atual ==11):\n",
    "      raise StopIteration\n",
    "    return self.atual * self.num\n",
    "\n",
    "tabuada_cal = Tabuada(2)\n",
    "\n",
    "for i in tabuada_cal:\n",
    "  print(i)"
   ]
  },
  {
   "cell_type": "code",
   "execution_count": 33,
   "id": "7aac1518-4ac8-4aaf-becf-58f16391d15e",
   "metadata": {},
   "outputs": [
    {
     "name": "stdout",
     "output_type": "stream",
     "text": [
      "1\n",
      "2\n",
      "6\n",
      "24\n",
      "120\n",
      "720\n",
      "5040\n",
      "40320\n",
      "362880\n",
      "3628800\n"
     ]
    }
   ],
   "source": [
    "# Crie uma classe que retorne os fatoriais de um número no intervalo de X a Y, recebidos por parâmetro no construtor da classe.\n",
    "class Fatorial:\n",
    "  def __init__(self,x,y):\n",
    "    self.x = x\n",
    "    self.y = y\n",
    "  \n",
    "  def __iter__(self):\n",
    "    self.atual = self.x\n",
    "    return self\n",
    "  \n",
    "  @staticmethod\n",
    "  def calcula_fatorial(num):\n",
    "    result = 1\n",
    "    for i in range(1, num+1):\n",
    "      result *= i\n",
    "    return result\n",
    "  \n",
    "  def __next__(self):\n",
    "    if (self.atual == self.y + 1):\n",
    "      raise StopIteration\n",
    "    result = Fatorial.calcula_fatorial(self.atual)\n",
    "    self.atual += 1\n",
    "    return result\n",
    "\n",
    "for i in Fatorial(1,10):\n",
    "  print(i)"
   ]
  },
  {
   "cell_type": "code",
   "execution_count": 34,
   "id": "a1ea7fb0-4aae-4f32-9ae9-983526aca529",
   "metadata": {},
   "outputs": [
    {
     "name": "stdout",
     "output_type": "stream",
     "text": [
      "1 janeiro\n",
      "2 fevereiro\n",
      "3 março\n",
      "4 abril\n",
      "5 maio\n",
      "6 junho\n",
      "7 julho\n",
      "8 agosto\n",
      "9 setembro\n",
      "10 outubro\n",
      "11 novembro\n",
      "12 dezembro\n"
     ]
    }
   ],
   "source": [
    "# Utilizando como base o exercício 1, retorne o número que representa o mês e o próprio mês. Faça isso de duas maneiras diferentes (usando enumeradores e a outra usando join).\n",
    "def meses_enum():\n",
    "  meses = ['janeiro','fevereiro','março','abril','maio','junho','julho',\\\n",
    "           'agosto','setembro','outubro','novembro','dezembro']\n",
    "  for i in enumerate(meses):\n",
    "    yield i\n",
    "\n",
    "for indice, mes in meses_enum():\n",
    "  print(indice+1, mes)"
   ]
  },
  {
   "cell_type": "code",
   "execution_count": 35,
   "id": "ee10af4d-a50a-4304-98c6-b499274d5991",
   "metadata": {},
   "outputs": [
    {
     "name": "stdout",
     "output_type": "stream",
     "text": [
      "Olá, sou Carlos. Gosto de Python. Trabalho como dev.\n"
     ]
    }
   ],
   "source": [
    "# Crie uma função que receba uma lista de frases e junte as mesmas em uma só, separadas por ponto final.\n",
    "def frase(lista):\n",
    "  return '. '.join(lista) + '.'\n",
    "\n",
    "textos = ['Olá, sou Carlos','Gosto de Python', 'Trabalho como dev']\n",
    "\n",
    "print(frase(textos))"
   ]
  },
  {
   "cell_type": "markdown",
   "id": "1becabed-52a2-459e-8c1c-fffae41ce399",
   "metadata": {},
   "source": [
    "# EXERCÍCIOS DE FIXAÇÃO."
   ]
  },
  {
   "cell_type": "markdown",
   "id": "1ec1b55f-9a8d-44db-bba5-fce2189e976f",
   "metadata": {},
   "source": [
    "# 1\n",
    "Cenário:\n",
    "Você tem dados de vendas de produtos, onde cada item é uma tupla com o nome do produto e seu preço. Você quer um relatório que liste cada produto com seu preço, mas também calcule e mostre o preço com um desconto fixo de 20%.\n",
    "\n",
    "Objetivo:\n",
    "Criar uma função geradora que receba uma lista de tuplas (nome_produto, preco_original) e, para cada item, ceda uma nova tupla (nome_produto, preco_original, preco_com_desconto). O preço com desconto deve ser calculado dentro do gerador."
   ]
  },
  {
   "cell_type": "code",
   "execution_count": 15,
   "id": "8aaa2ded-3401-478c-85f2-4bbfc8baf2b4",
   "metadata": {
    "scrolled": true
   },
   "outputs": [
    {
     "name": "stdout",
     "output_type": "stream",
     "text": [
      "---Relatório de vendas (Modelo) ---\n",
      "Modelo          | {Preço Original | Preço c/ Desconto \n",
      "----------------------------------------------------\n",
      "Jetta           | R$98.00         | R$78.40           \n",
      "Nivus           | R$150.00        | R$120.00          \n",
      "Saveiro         | R$100.00        | R$80.00           \n",
      "Gol             | R$69.00         | R$55.20           \n"
     ]
    }
   ],
   "source": [
    "def gerador_relatorio_vendas(dados_vendas):\n",
    "    taxa_desconto = 0.20\n",
    "    for produto, preco_str in dados_vendas:\n",
    "        preco_original = float(preco_str)\n",
    "        preco_com_desconto = preco_original * (1 - taxa_desconto)\n",
    "        yield (produto, preco_original, preco_com_desconto)\n",
    "modelos_Volkswagem = [\n",
    "    (\"Jetta\", \"98.000\"),\n",
    "     (\"Nivus\", \"150.000\"),\n",
    "     (\"Saveiro\", \"100.00\"),\n",
    "     (\"Gol\", \"69.000\")\n",
    "]\n",
    "print(\"---Relatório de vendas (Modelo) ---\")\n",
    "print(f\"{'Modelo':<16}| {'{Preço Original':<15} | {'Preço c/ Desconto':<18}\")\n",
    "print(\"-\" * 52)\n",
    "for prod, preco_orig, preco_desc in gerador_relatorio_vendas(modelos_Volkswagem):\n",
    "    print(f\"{prod:<15} | R${preco_orig:<13.2f} | R${preco_desc:<16.2f}\")"
   ]
  },
  {
   "cell_type": "markdown",
   "id": "39758b91-43cd-4e76-9daa-43b9e36bda81",
   "metadata": {},
   "source": [
    "# 2\n",
    "Crie uma nova classe iterável chamada, por exemplo, ContadorProgressivo ou SequenciaMultiplos.\n",
    "Esta nova classe deve receber um número máximo (ou um limite) e um passo no construtor.\n",
    "Ao invés de contagem regressiva, ela deve gerar uma sequência de números progressiva, começando de 0 ou 1 (sua escolha), e incrementando pelo valor do passo até (ou perto de) o número máximo.\n",
    "Exemplo: SequenciaMultiplos(max=20, passo=5) deveria gerar 0, 5, 10, 15, 20.\n",
    "Seu código deve:\n",
    "\n",
    "Definir a nova classe iterável com __init__, __iter__ e __next__.\n",
    "Criar uma instância da sua nova classe com valores de início/limite e passo de sua escolha.\n",
    "Usar um laço for para iterar sobre sua instância e imprimir os números gerados.\n",
    "(Opcional, mas recomendado para testar seu __iter__) Use um segundo for loop para verificar se a sequência reinicia corretamente.\n",
    "(Opcional) Tente usar iter() e next() diretamente para alguns valores, assim como no modelo."
   ]
  },
  {
   "cell_type": "markdown",
   "id": "b825d051-4eae-4300-a0e8-db6655adf021",
   "metadata": {},
   "source": [
    "class Contagemprogressiva:\n",
    "    def __init__(self, valorinicio):\n",
    "        self.valorinicio = inicio\n",
    "        self.atual = inicio\n",
    "    def __iter__(self):\n",
    "        self.atual = self.inicio\n",
    "        return valor_retorno\n",
    "    def __next__(self,valorinicio,valorfinal,valorprogressao):\n",
    "        self.valorinicio = strg(valorinicio)\n",
    "        self.valorfinal = strg(valorfinal)\n",
    "        self.progressao = strg(progressao)\n",
    "        progressaogeometrica= (valorinicio, valorfinal, valorprogressao)\n",
    "        \n",
    "        if self.atual>= 0:\n",
    "            valor_retorno = self.atual\n",
    "            self.atual \n",
    "            return valor_retorno\n",
    "        else:\n",
    "            raise StopIteration\n",
    "\n",
    "print(\"--- Contagem Regressiva (Modelo) ---\")\n",
    "contagem_modelo = Contagemprogressiva(1)\n",
    "\n",
    "print(\"Primeira iteração:\")\n",
    "for numero in contagem_modelo:\n",
    "  print(numero)\n",
    "print(\"\\nSegunda iteração (reinicia):\")\n",
    "for numero in contagem_modelo: # Testa se a iteração reinicia corretamente\n",
    "  print(numero)"
   ]
  },
  {
   "cell_type": "code",
   "execution_count": 23,
   "id": "1f843b2c-3a0e-4f61-80d2-15dfd1313793",
   "metadata": {},
   "outputs": [],
   "source": [
    "# correção\n",
    "class ContagemProgressiva:\n",
    "    # 1. O construtor recebe o início, o fim (limite) e o passo\n",
    "    def __init__(self, inicio, fim, passo):\n",
    "        self.inicio = inicio  # Onde a contagem vai começar\n",
    "        self.fim = fim        # Onde a contagem vai terminar (ou até perto dele)\n",
    "        self.passo = passo    # O valor do incremento\n",
    "        self.atual = inicio   # O valor atual da iteração, inicializado para a primeira vez\n",
    "\n",
    "    def __iter__(self):\n",
    "        # 2. Quando um novo 'for' loop começa, reinicia a contagem\n",
    "        self.atual = self.inicio\n",
    "        return self # MUITO IMPORTANTE: __iter__ sempre retorna 'self'\n",
    "\n",
    "    def __next__(self):\n",
    "        # 3. __next__ não recebe parâmetros, apenas 'self'\n",
    "        # 4. Verifica se o 'atual' ainda está dentro do limite\n",
    "        if self.atual <= self.fim:\n",
    "            valor_retorno = self.atual\n",
    "            self.atual += self.passo # Incrementa pelo passo para a próxima iteração\n",
    "            return valor_retorno\n",
    "        else:\n",
    "            raise StopIteration # Sinaliza que a iteração terminou"
   ]
  }
 ],
 "metadata": {
  "kernelspec": {
   "display_name": "anaconda-2024.02-py310",
   "language": "python",
   "name": "conda-env-anaconda-2024.02-py310-py"
  },
  "language_info": {
   "codemirror_mode": {
    "name": "ipython",
    "version": 3
   },
   "file_extension": ".py",
   "mimetype": "text/x-python",
   "name": "python",
   "nbconvert_exporter": "python",
   "pygments_lexer": "ipython3",
   "version": "3.10.14"
  }
 },
 "nbformat": 4,
 "nbformat_minor": 5
}
