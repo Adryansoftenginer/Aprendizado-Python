{
 "cells": [
  {
   "cell_type": "markdown",
   "id": "bfe40db3-b14e-42ae-b64f-9319b58b5573",
   "metadata": {},
   "source": [
    "# operadores unitários"
   ]
  },
  {
   "cell_type": "markdown",
   "id": "a3277e10-0d3d-4e44-95f0-bdb7897f2ad7",
   "metadata": {},
   "source": [
    "# Estruturas de Programação"
   ]
  },
  {
   "cell_type": "markdown",
   "id": "eb21706f-f9a5-401a-8ee9-26ba64557687",
   "metadata": {},
   "source": [
    "# If/ Elif/ Else."
   ]
  },
  {
   "cell_type": "code",
   "execution_count": null,
   "id": "8f9d0ed4-29ce-4af1-82ab-e46209093d9a",
   "metadata": {},
   "outputs": [],
   "source": [
    "\n",
    "#IF: Propósito: A instrução if é usada para tomar decisões no código. \n",
    "#Ela permite que você execute um bloco de código somente se uma determinada condição for verdadeira.\n",
    "\n",
    "#ELse: Propósito: A instrução else é usada em conjunto com o if. \n",
    "#O bloco de código dentro do else é executado se a condição do if for falsa.\n",
    "\n",
    "#Elif: Propósito: elif (abreviação de \"else if\") permite verificar múltiplas condições em sequência. Se a condição do if for falsa, o Python verifica a condição do primeiro elif. Se essa for verdadeira, o bloco de código correspondente é executado. \n",
    "#Você pode ter múltiplos blocos elif. O bloco else (se houver) é executado somente se nenhuma das condições if ou elif for verdadeira.\n",
    "                                                                                                                                                    "
   ]
  },
  {
   "cell_type": "code",
   "execution_count": 62,
   "id": "d8a5d0c9-5471-4b09-afc3-d330937ff7e2",
   "metadata": {},
   "outputs": [
    {
     "name": "stdout",
     "output_type": "stream",
     "text": [
      "Isto está fora dos ifs\n",
      "Este código vai ser executado\n",
      "Isto está fora dos ifs\n",
      "Isto está fora dos ifs\n"
     ]
    }
   ],
   "source": [
    "print(\"Isto está fora dos ifs\")\n",
    "if (True):\n",
    "  print(\"Este código vai ser executado\")\n",
    "\n",
    "print(\"Isto está fora dos ifs\")\n",
    "\n",
    "if (False):\n",
    "  print(\"Esta código não vai ser executado\")\n",
    "\n",
    "print(\"Isto está fora dos ifs\")\n",
    "\n"
   ]
  },
  {
   "cell_type": "code",
   "execution_count": 72,
   "id": "08135e8a-f75f-4c4a-bf66-ce6e1e456d9e",
   "metadata": {},
   "outputs": [
    {
     "name": "stdout",
     "output_type": "stream",
     "text": [
      "São iguais\n"
     ]
    }
   ],
   "source": [
    " valor1 = 10\n",
    "valor2 = 10\n",
    "sao_iguais = (valor1 == valor2)\n",
    "if sao_iguais:\n",
    "  print(\"São iguais\")"
   ]
  },
  {
   "cell_type": "code",
   "execution_count": 74,
   "id": "6f4f669b-6e28-43d0-9775-8b1a5e919a0f",
   "metadata": {},
   "outputs": [
    {
     "name": "stdout",
     "output_type": "stream",
     "text": [
      "São iguais\n",
      "São iguais parte II\n"
     ]
    }
   ],
   "source": [
    "valor1 = 10\n",
    "valor2 = 10\n",
    "if (valor1 == valor2):\n",
    "  print(\"São iguais\")\n",
    "  print(\"São iguais parte II\")"
   ]
  },
  {
   "cell_type": "code",
   "execution_count": 76,
   "id": "39be6e44-be29-4a98-99cf-92118731f0e7",
   "metadata": {},
   "outputs": [
    {
     "name": "stdout",
     "output_type": "stream",
     "text": [
      "São iguais\n"
     ]
    }
   ],
   "source": [
    "valor1 = 10\n",
    "valor2 = 10\n",
    "if (valor1 == valor2): print(\"São iguais\")"
   ]
  },
  {
   "cell_type": "code",
   "execution_count": 78,
   "id": "e16927c1-63fc-41df-854e-5731707debae",
   "metadata": {},
   "outputs": [
    {
     "name": "stdout",
     "output_type": "stream",
     "text": [
      "São diferentes 1\n",
      "São diferentes 3\n"
     ]
    }
   ],
   "source": [
    "if (10 != 20):\n",
    "  print(\"São diferentes 1\")\n",
    "\n",
    "if (10 != 10):\n",
    "  print(\"São diferentes 2\")\n",
    "\n",
    "if (\"olá\" != \"alo\"):\n",
    "  print(\"São diferentes 3\")"
   ]
  },
  {
   "cell_type": "code",
   "execution_count": 80,
   "id": "8b23e390-0a7d-4f4c-834f-e87fa42f2d31",
   "metadata": {},
   "outputs": [
    {
     "name": "stdout",
     "output_type": "stream",
     "text": [
      "é maior que 10\n"
     ]
    }
   ],
   "source": [
    "numero = 11\n",
    "if (numero > 10):\n",
    "  print(\"é maior que 10\")"
   ]
  },
  {
   "cell_type": "code",
   "execution_count": 82,
   "id": "da3cce89-cfbe-48be-942a-dc555741badb",
   "metadata": {},
   "outputs": [
    {
     "name": "stdin",
     "output_type": "stream",
     "text": [
      "Digite seu nome: Adryan\n"
     ]
    },
    {
     "name": "stdout",
     "output_type": "stream",
     "text": [
      "Possui a letra 'a'\n"
     ]
    }
   ],
   "source": [
    "nome = input(\"Digite seu nome:\")\n",
    "if \"a\" in nome:\n",
    "  print(\"Possui a letra \\'a\\'\")"
   ]
  },
  {
   "cell_type": "code",
   "execution_count": 84,
   "id": "ceb778b1-34c1-4d94-a621-6ef9ce68e66b",
   "metadata": {},
   "outputs": [
    {
     "name": "stdin",
     "output_type": "stream",
     "text": [
      "Digite seu nome:  adryan\n"
     ]
    },
    {
     "name": "stdout",
     "output_type": "stream",
     "text": [
      "Possui alguma vogal\n"
     ]
    }
   ],
   "source": [
    "nome = input(\"Digite seu nome: \")\n",
    "possui_vogal = (\"a\" in nome) or (\"e\" in nome) or (\"i\" in nome) or (\"o\" in nome) or (\"u\" in nome) \n",
    "if possui_vogal:\n",
    "  print(\"Possui alguma vogal\")"
   ]
  },
  {
   "cell_type": "code",
   "execution_count": 2,
   "id": "e9c082ee-34cf-4a76-93fd-cba4da68ecc0",
   "metadata": {},
   "outputs": [
    {
     "name": "stdout",
     "output_type": "stream",
     "text": [
      "É maior ou igual a 10\n",
      "------\n",
      "Fim\n"
     ]
    }
   ],
   "source": [
    "numero = 10\n",
    "if (numero >= 10):\n",
    "  print(\"É maior ou igual a 10\")\n",
    "  print(\"------\")\n",
    "else:\n",
    "  print(\"É menor que 10\")\n",
    "  print(\"******\")\n",
    "print(\"Fim\")"
   ]
  },
  {
   "cell_type": "code",
   "execution_count": 88,
   "id": "af5a6906-b071-4c36-9cc3-ffc41ae55b22",
   "metadata": {},
   "outputs": [
    {
     "name": "stdout",
     "output_type": "stream",
     "text": [
      "É impar\n"
     ]
    }
   ],
   "source": [
    "numero  = 9\n",
    "if numero % 2 == 0:\n",
    "  print(\"É par\")\n",
    "else:\n",
    "  print(\"É impar\")"
   ]
  },
  {
   "cell_type": "code",
   "execution_count": 90,
   "id": "bf237930-8783-4816-a3fb-5243d46e7dd8",
   "metadata": {},
   "outputs": [
    {
     "name": "stdout",
     "output_type": "stream",
     "text": [
      "Valor não aceito\n"
     ]
    }
   ],
   "source": [
    "valor = 11\n",
    "if valor >=0 and valor < 10:\n",
    "  print(valor)\n",
    "else:\n",
    "  print(\"Valor não aceito\")"
   ]
  },
  {
   "cell_type": "code",
   "execution_count": 92,
   "id": "a6838cec-84fb-4050-ae31-404ad10f8225",
   "metadata": {},
   "outputs": [
    {
     "name": "stdout",
     "output_type": "stream",
     "text": [
      "não tem 1 caractere\n"
     ]
    }
   ],
   "source": [
    "texto = \"ab\"\n",
    "if len(texto) == 1:\n",
    "  print(\"Tem 1 caractere\")\n",
    "else:\n",
    "  print(\"não tem 1 caractere\")"
   ]
  },
  {
   "cell_type": "code",
   "execution_count": 94,
   "id": "c8c1f921-b6b7-4fba-bd11-054e56f1b00c",
   "metadata": {},
   "outputs": [
    {
     "name": "stdout",
     "output_type": "stream",
     "text": [
      "É 1 ou 0\n"
     ]
    }
   ],
   "source": [
    "numero = 1\n",
    "if numero ==1 or numero ==0:\n",
    "  print(\"É 1 ou 0\")"
   ]
  },
  {
   "cell_type": "code",
   "execution_count": 96,
   "id": "e0d574e9-c086-42b8-8f52-11ac5aba7dd4",
   "metadata": {},
   "outputs": [
    {
     "name": "stdout",
     "output_type": "stream",
     "text": [
      "Absolutamente maior que 10\n"
     ]
    }
   ],
   "source": [
    "numero = -11\n",
    "condicao = numero > 10 or numero < -10\n",
    "if condicao:\n",
    "  print(\"Absolutamente maior que 10\")"
   ]
  },
  {
   "cell_type": "code",
   "execution_count": 98,
   "id": "5549a1ad-7794-4e0f-87a3-523fcb415235",
   "metadata": {},
   "outputs": [
    {
     "name": "stdout",
     "output_type": "stream",
     "text": [
      "Nenhuma anterior\n"
     ]
    }
   ],
   "source": [
    "numero = 1001\n",
    "if numero < 10:\n",
    "  print(\"Menos que 10\")\n",
    "elif numero < 100:\n",
    "  print(\"Menos que 100\")\n",
    "elif numero <= 1000:\n",
    "  print(\"Menor ou igual a 1000\")\n",
    "else:\n",
    "  print(\"Nenhuma anterior\")"
   ]
  },
  {
   "cell_type": "code",
   "execution_count": 100,
   "id": "1212de94-d398-4378-8f35-c4c6fa72f7ab",
   "metadata": {},
   "outputs": [
    {
     "name": "stdout",
     "output_type": "stream",
     "text": [
      "É consoante\n"
     ]
    }
   ],
   "source": [
    "texto = 'c'\n",
    "if texto == 'a':\n",
    "  print(\"É vogal a\")\n",
    "elif texto == 'e':\n",
    "  print(\"É vogal e\")\n",
    "elif texto == 'i':\n",
    "  print(\"É vogal i\")\n",
    "elif texto == 'o':\n",
    "  print(\"É vogal o\")\n",
    "elif texto == 'u':\n",
    "  print(\"É vogal u\")\n",
    "else:\n",
    "  print(\"É consoante\")"
   ]
  },
  {
   "cell_type": "code",
   "execution_count": 102,
   "id": "acf77768-0a3b-4efb-bd36-7cbe94698125",
   "metadata": {},
   "outputs": [
    {
     "name": "stdout",
     "output_type": "stream",
     "text": [
      "IMPAR\n"
     ]
    }
   ],
   "source": [
    "numero = 11\n",
    "resultado = \"PAR\" if numero % 2 == 0 else \"IMPAR\"\n",
    "print(resultado)"
   ]
  },
  {
   "cell_type": "code",
   "execution_count": 104,
   "id": "9c374685-c404-434b-8d1c-2aef553180ff",
   "metadata": {},
   "outputs": [
    {
     "name": "stdout",
     "output_type": "stream",
     "text": [
      "Três\n"
     ]
    }
   ],
   "source": [
    "numero = 3\n",
    "resultado = \"Um\" if numero == 1 else \"Dois\" if numero == 2 else \"Três\"\n",
    "print(resultado)"
   ]
  },
  {
   "cell_type": "code",
   "execution_count": 106,
   "id": "602fa5fe-9b15-4547-998a-3ddf17fa97f3",
   "metadata": {},
   "outputs": [
    {
     "name": "stdin",
     "output_type": "stream",
     "text": [
      "Digite seu saldo:  1000\n",
      "Digite o quanto você deve:  2000\n"
     ]
    },
    {
     "name": "stdout",
     "output_type": "stream",
     "text": [
      "Seu saldo é negativo, você deve R$ -1000.00\n"
     ]
    }
   ],
   "source": [
    "# 1 - Crie um programa que receba o seu saldo bancário e o quanto você deve. \n",
    "# Em seguida o programa deve dizer se você tem saldo positivo ou negativo.\n",
    "saldo_entrada = input(\"Digite seu saldo: \")\n",
    "valor_devido_entrada = input(\"Digite o quanto você deve: \")\n",
    "saldo = float(saldo_entrada)\n",
    "devido = float(valor_devido_entrada)\n",
    "valor_total = saldo - devido\n",
    "if valor_total >= 0:\n",
    "  print(\"Seu saldo é positivo, você tem R$ %.2f\" % (valor_total))\n",
    "else:\n",
    "  print(\"Seu saldo é negativo, você deve R$ %.2f\" % (valor_total))\n"
   ]
  },
  {
   "cell_type": "code",
   "execution_count": 108,
   "id": "6f2b56b5-d850-49c8-bd03-7528286d719a",
   "metadata": {},
   "outputs": [
    {
     "name": "stdin",
     "output_type": "stream",
     "text": [
      "Digite a senha:  1500\n"
     ]
    },
    {
     "name": "stdout",
     "output_type": "stream",
     "text": [
      "Sua senha está incorreta!\n"
     ]
    }
   ],
   "source": [
    "# 2 - Crie um programa que possui uma variável que guarde seu CPF e que guarde \n",
    "# uma senha de sua escolha. Em seguida receba por input uma senha do usuário. \n",
    "# Caso a senha recebida seja a correta mostre o CPF, \n",
    "# caso não diga que a senha esta incorreta.\n",
    "senha = \"123\"\n",
    "cpf = \"123.456.789-10\"\n",
    "senha_usuario = input(\"Digite a senha: \")\n",
    "if senha_usuario == senha:\n",
    "  print(\"Senha correta, seu CPF é %s\" % (cpf))\n",
    "else:\n",
    "  print(\"Sua senha está incorreta!\")"
   ]
  },
  {
   "cell_type": "code",
   "execution_count": 110,
   "id": "3257f308-9c19-49e8-a9f0-73a5277a5cf6",
   "metadata": {},
   "outputs": [
    {
     "name": "stdin",
     "output_type": "stream",
     "text": [
      "Digite sua idade:  1500\n"
     ]
    },
    {
     "name": "stdout",
     "output_type": "stream",
     "text": [
      "Você é um idoso!\n"
     ]
    }
   ],
   "source": [
    "# 3 - Crie um programa que fale sobre sua idade. As regras são as seguintes\n",
    "# você deve receber por input sua idade, se você tiver ate três anos \n",
    "# printe que é um bebe, ate 13 anos uma criança, ate 18 anos adolescente, \n",
    "# até 65 adulto. Em nenhum deste casos é um idoso\n",
    "\n",
    "idade = int(input(\"Digite sua idade: \"))\n",
    "if idade <=3:\n",
    "  print(\"Você é um bebe!\")\n",
    "elif idade <= 65:\n",
    "  print(\"Você é uma criança!\")\n",
    "elif idade <= 18:\n",
    "  print(\"Você é um adolescente!\")\n",
    "elif idade <= 65:\n",
    "  print(\"Você é um adulto!\")\n",
    "else:\n",
    "  print(\"Você é um idoso!\")"
   ]
  },
  {
   "cell_type": "code",
   "execution_count": 23,
   "id": "9a8d4c85-bd88-46d8-a821-d0b1480b8a66",
   "metadata": {},
   "outputs": [
    {
     "name": "stdout",
     "output_type": "stream",
     "text": [
      "1400\n",
      "Seu saldo é positivo\n"
     ]
    }
   ],
   "source": [
    "# 1 - Crie um programa que receba o seu saldo bancário e o quanto você deve. \n",
    "# Em seguida o programa deve dizer se você tem saldo positivo ou negativo,\n",
    "saldo = 2000\n",
    "DÉBITO = 600\n",
    "divida = saldo - DÉBITO\n",
    "print(divida)\n",
    "if divida < 0:\n",
    "    print(\"Seu saldo é negativo\")\n",
    "else:\n",
    "    print(\"Seu saldo é positivo\")\n",
    "\n",
    "# 2 - Crie um programa que possui uma variável que guarde seu CPF e que guarde \n",
    "# uma senha de sua escolha. Em seguida receba por input uma senha do usuário. \n",
    "# Caso a senha recebida seja a correta mostre o CPF, \n",
    "# caso não diga que a senha esta incorreta.\n",
    "\n",
    "\n"
   ]
  },
  {
   "cell_type": "code",
   "execution_count": null,
   "id": "7d01c986-8604-48b9-b23b-8097352ebef4",
   "metadata": {
    "scrolled": true
   },
   "outputs": [],
   "source": [
    "while(True):\n",
    "    print(\"isso não vai parar!\")\n",
    "# A estrutura de repetição 'while' executa um bloco de código repetidamente\n",
    "# enquanto uma determinada condição booleana for verdadeira. É fundamental\n",
    "# garantir que a condição eventualmente se torne falsa para evitar loops infinitos.\n",
    "# Dentro do bloco 'while', geralmente há alguma instrução que modifica as\n",
    "# variáveis envolvidas na condição, levando à sua eventual falsidade e ao\n",
    "# encerramento do loop."
   ]
  },
  {
   "cell_type": "markdown",
   "id": "80656b72-01dd-40a7-ab73-9ce3fb1741d6",
   "metadata": {},
   "source": [
    "# laços whille - laços loops"
   ]
  },
  {
   "cell_type": "code",
   "execution_count": null,
   "id": "1033b370-fb4b-46c7-9c14-e90e545ca016",
   "metadata": {},
   "outputs": [],
   "source": [
    "# Propósito: O loop while executa um bloco de código enquanto uma determinada condição for verdadeira. \n",
    "#O loop continua até que a condição se torne falsa."
   ]
  },
  {
   "cell_type": "code",
   "execution_count": 36,
   "id": "9dd636db-7319-4280-840d-21a4bc9a7a4d",
   "metadata": {},
   "outputs": [
    {
     "name": "stdout",
     "output_type": "stream",
     "text": [
      "10\n",
      "9\n",
      "8\n",
      "7\n",
      "6\n",
      "5\n",
      "4\n",
      "3\n",
      "2\n",
      "1\n",
      "encerrou\n"
     ]
    }
   ],
   "source": [
    "interação = 10\n",
    "while(interação > 0):\n",
    "    print(interação)\n",
    "    interação -= 1\n",
    "print(\"encerrou\")"
   ]
  },
  {
   "cell_type": "code",
   "execution_count": 9,
   "id": "c2263d00-ec65-4dfe-912d-40e9631e3426",
   "metadata": {},
   "outputs": [
    {
     "name": "stdout",
     "output_type": "stream",
     "text": [
      "programa começou\n",
      "o número 10 é par\n",
      "o numero 9 é impar\n",
      "o número 8 é par\n",
      "o numero 7 é impar\n",
      "o número 6 é par\n",
      "o numero 5 é impar\n",
      "o número 4 é par\n",
      "o numero 3 é impar\n",
      "o número 2 é par\n",
      "Programa finalizou\n"
     ]
    }
   ],
   "source": [
    "indice = 10\n",
    "print(\"programa começou\")\n",
    "while (indice >= 2):\n",
    "    resto = (indice % 2)\n",
    "    if resto == 0:\n",
    "        print (\"o número %d é par\" % (indice))\n",
    "    else:\n",
    "        print (\"o numero %d é impar\" % (indice))\n",
    "    indice -= 1 # O decremento deve estar fora do if/else para ocorrer sempre\n",
    "print(\"Programa finalizou\")\n",
    "\n",
    "# Este código inicia com a variável 'indice' em 10 e entra em um loop 'while'\n",
    "# que continua enquanto 'indice' for maior ou igual a 2. Dentro do loop,\n",
    "# ele verifica se o 'indice' é par ou ímpar usando o operador módulo (%).\n",
    "# Se o resto da divisão por 2 for 0, o número é par; caso contrário, é ímpar.\n",
    "# A cada iteração, o valor de 'indice' é decrementado em 1. Ao final do loop,\n",
    "# a mensagem \"Programa finalizou\" é impressa."
   ]
  },
  {
   "cell_type": "code",
   "execution_count": 3,
   "id": "fcea2fb5-b7e5-4843-84b0-783300f2e58a",
   "metadata": {},
   "outputs": [
    {
     "name": "stdin",
     "output_type": "stream",
     "text": [
      "Digite um valor:  15\n",
      "Digite um valor:  54\n",
      "Digite um valor:  18\n",
      "Digite um valor:  19\n",
      "Digite um valor:  20\n"
     ]
    },
    {
     "name": "stdout",
     "output_type": "stream",
     "text": [
      "Soma é 126.00 \n"
     ]
    }
   ],
   "source": [
    "soma = 0\n",
    "numeros_lidos = 0\n",
    "\n",
    "while (numeros_lidos < 5):\n",
    "  num_str = input(\"Digite um valor: \")\n",
    "  num_lido = float(num_str)\n",
    "  soma += num_lido\n",
    "  numeros_lidos += 1\n",
    "\n",
    "print(\"Soma é %.2f \" % (soma))\n",
    "# Este bloco de código utiliza um loop 'while' para solicitar que o usuário\n",
    "# digite 5 valores numéricos. A cada iteração, o valor digitado (convertido\n",
    "# para um número de ponto flutuante) é adicionado à variável 'soma', e um\n",
    "# contador ('numeros_lidos') é incrementado. O loop continua até que 5\n",
    "# números tenham sido lidos. Ao final, o programa imprime a soma total dos\n",
    "# valores digitados, formatada para exibir duas casas decimais."
   ]
  },
  {
   "cell_type": "code",
   "execution_count": 4,
   "id": "76fb1384-24de-42d8-b0f5-147f22a9dc09",
   "metadata": {},
   "outputs": [
    {
     "name": "stdout",
     "output_type": "stream",
     "text": [
      "O\n",
      "l\n",
      "á\n",
      " \n",
      "1\n",
      "2\n",
      "3\n"
     ]
    }
   ],
   "source": [
    "texto = \"Olá 123\"\n",
    "indice = 0\n",
    "while (indice < len(texto)):\n",
    "  print(texto[indice])\n",
    "  indice += 1\n",
    "# Este bloco de código itera sobre cada caractere da string \"Olá 123 _\".\n",
    "# Ele inicializa uma variável 'indice' com 0 e usa um loop 'while' que\n",
    "# continua enquanto 'indice' for menor que o comprimento da string (obtido\n",
    "# pela função len()). Em cada iteração do loop, o caractere da string na\n",
    "# posição do 'indice' atual é impresso, e então o 'indice' é incrementado\n",
    "# em 1. Isso faz com que cada caractere da string seja impresso em uma\n",
    "# linha separada."
   ]
  },
  {
   "cell_type": "code",
   "execution_count": 24,
   "id": "10844100-1d5c-446a-ab9b-243bbdf57fac",
   "metadata": {},
   "outputs": [
    {
     "name": "stdout",
     "output_type": "stream",
     "text": [
      "0\n",
      "1\n",
      "2\n",
      "3\n",
      "4\n",
      "Encerrou!\n"
     ]
    }
   ],
   "source": [
    "num_atual = 0\n",
    "while (True):\n",
    "  if (num_atual == 5):\n",
    "    break # break: encerra o laço imediatamente, mesmo que ainda haja iterações restantes\n",
    "\n",
    "  print(num_atual)\n",
    "  num_atual +=1\n",
    "\n",
    "print(\"Encerrou!\")\n",
    "# Este bloco de código utiliza um loop 'while' que, a princípio, seria infinito\n",
    "# devido à condição 'True'. No entanto, dentro do loop, há uma verificação:\n",
    "# se o valor da variável 'num_atual' for igual a 5, o comando 'break' é executado,\n",
    "# o que força a saída imediata do loop. Antes dessa verificação, o valor atual\n",
    "# de 'num_atual' é impresso, e então 'num_atual' é incrementado em 1. Portanto,\n",
    "# o código imprimirá os números de 0 a 4, cada um em uma linha separada, e então\n",
    "# a mensagem \"Encerrou!\" será exibida."
   ]
  },
  {
   "cell_type": "code",
   "execution_count": 28,
   "id": "62b041c5-3ab3-4f24-8496-e36650146545",
   "metadata": {},
   "outputs": [
    {
     "name": "stdout",
     "output_type": "stream",
     "text": [
      "1\n",
      "2\n",
      "3\n",
      "4\n",
      "5\n",
      "6\n",
      "8\n",
      "9\n",
      "10\n",
      "Encerrou!\n"
     ]
    }
   ],
   "source": [
    "num_atual = 0\n",
    "\n",
    "while (num_atual < 10):\n",
    "  num_atual += 1\n",
    "  if (num_atual ==7):\n",
    "    continue # continue: pula o restante do código nesta iteração e passa para a próxima\n",
    "\n",
    "  print(num_atual)\n",
    "\n",
    "print(\"Encerrou!\")\n",
    "\n",
    "# Este bloco de código inicia com a variável 'num_atual' em 0 e entra em um\n",
    "# loop 'while' que continua enquanto 'num_atual' for menor que 10.\n",
    "# Dentro do loop, na primeira linha, 'num_atual' é incrementado em 1.\n",
    "# Em seguida, há uma verificação: se o valor de 'num_atual' for igual a 7,\n",
    "# o comando 'continue' é executado. O 'continue' faz com que a iteração\n",
    "# corrente do loop seja interrompida imediatamente, e o programa volta\n",
    "# para o início do loop para a próxima verificação da condição (num_atual < 10).\n",
    "# Portanto, quando 'num_atual' atinge o valor 7, o 'print(num_atual)' é\n",
    "# ignorado nessa iteração. Para todos os outros valores de 'num_atual' (de 1 a 10,\n",
    "# exceto 7), o valor é impresso na tela. Finalmente, após o loop terminar\n",
    "# (quando 'num_atual' não for mais menor que 10), a mensagem \"Encerrou!\" é impressa."
   ]
  },
  {
   "cell_type": "code",
   "execution_count": 34,
   "id": "42a9a975-00c2-41dc-b885-bd01a0dcf573",
   "metadata": {},
   "outputs": [
    {
     "name": "stdin",
     "output_type": "stream",
     "text": [
      "Digite um valor:  10\n",
      "Digite um valor:  15\n",
      "Digite um valor:  16\n",
      "Digite um valor:  17\n",
      "Digite um valor:  18\n"
     ]
    },
    {
     "name": "stdout",
     "output_type": "stream",
     "text": [
      "A média é 15.20 \n"
     ]
    }
   ],
   "source": [
    "# 1 - Crie um programa que receba 5 números e retorne \n",
    "# a média aritmética entre esses números\n",
    "\n",
    "soma_atual = 0\n",
    "numeros_lidos = 0\n",
    "\n",
    "while (numeros_lidos < 5):\n",
    "  num_str = input(\"Digite um valor: \")\n",
    "  num_lido = float(num_str)\n",
    "  soma_atual += num_lido\n",
    "  numeros_lidos += 1\n",
    "\n",
    "media = soma_atual  / 5\n",
    "print(\"A média é %.2f \" % (media))\n"
   ]
  },
  {
   "cell_type": "code",
   "execution_count": null,
   "id": "6ebfa1cc-c215-40fb-800b-e458215db961",
   "metadata": {},
   "outputs": [],
   "source": []
  },
  {
   "cell_type": "code",
   "execution_count": 23,
   "id": "27330dcb-671b-4336-bcd7-caab311cc94a",
   "metadata": {},
   "outputs": [
    {
     "name": "stdin",
     "output_type": "stream",
     "text": [
      "insira número:  16\n",
      "insira número:  -7\n",
      "insira número:  17\n",
      "insira número:  18\n",
      "insira número:  20\n"
     ]
    },
    {
     "name": "stdout",
     "output_type": "stream",
     "text": [
      "A soma dos números positivos inseridos é: 71.0\n"
     ]
    }
   ],
   "source": [
    "# 2 - Crie um programa que receba 5 números, realiza a soma destes números, \n",
    "# mas caso um destes números seja negativo não considere ele na soma.\n",
    "\n",
    "soma_números = 0\n",
    "insiranúmeros = 0\n",
    "while insiranúmeros < 5:\n",
    "    númeroslidos = input(\"insira número: \")\n",
    "    valorinserido = float(númeroslidos)\n",
    "    if valorinserido >= 0:\n",
    "        soma_números += valorinserido\n",
    "        insiranúmeros += 1\n",
    "    else:\n",
    "        insiranúmeros += 1 # Incrementa mesmo se o número for negativo para contar as 5 entradas\n",
    "\n",
    "print(f\"A soma dos números positivos inseridos é: {soma_números}\")"
   ]
  },
  {
   "cell_type": "code",
   "execution_count": 29,
   "id": "23e1b5f2-001f-481a-8721-c166eecf3043",
   "metadata": {},
   "outputs": [
    {
     "name": "stdin",
     "output_type": "stream",
     "text": [
      "Digite quantos números serão lidos: 5\n",
      "Digite um valor:  10\n",
      "Digite um valor:  9\n",
      "Digite um valor:  8\n",
      "Digite um valor:  7\n",
      "Digite um valor:  6\n"
     ]
    },
    {
     "name": "stdout",
     "output_type": "stream",
     "text": [
      "O total é 40.00 \n"
     ]
    }
   ],
   "source": [
    "# 3 - Cria um programa que receba um número arbitrário (definido pelo usuário) \n",
    "# de números que serão lidos e retorne a soma de todos eles\n",
    "numeros_que_devem_ser_lidos = float(input(\"Digite quantos números serão lidos:\"))\n",
    "\n",
    "soma_atual = 0\n",
    "numeros_lidos = 0\n",
    "\n",
    "while (numeros_lidos < numeros_que_devem_ser_lidos):\n",
    "  num_str = input(\"Digite um valor: \")\n",
    "  num_lido = float(num_str)\n",
    "  soma_atual += num_lido\n",
    "  numeros_lidos += 1\n",
    "\n",
    "print(\"O total é %.2f \" % (soma_atual))\n",
    "\n"
   ]
  },
  {
   "cell_type": "markdown",
   "id": "05fbf671-3657-41a2-b7d8-ea8a663e1e1f",
   "metadata": {},
   "source": [
    "# FOR"
   ]
  },
  {
   "cell_type": "code",
   "execution_count": null,
   "id": "b5a31402-1559-4904-a439-943bf6e8d626",
   "metadata": {},
   "outputs": [],
   "source": [
    "# Propósito: O loop for é usado para iterar sobre uma sequência (como uma lista, tupla, string ou o resultado de um range()) ou outros objetos iteráveis. \n",
    "# Ele executa um bloco de código para cada item da sequência."
   ]
  },
  {
   "cell_type": "code",
   "execution_count": 34,
   "id": "8054ab67-627c-44f1-a76a-1dceeb675070",
   "metadata": {},
   "outputs": [
    {
     "name": "stdout",
     "output_type": "stream",
     "text": [
      "0\n",
      "1\n",
      "2\n",
      "3\n",
      "4\n",
      "5\n",
      "6\n",
      "7\n",
      "8\n",
      "9\n"
     ]
    }
   ],
   "source": [
    "for x in range(10):\n",
    " print(x)"
   ]
  },
  {
   "cell_type": "code",
   "execution_count": 36,
   "id": "868b7a10-9544-4282-b9d3-ea64320c7bfc",
   "metadata": {},
   "outputs": [
    {
     "name": "stdout",
     "output_type": "stream",
     "text": [
      "5\n",
      "6\n",
      "7\n",
      "8\n",
      "9\n"
     ]
    }
   ],
   "source": [
    "for x in range(5,10):\n",
    "    print(x)"
   ]
  },
  {
   "cell_type": "code",
   "execution_count": 38,
   "id": "b6e29c2c-bf24-4fd8-a070-ca0be5e8268a",
   "metadata": {},
   "outputs": [
    {
     "name": "stdout",
     "output_type": "stream",
     "text": [
      "5\n",
      "10\n",
      "15\n"
     ]
    }
   ],
   "source": [
    "for x in range(5,20,5):\n",
    "    print(x)"
   ]
  },
  {
   "cell_type": "code",
   "execution_count": 40,
   "id": "d0f9707b-1a7b-4405-8f8f-ca60ae205f5a",
   "metadata": {},
   "outputs": [
    {
     "name": "stdout",
     "output_type": "stream",
     "text": [
      "20\n",
      "15\n",
      "10\n"
     ]
    }
   ],
   "source": [
    "for x in range(20,5,-5):\n",
    "    print(x)"
   ]
  },
  {
   "cell_type": "code",
   "execution_count": 44,
   "id": "e1a50498-5b34-4b1d-81ad-fb2231de7174",
   "metadata": {},
   "outputs": [
    {
     "name": "stdout",
     "output_type": "stream",
     "text": [
      "1\n",
      "2\n",
      "3\n",
      "t\n",
      "6\n",
      "7\n",
      "8\n",
      "9\n"
     ]
    }
   ],
   "source": [
    "texto = \"123t6789\"\n",
    "for x in range(0, len(texto)):\n",
    "    print(texto[x])"
   ]
  },
  {
   "cell_type": "code",
   "execution_count": 50,
   "id": "5f0e5612-66d2-4e8a-a2c0-628f11478428",
   "metadata": {},
   "outputs": [
    {
     "name": "stdout",
     "output_type": "stream",
     "text": [
      "0 0\n",
      "0 1\n",
      "0 2\n",
      "0 3\n",
      "0 4\n",
      "1 0\n",
      "1 1\n",
      "1 2\n",
      "1 3\n",
      "1 4\n",
      "2 0\n",
      "2 1\n",
      "2 2\n",
      "2 3\n",
      "2 4\n"
     ]
    }
   ],
   "source": [
    "for x in range(0,3):\n",
    "  for y in range(0,5):\n",
    "    print(x,y)\n",
    "# A saída deste bloco será uma série de pares de números, onde o primeiro\n",
    "# número (x) varia de 0 a 2 e o segundo número (y) varia de 0 a 4 para cada\n",
    "# valor do primeiro número, mostrando todas as combinações possíveis dentro\n",
    "# desses intervalos."
   ]
  },
  {
   "cell_type": "code",
   "execution_count": 4,
   "id": "6d4bcddf-7d7c-4acb-a25c-6aeea48e1cc6",
   "metadata": {},
   "outputs": [
    {
     "name": "stdout",
     "output_type": "stream",
     "text": [
      "------------------\n",
      "1 X 1 = 1\n",
      "1 X 2 = 2\n",
      "1 X 3 = 3\n",
      "1 X 4 = 4\n",
      "1 X 5 = 5\n",
      "1 X 6 = 6\n",
      "1 X 7 = 7\n",
      "1 X 8 = 8\n",
      "1 X 9 = 9\n",
      "1 X 10 = 10\n",
      "------------------\n",
      "2 X 1 = 2\n",
      "2 X 2 = 4\n",
      "2 X 3 = 6\n",
      "2 X 4 = 8\n",
      "2 X 5 = 10\n",
      "2 X 6 = 12\n",
      "2 X 7 = 14\n",
      "2 X 8 = 16\n",
      "2 X 9 = 18\n",
      "2 X 10 = 20\n",
      "------------------\n",
      "3 X 1 = 3\n",
      "3 X 2 = 6\n",
      "3 X 3 = 9\n",
      "3 X 4 = 12\n",
      "3 X 5 = 15\n",
      "3 X 6 = 18\n",
      "3 X 7 = 21\n",
      "3 X 8 = 24\n",
      "3 X 9 = 27\n",
      "3 X 10 = 30\n",
      "------------------\n",
      "4 X 1 = 4\n",
      "4 X 2 = 8\n",
      "4 X 3 = 12\n",
      "4 X 4 = 16\n",
      "4 X 5 = 20\n",
      "4 X 6 = 24\n",
      "4 X 7 = 28\n",
      "4 X 8 = 32\n",
      "4 X 9 = 36\n",
      "4 X 10 = 40\n",
      "------------------\n",
      "5 X 1 = 5\n",
      "5 X 2 = 10\n",
      "5 X 3 = 15\n",
      "5 X 4 = 20\n",
      "5 X 5 = 25\n",
      "5 X 6 = 30\n",
      "5 X 7 = 35\n",
      "5 X 8 = 40\n",
      "5 X 9 = 45\n",
      "5 X 10 = 50\n",
      "------------------\n",
      "6 X 1 = 6\n",
      "6 X 2 = 12\n",
      "6 X 3 = 18\n",
      "6 X 4 = 24\n",
      "6 X 5 = 30\n",
      "6 X 6 = 36\n",
      "6 X 7 = 42\n",
      "6 X 8 = 48\n",
      "6 X 9 = 54\n",
      "6 X 10 = 60\n",
      "------------------\n",
      "7 X 1 = 7\n",
      "7 X 2 = 14\n",
      "7 X 3 = 21\n",
      "7 X 4 = 28\n",
      "7 X 5 = 35\n",
      "7 X 6 = 42\n",
      "7 X 7 = 49\n",
      "7 X 8 = 56\n",
      "7 X 9 = 63\n",
      "7 X 10 = 70\n",
      "------------------\n",
      "8 X 1 = 8\n",
      "8 X 2 = 16\n",
      "8 X 3 = 24\n",
      "8 X 4 = 32\n",
      "8 X 5 = 40\n",
      "8 X 6 = 48\n",
      "8 X 7 = 56\n",
      "8 X 8 = 64\n",
      "8 X 9 = 72\n",
      "8 X 10 = 80\n",
      "------------------\n",
      "9 X 1 = 9\n",
      "9 X 2 = 18\n",
      "9 X 3 = 27\n",
      "9 X 4 = 36\n",
      "9 X 5 = 45\n",
      "9 X 6 = 54\n",
      "9 X 7 = 63\n",
      "9 X 8 = 72\n",
      "9 X 9 = 81\n",
      "9 X 10 = 90\n",
      "------------------\n",
      "10 X 1 = 10\n",
      "10 X 2 = 20\n",
      "10 X 3 = 30\n",
      "10 X 4 = 40\n",
      "10 X 5 = 50\n",
      "10 X 6 = 60\n",
      "10 X 7 = 70\n",
      "10 X 8 = 80\n",
      "10 X 9 = 90\n",
      "10 X 10 = 100\n"
     ]
    }
   ],
   "source": [
    "for x in range(1,11):\n",
    "  print(\"------------------\")\n",
    "  for y in range(1,11):\n",
    "    print(\"%d X %d = %d\" % (x,y,x*y))\n",
    "# A saída deste bloco será a tabuada completa dos números de 1 a 10. Para cada\n",
    "# número de 1 a 10 (representado por 'x'), serão impressas as multiplicações\n",
    "# desse número por todos os valores de 1 a 10 (representado por 'y'), juntamente\n",
    "# com o resultado de cada multiplicação. A linha de \"------------------\" ajuda a\n",
    "# visualizar a separação entre a tabuada de cada número.\n",
    "    "
   ]
  },
  {
   "cell_type": "code",
   "execution_count": null,
   "id": "69fca4f4-8c46-4f85-a9dd-052d0abcffb6",
   "metadata": {},
   "outputs": [],
   "source": []
  },
  {
   "cell_type": "code",
   "execution_count": null,
   "id": "a0cf31be-38e5-472f-bc22-4f52786c4a33",
   "metadata": {},
   "outputs": [],
   "source": []
  }
 ],
 "metadata": {
  "kernelspec": {
   "display_name": "anaconda-panel-2023.05-py310",
   "language": "python",
   "name": "conda-env-anaconda-panel-2023.05-py310-py"
  },
  "language_info": {
   "codemirror_mode": {
    "name": "ipython",
    "version": 3
   },
   "file_extension": ".py",
   "mimetype": "text/x-python",
   "name": "python",
   "nbconvert_exporter": "python",
   "pygments_lexer": "ipython3",
   "version": "3.11.5"
  }
 },
 "nbformat": 4,
 "nbformat_minor": 5
}
