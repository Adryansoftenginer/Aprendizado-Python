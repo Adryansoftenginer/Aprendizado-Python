{
 "cells": [
  {
   "cell_type": "code",
   "execution_count": null,
   "id": "ee539182-4218-41c9-98dc-0a965ed8b848",
   "metadata": {},
   "outputs": [],
   "source": []
  },
  {
   "cell_type": "markdown",
   "id": "72a689b0-f9cd-4652-ab80-51c81564522f",
   "metadata": {},
   "source": [
    "# Expressões Regulares em Python\n"
   ]
  },
  {
   "cell_type": "markdown",
   "id": "60ebf08d-f90b-42dc-b42c-d5419adcbad9",
   "metadata": {},
   "source": []
  },
  {
   "cell_type": "markdown",
   "id": "29628f8f-357d-4e58-9635-8e3e242605cf",
   "metadata": {},
   "source": [
    "Expressões Regulares: Uma Ferramenta Poderosa para Manipulação de Texto\n",
    "As expressões regulares (ou \"regex\", \"regexp\") são uma linguagem em miniatura, uma sequência de caracteres que define um padrão de busca. Elas são incrivelmente eficazes para encontrar, substituir e extrair informações em strings de texto complexas. Em Python, o módulo re é a biblioteca padrão para trabalhar com elas."
   ]
  },
  {
   "cell_type": "markdown",
   "id": "c07f3ee1-8351-418e-9a58-e2420b7223f9",
   "metadata": {},
   "source": [
    "O módulo re fornece funções para aplicar padrões de expressões regulares a strings.\n",
    "\n",
    "re.search(padrao, string)\n",
    "\n",
    "Propósito: Procura pela primeira ocorrência do padrao dentro da string.\n",
    "\n",
    "Retorno: Se encontra uma correspondência, retorna um objeto match. Caso contrário, retorna None.\n",
    "\n",
    "Métodos do Objeto match:\n",
    "\n",
    "match.span(): Retorna uma tupla (início, fim) indicando os índices onde a correspondência começou e terminou (o índice fim é exclusivo).\n",
    "\n",
    "match.group(): Retorna a parte da string que foi correspondida pelo padrão.\n",
    "\n",
    "match.groups(): Retorna uma tupla de todas as substrings correspondidas pelos grupos de captura () no padrão."
   ]
  },
  {
   "cell_type": "markdown",
   "id": "e20b959a-7061-4b0d-84ae-44aed5078d2b",
   "metadata": {},
   "source": [
    "# ### I. Funções Essenciais do Módulo `re`"
   ]
  },
  {
   "cell_type": "markdown",
   "id": "8fd76ea3-1586-4135-9063-0aa9b131b6e5",
   "metadata": {},
   "source": [
    "# 1. re.search(padrao, string)\n",
    " Propósito: Procura pela **primeira ocorrência** do `padrao` dentro da `string`.\n",
    "Retorno: Se encontra uma correspondência, retorna um **objeto `match`**. Caso contrário, retorna `None`.\n",
    "Métodos do Objeto `match`:\n",
    "  - `match.span()`: Retorna uma tupla `(início, fim)` indicando os índices onde a correspondência começou e terminou (o índice `fim` é exclusivo).\n",
    "- `match.group()`: Retorna a parte da string que foi correspondida pelo padrão.\n",
    "- `match.groups()`: Retorna uma tupla de todas as substrings correspondidas pelos grupos de captura `()` no padrão.\n",
    "print(\"\\n--- Função: re.search() ---\")"
   ]
  },
  {
   "cell_type": "code",
   "execution_count": 3,
   "id": "930c7ba4-0b50-4ead-bb3b-71a333e68a96",
   "metadata": {
    "scrolled": true
   },
   "outputs": [
    {
     "name": "stdout",
     "output_type": "stream",
     "text": [
      "\n",
      "--- Função: re.search() ---\n",
      "  Exemplo: re.search('1', '00123451')\n",
      "    Encontrado ocorrência em (2, 3)\n",
      "    O que foi encontrado: '1'\n"
     ]
    }
   ],
   "source": [
    "print(\"\\n--- Função: re.search() ---\")\n",
    "texto_search = '00123451'\n",
    "padrao_search = '1'\n",
    "info_search = re.search(padrao_search, texto_search)\n",
    "if info_search: # É boa prática verificar se o objeto não é None\n",
    "  print(f\"  Exemplo: re.search('{padrao_search}', '{texto_search}')\")\n",
    "  print(f\"    Encontrado ocorrência em {info_search.span()}\")\n",
    "  print(f\"    O que foi encontrado: '{info_search.group()}'\")\n",
    "else:\n",
    "  print(f\"  Exemplo: re.search('{padrao_search}', '{texto_search}')\")\n",
    "  print(\"    Nenhuma correspondência encontrada.\")"
   ]
  },
  {
   "cell_type": "code",
   "execution_count": null,
   "id": "c26bb086-966e-43b8-889b-93ba7068179e",
   "metadata": {},
   "outputs": [],
   "source": [
    "# 2. re.findall(padrao, string)\n",
    "# Propósito: Encontra **todas as ocorrências não sobrepostas** do `padrao` na `string`.\n",
    "# Retorno: Uma **lista de strings** contendo todas as correspondências. Se não houver correspondências, retorna uma lista vazia `[]`.\n",
    "# Com Grupos de Captura: Se o padrão contiver grupos de captura `()`, `findall` retornará uma lista de tuplas (onde cada tupla contém as strings capturadas pelos grupos)."
   ]
  },
  {
   "cell_type": "code",
   "execution_count": 4,
   "id": "3c2e8c46-373c-42ec-911b-eb8ee0def4cd",
   "metadata": {
    "scrolled": true
   },
   "outputs": [
    {
     "name": "stdout",
     "output_type": "stream",
     "text": [
      "\n",
      "--- Função: re.findall() ---\n",
      "  Exemplo: re.findall('1', '00123451')\n",
      "    Resultados: ['1', '1']\n"
     ]
    }
   ],
   "source": [
    "print(\"\\n--- Função: re.findall() ---\")\n",
    "texto_findall = '00123451'\n",
    "padrao_findall = '1'\n",
    "info_findall = re.findall(padrao_findall, texto_findall)\n",
    "print(f\"  Exemplo: re.findall('{padrao_findall}', '{texto_findall}')\")\n",
    "print(f\"    Resultados: {info_findall}\")"
   ]
  },
  {
   "cell_type": "code",
   "execution_count": null,
   "id": "6c92de34-5f62-4565-9765-dd4bf86f7f8e",
   "metadata": {},
   "outputs": [],
   "source": [
    "# 3. re.split(padrao, string, maxsplit=0)\n",
    "# Propósito: Divide a `string` pelas ocorrências do `padrao`. O `padrao` em si não é incluído na lista resultante.\n",
    "# Retorno: Uma **lista de strings** resultantes da divisão.\n",
    "# `maxsplit`: (Opcional) O número máximo de divisões a serem feitas."
   ]
  },
  {
   "cell_type": "code",
   "execution_count": 5,
   "id": "72d0e55c-c2e6-4d7a-b342-de916fa87d98",
   "metadata": {
    "scrolled": true
   },
   "outputs": [
    {
     "name": "stdout",
     "output_type": "stream",
     "text": [
      "\n",
      "--- Função: re.split() ---\n",
      "  Exemplo: re.split('1', '001234510')\n",
      "    Resultados da divisão: ['00', '2345', '0']\n"
     ]
    }
   ],
   "source": [
    "print(\"\\n--- Função: re.split() ---\")\n",
    "texto_split = '001234510'\n",
    "padrao_split = \"1\"\n",
    "info_split = re.split(padrao_split, texto_split)\n",
    "print(f\"  Exemplo: re.split('{padrao_split}', '{texto_split}')\")\n",
    "print(f\"    Resultados da divisão: {info_split}\")"
   ]
  },
  {
   "cell_type": "code",
   "execution_count": null,
   "id": "862386c7-048a-49ab-b707-61dc8f62a6f8",
   "metadata": {},
   "outputs": [],
   "source": [
    "# 4. re.sub(padrao, substituicao, string, count=0)\n",
    "# Propósito: Substitui todas as ocorrências do `padrao` na `string` pela `substituicao` especificada.\n",
    "# Retorno: A nova string com as substituições feitas.\n",
    "# `count`: (Opcional) O número máximo de substituições a serem feitas."
   ]
  },
  {
   "cell_type": "code",
   "execution_count": 6,
   "id": "89a572ca-c683-442c-add1-b7520c9c1b57",
   "metadata": {},
   "outputs": [
    {
     "name": "stdout",
     "output_type": "stream",
     "text": [
      "\n",
      "--- Função: re.sub() ---\n",
      "  Exemplo: re.sub('1', '#', '001234510')\n",
      "    String após substituição: '00#2345#0'\n"
     ]
    }
   ],
   "source": [
    "print(\"\\n--- Função: re.sub() ---\")\n",
    "texto_sub = '001234510'\n",
    "padrao_sub = \"1\"\n",
    "substituicao_sub = \"#\"\n",
    "info_sub = re.sub(padrao_sub, substituicao_sub, texto_sub)\n",
    "print(f\"  Exemplo: re.sub('{padrao_sub}', '{substituicao_sub}', '{texto_sub}')\")\n",
    "print(f\"    String após substituição: '{info_sub}'\")"
   ]
  },
  {
   "cell_type": "markdown",
   "id": "6d8c5046-60e4-42c6-912c-2a568b361cc3",
   "metadata": {},
   "source": [
    "# II. Metacaracteres Essenciais: Os Blocos de Construção dos Padrões"
   ]
  },
  {
   "cell_type": "markdown",
   "id": "cd7b16ab-b46e-487f-99c6-c7f23c341db0",
   "metadata": {},
   "source": [
    "Os metacaracteres dão poder e flexibilidade às expressões regulares, permitindo ir além da busca por strings literais.\n"
   ]
  },
  {
   "cell_type": "markdown",
   "id": "14418dad-9dcb-467b-b3bb-87832e4c19ba",
   "metadata": {},
   "source": [
    "Ponto (.) - O Coringa de um CaractereSignificado: Corresponde a **qualquer caractere individual**, **EXCETO** o caractere de quebra de linha (`\\n`).Pense nele como um \"espaço em branco\" que pode ser preenchido por qualquer letra, número, símbolo, etc., mas que representa apenas **uma posição**."
   ]
  },
  {
   "cell_type": "code",
   "execution_count": 8,
   "id": "741a9f67-7692-4aa0-afff-bf6954cdf54a",
   "metadata": {
    "scrolled": true
   },
   "outputs": [
    {
     "name": "stdout",
     "output_type": "stream",
     "text": [
      "\n",
      "\n",
      "--- Metacaractere: Ponto (.) ---\n",
      "  Exemplo: r'c.t' em 'cat, cot, cAt, c0t, c t'\n",
      "    Resultados: ['cat', 'cot', 'cAt', 'c0t', 'c t']\n"
     ]
    }
   ],
   "source": [
    "### 1. Ponto (.) - O Coringa de um Caractere###\n",
    "print(\"\\n\\n--- Metacaractere: Ponto (.) ---\")\n",
    "texto_ponto_ex1 = 'cat, cot, cAt, c0t, c t'\n",
    "padrao_ponto_ex1 = r\"c.t\"\n",
    "encontrados_ponto_ex1 = re.findall(padrao_ponto_ex1, texto_ponto_ex1)\n",
    "print(f\"  Exemplo: r'c.t' em '{texto_ponto_ex1}'\")\n",
    "print(f\"    Resultados: {encontrados_ponto_ex1}\")"
   ]
  },
  {
   "cell_type": "code",
   "execution_count": 13,
   "id": "b3588970-1081-4eb0-bad2-8a2d4617c63a",
   "metadata": {},
   "outputs": [
    {
     "name": "stdout",
     "output_type": "stream",
     "text": [
      "  Exemplo: r'(.*)(AQUI)(.*)' em 'Olá sou eu, AQUI, e nada para frente'\n",
      "    Correspondência completa: 'Olá sou eu, AQUI, e nada para frente'\n"
     ]
    }
   ],
   "source": [
    "texto_ponto_ex2 = 'Olá sou eu, AQUI, e nada para frente'\n",
    "# Padrão: qualquer coisa (.*), seguido de \"AQUI\", seguido de qualquer coisa (.*)\n",
    "texto_ponto_ex2 = 'Olá sou eu, AQUI, e nada para frente'\n",
    "# Padrão: qualquer coisa (.*), seguido de \"AQUI\", seguido de qualquer coisa (.*)\n",
    "padrao_ponto_ex2 = r'(.*)(AQUI)(.*)' # Use 'r' para raw string, evita problemas com \\\n",
    "info_ponto_ex2 = re.search(padrao_ponto_ex2, texto_ponto_ex2)\n",
    "if info_ponto_ex2:\n",
    "  print(f\"  Exemplo: r'(.*)(AQUI)(.*)' em '{texto_ponto_ex2}'\")\n",
    "  print(f\"    Correspondência completa: '{info_ponto_ex2.group()}'\")"
   ]
  },
  {
   "cell_type": "markdown",
   "id": "8143b2fc-4a24-4228-a30f-094afc03dd68",
   "metadata": {},
   "source": [
    "2. Conjuntos de Caracteres ([]) - Listas de Opções\n",
    " Significado: Corresponde a **qualquer um dos caracteres listados** dentro dos colchetes.\n",
    " Intervalos: O hífen `-` dentro dos colchetes cria um intervalo (ex: `A-Z`, `0-9`).\n",
    "Negação (`^` dentro de `[]`): Se `^` for o *primeiro* caractere dentro dos colchetes, ele nega o conjunto, correspondendo a **qualquer caractere EXCETO** os listados.\n"
   ]
  },
  {
   "cell_type": "code",
   "execution_count": 14,
   "id": "188fbe0b-4f42-441d-b568-b4f9bb6b8b0d",
   "metadata": {
    "scrolled": true
   },
   "outputs": [
    {
     "name": "stdout",
     "output_type": "stream",
     "text": [
      "\n",
      "--- Metacaractere: Conjuntos de Caracteres ([]) ---\n",
      "  Exemplo: em 'ABCDefgHI123'\n",
      "    '[Ae3]': ['A', 'e', '3']\n",
      "    '[0-9]': ['1', '2', '3']\n",
      "    '[^a-z]': ['A', 'B', 'C', 'D', 'H', 'I', '1', '2', '3'] (pega maiúsculas, números, símbolos, espaços)\n"
     ]
    }
   ],
   "source": [
    "print(\"\\n--- Metacaractere: Conjuntos de Caracteres ([]) ---\")\n",
    "texto_conjunto = 'ABCDefgHI123'\n",
    "info_conjunto1 = re.findall('[Ae3]', texto_conjunto)\n",
    "info_conjunto2 = re.findall('[0-9]', texto_conjunto)\n",
    "info_conjunto3 = re.findall('[^a-z]', texto_conjunto) # Qualquer coisa que não seja letra minúscula\n",
    "print(f\"  Exemplo: em '{texto_conjunto}'\")\n",
    "print(f\"    '[Ae3]': {info_conjunto1}\")\n",
    "print(f\"    '[0-9]': {info_conjunto2}\")\n",
    "print(f\"    '[^a-z]': {info_conjunto3} (pega maiúsculas, números, símbolos, espaços)\")\n"
   ]
  },
  {
   "cell_type": "markdown",
   "id": "809c5954-76b9-4ad8-a4a4-56b2e76f9ef2",
   "metadata": {},
   "source": [
    "3. Alternância (|) - O Operador \"OU\"\n",
    "Significado: Atua como um operador \"OU\" lógico. Corresponde ao padrão à esquerda **OU** ao padrão à direita do `|`.\n",
    "Importante: Ele tenta casar a opção da esquerda primeiro. Se ela corresponder, ele para de tentar outras opções para aquela busca.\n",
    "Uso de `()`: Essenciais para agrupar as opções do `|`."
   ]
  },
  {
   "cell_type": "code",
   "execution_count": 16,
   "id": "03e5fca0-5ba5-4981-bfe7-0d34ad87f9fb",
   "metadata": {},
   "outputs": [
    {
     "name": "stdout",
     "output_type": "stream",
     "text": [
      "\n",
      "--- Metacaractere: Alternância (|) ---\n",
      "  Exemplo: 'cachorro|gato' em 'Eu vi um cachorro e um gato no parque.'\n",
      "    Resultados: ['cachorro', 'gato']\n",
      "  Exemplo: r'(rua|avenida) principal' em 'Eu moro na rua principal.'\n",
      "    Encontrado: 'rua principal'\n"
     ]
    }
   ],
   "source": [
    "print(\"\\n--- Metacaractere: Alternância (|) ---\")\n",
    "texto_alternancia = 'Eu vi um cachorro e um gato no parque.'\n",
    "info_alternancia = re.findall('cachorro|gato', texto_alternancia)\n",
    "print(f\"  Exemplo: 'cachorro|gato' em '{texto_alternancia}'\")\n",
    "print(f\"    Resultados: {info_alternancia}\")\n",
    "\n",
    "texto_alternancia2 = 'Eu moro na rua principal.'\n",
    "padrao_alternancia2 = r'(rua|avenida) principal'\n",
    "info_alternancia2 = re.search(padrao_alternancia2, texto_alternancia2)\n",
    "if info_alternancia2:\n",
    "    print(f\"  Exemplo: r'(rua|avenida) principal' em '{texto_alternancia2}'\")\n",
    "    print(f\"    Encontrado: '{info_alternancia2.group()}'\")\n"
   ]
  },
  {
   "cell_type": "code",
   "execution_count": null,
   "id": "218a4c25-e76f-43c1-94fa-da9e08de5564",
   "metadata": {},
   "outputs": [],
   "source": [
    "4. Agrupamento (()) - Organizando Padrões e Capturando\n",
    "Propósito:\n",
    "- Agrupar itens: Permite que você aplique quantificadores a uma sequência de caracteres (ex: `(ab)+`).\n",
    "- Capturar partes: As substrings que correspondem ao que está dentro dos parênteses podem ser extraídas separadamente usando `match.group(numero_do_grupo)`.\n",
    "- Alternância: Essencial para definir o escopo do operador `|` (ex: `(maçã|pera) verde`).\n",
    "Grupos Não-Capturantes (`?:`): `(?:padrao)` agrupa sem capturar, útil quando você só quer agrupar para aplicar um quantificador sem criar um grupo extra para extração."
   ]
  },
  {
   "cell_type": "code",
   "execution_count": 17,
   "id": "7982adad-4809-4c0f-b598-9ee8073e4e6f",
   "metadata": {
    "scrolled": true
   },
   "outputs": [
    {
     "name": "stdout",
     "output_type": "stream",
     "text": [
      "\n",
      "--- Metacaractere: Agrupamento (()) ---\n",
      "  Exemplo: r'(abc)+' em 'abcabcabc'\n",
      "    Correspondência: 'abcabcabc'\n",
      "    Grupo 1 (o que 'abc' pegou): 'abc'\n",
      "  Exemplo: r'(maçã|pera) verde' em 'maçã verde ou pera verde'\n",
      "    Correspondência: 'maçã verde'\n",
      "    Fruta encontrada (Grupo 1): 'maçã'\n"
     ]
    }
   ],
   "source": [
    "print(\"\\n--- Metacaractere: Agrupamento (()) ---\")\n",
    "texto_agrupamento = 'abcabcabc'\n",
    "padrao_agrupamento = r'(abc)+' # Grupo 'abc' que se repete uma ou mais vezes\n",
    "info_agrupamento = re.search(padrao_agrupamento, texto_agrupamento)\n",
    "if info_agrupamento:\n",
    "    print(f\"  Exemplo: r'(abc)+' em '{texto_agrupamento}'\")\n",
    "    print(f\"    Correspondência: '{info_agrupamento.group()}'\")\n",
    "    print(f\"    Grupo 1 (o que 'abc' pegou): '{info_agrupamento.group(1)}'\")\n",
    "\n",
    "texto_agrupamento2 = 'maçã verde ou pera verde'\n",
    "padrao_agrupamento2 = r'(maçã|pera) verde'\n",
    "info_agrupamento2 = re.search(padrao_agrupamento2, texto_agrupamento2)\n",
    "if info_agrupamento2:\n",
    "    print(f\"  Exemplo: r'(maçã|pera) verde' em '{texto_agrupamento2}'\")\n",
    "    print(f\"    Correspondência: '{info_agrupamento2.group()}'\")\n",
    "    print(f\"    Fruta encontrada (Grupo 1): '{info_agrupamento2.group(1)}'\")\n"
   ]
  },
  {
   "cell_type": "markdown",
   "id": "4942ed7c-6048-4f70-8f16-6dbaf1802169",
   "metadata": {},
   "source": [
    "# III. Metacaracteres de Posição (Âncoras)"
   ]
  },
  {
   "cell_type": "markdown",
   "id": "15853c79-6d4f-42fc-ad9c-7c4ae515b2fd",
   "metadata": {},
   "source": [
    "Esses metacaracteres \"ancoram\" a correspondência a pontos específicos da string.\n"
   ]
  },
  {
   "cell_type": "markdown",
   "id": "f6623b47-2654-4f9a-adb5-fe8b6c1be916",
   "metadata": {},
   "source": [
    "1. Início da String/Linha (^)\n",
    "# Significado: Corresponde ao **início da string** que está sendo pesquisada. Se o modo `re.M` (multilinha) for ativado, ele também corresponde ao início de cada linha após um `\\n`."
   ]
  },
  {
   "cell_type": "code",
   "execution_count": 19,
   "id": "789659c0-3790-4cc1-9365-1224a493747a",
   "metadata": {
    "scrolled": true
   },
   "outputs": [
    {
     "name": "stdout",
     "output_type": "stream",
     "text": [
      "\n",
      "\n",
      "--- Âncora: Início da String/Linha (^) ---\n",
      "  Exemplo: r'^existem' em 'existem 64 predios com 700 metros'\n",
      "    Encontrado no início: 'existem'\n"
     ]
    }
   ],
   "source": [
    "\n",
    "print(\"\\n\\n--- Âncora: Início da String/Linha (^) ---\")\n",
    "texto_ancora_inicio = 'existem 64 predios com 700 metros'\n",
    "padrao_ancora_inicio = r\"^existem\"\n",
    "info_ancora_inicio = re.search(padrao_ancora_inicio, texto_ancora_inicio)\n",
    "if info_ancora_inicio:\n",
    "  print(f\"  Exemplo: r'^existem' em '{texto_ancora_inicio}'\")\n",
    "  print(f\"    Encontrado no início: '{info_ancora_inicio.group()}'\")\n",
    "else:\n",
    "  print(f\"  Exemplo: r'^existem' em '{texto_ancora_inicio}'\")\n",
    "  print(\"    Não encontrado no início.\")\n"
   ]
  },
  {
   "cell_type": "markdown",
   "id": "8c2c52e5-fa2d-46b9-adb5-5bea98bb05a7",
   "metadata": {},
   "source": [
    "2. Fim da String/Linha ($)\n",
    "Significado: Corresponde ao **fim da string** que está sendo pesquisada. Se o modo `re.M` (multilinha) for ativado, ele também corresponde ao fim de cada linha antes de um `\\n`."
   ]
  },
  {
   "cell_type": "code",
   "execution_count": 20,
   "id": "38e094c9-62d7-4b4c-8b25-bdb81c74421e",
   "metadata": {},
   "outputs": [
    {
     "name": "stdout",
     "output_type": "stream",
     "text": [
      "\n",
      "--- Âncora: Fim da String/Linha ($) ---\n",
      "  Exemplo: r'metros$' em 'existem 64 predios com 700 metros'\n",
      "    Encontrado no fim: 'metros'\n"
     ]
    }
   ],
   "source": [
    "print(\"\\n--- Âncora: Fim da String/Linha ($) ---\")\n",
    "texto_ancora_fim = 'existem 64 predios com 700 metros'\n",
    "padrao_ancora_fim = r\"metros$\"\n",
    "info_ancora_fim = re.search(padrao_ancora_fim, texto_ancora_fim)\n",
    "if info_ancora_fim:\n",
    "  print(f\"  Exemplo: r'metros$' em '{texto_ancora_fim}'\")\n",
    "  print(f\"    Encontrado no fim: '{info_ancora_fim.group()}'\")\n",
    "else:\n",
    "  print(f\"  Exemplo: r'metros$' em '{texto_ancora_fim}'\")\n",
    "  print(\"    Não encontrado no fim.\")"
   ]
  },
  {
   "cell_type": "markdown",
   "id": "3abeb3b1-2801-4e1e-a719-5cc2246e1440",
   "metadata": {},
   "source": [
    "# IV. Quantificadores: Repetições de Padrões\n",
    " Os quantificadores controlam a **quantidade** de vezes que o caractere ou grupo **imediatamente anterior** a eles deve aparecer, sempre de forma **consecutiva**.\n"
   ]
  },
  {
   "cell_type": "code",
   "execution_count": null,
   "id": "5689fa5f-5024-4037-ad6d-e3ea12aa1146",
   "metadata": {},
   "outputs": [],
   "source": [
    "1. Um ou Mais (+)\n",
    "Sintaxe: `elemento+`\n",
    "Significado: O `elemento` deve aparecer **uma ou mais vezes**."
   ]
  },
  {
   "cell_type": "code",
   "execution_count": 55,
   "id": "dd071640-835a-4b00-a0ad-6311d6e2c0f3",
   "metadata": {
    "scrolled": true
   },
   "outputs": [
    {
     "name": "stdout",
     "output_type": "stream",
     "text": [
      "\n",
      "\n",
      "--- Quantificador: Um ou Mais (+) ---\n",
      "  Exemplo: r'(abb)+' em 'abbabb'\n",
      "    Encontrado: 'abbabb'\n",
      "  Exemplo: r'\\d+' em 'Telefone: 123456789'\n",
      "    Encontrado: '123456789'\n"
     ]
    }
   ],
   "source": [
    "print(\"\\n\\n--- Quantificador: Um ou Mais (+) ---\")\n",
    "texto_quant_mais = 'abbabb'\n",
    "padrao_quant_mais = r'(abb)+'\n",
    "info_quant_mais = re.search(padrao_quant_mais, texto_quant_mais)\n",
    "if info_quant_mais:\n",
    "  print(f\"  Exemplo: r'(abb)+' em '{texto_quant_mais}'\")\n",
    "  print(f\"    Encontrado: '{info_quant_mais.group()}'\")\n",
    "\n",
    "texto_digitos = 'Telefone: 123456789'\n",
    "padrao_digitos = r'\\d+'\n",
    "info_digitos = re.search(padrao_digitos, texto_digitos)\n",
    "if info_digitos:\n",
    "    print(f\"  Exemplo: r'\\\\d+' em '{texto_digitos}'\")\n",
    "    print(f\"    Encontrado: '{info_digitos.group()}'\")\n"
   ]
  },
  {
   "cell_type": "markdown",
   "id": "f86ba6e9-3220-4c34-bb18-f771f86474df",
   "metadata": {},
   "source": [
    "2. Zero ou Mais (*)\n",
    "Sintaxe: `elemento*`\n",
    "Significado: O `elemento` aparece zero ou mais vezes (é opcional e pode se repetir).\n",
    "Uma correspondência pode ser encontrada mesmo que o elemento não esteja presente."
   ]
  },
  {
   "cell_type": "code",
   "execution_count": 23,
   "id": "c1f8e47b-8d76-4741-b280-24a2c828b092",
   "metadata": {},
   "outputs": [
    {
     "name": "stdout",
     "output_type": "stream",
     "text": [
      "\n",
      "--- Quantificador: Zero ou Mais (*) ---\n",
      "  Exemplo: r'(aa|bb)*' em 'abc' (início)\n",
      "    Encontrado (pode ser vazio): '' (string vazia)\n"
     ]
    }
   ],
   "source": [
    "print(\"\\n--- Quantificador: Zero ou Mais (*) ---\")\n",
    "texto_quant_estrela = 'abc'\n",
    "padrao_quant_estrela = r'(aa|bb)*' # Pegaria uma string vazia no início se não houvesse 'aa' ou 'bb'\n",
    "info_quant_estrela = re.search(padrao_quant_estrela, texto_quant_estrela)\n",
    "if info_quant_estrela:\n",
    "  print(f\"  Exemplo: r'(aa|bb)*' em '{texto_quant_estrela}' (início)\")\n",
    "  print(f\"    Encontrado (pode ser vazio): '{info_quant_estrela.group()}' (string vazia)\")\n"
   ]
  },
  {
   "cell_type": "markdown",
   "id": "66122b30-e314-4e4e-8ce9-2623a6ccf8f1",
   "metadata": {},
   "source": [
    "3. Zero ou Uma (Opcional) (?)\n",
    "Sintaxe: `elemento?`\n",
    "Significado: O `elemento` aparece zero ou uma vez (o torna opcional)."
   ]
  },
  {
   "cell_type": "code",
   "execution_count": 24,
   "id": "631b24f9-3ce9-45be-8bf1-8cec50ed222a",
   "metadata": {
    "scrolled": true
   },
   "outputs": [
    {
     "name": "stdout",
     "output_type": "stream",
     "text": [
      "\n",
      "--- Quantificador: Zero ou Uma (?) ---\n",
      "  Exemplo: r'colou?r' em 'colour'\n",
      "    Encontrado: 'colour'\n",
      "  Exemplo: r'colou?r' em 'color'\n",
      "    Encontrado: 'color'\n"
     ]
    }
   ],
   "source": [
    "print(\"\\n--- Quantificador: Zero ou Uma (?) ---\")\n",
    "texto_quant_opcional = 'colour'\n",
    "padrao_quant_opcional = r'colou?r'\n",
    "info_quant_opcional = re.search(padrao_quant_opcional, texto_quant_opcional)\n",
    "print(f\"  Exemplo: r'colou?r' em '{texto_quant_opcional}'\")\n",
    "if info_quant_opcional:\n",
    "  print(f\"    Encontrado: '{info_quant_opcional.group()}'\")\n",
    "\n",
    "texto_quant_opcional2 = 'color'\n",
    "info_quant_opcional2 = re.search(padrao_quant_opcional, texto_quant_opcional2)\n",
    "print(f\"  Exemplo: r'colou?r' em '{texto_quant_opcional2}'\")\n",
    "if info_quant_opcional2:\n",
    "  print(f\"    Encontrado: '{info_quant_opcional2.group()}'\")\n"
   ]
  },
  {
   "cell_type": "code",
   "execution_count": null,
   "id": "9ef78731-7551-4790-be07-d6f12d628eaf",
   "metadata": {},
   "outputs": [],
   "source": [
    "4. Exatamente n Ocorrências ({n})\n",
    "Sintaxe: `elemento{n}`\n",
    "Significado: O `elemento` aparece exatamente 'n' vezes."
   ]
  },
  {
   "cell_type": "code",
   "execution_count": 25,
   "id": "bcffd67e-94a9-4164-89c1-510771f9b7cb",
   "metadata": {},
   "outputs": [
    {
     "name": "stdout",
     "output_type": "stream",
     "text": [
      "\n",
      "--- Quantificador: Exatamente n Ocorrências ({n}) ---\n",
      "  Exemplo: r'a{3}' em 'aaab'\n",
      "    Encontrado: 'aaa'\n"
     ]
    }
   ],
   "source": [
    "print(\"\\n--- Quantificador: Exatamente n Ocorrências ({n}) ---\")\n",
    "texto_quant_n = 'aaab'\n",
    "padrao_quant_n = r'a{3}' # 3 'a's consecutivos\n",
    "info_quant_n = re.search(padrao_quant_n, texto_quant_n)\n",
    "if info_quant_n:\n",
    "  print(f\"  Exemplo: r'a{{3}}' em '{texto_quant_n}'\")\n",
    "  print(f\"    Encontrado: '{info_quant_n.group()}'\")"
   ]
  },
  {
   "cell_type": "code",
   "execution_count": null,
   "id": "296c0f63-25e3-499b-bb60-7bfdd6246c52",
   "metadata": {},
   "outputs": [],
   "source": [
    "5. No Mínimo n Ocorrências ({n,})\n",
    "Sintaxe: `elemento{n,}`\n",
    "Significado: O `elemento` aparece 'n' ou mais vezes."
   ]
  },
  {
   "cell_type": "code",
   "execution_count": 26,
   "id": "0d4d2481-e682-47a1-a818-f7b0c39dad38",
   "metadata": {},
   "outputs": [
    {
     "name": "stdout",
     "output_type": "stream",
     "text": [
      "\n",
      "--- Quantificador: No Mínimo n Ocorrências ({n,}) ---\n",
      "  Exemplo: r'a{4,}' em 'aaaaaa'\n",
      "    Encontrado: 'aaaaaa'\n"
     ]
    }
   ],
   "source": [
    "print(\"\\n--- Quantificador: No Mínimo n Ocorrências ({n,}) ---\")\n",
    "texto_quant_n_virgula = 'aaaaaa'\n",
    "padrao_quant_n_virgula = r'a{4,}' # Quatro ou mais 'a's\n",
    "info_quant_n_virgula = re.search(padrao_quant_n_virgula, texto_quant_n_virgula)\n",
    "if info_quant_n_virgula:\n",
    "  print(f\"  Exemplo: r'a{{4,}}' em '{texto_quant_n_virgula}'\")\n",
    "  print(f\"    Encontrado: '{info_quant_n_virgula.group()}'\")"
   ]
  },
  {
   "cell_type": "markdown",
   "id": "ca007c7a-3c55-415a-99c9-d882173106a3",
   "metadata": {},
   "source": [
    "6. Entre n e m Ocorrências ({n,m})\n",
    "intaxe: `elemento{n,m}`\n",
    "Significado: O `elemento` aparece entre 'n' e 'm' vezes, inclusive.\n"
   ]
  },
  {
   "cell_type": "code",
   "execution_count": 27,
   "id": "d8478827-a886-4f9e-bade-2caedc5d62df",
   "metadata": {},
   "outputs": [
    {
     "name": "stdout",
     "output_type": "stream",
     "text": [
      "\n",
      "--- Quantificador: Entre n e m Ocorrências ({n,m}) ---\n",
      "  Exemplo: r'(aa){2,3}' em 'aaaaaa'\n",
      "    Encontrado: 'aaaaaa'\n"
     ]
    }
   ],
   "source": [
    "print(\"\\n--- Quantificador: Entre n e m Ocorrências ({n,m}) ---\")\n",
    "texto_quant_n_m = 'aaaaaa'\n",
    "padrao_quant_n_m = r'(aa){2,3}' # O grupo 'aa' aparece 2 ou 3 vezes\n",
    "info_quant_n_m = re.search(padrao_quant_n_m, texto_quant_n_m)\n",
    "if info_quant_n_m:\n",
    "  print(f\"  Exemplo: r'(aa){{2,3}}' em '{texto_quant_n_m}'\")\n",
    "  print(f\"    Encontrado: '{info_quant_n_m.group()}'\")"
   ]
  },
  {
   "cell_type": "markdown",
   "id": "39410518-9db5-4652-9753-162f8cc86948",
   "metadata": {},
   "source": [
    "# V. Sequências Especiais (Metacaracteres Comuns)"
   ]
  },
  {
   "cell_type": "markdown",
   "id": "239465ea-8f68-4817-8050-8f66a36a5fff",
   "metadata": {},
   "source": [
    "1. Dígito (\\d)\n",
    "Significado: Corresponde a qualquer dígito decimal (0-9). Equivalente a `[0-9]`.\n",
    "\n"
   ]
  },
  {
   "cell_type": "code",
   "execution_count": 31,
   "id": "f76bef55-d03f-44d4-9d0a-ec74037f2179",
   "metadata": {},
   "outputs": [
    {
     "name": "stdout",
     "output_type": "stream",
     "text": [
      "\n",
      "\n",
      "--- Sequência Especial: Dígito (\\d) ---\n",
      "  Exemplo: r'\\d{5}' em 'Meu telefone é 12345-6789.'\n",
      "    Encontrado: '12345'\n"
     ]
    }
   ],
   "source": [
    "print(\"\\n\\n--- Sequência Especial: Dígito (\\\\d) ---\")\n",
    "texto_seq_d = 'Meu telefone é 12345-6789.'\n",
    "padrao_seq_d = r'\\d{5}' # Cinco dígitos consecutivos\n",
    "info_seq_d = re.search(padrao_seq_d, texto_seq_d)\n",
    "if info_seq_d:\n",
    "  print(f\"  Exemplo: r'\\\\d{{5}}' em '{texto_seq_d}'\")\n",
    "  print(f\"    Encontrado: '{info_seq_d.group()}'\")"
   ]
  },
  {
   "cell_type": "code",
   "execution_count": null,
   "id": "6ae38a11-be24-4141-9cd0-d0901a936eae",
   "metadata": {},
   "outputs": [],
   "source": [
    "2. Não-Palavra (\\W)\n",
    " Significado: Corresponde a qualquer caractere que NÃO seja uma letra (a-z, A-Z), um dígito (0-9) ou um sublinhado (`_`). Inclui espaços, pontuação, símbolos."
   ]
  },
  {
   "cell_type": "code",
   "execution_count": 32,
   "id": "d3468889-209d-468e-b431-1e9363c1df8c",
   "metadata": {},
   "outputs": [
    {
     "name": "stdout",
     "output_type": "stream",
     "text": [
      "\n",
      "--- Sequência Especial: Não-Palavra (\\W) ---\n",
      "  Exemplo: r'\\W+' em 'Olá, Mundo! 123_abc'\n",
      "    Encontrado: [', ', '! ']\n"
     ]
    }
   ],
   "source": [
    "print(\"\\n--- Sequência Especial: Não-Palavra (\\\\W) ---\")\n",
    "texto_seq_W = 'Olá, Mundo! 123_abc'\n",
    "padrao_seq_W = r'\\W+' # Um ou mais caracteres não-palavra\n",
    "info_seq_W = re.findall(padrao_seq_W, texto_seq_W)\n",
    "print(f\"  Exemplo: r'\\\\W+' em '{texto_seq_W}'\")\n",
    "print(f\"    Encontrado: {info_seq_W}\")"
   ]
  },
  {
   "cell_type": "markdown",
   "id": "b0072373-3cba-4e56-818a-ed95e72d61f2",
   "metadata": {},
   "source": [
    "# VI. Aplicações Práticas"
   ]
  },
  {
   "cell_type": "code",
   "execution_count": 37,
   "id": "c6c2d505-a3cd-4b39-800f-35c1eb2035fd",
   "metadata": {},
   "outputs": [],
   "source": [
    "# Validação de Temperatura: Valida se uma string é um valor de temperatura válido no formato \"X C°\", podendo ter sinal negativo."
   ]
  },
  {
   "cell_type": "code",
   "execution_count": 33,
   "id": "36dd17e0-c5a0-42e5-8694-10bdb4349c23",
   "metadata": {},
   "outputs": [
    {
     "name": "stdout",
     "output_type": "stream",
     "text": [
      "\n",
      "\n",
      "--- Aplicação Prática: Validação de Temperatura ---\n",
      "  Padrão para Temperatura: r'^(-)?[0-9]+ C°$'\n",
      "    '25 C°': Válido\n",
      "    '-10 C°': Válido\n",
      "    'abc C°': Inválido\n"
     ]
    }
   ],
   "source": [
    "\n",
    "# Padrão: `^(-)?[0-9]+ C°$`\n",
    "# Valida se uma string representa uma temperatura, permitindo sinal negativo (`-?`), um ou mais dígitos (`[0-9]+`), seguido de espaço e \"C°\".\n",
    "print(\"\\n\\n--- Aplicação Prática: Validação de Temperatura ---\")\n",
    "texto_temp1 = '25 C°'\n",
    "texto_temp2 = '-10 C°'\n",
    "texto_temp3 = 'abc C°'\n",
    "padrao_temp = r'^(-)?[0-9]+ C°$'\n",
    "\n",
    "print(f\"  Padrão para Temperatura: r'^(-)?[0-9]+ C°$'\")\n",
    "if re.search(padrao_temp, texto_temp1): print(f\"    '{texto_temp1}': Válido\")\n",
    "else: print(f\"    '{texto_temp1}': Inválido\")\n",
    "if re.search(padrao_temp, texto_temp2): print(f\"    '{texto_temp2}': Válido\")\n",
    "else: print(f\"    '{texto_temp2}': Inválido\")\n",
    "if re.search(padrao_temp, texto_temp3): print(f\"    '{texto_temp3}': Inválido\")\n",
    "else: print(f\"    '{texto_temp3}': Inválido\")\n"
   ]
  },
  {
   "cell_type": "markdown",
   "id": "6b583184-78ac-4170-bccd-75611b86eea5",
   "metadata": {},
   "source": [
    " 2. Exemplo de Validação de Número de Telefone (Fictício)\n",
    " Padrão: `^99([0-9]{6})$`\n",
    " Valida um número de 8 dígitos que começa com \"99\". `([0-9]{6})` captura os 6 dígitos restantes."
   ]
  },
  {
   "cell_type": "code",
   "execution_count": 34,
   "id": "5220e992-c00f-4109-92aa-36955fe6963c",
   "metadata": {},
   "outputs": [
    {
     "name": "stdout",
     "output_type": "stream",
     "text": [
      "\n",
      "--- Aplicação Prática: Validação de Telefone Fictício ---\n",
      "  Padrão para Telefone: r'^99([0-9]{6})$'\n",
      "    '99123456': Válido (começa com 99 e tem 8 dígitos)\n",
      "    '98765432': Inválido\n",
      "    '99123': Inválido\n"
     ]
    }
   ],
   "source": [
    "print(\"\\n--- Aplicação Prática: Validação de Telefone Fictício ---\")\n",
    "texto_tel1 = '99123456'\n",
    "texto_tel2 = '98765432'\n",
    "texto_tel3 = '99123'\n",
    "padrao_tel = r'^99([0-9]{6})$'\n",
    "\n",
    "print(f\"  Padrão para Telefone: r'^99([0-9]{{6}})$'\")\n",
    "if re.search(padrao_tel, texto_tel1): print(f\"    '{texto_tel1}': Válido (começa com 99 e tem 8 dígitos)\")\n",
    "else: print(f\"    '{texto_tel1}': Inválido\")\n",
    "if re.search(padrao_tel, texto_tel2): print(f\"    '{texto_tel2}': Inválido (não começa com 99)\")\n",
    "else: print(f\"    '{texto_tel2}': Inválido\")\n",
    "if re.search(padrao_tel, texto_tel3): print(f\"    '{texto_tel3}': Inválido (não tem 8 dígitos)\")\n",
    "else: print(f\"    '{texto_tel3}': Inválido\")"
   ]
  },
  {
   "cell_type": "markdown",
   "id": "fe9e32e1-01c8-4b69-ab34-ef878080778f",
   "metadata": {
    "jp-MarkdownHeadingCollapsed": true
   },
   "source": [
    "3. Exemplo de Detecção de Palavras no Gerúndio\n",
    "Padrão: `r'([\\w]+indo|ando|endo)'`\n",
    "Encontra palavras que terminam em \"ando\", \"endo\" ou \"indo\"."
   ]
  },
  {
   "cell_type": "code",
   "execution_count": 35,
   "id": "bd00ebef-4f30-4d62-91c3-1c1af9e4f066",
   "metadata": {
    "scrolled": true
   },
   "outputs": [
    {
     "name": "stdout",
     "output_type": "stream",
     "text": [
      "\n",
      "--- Aplicação Prática: Detecção de Palavras no Gerúndio ---\n",
      "  Padrão para Gerúndio: r'([\\w]+indo|ando|endo)'\n",
      "  Texto: 'Olá, eu estou dormindo, e não sorrindo ou cantando.'\n",
      "  Palavras no gerúndio encontradas: ['dormindo', 'sorrindo', 'ando']\n"
     ]
    }
   ],
   "source": [
    "print(\"\\n--- Aplicação Prática: Detecção de Palavras no Gerúndio ---\")\n",
    "texto_gerundio = \"Olá, eu estou dormindo, e não sorrindo ou cantando.\"\n",
    "padrao_gerundio = r'([\\w]+indo|ando|endo)'\n",
    "encontrados_gerundio = re.findall(padrao_gerundio, texto_gerundio)\n",
    "print(f\"  Padrão para Gerúndio: r'([\\\\w]+indo|ando|endo)'\")\n",
    "print(f\"  Texto: '{texto_gerundio}'\")\n",
    "print(f\"  Palavras no gerúndio encontradas: {encontrados_gerundio}\")\n"
   ]
  },
  {
   "cell_type": "markdown",
   "id": "46e1463a-6377-4e23-b17f-79b3981a6369",
   "metadata": {},
   "source": [
    "# Exercícios de fixação"
   ]
  },
  {
   "cell_type": "markdown",
   "id": "6475c482-46fe-4e67-909d-f7e94e3a0a97",
   "metadata": {},
   "source": [
    "Exercício 1: Encontrando Números Simples (\\d)\n",
    "Objetivo: Encontrar todos os números de telefone de 4 dígitos em uma lista de strings."
   ]
  },
  {
   "cell_type": "code",
   "execution_count": 42,
   "id": "71496e37-9b22-4dcc-bb4d-a320c7f272fd",
   "metadata": {
    "scrolled": true
   },
   "outputs": [
    {
     "name": "stdout",
     "output_type": "stream",
     "text": [
      "--- Exercícios 1: Encontrando Números Simples ---\n",
      "\n",
      "Resultados:\n",
      "No texto 'O número de contato é 1234.': Números de 4 dígitos encontrados: ['1234']\n",
      "No texto 'ligue para 5678, ou 9012 para emergências.': Números de 4 dígitos encontrados: ['5678', '9012']\n",
      "No texto 'Meu celular é (11)98765-4321, mas o ramal é 5555.': Números de 4 dígitos encontrados: ['9876', '4321', '5555']\n",
      "No texto 'Sem números aqui.': Nenhum número de 4 dígitos encontrado.\n"
     ]
    }
   ],
   "source": [
    "print(\"--- Exercícios 1: Encontrando Números Simples ---\")\n",
    "textos_telefone =[\n",
    "    \"O número de contato é 1234.\", \n",
    "    \"ligue para 5678, ou 9012 para emergências.\",\n",
    "    \"Meu celular é (11)98765-4321, mas o ramal é 5555.\",\n",
    "    \"Sem números aqui.\"\n",
    "]\n",
    "padrao_ex1 = r'\\d{4}'\n",
    "print(\"\\nResultados:\")\n",
    "for texto in textos_telefone:\n",
    "    numeros_encontrados = re.findall(padrao_ex1, texto)\n",
    "    if numeros_encontrados:\n",
    "        print(f\"No texto '{texto}': Números de 4 dígitos encontrados: {numeros_encontrados}\")\n",
    "    else: \n",
    "        print(f\"No texto '{texto}': Nenhum número de 4 dígitos encontrado.\")"
   ]
  },
  {
   "cell_type": "markdown",
   "id": "ec342c37-fa66-4254-91aa-7cd6b5e0a3d9",
   "metadata": {},
   "source": [
    "Exercício 2: O Caractere Coringa (.)\n",
    "Objetivo: Encontrar palavras de 3 letras que começam com 'c' e terminam com 't'."
   ]
  },
  {
   "cell_type": "code",
   "execution_count": 47,
   "id": "40d18e91-f457-49fa-be35-169384b108d6",
   "metadata": {},
   "outputs": [
    {
     "name": "stdout",
     "output_type": "stream",
     "text": [
      "n --- Exercício 2 : O caractere Coringa(.)---\n",
      "\n",
      "Resultados\n",
      "No texto'Eu vi um cat e um cot.': Palavras encontradas com 'c.t': ['cat', 'cot']\n",
      "No texto'Este é um c t estranho.': Palavras encontradas com 'c.t': ['c t']\n",
      "No texto'Não tem cab nem cut aqui.': Palavras encontradas com 'c.t': ['cut']\n"
     ]
    }
   ],
   "source": [
    "import re\n",
    "print(\"n --- Exercício 2 : O caractere Coringa(.)---\")\n",
    "textos_palavras = [\n",
    "    \"Eu vi um cat e um cot.\",\n",
    "    \"Este é um c t estranho.\",\n",
    "    \"Não tem cab nem cut aqui.\"\n",
    "]\n",
    "padrao_ex2 = r'c.t'\n",
    "print(\"\\nResultados\")\n",
    "for texto in textos_palavras:\n",
    "    palavras_encontradas  = re.findall(padrao_ex2, texto)\n",
    "    if palavras_encontradas:\n",
    "        print(f\"No texto'{texto}': Palavras encontradas com 'c.t': {palavras_encontradas}\")\n",
    "    else:\n",
    "        print(f\"No texto '{texto}': Nenhuma palavra encontrada com 'c.t'.\")"
   ]
  },
  {
   "cell_type": "markdown",
   "id": "44ec2ed3-d944-4a22-95cb-85d6b8737e97",
   "metadata": {},
   "source": [
    "Exercício 3: Caracteres Opcionais (?)\n",
    "Objetivo: Encontrar tanto \"cor\" quanto \"coro\" (o 'o' no final é opcional)."
   ]
  },
  {
   "cell_type": "code",
   "execution_count": 50,
   "id": "8e73463b-b7f7-4071-93fd-8b8f94f29cfd",
   "metadata": {
    "scrolled": true
   },
   "outputs": [
    {
     "name": "stdout",
     "output_type": "stream",
     "text": [
      "\n",
      " --- Exercício 3: Caracteres Opcionais(?) ---\n",
      "\n",
      "Resultados:\n",
      "No texto 'Qual a sua cor favorita?': Matches encontrados: ['cor']\n",
      "No texto 'Que lindo coro de anjos!': Matches encontrados: ['coro']\n",
      "No texto 'Essa é uma coor diferente.': Nenhum match encontrado.\n"
     ]
    }
   ],
   "source": [
    "print(\"\\n --- Exercício 3: Caracteres Opcionais(?) ---\")\n",
    "\n",
    "textos_cores = [\n",
    "    \"Qual a sua cor favorita?\",\n",
    "    \"Que lindo coro de anjos!\",\n",
    "    \"Essa é uma coor diferente.\"\n",
    "]\n",
    "padrao_ex3 = r'coro?'\n",
    "\n",
    "print(\"\\nResultados:\")\n",
    "for texto in textos_cores:\n",
    "    matches = re.findall(padrao_ex3, texto)\n",
    "    if matches:\n",
    "        print(f\"No texto '{texto}': Matches encontrados: {matches}\")\n",
    "    else:\n",
    "        print(f\"No texto '{texto}': Nenhum match encontrado.\")\n"
   ]
  },
  {
   "cell_type": "markdown",
   "id": "17fe2b48-1755-4d94-ab81-a7908eeb5b50",
   "metadata": {},
   "source": [
    "Exercício 4: Conjuntos de Caracteres ([])\n",
    "Objetivo: Encontrar todas as vogais (maiúsculas ou minúsculas) em uma string."
   ]
  },
  {
   "cell_type": "code",
   "execution_count": 51,
   "id": "61fa45ea-8cba-4da2-b264-0f18757392ca",
   "metadata": {},
   "outputs": [
    {
     "name": "stdout",
     "output_type": "stream",
     "text": [
      "\n",
      "--- Exercício 4: Conjuntos de Caracteres ([]) ---\n",
      "Texto: 'A casa AZUL é BEm GRAnde.'\n",
      "Vogais encontradas: ['A', 'a', 'a', 'A', 'U', 'E', 'A', 'e']\n"
     ]
    }
   ],
   "source": [
    "import re\n",
    "\n",
    "print(\"\\n--- Exercício 4: Conjuntos de Caracteres ([]) ---\")\n",
    "\n",
    "texto_vogais = \"A casa AZUL é BEm GRAnde.\"\n",
    "\n",
    "# Padrão: qualquer uma das vogais (maiúsculas ou minúsculas)\n",
    "# '[aeiouAEIOU]' significa qualquer caractere dentro deste conjunto\n",
    "padrao_ex4 = r'[aeiouAEIOU]'\n",
    "\n",
    "print(f\"Texto: '{texto_vogais}'\")\n",
    "vogais_encontradas = re.findall(padrao_ex4, texto_vogais)\n",
    "print(f\"Vogais encontradas: {vogais_encontradas}\")\n"
   ]
  },
  {
   "cell_type": "markdown",
   "id": "d36d5cc8-66b8-4443-a4a5-07bf4a0e72d0",
   "metadata": {},
   "source": [
    "Exercício 5: Combinando Quantificadores (+, *)\n",
    "Objetivo: Extrair tags HTML simples que contenham texto dentro. Por exemplo, <b>texto</b> ou <p>paragrafo</p>."
   ]
  },
  {
   "cell_type": "code",
   "execution_count": 53,
   "id": "5b239ca7-5454-4b45-9e34-11c1507c9bd5",
   "metadata": {},
   "outputs": [
    {
     "name": "stdout",
     "output_type": "stream",
     "text": [
      "\n",
      "--- Exercício 5: Combinando Quantificadores (+, *) ---\n",
      "Tags HTML e seus conteúdos encontrados: [('b', 'texto em negrito'), ('p', 'parágrafo')]\n",
      "  - Tag: <b>, Conteúdo: 'texto em negrito'\n",
      "  - Tag: <p>, Conteúdo: 'parágrafo'\n"
     ]
    }
   ],
   "source": [
    "print(\"\\n--- Exercício 5: Combinando Quantificadores (+, *) ---\")\n",
    "texto_html = \"Isso é um <b>texto em negrito</b> e um <p>parágrafo</p> simples. Sem tags aqui.\"\n",
    "# Padrão:\n",
    "# '<': Abre a tag\n",
    "# '\\w+': Um ou mais caracteres de palavra (o nome da tag, ex: 'b', 'p')\n",
    "# '>': Fecha a tag de abertura\n",
    "# '.*?': Qualquer coisa (.), zero ou mais vezes (*), de forma não-gananciosa (?).\n",
    "#        Isso garante que ele pare na primeira tag de fechamento que encontrar.\n",
    "# '</': Abre a tag de fechamento\n",
    "# '\\w+': O nome da tag novamente\n",
    "# '>': Fecha a tag de fechamento\n",
    "padrao_ex5 = r'<(\\w+)>(.*?)</\\1>' # \\1 refere-se ao conteúdo do primeiro grupo capturado (\\w+)\n",
    "tags_encontradas = re.findall(padrao_ex5, texto_html)\n",
    "\n",
    "if tags_encontradas:\n",
    "    print(f\"Tags HTML e seus conteúdos encontrados: {tags_encontradas}\")\n",
    "    for tag_name, content in tags_encontradas:\n",
    "        print(f\"  - Tag: <{tag_name}>, Conteúdo: '{content}'\")\n",
    "else:\n",
    "    print(\"Nenhuma tag HTML encontrada.\")\n"
   ]
  },
  {
   "cell_type": "code",
   "execution_count": null,
   "id": "1a91ed69-4d74-4e4b-a9bc-392392f3fc75",
   "metadata": {},
   "outputs": [],
   "source": []
  }
 ],
 "metadata": {
  "kernelspec": {
   "display_name": "anaconda-panel-2023.05-py310",
   "language": "python",
   "name": "conda-env-anaconda-panel-2023.05-py310-py"
  },
  "language_info": {
   "codemirror_mode": {
    "name": "ipython",
    "version": 3
   },
   "file_extension": ".py",
   "mimetype": "text/x-python",
   "name": "python",
   "nbconvert_exporter": "python",
   "pygments_lexer": "ipython3",
   "version": "3.11.5"
  }
 },
 "nbformat": 4,
 "nbformat_minor": 5
}
