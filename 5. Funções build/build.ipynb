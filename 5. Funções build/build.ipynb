{
 "cells": [
  {
   "cell_type": "markdown",
   "id": "64c791b7-1506-4c17-9033-cf7551d44a1e",
   "metadata": {},
   "source": [
    "# Builtiin"
   ]
  },
  {
   "cell_type": "markdown",
   "id": "5e9f6b2e-0355-480b-87d0-679b95036d5c",
   "metadata": {},
   "source": [
    "Funções matemáticas"
   ]
  },
  {
   "cell_type": "code",
   "execution_count": 10,
   "id": "1b8c1202-59ea-4a0d-bbd0-dc53eb32e07f",
   "metadata": {},
   "outputs": [
    {
     "name": "stdout",
     "output_type": "stream",
     "text": [
      "10\n",
      "10\n",
      "20\n"
     ]
    }
   ],
   "source": [
    "num1 = -10\n",
    "num2 = 10\n",
    "print(abs(num1))\n",
    "print(abs(num2))\n",
    "print(abs(num1) + abs(num2))\n",
    "# abs desconsidera o sinal do operando."
   ]
  },
  {
   "cell_type": "code",
   "execution_count": 12,
   "id": "63c99461-81c2-45e4-b68c-69fc9e54aed7",
   "metadata": {},
   "outputs": [
    {
     "name": "stdout",
     "output_type": "stream",
     "text": [
      "30\n"
     ]
    }
   ],
   "source": [
    "maior_valor = max(10,20,30)\n",
    "print(maior_valor)"
   ]
  },
  {
   "cell_type": "code",
   "execution_count": 18,
   "id": "009890c8-5a37-427a-8520-d429e5bae196",
   "metadata": {},
   "outputs": [
    {
     "name": "stdout",
     "output_type": "stream",
     "text": [
      "-20\n"
     ]
    }
   ],
   "source": [
    "lista = [-20,1,2.3,3]\n",
    "print(min(lista))"
   ]
  },
  {
   "cell_type": "code",
   "execution_count": 28,
   "id": "e388a268-e01e-4ffd-9c81-335589a5077e",
   "metadata": {},
   "outputs": [
    {
     "name": "stdout",
     "output_type": "stream",
     "text": [
      "8\n"
     ]
    }
   ],
   "source": [
    "x = 2\n",
    "y = 3\n",
    "print(pow(x,y))"
   ]
  },
  {
   "cell_type": "code",
   "execution_count": 30,
   "id": "237d12cc-bdab-4e9a-a8ec-d79ff92839e8",
   "metadata": {},
   "outputs": [
    {
     "name": "stdout",
     "output_type": "stream",
     "text": [
      "5.0\n"
     ]
    }
   ],
   "source": [
    "import math\n",
    "print (math.sqrt(25))# raiz quadrada"
   ]
  },
  {
   "cell_type": "code",
   "execution_count": 44,
   "id": "00229e3a-a5e5-41f4-b0cd-e6e110de4da3",
   "metadata": {},
   "outputs": [
    {
     "name": "stdout",
     "output_type": "stream",
     "text": [
      "2.46\n"
     ]
    }
   ],
   "source": [
    "print(round(2.4566,2)) # após a vírgula definimos quantas casas decimais deverão ter."
   ]
  },
  {
   "cell_type": "code",
   "execution_count": 52,
   "id": "fa58265e-8064-49d0-aba3-492571da0b2e",
   "metadata": {},
   "outputs": [
    {
     "name": "stdout",
     "output_type": "stream",
     "text": [
      "2\n",
      "3\n"
     ]
    }
   ],
   "source": [
    "from math import floor,ceil\n",
    "print(floor(2.4566)) #arredonda o valor para baixo\n",
    "print(ceil(2.4566)) #arredonda o valor para cima"
   ]
  },
  {
   "cell_type": "code",
   "execution_count": 56,
   "id": "054106e6-bb94-4ff8-82c0-131eee8f8d37",
   "metadata": {},
   "outputs": [
    {
     "name": "stdout",
     "output_type": "stream",
     "text": [
      "(2, 2)\n"
     ]
    }
   ],
   "source": [
    "print(divmod(10,4)) #mostra o quociente e o resto."
   ]
  },
  {
   "cell_type": "markdown",
   "id": "113aaa2a-82e2-4f37-b23e-80cc73d35903",
   "metadata": {},
   "source": [
    "Caracteres para Números e Números para Caracteres"
   ]
  },
  {
   "cell_type": "code",
   "execution_count": 73,
   "id": "f9ad7f2d-15f0-421f-bf3d-2def35a34bd4",
   "metadata": {},
   "outputs": [
    {
     "name": "stdout",
     "output_type": "stream",
     "text": [
      "o número 70 é mapeado para o caractere F\n"
     ]
    }
   ],
   "source": [
    "numero = 70\n",
    "caractere = chr(numero)  # chr converte para caractere\n",
    "print(\"o número %d é mapeado para o caractere %s\" % (numero, caractere))"
   ]
  },
  {
   "cell_type": "code",
   "execution_count": 103,
   "id": "9333815f-7671-46f0-a3ac-8c1e11782172",
   "metadata": {},
   "outputs": [
    {
     "name": "stdout",
     "output_type": "stream",
     "text": [
      "1 - \u0001\n",
      "2 - \u0002\n",
      "3 - \u0003\n",
      "4 - \u0004\n",
      "5 - \u0005\n",
      "6 - \u0006\n",
      "7 - \u0007\n",
      "8 -\n",
      "9 - \t\n",
      "10 - \n",
      "\n",
      "11 - \u000b",
      "\n",
      "12 - \f",
      "\n",
      "13 - \n",
      "14 - \u000e\n",
      "15 - \u000f\n",
      "16 - \u0010\n",
      "17 - \u0011\n",
      "18 - \u0012\n",
      "19 - \u0013\n",
      "20 - \u0014\n",
      "21 - \u0015\n",
      "22 - \u0016\n",
      "23 - \u0017\n",
      "24 - \u0018\n",
      "25 - \u0019\n",
      "26 - \u001a\n",
      "27 - \u001b\n",
      "28 - \u001c",
      "\n",
      "29 - \u001d",
      "\n",
      "30 - \u001e",
      "\n",
      "31 - \u001f\n",
      "32 -  \n",
      "33 - !\n",
      "34 - \"\n",
      "35 - #\n",
      "36 - $\n",
      "37 - %\n",
      "38 - &\n",
      "39 - '\n",
      "40 - (\n",
      "41 - )\n",
      "42 - *\n",
      "43 - +\n",
      "44 - ,\n",
      "45 - -\n",
      "46 - .\n",
      "47 - /\n",
      "48 - 0\n",
      "49 - 1\n",
      "50 - 2\n",
      "51 - 3\n",
      "52 - 4\n",
      "53 - 5\n",
      "54 - 6\n",
      "55 - 7\n",
      "56 - 8\n",
      "57 - 9\n",
      "58 - :\n",
      "59 - ;\n",
      "60 - <\n",
      "61 - =\n",
      "62 - >\n",
      "63 - ?\n",
      "64 - @\n",
      "65 - A\n",
      "66 - B\n",
      "67 - C\n",
      "68 - D\n",
      "69 - E\n",
      "70 - F\n",
      "71 - G\n",
      "72 - H\n",
      "73 - I\n",
      "74 - J\n",
      "75 - K\n",
      "76 - L\n",
      "77 - M\n",
      "78 - N\n",
      "79 - O\n",
      "80 - P\n",
      "81 - Q\n",
      "82 - R\n",
      "83 - S\n",
      "84 - T\n",
      "85 - U\n",
      "86 - V\n",
      "87 - W\n",
      "88 - X\n",
      "89 - Y\n",
      "90 - Z\n",
      "91 - [\n",
      "92 - \\\n",
      "93 - ]\n",
      "94 - ^\n",
      "95 - _\n",
      "96 - `\n",
      "97 - a\n",
      "98 - b\n",
      "99 - c\n"
     ]
    }
   ],
   "source": [
    "for i in range(1, 100):\n",
    "    caractere = chr(i)\n",
    "    print(\"%d - %s\" % (i, caractere), end='\\n')"
   ]
  },
  {
   "cell_type": "code",
   "execution_count": 105,
   "id": "d6b7f788-24a7-455f-8062-1791288adf82",
   "metadata": {},
   "outputs": [
    {
     "name": "stdout",
     "output_type": "stream",
     "text": [
      "O caractere F se mapeia para o número 70\n"
     ]
    }
   ],
   "source": [
    "caractere = \"F\"\n",
    "numero = ord(caractere) #ord verificia qual número representa aquele caractere.\n",
    "print(\"O caractere %s se mapeia para o número %d\" % (caractere, numero))"
   ]
  },
  {
   "cell_type": "markdown",
   "id": "bd8f58a4-e41d-42cd-a991-d4100ccefeeb",
   "metadata": {},
   "source": [
    "Funções de Texto"
   ]
  },
  {
   "cell_type": "code",
   "execution_count": null,
   "id": "cc84c088-0923-4851-9ab2-5bceedb92d77",
   "metadata": {},
   "outputs": [],
   "source": [
    "texto = \"olá, tudo bem?\"\n",
    "print(texto.capitalize()) # o método .capitalize deixa a primeira letra tamanho maíscula."
   ]
  },
  {
   "cell_type": "code",
   "execution_count": 111,
   "id": "021ba235-d37e-4ba2-8619-ee195e9f879c",
   "metadata": {},
   "outputs": [
    {
     "name": "stdout",
     "output_type": "stream",
     "text": [
      "isto é estranho\n",
      "ISTO É ESTRANHO\n",
      "iStO É eSTRAnho\n"
     ]
    }
   ],
   "source": [
    "texto = \"IsTo é EstraNHO\"\n",
    "print(texto.lower()) #transforma tudo em minúsculo\n",
    "print(texto.upper()) #transforma tudo em maiúsculo\n",
    "print(texto.swapcase()) # inverte maiusculo para minúsculo e vice versa."
   ]
  },
  {
   "cell_type": "code",
   "execution_count": 113,
   "id": "f44e6b0a-8edc-4db8-ade5-0167d89d7b2c",
   "metadata": {},
   "outputs": [
    {
     "name": "stdout",
     "output_type": "stream",
     "text": [
      "Eu Sou Um Ótimo Programador Python\n"
     ]
    }
   ],
   "source": [
    "texto = \"Eu sou um ótimo programador python\"\n",
    "print(texto.title()) #transforma em maiúscula as letras de cada palavra."
   ]
  },
  {
   "cell_type": "code",
   "execution_count": 119,
   "id": "2aac17cc-ecc7-442a-9b74-751578d32065",
   "metadata": {
    "scrolled": true
   },
   "outputs": [
    {
     "name": "stdout",
     "output_type": "stream",
     "text": [
      " 1234567 \n",
      "   1234567    \n",
      "---1234567----\n"
     ]
    }
   ],
   "source": [
    "texto = \"1234567\"\n",
    "print(texto.center(9)) #centraliza o texto acrescentando mais caracteres até chagar 9\n",
    "print(texto.center(14))#centraliza o texto acrescentando mais caracteres até chagar 14\n",
    "print(texto.center(14, \"-\"))#centraliza o texto acrescentando mais caracteres \"-\""
   ]
  },
  {
   "cell_type": "code",
   "execution_count": 139,
   "id": "de2a5753-4759-4793-8fbb-c66b2ae25097",
   "metadata": {},
   "outputs": [
    {
     "name": "stdout",
     "output_type": "stream",
     "text": [
      "True\n",
      "True\n"
     ]
    }
   ],
   "source": [
    "texto = \"12345678912\"\n",
    "print(texto.startswith(\"12\")) #verifica se o texto inicia com o valor solicitado\n",
    "print(texto.endswith(\"12\")) #verifica se o texto termina com o valor solicitado"
   ]
  },
  {
   "cell_type": "code",
   "execution_count": 141,
   "id": "75a43f06-f43f-4364-9639-0cd288e8f697",
   "metadata": {},
   "outputs": [
    {
     "name": "stdout",
     "output_type": "stream",
     "text": [
      "15\n",
      "-1\n"
     ]
    }
   ],
   "source": [
    "texto = \"me encontra 20 10 5\"\n",
    "pos = texto.find(\"10\") # .find encontra a posição do objeto\n",
    "print(pos)\n",
    "pos = texto. find(\"4\") # quando não encontrado ele retorna o valor -1\n",
    "print(pos)"
   ]
  },
  {
   "cell_type": "code",
   "execution_count": 143,
   "id": "d5f75c4e-b2f2-4947-b3fd-e24fa2de0c0e",
   "metadata": {},
   "outputs": [
    {
     "name": "stdout",
     "output_type": "stream",
     "text": [
      "15\n"
     ]
    }
   ],
   "source": [
    "texto = \"me encontra 20 10 5\"\n",
    "pos = texto.index(\"10\") # .index  encontra a posição do objeto.\n",
    "print(pos)\n",
    "#caso não encontre acarretará em erro.\n",
    "\n",
    "#Use .find() quando quiser evitar exceções, \n",
    "#e .index() quando quiser que o erro pare o programa caso a substring não exista."
   ]
  },
  {
   "cell_type": "code",
   "execution_count": 147,
   "id": "7e4675dc-cc41-4514-98f1-18c29fd05a3d",
   "metadata": {},
   "outputs": [
    {
     "name": "stdout",
     "output_type": "stream",
     "text": [
      "ola eu sou a fulana\n"
     ]
    }
   ],
   "source": [
    "texto = \"ol@ eu sou @ ful@n@\"\n",
    "novo_texto = texto.replace(\"@\",\"a\") # .replace() substitui o valor solicitado.\n",
    "print(novo_texto)"
   ]
  },
  {
   "cell_type": "code",
   "execution_count": null,
   "id": "720b8cec-74fb-43a8-bbc4-4a9458123e95",
   "metadata": {},
   "outputs": [],
   "source": [
    "texto '10,20,30'\n",
    "print(texto.split(\",\")) # separa o texto onde indicamos, nesse caso após a vírgula"
   ]
  },
  {
   "cell_type": "code",
   "execution_count": 153,
   "id": "55cd78ad-2cf9-4989-9bb8-89567991cbe1",
   "metadata": {},
   "outputs": [
    {
     "name": "stdout",
     "output_type": "stream",
     "text": [
      "False\n"
     ]
    }
   ],
   "source": [
    "print(\"abcde3\".isalpha()) #isalpha verifica se o texto é apenas caracteres."
   ]
  },
  {
   "cell_type": "code",
   "execution_count": 155,
   "id": "934def7e-e882-48d3-ad37-17a8c61abb80",
   "metadata": {},
   "outputs": [
    {
     "name": "stdout",
     "output_type": "stream",
     "text": [
      "False\n"
     ]
    }
   ],
   "source": [
    "print(\"abc,dE3\".isalnum())"
   ]
  },
  {
   "cell_type": "code",
   "execution_count": 157,
   "id": "5011bb18-482f-47c5-825a-c19878229351",
   "metadata": {},
   "outputs": [
    {
     "name": "stdout",
     "output_type": "stream",
     "text": [
      "False\n"
     ]
    }
   ],
   "source": [
    "print(\"123\".isspace()) #verifica se há espaço no texto"
   ]
  },
  {
   "cell_type": "code",
   "execution_count": 163,
   "id": "17a074fe-b44f-440b-a5ca-c22bf4509440",
   "metadata": {},
   "outputs": [
    {
     "name": "stdout",
     "output_type": "stream",
     "text": [
      "True\n",
      "True\n"
     ]
    }
   ],
   "source": [
    "print(\"abc\".islower()) #verifica se o texto é minúsculo\n",
    "print(\"ABC\".isupper()) #verifica se o texto é maiúsculo"
   ]
  },
  {
   "cell_type": "markdown",
   "id": "ca998da8-addf-4438-b1b2-01776aed8135",
   "metadata": {},
   "source": [
    "Funções para Listas"
   ]
  },
  {
   "cell_type": "code",
   "execution_count": 167,
   "id": "b45fcf25-01f8-47ee-942f-4427eaf12371",
   "metadata": {},
   "outputs": [
    {
     "name": "stdout",
     "output_type": "stream",
     "text": [
      "[1, 2, 5, 5, 10, 10]\n"
     ]
    }
   ],
   "source": [
    "lista = [5,10,2,1,5,10]\n",
    "lista.sort() # ordena a lista\n",
    "print(lista)"
   ]
  },
  {
   "cell_type": "code",
   "execution_count": 175,
   "id": "57f57e62-2592-4dee-9b7e-48daa9ea7f96",
   "metadata": {},
   "outputs": [
    {
     "name": "stdout",
     "output_type": "stream",
     "text": [
      "['h', 'w', 'x', 'y', 'z']\n"
     ]
    }
   ],
   "source": [
    "lista = [\"x\",\"y\",\"z\",\"w\",\"h\"]\n",
    "lista.sort() # ordena a lista\n",
    "print(lista)"
   ]
  },
  {
   "cell_type": "code",
   "execution_count": 179,
   "id": "792c3bc3-5db8-44f0-95c9-92bb5785c6e4",
   "metadata": {},
   "outputs": [
    {
     "name": "stdout",
     "output_type": "stream",
     "text": [
      "[10, 10, 5, 5, 2, 1]\n"
     ]
    }
   ],
   "source": [
    "lista = [5,10,2,1,5,10]\n",
    "lista.sort(reverse = True) # ordena a lista em ordem descrescente\n",
    "print(lista)"
   ]
  },
  {
   "cell_type": "code",
   "execution_count": 181,
   "id": "45db1fe9-a4f8-47cc-8387-836dc0c0e896",
   "metadata": {},
   "outputs": [
    {
     "name": "stdout",
     "output_type": "stream",
     "text": [
      "['a', 'b', 'ab', 'de', 'abc', 'abcd']\n"
     ]
    }
   ],
   "source": [
    "# Define uma função que recebe um item (string) e retorna seu comprimento\n",
    "def sort_por_tamanho(item):\n",
    "    return len(item)  # Retorna o número de caracteres da string\n",
    "\n",
    "# Cria uma lista de strings com tamanhos variados\n",
    "lista = [\"a\", \"b\", \"ab\", \"de\", \"abc\", \"abcd\"]\n",
    "\n",
    "# Ordena a lista com base no comprimento de cada string\n",
    "# A função sort_por_tamanho será aplicada a cada item como critério de ordenação\n",
    "lista.sort(key = sort_por_tamanho) # O key=sort_por_tamanho diz: \"ordene a lista usando o comprimento de cada item como critério\".\n",
    "\n",
    "# Exibe a lista ordenada pelo tamanho das strings (do menor para o maior)\n",
    "print(lista)"
   ]
  },
  {
   "cell_type": "code",
   "execution_count": 185,
   "id": "09a891a7-2296-4ed9-a0db-c297fb06f015",
   "metadata": {},
   "outputs": [
    {
     "name": "stdout",
     "output_type": "stream",
     "text": [
      "carro R$ 100.000\n",
      "cadeira R$ 1000\n",
      "Moto R$ 40000\n",
      "geladeira R$ 20000\n",
      "armário R$ 1500\n"
     ]
    }
   ],
   "source": [
    "# Cria uma lista de listas, onde cada sublista representa um produto e seu valor\n",
    "produtos = [['carro','R$ 100.000'] ,\n",
    "            ['cadeira','R$ 1000'] ,\n",
    "            ['Moto',\"R$ 40000\"],\n",
    "            ['geladeira','R$ 20000'],\n",
    "            ['armário','R$ 1500']]\n",
    "\n",
    "# Percorre a lista 'produtos', desempacotando cada sublista em 'produto' e 'valor'\n",
    "for produto, valor in produtos:\n",
    "    # Exibe o nome do produto e seu valor formatado\n",
    "    print(produto, valor)"
   ]
  },
  {
   "cell_type": "code",
   "execution_count": 187,
   "id": "68a6aadc-6389-4c4e-bc85-1e3be35007ca",
   "metadata": {},
   "outputs": [
    {
     "name": "stdout",
     "output_type": "stream",
     "text": [
      "{'José': 10, 'Carlos': 10, 'João': 10}\n"
     ]
    }
   ],
   "source": [
    "nomes = ('José','Carlos','João')\n",
    "dicionario = dict.fromkeys(nomes,10) # cria objeto dicionário atribindo 10 para cada elemento da tupla.\n",
    "print(dicionario)"
   ]
  },
  {
   "cell_type": "markdown",
   "id": "daf837e1-fdc7-4e6d-a376-6e1d71e473bb",
   "metadata": {},
   "source": [
    "Funções de Data e Hora\n"
   ]
  },
  {
   "cell_type": "code",
   "execution_count": 189,
   "id": "5ecbf0c2-7781-4888-a95e-419c5f6638a8",
   "metadata": {},
   "outputs": [
    {
     "name": "stdout",
     "output_type": "stream",
     "text": [
      "2025-05-01 16:25:03.141945\n",
      "2025-05-01\n",
      "16:25:03.141945\n"
     ]
    }
   ],
   "source": [
    "import datetime\n",
    "data_completa = datetime.datetime.now()\n",
    "data = data_completa.date()\n",
    "hora = data_completa.time()\n",
    "\n",
    "print(data_completa)\n",
    "print(data)\n",
    "print(hora)"
   ]
  },
  {
   "cell_type": "code",
   "execution_count": 191,
   "id": "a014c195-ccf9-4915-a8bf-93f7ee16a445",
   "metadata": {},
   "outputs": [
    {
     "name": "stdout",
     "output_type": "stream",
     "text": [
      "Dia 1\n",
      "Mês 5\n",
      "Ano 2025\n",
      "hora 16\n",
      "minuto 44\n"
     ]
    }
   ],
   "source": [
    "import datetime\n",
    "data_completa = datetime.datetime.now()\n",
    "\n",
    "print(\"Dia\", data_completa.day)\n",
    "print(\"Mês\", data_completa.month)\n",
    "print(\"Ano\", data_completa.year)\n",
    "print(\"hora\", data_completa.hour)\n",
    "print(\"minuto\", data_completa.second)"
   ]
  },
  {
   "cell_type": "code",
   "execution_count": 197,
   "id": "1e9f8745-bed6-42c2-98a7-807fa4a29d57",
   "metadata": {},
   "outputs": [
    {
     "name": "stdout",
     "output_type": "stream",
     "text": [
      "2000-09-30\n"
     ]
    }
   ],
   "source": [
    "import datetime\n",
    "data = datetime.date(2000, 9,30)\n",
    "data = datetime.date(day = 30, month = 9, year = 2000)\n",
    "print(data)\n",
    "\n",
    "\n"
   ]
  },
  {
   "cell_type": "code",
   "execution_count": 199,
   "id": "1a52d949-2de6-4cf1-be44-c8bfb15676f8",
   "metadata": {},
   "outputs": [
    {
     "name": "stdout",
     "output_type": "stream",
     "text": [
      "16:30:44\n"
     ]
    }
   ],
   "source": [
    "import datetime\n",
    "hora = datetime.time(16, 30, 44)\n",
    "print(hora)"
   ]
  },
  {
   "cell_type": "code",
   "execution_count": 203,
   "id": "40b23963-f038-4272-b437-53a1ea3520f4",
   "metadata": {},
   "outputs": [
    {
     "name": "stdout",
     "output_type": "stream",
     "text": [
      "25/05/01 16:34:34\n"
     ]
    }
   ],
   "source": [
    "import datetime\n",
    "# y ano\n",
    "# m mês\n",
    "# d dia\n",
    "# H hora\n",
    "# M minuto\n",
    "# S segundo\n",
    "atual = datetime.datetime.now()\n",
    "current_time = atual.strftime(\"%y/%m/%d %H:%M:%S\") # O método strftime() em Python é usado para formatar objetos de data e hora (datetime) como strings, de acordo com um formato especificado.\n",
    "print(current_time)"
   ]
  },
  {
   "cell_type": "code",
   "execution_count": 205,
   "id": "d1da7885-5780-4170-abf6-4b5ac7f77e3a",
   "metadata": {},
   "outputs": [
    {
     "name": "stdout",
     "output_type": "stream",
     "text": [
      "Saturday  - Sat\n",
      "September  - Sep\n",
      "10  - 10\n",
      "10  - AM\n"
     ]
    }
   ],
   "source": [
    "import datetime\n",
    "# y ano\n",
    "# m mês\n",
    "# d dia\n",
    "# H hora formato 00-23\n",
    "# M minuto\n",
    "# S segundo\n",
    "\n",
    "# A dia da semana\n",
    "# a dia da semana abrev.\n",
    "# B nome do mês\n",
    "# b nome do mês abrev.\n",
    "# I hora formato 12 horas\n",
    "# p AM PM\n",
    "\n",
    "data = datetime.datetime(2000,9,30,10,30,20)\n",
    "print(data.strftime(\"%A  - %a\"))\n",
    "print(data.strftime(\"%B  - %b\"))\n",
    "print(data.strftime(\"%H  - %I\"))\n",
    "print(data.strftime(\"%I  - %p\"))"
   ]
  }
 ],
 "metadata": {
  "kernelspec": {
   "display_name": "anaconda-panel-2023.05-py310",
   "language": "python",
   "name": "conda-env-anaconda-panel-2023.05-py310-py"
  },
  "language_info": {
   "codemirror_mode": {
    "name": "ipython",
    "version": 3
   },
   "file_extension": ".py",
   "mimetype": "text/x-python",
   "name": "python",
   "nbconvert_exporter": "python",
   "pygments_lexer": "ipython3",
   "version": "3.11.5"
  }
 },
 "nbformat": 4,
 "nbformat_minor": 5
}
