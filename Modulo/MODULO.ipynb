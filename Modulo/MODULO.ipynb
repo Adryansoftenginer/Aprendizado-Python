{
 "cells": [
  {
   "cell_type": "code",
   "execution_count": null,
   "id": "fcf3df5c-6211-44a0-9b0a-3207af4ab7da",
   "metadata": {},
   "outputs": [],
   "source": []
  },
  {
   "cell_type": "code",
   "execution_count": null,
   "id": "34108deb-d1f9-463f-b724-9266f443cef8",
   "metadata": {},
   "outputs": [],
   "source": []
  },
  {
   "cell_type": "code",
   "execution_count": null,
   "id": "33e044ba-4c60-4fc0-8076-d9362ae40b27",
   "metadata": {},
   "outputs": [],
   "source": []
  },
  {
   "cell_type": "markdown",
   "id": "7340fe3a-68de-4cbf-85aa-b05e837be458",
   "metadata": {},
   "source": [
    "# Exercícios Módulos"
   ]
  },
  {
   "cell_type": "markdown",
   "id": "859779d4-8eac-4585-a2bb-2211af8a1420",
   "metadata": {},
   "source": [
    "# Exercício 1: Importação de Módulo e Uso de Funções Específicas"
   ]
  },
  {
   "cell_type": "code",
   "execution_count": 3,
   "id": "dcae91f3-cdec-4ea1-8308-d5847ee4ad52",
   "metadata": {},
   "outputs": [],
   "source": [
    "#Do módulo collections, importe a classe Counter.\n",
    "#Crie uma lista de strings (palavras repetidas, por exemplo: [\"banana\", \"maçã\", ex\"banana\", \"laranja\", \"maçã\", \"banana\"]).\n",
    "#Use a classe Counter para contar a frequência de cada item na lista.\n",
    "#Imprima o objeto Counter resultante."
   ]
  },
  {
   "cell_type": "code",
   "execution_count": null,
   "id": "7b093977-6edf-4d82-b81d-2aff2c43dd69",
   "metadata": {},
   "outputs": [],
   "source": []
  },
  {
   "cell_type": "code",
   "execution_count": 24,
   "id": "d5e8311c-4e6c-448b-aa58-ae436ee591b2",
   "metadata": {},
   "outputs": [
    {
     "name": "stdout",
     "output_type": "stream",
     "text": [
      "Counter({'telhado': 2, 'música': 2, 'som': 2, 'piscina': 2})\n"
     ]
    }
   ],
   "source": [
    "from collections import Counter\n",
    "\n",
    "# Você deve passar a lista para o construtor Counter()\n",
    "Casatem = Counter([\"telhado\", \"música\", \"som\",\"piscina\", \"telhado\", \"música\", \"som\",\"piscina\"])\n",
    "\n",
    "print(Casatem)"
   ]
  },
  {
   "cell_type": "markdown",
   "id": "fe932a27-2d57-455d-82f8-59f3ac9c033d",
   "metadata": {},
   "source": [
    "# Exercício 2: Importação de Elementos Específicos e com Alias (from ... import e from ... import as)"
   ]
  },
  {
   "cell_type": "code",
   "execution_count": 15,
   "id": "677b60be-3787-474a-90a0-ed431245c5d8",
   "metadata": {},
   "outputs": [
    {
     "name": "stdout",
     "output_type": "stream",
     "text": [
      "\n",
      "Este módulo contém funções para calcular áreas e perímetros de formas geométricas.\n",
      "\n",
      "78.53981633974483\n",
      "153.93804002589985\n",
      "Help on function area_circulo in module geometrianovo:\n",
      "\n",
      "area_circulo(raio)\n",
      "    Calcula a área de um círculo.\n",
      "    \n",
      "    Parâmetros:\n",
      "    raio (float/int): O raio do círculo.\n",
      "    \n",
      "    Retorna:\n",
      "    float: A área calculada do círculo.\n",
      "\n"
     ]
    }
   ],
   "source": [
    "import geometrianovo \n",
    "print(geometrianovo.__doc__)\n",
    "print(geometrianovo.area_circulo(5))\n",
    "print(geometrianovo.area_circulo(7))\n",
    "help(geometrianovo.area_circulo)"
   ]
  }
 ],
 "metadata": {
  "kernelspec": {
   "display_name": "anaconda-panel-2023.05-py310",
   "language": "python",
   "name": "conda-env-anaconda-panel-2023.05-py310-py"
  },
  "language_info": {
   "codemirror_mode": {
    "name": "ipython",
    "version": 3
   },
   "file_extension": ".py",
   "mimetype": "text/x-python",
   "name": "python",
   "nbconvert_exporter": "python",
   "pygments_lexer": "ipython3",
   "version": "3.11.5"
  }
 },
 "nbformat": 4,
 "nbformat_minor": 5
}
