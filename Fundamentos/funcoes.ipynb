{
 "cells": [
  {
   "cell_type": "markdown",
   "id": "70f4e0a2-a0a3-4054-8a33-7277f4200caa",
   "metadata": {},
   "source": [
    "# FUNÇÕES"
   ]
  },
  {
   "cell_type": "code",
   "execution_count": null,
   "id": "9b7743f0-7da6-42c7-b067-858651c35ab1",
   "metadata": {},
   "outputs": [],
   "source": [
    "#Em Python, funções são blocos de código que realizam uma tarefa específica. \n",
    "# Elas ajudam a organizar o código, evitar repetições e facilitam a reutilização."
   ]
  },
  {
   "cell_type": "code",
   "execution_count": 1,
   "id": "983cb7e0-ed69-4986-a7e6-a83397a3f275",
   "metadata": {},
   "outputs": [],
   "source": [
    "def nome_da_funcao(parametros):\n",
    "    # bloco de código\n",
    "    return resultado  # (opcional)"
   ]
  },
  {
   "cell_type": "code",
   "execution_count": 3,
   "id": "8ddb322d-7b66-426a-803b-9b8b8e71241d",
   "metadata": {},
   "outputs": [
    {
     "name": "stdout",
     "output_type": "stream",
     "text": [
      "Uma função 10\n",
      "Uma função 10\n"
     ]
    }
   ],
   "source": [
    "# Função com variável interna e print\n",
    "# Cria uma função chamada func que define uma variável local num = 10 e imprime seu valor formatado. É chamada duas vezes.\n",
    "def func():\n",
    "    num = 10\n",
    "    print(\"Uma função %d\" % (num))\n",
    "\n",
    "func()\n",
    "func()"
   ]
  },
  {
   "cell_type": "code",
   "execution_count": 9,
   "id": "d848c806-09c1-46ea-8838-dc321128b5ee",
   "metadata": {},
   "outputs": [],
   "source": [
    "# pass é útil quando você quer deixar o código preparado, mas ainda não implementou nada dentro da função.\n",
    "def func():\n",
    "    pass  # comando que indica que a função não faz nada (ainda)\n",
    "\n",
    "func()  # Executa sem erro, mas sem efeito"
   ]
  },
  {
   "cell_type": "code",
   "execution_count": 43,
   "id": "1d670e37-4d4f-4ea1-973c-a56ef5815c01",
   "metadata": {},
   "outputs": [
    {
     "name": "stdout",
     "output_type": "stream",
     "text": [
      "3\n",
      "4.4\n",
      "olá  mundo!\n"
     ]
    }
   ],
   "source": [
    "# Função com parâmetro\n",
    "def print_var(numero):\n",
    "    print(numero)  # imprime o valor que foi passado como argumento\n",
    "\n",
    "print_var(2)       # Saída: 2\n",
    "print(\"Maça\")      # Saída: Maça (fora da função)"
   ]
  },
  {
   "cell_type": "code",
   "execution_count": 11,
   "id": "faed92e5-0e2d-49c4-90d4-611eae73e24a",
   "metadata": {},
   "outputs": [
    {
     "name": "stdout",
     "output_type": "stream",
     "text": [
      "3\n",
      "4.4\n",
      "olá mundo!\n"
     ]
    }
   ],
   "source": [
    "def print_soma(num1, num2):\n",
    "    print(num1 + num2)  # soma ou concatena, dependendo do tipo dos argumentos\n",
    "\n",
    "print_soma(1, 2)                     # Saída: 3 (inteiros)\n",
    "print_soma(3.3, 1.1)                 # Saída: 4.4 (floats)\n",
    "print_soma(\"olá \", \"mundo!\")        # Saída: olá mundo! (strings)\n",
    "#O operador + tem comportamento diferente:\n",
    "\n",
    "#Soma se os dois forem números.\n",
    "\n",
    "#Junta (concatena) se forem strings.\n",
    "\n"
   ]
  },
  {
   "cell_type": "code",
   "execution_count": 13,
   "id": "89cf02a8-3d3f-4ee5-af86-9961174b1f30",
   "metadata": {},
   "outputs": [
    {
     "name": "stdout",
     "output_type": "stream",
     "text": [
      "<class 'tuple'>\n",
      "Argumentos são: (1, 2, 3)\n",
      "<class 'tuple'>\n",
      "Argumentos são: ()\n",
      "<class 'tuple'>\n",
      "Argumentos são: ('Olá', True, [1, 2, 3])\n"
     ]
    }
   ],
   "source": [
    "# *args: argumentos posicionais arbitrários\n",
    "def func(*args):\n",
    "    print(type(args))  # mostra que args é do tipo 'tuple'\n",
    "    print(\"Argumentos são:\", args)\n",
    "\n",
    "func(1, 2, 3)                  # Saída: (1, 2, 3)\n",
    "func()                        # Saída: () (nenhum argumento)\n",
    "func(\"Olá\", True, [1,2,3])    # Saída: ('Olá', True, [1, 2, 3])\n",
    "\n",
    "#*args coleta vários argumentos posicionais em uma tupla.\n",
    "\n",
    "#Útil quando você não sabe quantos argumentos serão passados.\n"
   ]
  },
  {
   "cell_type": "code",
   "execution_count": 19,
   "id": "244b9e84-c00e-4b82-9589-8e60164e4851",
   "metadata": {},
   "outputs": [
    {
     "name": "stdout",
     "output_type": "stream",
     "text": [
      "8\n"
     ]
    }
   ],
   "source": [
    "# Argumentos nomeados (keyword arguments)\n",
    "def print_sub(num1, num2):\n",
    "    print(num1 - num2)\n",
    "\n",
    "print_sub(num2=2, num1=10)  # Saída: 8\n",
    "\n",
    "# Você pode misturar *args (muitos argumentos) com argumentos obrigatórios (como outro).\n",
    "\n",
    "# O argumento que vem depois de *args deve ser nomeado (outro=\"...\"), caso contrário, dá erro."
   ]
  },
  {
   "cell_type": "code",
   "execution_count": null,
   "id": "f4a6efb5-6ec2-499f-b1fa-6d4c07e459c8",
   "metadata": {},
   "outputs": [],
   "source": [
    "# def:\t  Define uma função\n",
    "#pass:\tDeixa a função vazia temporariamente\n",
    "# Parâmetros:\tVariáveis que recebem valores na chamada\n",
    "# *args:\tRecebe vários valores como tupla\n",
    "# Argumentos: nomeados\tUsam nome=valor e podem estar fora da ordem\n",
    "# Tipagem: dinâmica\tPython adapta a função ao tipo passado (soma, concatenação)"
   ]
  },
  {
   "cell_type": "markdown",
   "id": "c0cc4ae3-25e9-47f5-8bdc-c09c3630e30e",
   "metadata": {},
   "source": [
    "#Argumento Arbitrário"
   ]
  },
  {
   "cell_type": "code",
   "execution_count": null,
   "id": "f7eae2e0-f5eb-41e9-b264-3a9bd4245e4b",
   "metadata": {},
   "outputs": [],
   "source": [
    "#Argumentos arbitrários são usados quando não sabemos exatamente quantos argumentos uma função vai receber.\n",
    "#Python permite dois tipos principais:\n",
    "\n",
    "#*args → recebe vários valores posicionais como tupla.\n",
    "\n",
    "#**kwargs → recebe vários valores nomeados (chave=valor) como dicionário."
   ]
  },
  {
   "cell_type": "code",
   "execution_count": 3,
   "id": "94423cd6-8a9a-4c3d-bfe3-76ecdb66c50e",
   "metadata": {},
   "outputs": [
    {
     "name": "stdout",
     "output_type": "stream",
     "text": [
      "3 Teste\n",
      "3 Outro\n"
     ]
    }
   ],
   "source": [
    "#Função com parâmetro padrão\n",
    "# Função com parâmetro obrigatório (valor) e um parâmetro com valor padrão (nome)\n",
    "def func(valor, nome=\"Teste\"):\n",
    "    print(valor,nome)\n",
    "\n",
    "# Chamada sem informar 'nome', usa o padrão \"Teste\"\n",
    "func(3)\n",
    "\n",
    "# Chamada informando 'nome'\n",
    "func(3, \"Outro\")\n",
    "\n",
    "#O argumento nome tem valor padrão \"Teste\".\n",
    "\n",
    "#Se você não passar nada, ele assume esse valor.\n",
    "\n",
    "#Mas se passar, ele substitui o valor padrão.\n",
    "\n"
   ]
  },
  {
   "cell_type": "code",
   "execution_count": 5,
   "id": "b9cac913-3e96-4ff3-8c4d-bbef3a01bdab",
   "metadata": {},
   "outputs": [
    {
     "name": "stdout",
     "output_type": "stream",
     "text": [
      "<class 'dict'>\n",
      "{'Valor': '10', 'operacao': 'Soma', 'resultado': 10}\n",
      "10\n"
     ]
    }
   ],
   "source": [
    "# Função que aceita argumentos nomeados arbitrários\n",
    "def func(**args):\n",
    "    print(type(args))      # Mostra que 'args' é um dicionário\n",
    "    print(args)            # Mostra o conteúdo do dicionário\n",
    "    print(args['Valor'])   # Acessa especificamente a chave 'Valor'\n",
    "\n",
    "func(Valor='10', operacao='Soma', resultado=10)\n"
   ]
  },
  {
   "cell_type": "code",
   "execution_count": 5,
   "id": "63576f30-a90b-4441-ab90-978c253c9e20",
   "metadata": {},
   "outputs": [
    {
     "name": "stdout",
     "output_type": "stream",
     "text": [
      "<class 'function'>\n",
      "10\n"
     ]
    }
   ],
   "source": [
    "# Função que simplesmente imprime o argumento recebido\n",
    "def printa(x):\n",
    "    print(x)\n",
    "\n",
    "# Função que recebe outra função e executa passando um argumento\n",
    "def executa_func(func, x):\n",
    "    func(x)\n",
    "\n",
    "# Atribuindo a função printa a uma variável\n",
    "minha_funcao = printa\n",
    "print(type(minha_funcao))  # Confirma que 'minha_funcao' é uma função\n",
    "\n",
    "# Executando a função recebida como argumento\n",
    "executa_func(minha_funcao, 10)\n",
    "\n",
    "# Saídas:\n",
    "# <class 'function'>\n",
    "# 10"
   ]
  },
  {
   "cell_type": "markdown",
   "id": "c775c3be-1285-4c0b-9ff7-1af2e34670d9",
   "metadata": {},
   "source": [
    "# Retorno de Valores em Python"
   ]
  },
  {
   "cell_type": "code",
   "execution_count": null,
   "id": "441732bb-5a1d-4bf6-bb23-472bce0f2014",
   "metadata": {},
   "outputs": [],
   "source": [
    "#Uma função em Python pode retornar valores usando a palavra-chave return.\n",
    "#Esse retorno pode ser:\n",
    "\n",
    "#Um único valor (como número, string, lista, etc.).\n",
    "\n",
    "#Múltiplos valores, que são retornados como uma tupla.\n",
    "\n",
    "#Ou nenhum valor, retornando None implicitamente (caso return não seja usado ou esteja vazio).\n",
    "\n",
    "#Retornar valores é útil para reutilizar resultados, armazenar em variáveis e encadear lógicas."
   ]
  },
  {
   "cell_type": "code",
   "execution_count": 7,
   "id": "f2a181dd-c223-412f-bcca-0b3e10cdb0c2",
   "metadata": {},
   "outputs": [
    {
     "name": "stdout",
     "output_type": "stream",
     "text": [
      "7\n"
     ]
    }
   ],
   "source": [
    "def subtrai(num1, num2):\n",
    "    valor = num1 - num2\n",
    "    return valor\n",
    "\n",
    "subtracao = subtrai(10, 3)\n",
    "print(subtracao)\n",
    "# A função retorna o valor da subtração entre num1 e num2. Esse valor é armazenado na variável subtracao.\n",
    "\n"
   ]
  },
  {
   "cell_type": "code",
   "execution_count": 9,
   "id": "379e9f0b-56c4-4ba7-9d3e-5cb4b21da0ca",
   "metadata": {},
   "outputs": [
    {
     "name": "stdout",
     "output_type": "stream",
     "text": [
      "O número 10 tem 2 dígitos\n",
      "O número 1230 tem 4 dígitos\n"
     ]
    }
   ],
   "source": [
    "def len_int(numero):\n",
    "    numero_em_texto = str(numero)\n",
    "    return len(numero_em_texto)\n",
    "\n",
    "num1 = \"10\"\n",
    "num2 = 1230\n",
    "\n",
    "tamanho1 = len_int(num1)\n",
    "tamanho2 = len_int(num2)\n",
    "\n",
    "print(\"O número %s tem %d dígitos\" % (num1, tamanho1))\n",
    "print(\"O número %d tem %d dígitos\" % (num2, tamanho2))\n",
    "#A função len_int converte um número em texto e retorna a quantidade de dígitos. \n",
    "#Reforça que funções podem retornar resultados de qualquer tipo — nesse caso, o comprimento de uma string."
   ]
  },
  {
   "cell_type": "code",
   "execution_count": 13,
   "id": "930b1a95-b20a-4ac8-95d1-b016cb424075",
   "metadata": {},
   "outputs": [
    {
     "name": "stdout",
     "output_type": "stream",
     "text": [
      "(1, 2)\n",
      "<class 'tuple'>\n",
      "(1, 2, 1, 2)\n"
     ]
    }
   ],
   "source": [
    "def retorna_multiplo():\n",
    "    return 1, 2\n",
    "\n",
    "valor = retorna_multiplo()\n",
    "print(valor)\n",
    "print(type(valor))\n",
    "# Mostrar que é possível retornar vários valores ao mesmo tempo. Python os agrupa automaticamente em uma tupla.\n"
   ]
  },
  {
   "cell_type": "code",
   "execution_count": 14,
   "id": "e14b4ab5-7857-413b-99c2-8d18371efdf4",
   "metadata": {},
   "outputs": [
    {
     "name": "stdout",
     "output_type": "stream",
     "text": [
      "2 4 6\n",
      "(2, 4, 6)\n"
     ]
    }
   ],
   "source": [
    "def retorna_multiplo(a, b, c):\n",
    "    a += a\n",
    "    b += b\n",
    "    c += c\n",
    "    return a, b, c\n",
    "\n",
    "x, y, z = retorna_multiplo(1, 2, 3)\n",
    "print(x, y, z)\n",
    "\n",
    "a = retorna_multiplo(1, 2, 3)\n",
    "print(a)\n",
    "#Mostrar como o retorno múltiplo pode ser desempacotado em várias variáveis ou armazenado como tupla.\n",
    "\n"
   ]
  },
  {
   "cell_type": "code",
   "execution_count": 6,
   "id": "7a1294a3-ceb3-42e6-9f55-1d9f3a0be227",
   "metadata": {},
   "outputs": [
    {
     "name": "stdout",
     "output_type": "stream",
     "text": [
      "M\n",
      "M\n"
     ]
    }
   ],
   "source": [
    "def func(x):\n",
    "    if x == \"Olá\":\n",
    "        print(\"Olá\")\n",
    "        return            # termina aqui sem retornar valor\n",
    "    print(\"M\")\n",
    "    return x             # retorna o valor de x\n",
    "\n",
    "print(func(\"M\"))\n",
    "#return sem valor apenas encerra a execução da função.\n",
    "\n",
    "#return x retorna efetivamente o valor.\n",
    "\n",
    "#Se o return não for usado, o Python retorna None por padrão."
   ]
  },
  {
   "cell_type": "markdown",
   "id": "dc90e6f1-d170-48fd-9e9a-289cb5d677cf",
   "metadata": {},
   "source": [
    "# Funções Lambda\n"
   ]
  },
  {
   "cell_type": "code",
   "execution_count": null,
   "id": "2f9b91e9-401a-4586-b67b-26ee7ed75846",
   "metadata": {},
   "outputs": [],
   "source": [
    "#Sintaxe geral:\n",
    "# lambda argumentos: expressão"
   ]
  },
  {
   "cell_type": "code",
   "execution_count": null,
   "id": "5a690454-e347-4f44-83e8-8fa5a3ecf674",
   "metadata": {},
   "outputs": [],
   "source": [
    "#As funções lambda são funções anônimas em Python — ou seja, funções que não possuem nome definido usando def.\n",
    "#Elas são úteis quando você precisa de uma função pequena e rápida, especialmente dentro de outras funções, como map(), \n",
    "#filter(), ou quando quer atribuir rapidamente uma lógica simples a uma variável.\n"
   ]
  },
  {
   "cell_type": "code",
   "execution_count": 7,
   "id": "26239637-2705-40cd-a90b-9676dd03e5cc",
   "metadata": {},
   "outputs": [
    {
     "name": "stdout",
     "output_type": "stream",
     "text": [
      "12\n"
     ]
    }
   ],
   "source": [
    "faz_soma = lambda x : x + 10\n",
    "valor = faz_soma(2)\n",
    "print(valor)\n",
    "\n",
    "#Criar uma função anônima que soma 10 ao valor recebido. \n",
    "#Essa função é atribuída à variável faz_soma, que pode ser usada como qualquer função comum."
   ]
  },
  {
   "cell_type": "code",
   "execution_count": 9,
   "id": "ecb46a36-9af2-4103-8610-3d5e6297add3",
   "metadata": {},
   "outputs": [
    {
     "name": "stdout",
     "output_type": "stream",
     "text": [
      "20\n"
     ]
    }
   ],
   "source": [
    "multiplica = lambda x, y: x * y\n",
    "valor = multiplica(2, 10)\n",
    "print(valor)\n",
    "# Mostrar que funções lambda podem aceitar mais de um argumento. A função aqui multiplica dois valores e retorna o resultado."
   ]
  },
  {
   "cell_type": "code",
   "execution_count": 9,
   "id": "18cf9460-812b-43b6-b26d-ecebc779af2b",
   "metadata": {},
   "outputs": [
    {
     "name": "stdout",
     "output_type": "stream",
     "text": [
      "20\n"
     ]
    }
   ],
   "source": [
    "def multiplica(y):\n",
    "    return lambda x: x * y\n",
    "\n",
    "valor = multiplica(2)\n",
    "resultado = valor(10)\n",
    "print(resultado)\n",
    "\n",
    "# Mostrar o uso avançado de funções lambda:\n",
    "\n",
    "# A função multiplica(y) retorna uma função lambda que recebe x e faz x * y.\n",
    "\n",
    "# valor = multiplica(2) gera uma função que multiplica por 2.\n",
    "\n",
    "# resultado = valor(10) executa essa função: 10 * 2 = 20.\n",
    "\n",
    "#🧠 Esse padrão é útil em situações como fábricas de funções, programação funcional, ou para criar funções configuráveis."
   ]
  },
  {
   "cell_type": "code",
   "execution_count": 8,
   "id": "fb82034d-233d-470b-b0d0-14d051755a06",
   "metadata": {},
   "outputs": [],
   "source": [
    "# resumo: \n",
    "#Funções lambda são formas curtas e simples de declarar funções.\n",
    "\n",
    "#São especialmente úteis para funções simples e rápidas.\n",
    "\n",
    "#Podem ser usadas com ou sem outros def, inclusive como retorno de funções.\n",
    "\n",
    "#Embora sejam poderosas, devem ser usadas com moderação, pois podem prejudicar a legibilidade se forem complexas demais."
   ]
  },
  {
   "cell_type": "markdown",
   "id": "967d4180-ac1c-4205-9f4f-a647c935377b",
   "metadata": {},
   "source": [
    "# Funções Recursivas em Python"
   ]
  },
  {
   "cell_type": "code",
   "execution_count": null,
   "id": "523b884b-a1fa-4cd8-82b1-f5ced736f035",
   "metadata": {},
   "outputs": [],
   "source": [
    "#Funções recursivas são aquelas que chamam a si mesmas dentro de seu próprio corpo para resolver problemas repetitivos ou divisíveis em subproblemas menores.\n",
    "\n",
    "#📌 Conceitos importantes:\n",
    "\n",
    "#Toda recursão precisa de uma condição de parada (caso base), para evitar loop infinito.\n",
    "\n",
    "#É ideal para resolver problemas como: fatorial, Fibonacci, percorrer estruturas de dados, entre outros."
   ]
  },
  {
   "cell_type": "code",
   "execution_count": 20,
   "id": "a950866f-aad6-440b-9f0b-ffecac11d46e",
   "metadata": {},
   "outputs": [
    {
     "name": "stdout",
     "output_type": "stream",
     "text": [
      "0\n",
      "1\n",
      "2\n",
      "3\n",
      "4\n",
      "5\n",
      "6\n",
      "7\n",
      "8\n",
      "9\n",
      "10\n"
     ]
    }
   ],
   "source": [
    "def print_num(num):\n",
    "  print(num)\n",
    "  if num >= 10:\n",
    "    return\n",
    "  print_num(num + 1)\n",
    "\n",
    "print_num(0)\n",
    "# Demonstrar uma recursão crescente, onde a função imprime os números de 0 até 10.\n",
    "\n",
    "#A função print_num chama a si mesma com num + 1 até atingir o valor 10.\n",
    "\n",
    "#Quando num >= 10, ocorre o return, que é o caso base da recursão."
   ]
  },
  {
   "cell_type": "code",
   "execution_count": 21,
   "id": "61a33aa7-8957-4c63-bd9b-e91697a2d18b",
   "metadata": {},
   "outputs": [
    {
     "name": "stdout",
     "output_type": "stream",
     "text": [
      "P\n",
      "y\n",
      "t\n",
      "h\n",
      "o\n",
      "n\n"
     ]
    }
   ],
   "source": [
    "def print_str(texto, indice):\n",
    "  if indice == len(texto):\n",
    "    return\n",
    "  print(texto[indice])\n",
    "  print_str(texto, indice + 1)\n",
    "\n",
    "print_str(\"Python\", 0)\n",
    "\n",
    "#Mostrar que é possível usar recursão para percorrer strings, caractere por caractere.\n",
    "\n",
    "#print_str(\"Python\", 0) começa no índice 0 e imprime cada letra, até indice == len(texto), que é o caso base.\n",
    "\n"
   ]
  },
  {
   "cell_type": "code",
   "execution_count": null,
   "id": "c76377b7-f4a6-4257-a2d4-a73c189d7c90",
   "metadata": {},
   "outputs": [],
   "source": [
    "def fatorial(num):\n",
    "  if num == 1:\n",
    "    return 1\n",
    "  return num * fatorial(num - 1)\n",
    "\n",
    "print(fatorial(10))\n",
    "\n",
    "#Calcular o fatorial de 10 usando recursão.\n",
    "\n",
    "#A função retorna num * fatorial(num-1) até atingir num == 1, que é o caso base.\n",
    "\n",
    "#Ou seja: 10 * 9 * 8 * 7 * ... * 1."
   ]
  },
  {
   "cell_type": "code",
   "execution_count": null,
   "id": "6d2f292f-7c49-4e45-aac3-7a52c0c04c3d",
   "metadata": {},
   "outputs": [],
   "source": [
    "#Resumo:\n",
    "#A recursão é poderosa para resolver problemas divididos em partes menores.\n",
    "\n",
    "#Sempre deve haver um caso base para evitar chamadas infinitas.\n",
    "\n",
    "#Pode ser usada para cálculos matemáticos, percorrer strings, listas ou estruturas complexas.\n",
    "\n"
   ]
  },
  {
   "cell_type": "markdown",
   "id": "9143ffa9-bfb4-49f0-bd6e-dd34ec917d17",
   "metadata": {},
   "source": [
    "# Funções Aninhadas"
   ]
  },
  {
   "cell_type": "code",
   "execution_count": null,
   "id": "26fd06ab-4f30-4bc6-92ee-a0edd1989377",
   "metadata": {},
   "outputs": [],
   "source": [
    "#Em Python, funções aninhadas são aquelas definidas dentro de outras funções. \n",
    "#Elas têm acesso ao escopo da função onde foram criadas, o que permite organizar o código de forma mais modular e segura.\n",
    "\n",
    "#📌 Vantagens das funções aninhadas:\n",
    "# Encapsulamento: protege variáveis e funções auxiliares.\n",
    "# Clareza: agrupa funções relacionadas logicamente.\n",
    "# Pode ser usada com closures (funções que \"lembram\" o ambiente em que foram criadas)."
   ]
  },
  {
   "cell_type": "code",
   "execution_count": 22,
   "id": "9d13fd42-c368-4d90-b9f9-1daf0329d772",
   "metadata": {},
   "outputs": [
    {
     "name": "stdout",
     "output_type": "stream",
     "text": [
      "sou filho\n"
     ]
    }
   ],
   "source": [
    "def pai():\n",
    "  def filho():\n",
    "    print(\"sou filho\")\n",
    "  filho()\n",
    "\n",
    "pai()\n",
    "#Mostrar o básico de uma função aninhada.\n",
    "\n",
    "#A função filho() só existe dentro da função pai().\n",
    "\n",
    "#Ao chamar pai(), a função filho() é executada internamente."
   ]
  },
  {
   "cell_type": "code",
   "execution_count": 27,
   "id": "197b4df9-aaa8-4c00-9061-e16041fcb809",
   "metadata": {},
   "outputs": [
    {
     "name": "stdout",
     "output_type": "stream",
     "text": [
      "1\n",
      "3\n"
     ]
    }
   ],
   "source": [
    "#  Calculadora com funções aninhadas\n",
    "def calculadora(num1, num2, op):\n",
    "  def soma(a, b):\n",
    "    return a + b\n",
    "  def subtrai(a, b):\n",
    "    return a - b\n",
    "  if op == '+':\n",
    "    return soma(num1, num2)\n",
    "  elif op == '-':\n",
    "    return subtrai(num1, num2)\n",
    "\n",
    "print(calculadora(2, 1, \"-\"))\n",
    "print(calculadora(2, 1, \"+\"))\n",
    "\n",
    "#Usar funções aninhadas como funções auxiliares que só fazem sentido dentro da lógica da calculadora().\n",
    "\n",
    "#soma e subtrai são funções locais, não acessíveis fora da calculadora().\n",
    "\n",
    "#Isso mantém o escopo limpo e seguro."
   ]
  },
  {
   "cell_type": "code",
   "execution_count": null,
   "id": "2889cc1c-6756-46cd-b054-ddd719a8c967",
   "metadata": {},
   "outputs": [],
   "source": [
    "# Função aninhada sendo retornada\n",
    "def pega_func_print():\n",
    "  def print_var(var):\n",
    "    print(var)\n",
    "  return print_var\n",
    "\n",
    "print_me = pega_func_print()\n",
    "\n",
    "print_me(10)\n",
    "print(type(print_me))\n",
    "\n",
    "# Demonstrar como retornar uma função aninhada (closure).\n",
    "\n",
    "#print_var é definida dentro de pega_func_print e retornada como objeto.\n",
    "\n",
    "#A variável print_me passa a se comportar como uma função, podendo ser chamada depois.\n",
    "\n",
    "#Esse padrão é muito usado em funções de configuração, geração de comportamentos dinâmicos, e decorators.\n"
   ]
  },
  {
   "cell_type": "code",
   "execution_count": null,
   "id": "72326182-acf6-45f2-86ed-6296b86db0f5",
   "metadata": {},
   "outputs": [],
   "source": [
    "#Resumo\n",
    "#Funções aninhadas são úteis para modularizar o código e proteger escopos internos.\n",
    "\n",
    "#Podem ser executadas internamente ou retornadas como objetos de função.\n",
    "\n",
    "#São essenciais para entender conceitos mais avançados, como closures e decorators."
   ]
  },
  {
   "cell_type": "markdown",
   "id": "5c30889f-c581-4b9f-9257-746c7794f8c2",
   "metadata": {},
   "source": [
    "# Decorators"
   ]
  },
  {
   "cell_type": "code",
   "execution_count": null,
   "id": "f1ea6771-286b-4f67-9a43-efc257425832",
   "metadata": {},
   "outputs": [],
   "source": [
    "#Em Python, decorators são funções que recebem outra função como argumento e retornam uma nova função modificada, sem alterar o código original. \n",
    "#Eles são usados para adicionar funcionalidades extras a funções já existentes, de forma elegante e reutilizável.\n",
    "\n",
    "#📌 Usos comuns de decorators:\n",
    "\n",
    "#Adicionar logs, autenticação, verificação de permissões.\n",
    "\n",
    "#Formatar a saída da função.\n",
    "\n",
    "#Executar ações antes ou depois da função original.\n",
    "\n",
    "#🧠 Eles funcionam muito bem com funções aninhadas e closures."
   ]
  },
  {
   "cell_type": "code",
   "execution_count": 58,
   "id": "b2790218-9213-4cce-96bb-bbb8e54601ae",
   "metadata": {},
   "outputs": [
    {
     "name": "stdout",
     "output_type": "stream",
     "text": [
      "STRING DE TESTE\n"
     ]
    }
   ],
   "source": [
    "# Decorator simples que coloca a string em maiúsculas\n",
    "def DeixaMaisculo(func):\n",
    "  def inner_func():\n",
    "    return func().upper() # Converte texto para maiúsculas\n",
    "  return inner_func\n",
    "\n",
    "@DeixaMaisculo\n",
    "def retorna_string():\n",
    "  return \"string de teste\"\n",
    "\n",
    "valor = retorna_string()\n",
    "print(valor)\n",
    "# Demonstrar o funcionamento de um decorator básico.\n",
    "\n",
    "#O decorator DeixaMaisculo recebe a função retorna_string.\n",
    "\n",
    "#Ele define inner_func, que chama func() e aplica .upper() no resultado.\n",
    "\n",
    "#A função retorna_string() passa a ser executada como inner_func()."
   ]
  },
  {
   "cell_type": "code",
   "execution_count": 30,
   "id": "7dc368d7-17fc-41b7-a047-7516eff67b96",
   "metadata": {},
   "outputs": [
    {
     "name": "stdout",
     "output_type": "stream",
     "text": [
      "TESTEABC\n"
     ]
    }
   ],
   "source": [
    "#Decorator com função que recebe argumentos\n",
    "def DeixaMaisculo(func):\n",
    "  def inner_func(str1, str2):\n",
    "    return func(str1, str2).upper()\n",
    "  return inner_func\n",
    "\n",
    "@DeixaMaisculo\n",
    "def concatena_strings(str1, str2):\n",
    "  return str1 + str2\n",
    "\n",
    "valor = concatena_strings(\"teste\", \"abc\")\n",
    "print(valor)\n",
    "\n",
    "# Mostrar como aplicar decorator a funções com parâmetros.\n",
    "\n",
    "# inner_func aceita os mesmos parâmetros da função original.\n",
    "\n",
    "# Ele repassa os argumentos para func e transforma o resultado em maiúsculas."
   ]
  },
  {
   "cell_type": "code",
   "execution_count": 23,
   "id": "165f1d65-5cb9-4169-bdbd-9a29c5e73240",
   "metadata": {},
   "outputs": [
    {
     "name": "stdout",
     "output_type": "stream",
     "text": [
      "(OLÁ ESTE TEXTO SERA FORMATADO!)\n"
     ]
    }
   ],
   "source": [
    "# Encadeamento de múltiplos decorators\n",
    "def DeixaMaisculo(func):\n",
    "  def inner_func(texto):\n",
    "    return func(texto).upper()\n",
    "  return inner_func\n",
    "\n",
    "def InsereParenteses(func):\n",
    "  def inner_func(texto):\n",
    "    return '(' + func(texto) + ')'\n",
    "  return inner_func\n",
    "\n",
    "@DeixaMaisculo\n",
    "@InsereParenteses\n",
    "def formata_string(texto):\n",
    "  return texto\n",
    "\n",
    "print(formata_string(\"Olá este texto sera formatado!\"))\n",
    "\n",
    "# Exibir como vários decorators podem ser combinados.\n",
    "\n",
    "#🔁 Ordem de execução:\n",
    "\n",
    "#InsereParenteses modifica formata_string → retorna \"(Olá este texto sera formatado!)\".\n",
    "\n",
    "#DeixaMaisculo aplica .upper() no resultado → \"OLÁ ESTE TEXTO SERA FORMATADO!\".\n",
    "\n",
    "#⚠️ O resultado final aparece entre parênteses e em letras maiúsculas, mostrando o poder do encadeamento de decorators."
   ]
  },
  {
   "cell_type": "code",
   "execution_count": null,
   "id": "910d7918-51d8-40a6-8a5f-1cb6690d00bb",
   "metadata": {},
   "outputs": [],
   "source": [
    "#Decorators são funções que modificam outras funções.\n",
    "\n",
    "#Podem ser usados para reutilizar comportamentos como formatação, autenticação, logs etc.\n",
    "\n",
    "#Decorators são altamente utilizados em frameworks como Flask e Django."
   ]
  },
  {
   "cell_type": "code",
   "execution_count": 60,
   "id": "519bed27-439d-4534-b2c0-6ae0af1dbe99",
   "metadata": {},
   "outputs": [],
   "source": [
    "#Exercícios"
   ]
  },
  {
   "cell_type": "code",
   "execution_count": 100,
   "id": "521267c6-c65d-49c5-930f-e2909499f91a",
   "metadata": {},
   "outputs": [
    {
     "name": "stdout",
     "output_type": "stream",
     "text": [
      "False\n",
      "True\n"
     ]
    }
   ],
   "source": [
    "# 1 - Crie uma função chamada “e_negativo” que receba um número,  \n",
    "# retorna um booleano “True” se o número for negativo, \n",
    "# caso contrário retorna “False”.\n",
    "def e_negativo(num):\n",
    "  return num < 0\n",
    "\n",
    "print(e_negativo(2))\n",
    "print(e_negativo(-2))\n"
   ]
  },
  {
   "cell_type": "code",
   "execution_count": 130,
   "id": "dea47193-1699-42c6-bd16-68ced53babb9",
   "metadata": {},
   "outputs": [
    {
     "name": "stdout",
     "output_type": "stream",
     "text": [
      "12\n"
     ]
    }
   ],
   "source": [
    "# 2 - Crie um função que receba um array de números (int ou float)\n",
    "# e retorne sua soma.\n",
    "\n",
    "def list_numeros(num1, num2, num3):\n",
    "    soma = num1 + num2 + num3\n",
    "    return soma\n",
    "\n",
    "# Chamando a função\n",
    "resultado = list_numeros(3, 4, 5)\n",
    "print(resultado)  # Saída: 12\n"
   ]
  },
  {
   "cell_type": "code",
   "execution_count": 154,
   "id": "ca72d6c1-c06f-401b-bb49-1d662d1f6fcc",
   "metadata": {},
   "outputs": [
    {
     "name": "stdout",
     "output_type": "stream",
     "text": [
      "4\n"
     ]
    }
   ],
   "source": [
    "# 3 - Crie um função que receba uma string e que conte e retorne o número \n",
    "# de vogais desta string.\n",
    "def conta_vogais(texto):\n",
    "  vogais = 0\n",
    "  arr_vogais = ('a','e','i','o','u')\n",
    "  for i in texto:\n",
    "    if i in arr_vogais:\n",
    "      vogais +=1\n",
    "  return vogais\n",
    "\n",
    "print(conta_vogais(\"alterações\"))  \n"
   ]
  }
 ],
 "metadata": {
  "kernelspec": {
   "display_name": "anaconda-panel-2023.05-py310",
   "language": "python",
   "name": "conda-env-anaconda-panel-2023.05-py310-py"
  },
  "language_info": {
   "codemirror_mode": {
    "name": "ipython",
    "version": 3
   },
   "file_extension": ".py",
   "mimetype": "text/x-python",
   "name": "python",
   "nbconvert_exporter": "python",
   "pygments_lexer": "ipython3",
   "version": "3.11.5"
  }
 },
 "nbformat": 4,
 "nbformat_minor": 5
}
