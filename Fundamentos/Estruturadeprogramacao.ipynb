{
 "cells": [
  {
   "cell_type": "markdown",
   "id": "66eba5a6-e455-474e-b652-830bf2726fc4",
   "metadata": {},
   "source": [
    "# Estrutura de programação Exercício 1: Verificação de Temperatura da Água\n",
    "Crie uma lista de temperaturas da água (invente seus próprios valores, incluindo negativos e maiores que 100).\n",
    "Use um FOR loop para iterar sobre as temperaturas.\n",
    "Dentro do loop, use IF-ELIF-ELSE para classificar o estado físico e imprima o resultado."
   ]
  },
  {
   "cell_type": "code",
   "execution_count": 37,
   "id": "c7af23ed-b265-4313-ad31-62f761a9fd98",
   "metadata": {},
   "outputs": [
    {
     "name": "stdout",
     "output_type": "stream",
     "text": [
      "Nessa temperatura de -15° o estado da matéria é: líquido\n",
      "Nessa temperatura de -16° o estado da matéria é: líquido\n",
      "Nessa temperatura de -17° o estado da matéria é: líquido\n",
      "Nessa temperatura de -18° o estado da matéria é: líquido\n",
      "Nessa temperatura de 100° o estado da matéria é: líquido\n",
      "Nessa temperatura de 150° o estado da matéria é: gasoso\n",
      "Nessa temperatura de 50° o estado da matéria é: gasoso\n",
      "Nessa temperatura de 10° o estado da matéria é: líquido\n"
     ]
    }
   ],
   "source": [
    "Temperatura =[-15,-16, -17, -18,100,150, 50, 10]\n",
    "for graus in Temperatura:\n",
    "    print(f\"Nessa temperatura de {graus}° o estado da matéria é: {Estado_da_materia}\")\n",
    "    if graus <= 0:\n",
    "        Estado_da_materia = \"sólido\"\n",
    "    if graus > 0:\n",
    "        Estado_da_materia = \"líquido\"\n",
    "    if graus < 100:\n",
    "        Estado_da_materia = \"líquido\"             \n",
    "    if graus >= 100:\n",
    "        Estado_da_materia = \"gasoso\"\n"
   ]
  },
  {
   "cell_type": "code",
   "execution_count": null,
   "id": "feb6202c-ff12-4839-b154-3c61fd4615eb",
   "metadata": {},
   "outputs": [],
   "source": [
    "# correção\n",
    "Temperatura = [-15, -16, -17, -18, 100, 150, 50, 10, 0] # Adicionei o 0 para testar o limite exato\n",
    "\n",
    "print(\"--- Estado Físico da Água ---\")\n",
    "\n",
    "for graus in Temperatura:\n",
    "    # A variável 'estado' será definida DENTRO do IF/ELIF/ELSE\n",
    "    # em cada iteração do loop, garantindo que ela exista antes do print final da iteração.\n",
    "    estado = \"\" # Inicializa a variável para a iteração atual (opcional, mas boa prática)\n",
    "\n",
    "    # A ordem das condições é muito importante!\n",
    "    # Começamos pelos extremos para garantir que sejam capturados primeiro,\n",
    "    # ou usamos uma lógica que cubra os intervalos de forma exclusiva.\n",
    "\n",
    "    if graus <= 0: # Condição para SÓLIDO (inclui 0)\n",
    "        estado = \"sólido (gelo)\"\n",
    "    elif graus >= 100: # Condição para GASOSO (inclui 100)\n",
    "        # Se chegou aqui, já sabemos que graus > 0 (da condição acima)\n",
    "        # e agora sabemos que graus >= 100.\n",
    "        estado = \"gasoso (vapor)\"\n",
    "    else: # Se não é <= 0 e não é >= 100, então está entre 0 e 100 (exclusivo)\n",
    "        estado = \"líquido (água)\"\n",
    "\n",
    "    print(f\"Nessa temperatura de {graus}°C o estado da matéria é: {estado}\")\n",
    "\n",
    "print(\"\\n--- Fim da Verificação ---\")"
   ]
  },
  {
   "cell_type": "markdown",
   "id": "64877bef-6e54-45a0-b2a6-8cc0966f7b06",
   "metadata": {},
   "source": [
    "# Exercício 2: Contagem de Positivos, Negativos e Zeros\n",
    "\n",
    "Crie uma lista de números (invente seus próprios valores, incluindo positivos, negativos e zeros).\n",
    "Inicialize três variáveis contadoras (para positivos, negativos e zeros) com 0.\n",
    "Use um FOR loop para iterar sobre a lista.\n",
    "Dentro do loop, use IF-ELIF-ELSE para classificar o número e incrementar a contagem apropriada.\n",
    "Após o loop, imprima as contagens finais."
   ]
  },
  {
   "cell_type": "code",
   "execution_count": 2,
   "id": "b46da418-af56-4b30-bf50-f971f03c862b",
   "metadata": {},
   "outputs": [
    {
     "name": "stdout",
     "output_type": "stream",
     "text": [
      "--- Cálculo da Média de Notas ---\n",
      "\n",
      "Total de notas: 6\n",
      "Soma das notas: 43.00\n",
      "Média das notas: 7.17\n",
      "\n",
      "--- Fim do Cálculo ---\n"
     ]
    }
   ],
   "source": [
    "notas_alunos = [7.5, 8.0, 6.5, 9.0, 5.0, 7.0] # Invente suas notas aqui!\n",
    "soma_das_notas = 0\n",
    "quantidade_de_notas = 0\n",
    "\n",
    "print(\"--- Cálculo da Média de Notas ---\")\n",
    "\n",
    "# Seu loop FOR para somar as notas\n",
    "for nota in notas_alunos:\n",
    "    soma_das_notas += nota\n",
    "\n",
    "# Obtenha a quantidade de notas\n",
    "quantidade_de_notas = len(notas_alunos)\n",
    "\n",
    "# Calcule a média (cuidado para não dividir por zero se a lista estiver vazia!)\n",
    "if quantidade_de_notas > 0:\n",
    "    media = soma_das_notas / quantidade_de_notas\n",
    "    print(f\"\\nTotal de notas: {quantidade_de_notas}\")\n",
    "    print(f\"Soma das notas: {soma_das_notas:.2f}\")\n",
    "    print(f\"Média das notas: {media:.2f}\")\n",
    "else:\n",
    "    print(\"A lista de notas está vazia, não é possível calcular a média.\")\n",
    "\n",
    "\n",
    "print(\"\\n--- Fim do Cálculo ---\")"
   ]
  },
  {
   "cell_type": "markdown",
   "id": "9c2c8088-938a-47e1-869a-d7d94e4be726",
   "metadata": {},
   "source": [
    "# Exercício 3: Média de Notas\n",
    "Crie uma lista de notas (invente seus próprios valores).\n",
    "Use um FOR loop para somar todas as notas.\n",
    "Use a função len() para obter o número total de notas.\n",
    "Calcule a média dividindo a soma pelo total de notas.\n",
    "Imprima a média formatada.\n"
   ]
  },
  {
   "cell_type": "markdown",
   "id": "e981926a-e4a8-4fb7-81e2-6ac0e233b1cd",
   "metadata": {
    "jp-MarkdownHeadingCollapsed": true
   },
   "source": [
    "Exercício  4: Contagem Regressiva Simples\n",
    "\n",
    "Defina um limite_desejado (ex: 20).\n",
    "Inicialize uma variável valor_atual com 0.\n",
    "Use um WHILE loop para continuar adicionando 2 e imprimindo valor_atual enquanto ele for menor que limite_desejado.\n",
    "Certifique-se de que o loop termine corretamente."
   ]
  },
  {
   "cell_type": "code",
   "execution_count": 18,
   "id": "13e49ba8-3302-4632-84ea-fd902c3b8e01",
   "metadata": {},
   "outputs": [
    {
     "name": "stdout",
     "output_type": "stream",
     "text": [
      "----- Manda bala que o 'bagulho é louco' -----\n",
      "0\n",
      "2\n",
      "4\n",
      "6\n",
      "8\n",
      "10\n",
      "12\n",
      "14\n",
      "16\n",
      "18\n",
      "20\n"
     ]
    }
   ],
   "source": [
    "limite = 20\n",
    "start = 0\n",
    "print(\"----- Manda bala que o 'bagulho é louco' -----\")\n",
    "while start <= limite:\n",
    "    print(start)\n",
    "    start += 2\n",
    "    \n",
    "    \n",
    "    \n"
   ]
  },
  {
   "cell_type": "markdown",
   "id": "babbe58f-96b3-42a9-b6a1-40167389b9a9",
   "metadata": {},
   "source": [
    "# Exercício 5: Primeira Ocorrência de Número Maior que X\n",
    "Crie uma lista de números e defina um valor para X.\n",
    "Use um FOR loop para percorrer a lista.\n",
    "Dentro do loop, use um IF para verificar se o número atual é maior que X.\n",
    "Se for, imprima-o e use break para sair do loop.\n",
    "Use a cláusula else do FOR (ou uma flag booleana) para imprimir a mensagem caso nenhum número maior que X seja encontrado."
   ]
  },
  {
   "cell_type": "code",
   "execution_count": 41,
   "id": "c051e5ca-ba21-40f9-8431-1e0d3dd26353",
   "metadata": {},
   "outputs": [
    {
     "name": "stdin",
     "output_type": "stream",
     "text": [
      "insira um número de 0 a 100: 2\n"
     ]
    },
    {
     "name": "stdout",
     "output_type": "stream",
     "text": [
      "---buscando na lista de números ---\n",
      "comparando 10...\n",
      "o número inserido é menor do que este.\n",
      "comparando 80...\n",
      "o número inserido é menor do que este.\n",
      "comparando 70...\n",
      "o número inserido é menor do que este.\n",
      "comparando 50...\n",
      "o número inserido é menor do que este.\n",
      "comparando 60...\n",
      "o número inserido é menor do que este.\n",
      "comparando 70...\n",
      "o número inserido é menor do que este.\n",
      "comparando 80...\n",
      "o número inserido é menor do que este.\n",
      "\n",
      "--- Fim da Busca ---\n"
     ]
    }
   ],
   "source": [
    "import sys\n",
    "lista_numeros = [10,80,70,50,60,70,80]\n",
    "x = float(input(\"insira um número de 0 a 100:\"))\n",
    "if x > 100:\n",
    "    print(\"Erro: insira um valor entre 0 e 100!\")\n",
    "    sys.exit(1)\n",
    "print(\"---buscando na lista de números ---\")\n",
    "for numeros in lista_numeros:\n",
    "    print(f\"comparando {numeros}...\")\n",
    "    if x > numeros:\n",
    "        print(\"esse número é maior que x\")\n",
    "        break\n",
    "    else:\n",
    "        print(\"o número inserido é menor do que este.\")\n",
    "print(\"\\n--- Fim da Busca ---\")"
   ]
  },
  {
   "cell_type": "code",
   "execution_count": 40,
   "id": "33b0ad29-399f-40b1-b73b-c7f8368d6d02",
   "metadata": {
    "scrolled": true
   },
   "outputs": [
    {
     "name": "stdin",
     "output_type": "stream",
     "text": [
      "insira um número de 0 a 100: 2\n"
     ]
    },
    {
     "name": "stdout",
     "output_type": "stream",
     "text": [
      "--- buscando na lista de números ---\n",
      "comparando 10 com 2.0...\n",
      "10 é maior ou igual a 2.0\n",
      "comparando 80 com 2.0...\n",
      "80 é maior ou igual a 2.0\n",
      "comparando 70 com 2.0...\n",
      "70 é maior ou igual a 2.0\n",
      "comparando 50 com 2.0...\n",
      "50 é maior ou igual a 2.0\n",
      "comparando 60 com 2.0...\n",
      "60 é maior ou igual a 2.0\n",
      "comparando 70 com 2.0...\n",
      "70 é maior ou igual a 2.0\n",
      "comparando 80 com 2.0...\n",
      "80 é maior ou igual a 2.0\n",
      "\n",
      "--- Fim da Busca ---\n"
     ]
    }
   ],
   "source": [
    "#Observações:\n",
    "import sys\n",
    "\n",
    "lista_numeros = [10, 80, 70, 50, 60, 70, 80]\n",
    "\n",
    "x = float(input(\"insira um número de 0 a 100:\"))\n",
    "\n",
    "# Validação da entrada do usuário com sys.exit() - EXCELENTE!\n",
    "if x < 0 or x > 100: # Condição corrigida para pegar <0 e >100\n",
    "    print(\"Erro: insira um valor entre 0 e 100!\")\n",
    "    sys.exit(1) # sys.exit(1) é usado para indicar que o programa terminou com um erro\n",
    "\n",
    "print(\"--- buscando na lista de números ---\")\n",
    "\n",
    "for numero_na_lista in lista_numeros: # Renomeei 'numeros' para 'numero_na_lista' para clareza\n",
    "    print(f\"comparando {numero_na_lista} com {x}...\") # Adicionei o {x} para clareza\n",
    "\n",
    "    if x > numero_na_lista: # Se X for MAIOR que o número atual da lista\n",
    "        print(f\"{x} é maior que {numero_na_lista}\")\n",
    "        # Se você quer parar na PRIMEIRA vez que X for MAIOR que um número na lista\n",
    "        # este break está correto.\n",
    "        break # Sai do loop FOR\n",
    "\n",
    "    else: # Se x NÃO for MAIOR (ou seja, x é MENOR OU IGUAL)\n",
    "        # Atenção aqui: o seu print diz \"esse número é maior que x\", mas a condição é \"else\" de \"x > numero_na_lista\"\n",
    "        # Isso significa que 'numero_na_lista' é MAIOR OU IGUAL a 'x'.\n",
    "        print(f\"{numero_na_lista} é maior ou igual a {x}\") # Sugestão de correção na mensagem\n",
    "\n",
    "print(\"\\n--- Fim da Busca ---\")"
   ]
  },
  {
   "cell_type": "code",
   "execution_count": 45,
   "id": "7d135f6e-5978-4a5a-95f1-628e68cea824",
   "metadata": {},
   "outputs": [
    {
     "name": "stdout",
     "output_type": "stream",
     "text": [
      "Fala aí, Pedro!\n",
      "Fala aí, Paulo!\n",
      "Fala aí, Marcos!\n",
      "Pulando nome curto...Ana\n",
      "Pulando nome curto...Eva\n",
      "Pulando nome curto...Ivo\n",
      "Fala aí, Diego!\n",
      "Pulando nome curto...Xu\n"
     ]
    }
   ],
   "source": [
    "lista_nomes = [\"Pedro\", \"Paulo\", \"Marcos\", \"Ana\", \"Eva\", \"Ivo\", \"Diego\", \"Xu\"]\n",
    "for lista in lista_nomes:\n",
    "    if len(lista) <= 3:\n",
    "        print(f\"Pulando nome curto...{lista}\")\n",
    "        continue\n",
    "    print(f\"Fala aí, {lista}!\")\n",
    "    "
   ]
  },
  {
   "cell_type": "code",
   "execution_count": null,
   "id": "61c552f6-a6de-4230-abc0-d078c3b8eacd",
   "metadata": {},
   "outputs": [
    {
     "name": "stdout",
     "output_type": "stream",
     "text": [
      "--- Validação de Entrada de Número ---\n",
      "Por favor, digite um número inteiro entre 1 e 10.\n"
     ]
    },
    {
     "name": "stdin",
     "output_type": "stream",
     "text": [
      "Digite seu número:  11\n"
     ]
    },
    {
     "name": "stdout",
     "output_type": "stream",
     "text": [
      "Número fora do intervalo. Por favor, digite um número entre 1 e 10.\n"
     ]
    }
   ],
   "source": [
    "print(\"--- Validação de Entrada de Número ---\")\n",
    "print(\"Por favor, digite um número inteiro entre 1 e 10.\")\n",
    "\n",
    "while True: # Loop infinito até uma entrada válida\n",
    "    entrada = input(\"Digite seu número: \")\n",
    "\n",
    "    try:\n",
    "        numero = int(entrada) # Tenta converter para inteiro\n",
    "\n",
    "        # Seu código IF-ELSE para verificar o intervalo aqui\n",
    "        if 1 <= numero <= 10:\n",
    "            print(f\"Número válido digitado: {numero}. Obrigado!\")\n",
    "            break # Sai do loop porque a entrada é válida\n",
    "        else:\n",
    "            print(\"Número fora do intervalo. Por favor, digite um número entre 1 e 10.\")\n",
    "\n",
    "    except ValueError:\n",
    "        # Se a conversão para int falhar (ex: usuário digitou 'abc')\n",
    "        print(\"Entrada inválida. Por favor, digite um NÚMERO INTEIRO.\")\n",
    "\n",
    "print(\"\\n--- Programa Encerrado ---\")"
   ]
  }
 ],
 "metadata": {
  "kernelspec": {
   "display_name": "anaconda-panel-2023.05-py310",
   "language": "python",
   "name": "conda-env-anaconda-panel-2023.05-py310-py"
  },
  "language_info": {
   "codemirror_mode": {
    "name": "ipython",
    "version": 3
   },
   "file_extension": ".py",
   "mimetype": "text/x-python",
   "name": "python",
   "nbconvert_exporter": "python",
   "pygments_lexer": "ipython3",
   "version": "3.11.5"
  }
 },
 "nbformat": 4,
 "nbformat_minor": 5
}
