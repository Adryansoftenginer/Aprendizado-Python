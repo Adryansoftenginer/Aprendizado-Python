{
 "cells": [
  {
   "cell_type": "markdown",
   "id": "0d2adbe6-7170-4d89-83e8-7e346f50c7df",
   "metadata": {},
   "source": [
    "# Introdução a gestão de exceções"
   ]
  },
  {
   "cell_type": "code",
   "execution_count": 26,
   "id": "62b04553-990d-42ff-a686-f747d677c407",
   "metadata": {
    "collapsed": true,
    "jupyter": {
     "outputs_hidden": true
    }
   },
   "outputs": [
    {
     "data": {
      "text/plain": [
       "'\\nExceções\\n • Ocorrência em que o fluxo do programa produz algum tipo de erro\\n • Pode ser em decorrência de problemas de codificação ou situação \\ninesperada (banco de dados indisponível)\\n • Um exceção não trata causa o fim do programa\\n • Uma exceção tratada permite controlar o fluxo do programa e se \\npossível, seguir um caminho diferente\\n'"
      ]
     },
     "execution_count": 26,
     "metadata": {},
     "output_type": "execute_result"
    }
   ],
   "source": [
    "'''\n",
    "Exceções\n",
    " • Ocorrência em que o fluxo do programa produz algum tipo de erro\n",
    " • Pode ser em decorrência de problemas de codificação ou situação \n",
    "inesperada (banco de dados indisponível)\n",
    " • Um exceção não trata causa o fim do programa\n",
    " • Uma exceção tratada permite controlar o fluxo do programa e se \n",
    "possível, seguir um caminho diferente\n",
    "'''\n"
   ]
  },
  {
   "cell_type": "code",
   "execution_count": 27,
   "id": "a350d62c-4a19-453b-aadb-2455f7771455",
   "metadata": {
    "collapsed": true,
    "jupyter": {
     "outputs_hidden": true
    },
    "scrolled": true
   },
   "outputs": [
    {
     "data": {
      "text/plain": [
       "'\\n try:\\n neste bloco pode ocorrer erro\\n except: [pode haver mais uma cláusula]\\n este bloco é executado em caso de erro\\n else:  [opcional]\\n executa somente se não houver erro\\n finally:   [opcional]\\n sempre será executada, com ou sem erro\\n '"
      ]
     },
     "execution_count": 27,
     "metadata": {},
     "output_type": "execute_result"
    }
   ],
   "source": [
    "'''\n",
    " try:\n",
    " neste bloco pode ocorrer erro\n",
    " except: [pode haver mais uma cláusula]\n",
    " este bloco é executado em caso de erro\n",
    " else:  [opcional]\n",
    " executa somente se não houver erro\n",
    " finally:   [opcional]\n",
    " sempre será executada, com ou sem erro\n",
    " '''"
   ]
  },
  {
   "cell_type": "code",
   "execution_count": 2,
   "id": "b2647d01-d797-42eb-8336-f1f0235c61ff",
   "metadata": {},
   "outputs": [],
   "source": [
    "# Exceções:e \n",
    "#Ocorrência em que o fluxo do programa produz algum tipo de erro.\n",
    "\n"
   ]
  },
  {
   "cell_type": "code",
   "execution_count": 3,
   "id": "742e5b21-72e7-4b1c-b62e-66ee0fcc1746",
   "metadata": {},
   "outputs": [
    {
     "name": "stdout",
     "output_type": "stream",
     "text": [
      "inicio\n"
     ]
    },
    {
     "ename": "IndexError",
     "evalue": "list index out of range",
     "output_type": "error",
     "traceback": [
      "\u001b[0;31m---------------------------------------------------------------------------\u001b[0m",
      "\u001b[0;31mIndexError\u001b[0m                                Traceback (most recent call last)",
      "Cell \u001b[0;32mIn[3], line 3\u001b[0m\n\u001b[1;32m      1\u001b[0m \u001b[38;5;28mprint\u001b[39m(\u001b[38;5;124m\"\u001b[39m\u001b[38;5;124minicio\u001b[39m\u001b[38;5;124m\"\u001b[39m)\n\u001b[1;32m      2\u001b[0m lista \u001b[38;5;241m=\u001b[39m [\u001b[38;5;241m1\u001b[39m,\u001b[38;5;241m2\u001b[39m,\u001b[38;5;241m3\u001b[39m]\n\u001b[0;32m----> 3\u001b[0m \u001b[38;5;28mprint\u001b[39m(lista[\u001b[38;5;241m10\u001b[39m])\n\u001b[1;32m      4\u001b[0m \u001b[38;5;28mprint\u001b[39m(\u001b[38;5;124m\"\u001b[39m\u001b[38;5;124mFim\u001b[39m\u001b[38;5;124m\"\u001b[39m)\n",
      "\u001b[0;31mIndexError\u001b[0m: list index out of range"
     ]
    }
   ],
   "source": [
    "print(\"inicio\")\n",
    "lista = [1,2,3]\n",
    "print(lista[10])\n",
    "print(\"Fim\")\n",
    "# Este é um exemplo clássico de como um erro (IndexError - tentar acessar um índice que não existe em uma lista) interrompe a execução do programa. \n",
    "A linha \"Fim\" nunca é alcançada."
   ]
  },
  {
   "cell_type": "code",
   "execution_count": 7,
   "id": "3d1776aa-8adc-49bc-b1ac-3ecfb99d5a9f",
   "metadata": {},
   "outputs": [
    {
     "name": "stdout",
     "output_type": "stream",
     "text": [
      "inicio\n",
      "1\n"
     ]
    }
   ],
   "source": [
    "print(\"inicio\")\n",
    "lista = [1,2,3]\n",
    "try:\n",
    "    print(lista[0])\n",
    "except:\n",
    "    print(\"Falha do acessar, linha não encontrada\")\n",
    "    print(\"Fim\")\n",
    "\n",
    "# Explicação: Aqui, o try tenta executar print(lista[0]), que é um acesso válido. Como não há erro, o bloco except é ignorado, e o programa segue normalmente.\n"
   ]
  },
  {
   "cell_type": "code",
   "execution_count": 10,
   "id": "875baa24-1f68-4ec1-8970-01476b33d4bd",
   "metadata": {
    "scrolled": true
   },
   "outputs": [
    {
     "name": "stdout",
     "output_type": "stream",
     "text": [
      "inicio\n",
      "Falha ao acessar, linha não encontrada:list index out of range\n",
      "Fim\n"
     ]
    }
   ],
   "source": [
    "print(\"inicio\")\n",
    "lista = [1,2,3]\n",
    "try:\n",
    "    print(lista[10])\n",
    "except Exception as error:\n",
    "    print(\"Falha ao acessar, linha não encontrada:\" + str(error))\n",
    "    print(\"Fim\")\n",
    "# Explicação: Este é um passo crucial. O try tenta acessar lista[10], que causa um IndexError. O bloco except Exception as error: captura qualquer exceção que ocorra no try e a armazena na variável error. A mensagem de erro específica (list index out of range) é então impressa, e o programa continua a execução, imprimindo \"Fim\"."
   ]
  },
  {
   "cell_type": "code",
   "execution_count": 11,
   "id": "0e30a5cd-5f31-4aa1-9a32-820ce02f97de",
   "metadata": {},
   "outputs": [
    {
     "name": "stdout",
     "output_type": "stream",
     "text": [
      "Falha no cast:  invalid literal for int() with base 10: 'b'\n"
     ]
    }
   ],
   "source": [
    "try:\n",
    "    numero = int('b') # causa um ValeuError\n",
    "except Exception as error:\n",
    "    print(\"Falha no cast: \", str(error))\n",
    "# Explicação: Demonstra o tratamento de outro tipo comum de erro, ValueError, que ocorre ao tentar converter uma string não numérica ('b') para um inteiro. O except Exception as error: captura isso e imprime a mensagem detalhada do erro (invalid literal for int() with base 10: 'b')."
   ]
  },
  {
   "cell_type": "code",
   "execution_count": 13,
   "id": "55c5b58c-34dc-447d-be93-ada554f0ade7",
   "metadata": {},
   "outputs": [
    {
     "name": "stdout",
     "output_type": "stream",
     "text": [
      "inicio\n",
      "1\n",
      "Executa sempre que o try-except acabar, mesmo que não ocorra erro\n",
      "Fim\n"
     ]
    }
   ],
   "source": [
    "print(\"inicio\")\n",
    "lista = [1,2,3]\n",
    "try:\n",
    "    print(lista[0])\n",
    "except:\n",
    "    print(\"Falha do acessar, linha não encontrada\")\n",
    "finally:\n",
    "    del lista\n",
    "    print(\"Executa sempre que o try-except acabar, mesmo que não ocorra erro\")\n",
    "print(\"Fim\")\n",
    "# Explicação: O bloco finally é executado sempre, independentemente de uma exceção ter ocorrido ou não no bloco try. É ideal para operações de limpeza, como fechar arquivos ou conexões de banco de dados, garantindo que os recursos sejam liberados. Neste caso, ele remove a lista lista da memória."
   ]
  },
  {
   "cell_type": "code",
   "execution_count": 25,
   "id": "258002e1-9e22-48bd-98c6-05a1e8570378",
   "metadata": {},
   "outputs": [
    {
     "name": "stdout",
     "output_type": "stream",
     "text": [
      "Inicio\n",
      "Erro de acesso ao índice:list index out of range\n",
      "Fim\n"
     ]
    }
   ],
   "source": [
    "print(\"Inicio\")\n",
    "lista = [1,2,3]\n",
    "try:\n",
    "    print(lista[10])\n",
    "except IndexError as erro1:\n",
    "    print(\"Erro de acesso ao índice:\" + str(erro1))\n",
    "except:\n",
    "    print(\"Ocorreu outro erro\")\n",
    "else:\n",
    "    print(\"Executa se não ocorre erro\")\n",
    "print(\"Fim\")\n",
    "# Explicação: O bloco else é executado somente se nenhuma exceção ocorrer dentro do bloco try. Neste exemplo, como um IndexError acontece, o else é ignorado."
   ]
  },
  {
   "cell_type": "code",
   "execution_count": 23,
   "id": "b57fb55a-b654-435e-93b8-79761059397a",
   "metadata": {},
   "outputs": [
    {
     "name": "stdout",
     "output_type": "stream",
     "text": [
      "Inicio\n",
      "Falha do acessar, linha não encontrada\n",
      "Executa sempre\n",
      "Fim\n"
     ]
    }
   ],
   "source": [
    "print(\"Inicio\")\n",
    "lista = [1,2,3]\n",
    "try: #código que pode dar erro\n",
    "  print(lista[10]) # Causa um IndexError\n",
    "except: #código executado se der erro\n",
    "  print(\"Falha do acessar, linha não encontrada\")\n",
    "else: #código executado se não ser erro\n",
    "  print(\"Não houve erro\")\n",
    "finally: #código executado sempre\n",
    "  print(\"Executa sempre\")\n",
    "print(\"Fim\")\n",
    "\n",
    "# Explicação: Este exemplo combina try, except, else e finally. Devido ao IndexError, o except é executado, o else é ignorado, e o finally sempre é executado\n"
   ]
  },
  {
   "cell_type": "code",
   "execution_count": null,
   "id": "cda94ff1-0b6d-42ec-b9b8-f84061768e47",
   "metadata": {},
   "outputs": [],
   "source": [
    "print(\"Inicio\")\n",
    "lista = [1,2,3]\n",
    "numero = 0\n",
    "try:\n",
    "  divisao = 10 / numero # Causa ZeroDivisionError\n",
    "  print(lista[12]) # Esta linha nunca será alcançada\n",
    "except IndexError as erro1:\n",
    "  print(\"Erro de acesso ao índice: \" + str(erro1))\n",
    "except ZeroDivisionError as erro2:\n",
    "  print(\"Erro de divisão por zero \" + str(erro2) )\n",
    "except Exception as erro3:\n",
    "  print(\"Ocorreu outro erro \" + str(erro3))\n",
    "else:\n",
    "  print(\"Executa se não ocorre erro\")\n",
    "\n",
    "print(\"Fim\")\n",
    "# Explicação: Este exemplo demonstra a ordem de captura. O ZeroDivisionError ocorre primeiro, e o except ZeroDivisionError o captura. A linha print(lista[12]) nunca é executada porque a exceção ZeroDivisionError já interrompeu a execução do bloco try e transferiu o controle para o except correspondente."
   ]
  },
  {
   "cell_type": "code",
   "execution_count": 16,
   "id": "4944f6a1-6dcf-4f8a-a8fc-52757cf163c8",
   "metadata": {},
   "outputs": [
    {
     "ename": "Exception",
     "evalue": "Nós geramos uma exceção!",
     "output_type": "error",
     "traceback": [
      "\u001b[0;31m---------------------------------------------------------------------------\u001b[0m",
      "\u001b[0;31mException\u001b[0m                                 Traceback (most recent call last)",
      "Cell \u001b[0;32mIn[16], line 1\u001b[0m\n\u001b[0;32m----> 1\u001b[0m \u001b[38;5;28;01mraise\u001b[39;00m \u001b[38;5;167;01mException\u001b[39;00m(\u001b[38;5;124m\"\u001b[39m\u001b[38;5;124mNós geramos uma exceção!\u001b[39m\u001b[38;5;124m\"\u001b[39m)\n",
      "\u001b[0;31mException\u001b[0m: Nós geramos uma exceção!"
     ]
    }
   ],
   "source": [
    "raise Exception(\"Nós geramos uma exceção!\")\n",
    "# Explicação: A palavra-chave raise é usada para forçar a ocorrência de uma exceção. Isso é útil para indicar que uma condição de erro específica foi encontrada e que o chamador da função (ou o próprio programa) deve lidar com ela.\n",
    "#  é como acionar o alarme (ou pular do avião). Você está causando uma exceção, intencionalmente, porque encontrou uma situação que o seu código não pode ou não deve lidar naquele ponto."
   ]
  },
  {
   "cell_type": "code",
   "execution_count": 24,
   "id": "e50132f3-0834-40fa-a3d5-e3f2fed45d37",
   "metadata": {
    "scrolled": true
   },
   "outputs": [
    {
     "ename": "IndexError",
     "evalue": "Exceção de índice!",
     "output_type": "error",
     "traceback": [
      "\u001b[0;31m---------------------------------------------------------------------------\u001b[0m",
      "\u001b[0;31mIndexError\u001b[0m                                Traceback (most recent call last)",
      "Cell \u001b[0;32mIn[24], line 1\u001b[0m\n\u001b[0;32m----> 1\u001b[0m \u001b[38;5;28;01mraise\u001b[39;00m \u001b[38;5;167;01mIndexError\u001b[39;00m(\u001b[38;5;124m\"\u001b[39m\u001b[38;5;124mExceção de índice!\u001b[39m\u001b[38;5;124m\"\u001b[39m)\n",
      "\u001b[0;31mIndexError\u001b[0m: Exceção de índice!"
     ]
    }
   ],
   "source": [
    "raise IndexError(\"Exceção de índice!\")\n",
    "# Explicação: Demonstra como levantar uma exceção de um tipo específico (IndexError neste caso)."
   ]
  },
  {
   "cell_type": "code",
   "execution_count": 18,
   "id": "64853b27-d913-4e16-a30f-1101210c78aa",
   "metadata": {},
   "outputs": [
    {
     "name": "stdout",
     "output_type": "stream",
     "text": [
      "O erro é  Valor não pode ser negativo\n"
     ]
    }
   ],
   "source": [
    "def printa_positivo(numero):\n",
    "  if numero < 0:\n",
    "    raise ValueError(\"Valor não pode ser negativo\")\n",
    "  print(numero)\n",
    "\n",
    "try:\n",
    "  printa_positivo(-1)\n",
    "except ValueError as erro:\n",
    "  print(\"O erro é \", str(erro))\n",
    "except Exception as erro1:\n",
    "  print(\"Erro qualquer> \", str(erro1))\n",
    "# Explicação: Uma função que levanta uma ValueError se o número for negativo. O bloco try-except externo captura essa exceção e a trata, mostrando a mensagem de erro personalizada."
   ]
  },
  {
   "cell_type": "code",
   "execution_count": 20,
   "id": "8617443f-e3de-4cd0-ba62-de0c8659863b",
   "metadata": {},
   "outputs": [
    {
     "name": "stdout",
     "output_type": "stream",
     "text": [
      "O erro é  \n"
     ]
    }
   ],
   "source": [
    "def printa_positivo(numero):\n",
    "  assert(numero >=0) # Afirma que a condição é verdadeira\n",
    "  print(numero)\n",
    "\n",
    "try:\n",
    "  printa_positivo(-1)\n",
    "except AssertionError as erro:\n",
    "  print(\"O erro é \", str(erro))\n",
    "except Exception as erro1:\n",
    "  print(\"Erro qualquer> \", str(erro1))\n",
    "# Explicação: assert é usado para afirmar que uma condição é verdadeira. Se a condição for False, um AssertionError é levantado. Isso é comumente usado para depuração ou para garantir que precondições sejam atendidas no código. O bloco try-except captura o AssertionError."
   ]
  },
  {
   "cell_type": "code",
   "execution_count": 22,
   "id": "a4b5d403-4654-4aa5-aa0b-cbf361a59e27",
   "metadata": {
    "scrolled": true
   },
   "outputs": [
    {
     "ename": "IndexError",
     "evalue": "list index out of range",
     "output_type": "error",
     "traceback": [
      "\u001b[0;31m---------------------------------------------------------------------------\u001b[0m",
      "\u001b[0;31mIndexError\u001b[0m                                Traceback (most recent call last)",
      "Cell \u001b[0;32mIn[22], line 5\u001b[0m\n\u001b[1;32m      3\u001b[0m   \u001b[38;5;28mprint\u001b[39m(lista[\u001b[38;5;241m10\u001b[39m]) \u001b[38;5;66;03m# Causa IndexError\u001b[39;00m\n\u001b[1;32m      4\u001b[0m \u001b[38;5;28;01mexcept\u001b[39;00m \u001b[38;5;167;01mIndexError\u001b[39;00m \u001b[38;5;28;01mas\u001b[39;00m error:\n\u001b[0;32m----> 5\u001b[0m   \u001b[38;5;28;01mraise\u001b[39;00m error\n",
      "Cell \u001b[0;32mIn[22], line 3\u001b[0m\n\u001b[1;32m      1\u001b[0m lista \u001b[38;5;241m=\u001b[39m [\u001b[38;5;241m1\u001b[39m]\n\u001b[1;32m      2\u001b[0m \u001b[38;5;28;01mtry\u001b[39;00m:\n\u001b[0;32m----> 3\u001b[0m   \u001b[38;5;28mprint\u001b[39m(lista[\u001b[38;5;241m10\u001b[39m]) \u001b[38;5;66;03m# Causa IndexError\u001b[39;00m\n\u001b[1;32m      4\u001b[0m \u001b[38;5;28;01mexcept\u001b[39;00m \u001b[38;5;167;01mIndexError\u001b[39;00m \u001b[38;5;28;01mas\u001b[39;00m error:\n\u001b[1;32m      5\u001b[0m   \u001b[38;5;28;01mraise\u001b[39;00m error\n",
      "\u001b[0;31mIndexError\u001b[0m: list index out of range"
     ]
    }
   ],
   "source": [
    "lista = [1]\n",
    "try:\n",
    "  print(lista[10]) # Causa IndexError\n",
    "except IndexError as error:\n",
    "  raise error # Re-lança a mesma exceção\n",
    "# Explicação: Às vezes, você quer capturar um erro para fazer algo (logar, por exemplo), mas depois quer que o erro continue \"propagando\" para ser tratado em um nível superior. raise error faz exatamente isso: re-lança a exceção que foi capturada, permitindo que ela seja tratada por outros blocos except mais acima na pilha de chamadas ou que o programa encerre se não houver outro tratamento."
   ]
  },
  {
   "cell_type": "markdown",
   "id": "559d671a-958d-4db6-84f6-d5e810d1d767",
   "metadata": {},
   "source": [
    "# Exercícios exceções"
   ]
  },
  {
   "cell_type": "code",
   "execution_count": 28,
   "id": "f5f222c3-62c3-437e-ae2b-b20e0dc7ffc7",
   "metadata": {
    "scrolled": true
   },
   "outputs": [
    {
     "name": "stdout",
     "output_type": "stream",
     "text": [
      "--- Exercício 1: Soma com Validação de Casting ---\n",
      "\n",
      "--- Teste 1.1: Soma bem-sucedida (strings que são números) ---\n",
      "  -> Tentando somar as strings '10' e '2.5'...\n",
      "  -> Conversão bem-sucedida: 10.0 + 2.5\n",
      "  Resultado final da soma: 12.5\n",
      "\n",
      "--- Teste 1.2: Soma com falha na conversão (primeira string inválida) ---\n",
      "  -> Tentando somar as strings 'a' e '2'...\n",
      "  -> ERRO INTERNO: Falha na conversão de uma ou ambas as strings.\n",
      "  Erro capturado no nível principal do teste: Falha na conversão: As entradas devem ser números válidos (ex: '10', '2.5').\n",
      "\n",
      "--- Teste 1.3: Soma com falha na conversão (segunda string inválida) ---\n",
      "  -> Tentando somar as strings '10.5' e 'xyz'...\n",
      "  -> ERRO INTERNO: Falha na conversão de uma ou ambas as strings.\n",
      "  Erro capturado no nível principal do teste: Falha na conversão: As entradas devem ser números válidos (ex: '10', '2.5').\n",
      "\n",
      "--- Teste 1.4: Soma com falha na conversão (ambas strings inválidas) ---\n",
      "  -> Tentando somar as strings 'teste' e 'abcd'...\n",
      "  -> ERRO INTERNO: Falha na conversão de uma ou ambas as strings.\n",
      "  Erro capturado no nível principal do teste: Falha na conversão: As entradas devem ser números válidos (ex: '10', '2.5').\n",
      "--- Fim do Exercício 1 ---\n"
     ]
    }
   ],
   "source": [
    "# Exercício 1: Crie uma função que receba dois parâmetros (stboma e retorne.\n",
    "# Caso não consiga fazer o casting (conversão para número), gere uma exceção com o motivo.\n",
    "\n",
    "print(\"--- Exercício 1: Soma com Validação de Casting ---\")\n",
    "\n",
    "def soma_com_casting_seguro(str1, str2):\n",
    "  \"\"\"\n",
    "  Tenta somar duas strings após convertê-las para float.\n",
    "  Levanta uma exceção se a conversão falhar.\n",
    "\n",
    "  Argumentos:\n",
    "    str1 (str): A primeira string a ser convertida e somada.\n",
    "    str2 (str): A segunda string a ser convertida e somada.\n",
    "\n",
    "  Retorna:\n",
    "    float: A soma dos números convertidos.\n",
    "\n",
    "  Levanta:\n",
    "    Exception: Se qualquer uma das strings não puder ser convertida para float.\n",
    "  \"\"\"\n",
    "  print(f\"  -> Tentando somar as strings '{str1}' e '{str2}'...\")\n",
    "  try:\n",
    "    num1 = float(str1) # Tenta converter a primeira string para float\n",
    "    num2 = float(str2) # Tenta converter a segunda string para float\n",
    "    # Se as conversões derem certo, chegaremos aqui e faremos a soma.\n",
    "    print(f\"  -> Conversão bem-sucedida: {num1} + {num2}\")\n",
    "    return num1 + num2\n",
    "  except ValueError: # Captura SOMENTE o erro de conversão de tipo (ex: 'abc' para float).\n",
    "    # Se um ValueError ocorrer (porque 'str1' ou 'str2' não são números válidos),\n",
    "    # este bloco é executado.\n",
    "    # Usamos 'raise Exception' para gerar uma exceção mais genérica, mas com\n",
    "    # uma mensagem clara e personalizada para quem chamou a função.\n",
    "    print(\"  -> ERRO INTERNO: Falha na conversão de uma ou ambas as strings.\")\n",
    "    raise Exception(\"Falha na conversão: As entradas devem ser números válidos (ex: '10', '2.5').\")\n",
    "  except Exception as e: # Captura qualquer outro erro inesperado que possa ocorrer.\n",
    "    # Este é um \"catch-all\" para problemas que não sejam ValueError de conversão.\n",
    "    print(f\"  -> ERRO INESPERADO INTERNO: {e}\")\n",
    "    raise Exception(f\"Ocorreu um erro inesperado durante a soma: {e}\")\n",
    "\n",
    "# --- Testes para o Exercício 1 ---\n",
    "\n",
    "print(\"\\n--- Teste 1.1: Soma bem-sucedida (strings que são números) ---\")\n",
    "try:\n",
    "  resultado_ok = soma_com_casting_seguro('10', '2.5')\n",
    "  print(f\"  Resultado final da soma: {resultado_ok}\") # 12.5\n",
    "except Exception as ex:\n",
    "  # Esta linha só será executada se a função 'soma_com_casting_seguro' levantar uma exceção.\n",
    "  print(f\"  Erro capturado no nível principal do teste: {ex}\")\n",
    "\n",
    "print(\"\\n--- Teste 1.2: Soma com falha na conversão (primeira string inválida) ---\")\n",
    "try:\n",
    "  resultado_erro1 = soma_com_casting_seguro('a', '2') # 'a' não pode ser convertido para float\n",
    "  print(f\"  Resultado final da soma: {resultado_erro1}\") # Esta linha NÃO será alcançada\n",
    "except Exception as ex:\n",
    "  print(f\"  Erro capturado no nível principal do teste: {ex}\")\n",
    "\n",
    "print(\"\\n--- Teste 1.3: Soma com falha na conversão (segunda string inválida) ---\")\n",
    "try:\n",
    "  resultado_erro2 = soma_com_casting_seguro('10.5', 'xyz') # 'xyz' não pode ser convertido\n",
    "  print(f\"  Resultado final da soma: {resultado_erro2}\") # Esta linha NÃO será alcançada\n",
    "except Exception as ex:\n",
    "  print(f\"  Erro capturado no nível principal do teste: {ex}\")\n",
    "\n",
    "print(\"\\n--- Teste 1.4: Soma com falha na conversão (ambas strings inválidas) ---\")\n",
    "try:\n",
    "  resultado_erro3 = soma_com_casting_seguro('teste', 'abcd')\n",
    "  print(f\"  Resultado final da soma: {resultado_erro3}\") # Esta linha NÃO será alcançada\n",
    "except Exception as ex:\n",
    "  print(f\"  Erro capturado no nível principal do teste: {ex}\")\n",
    "\n",
    "print(\"--- Fim do Exercício 1 ---\")"
   ]
  },
  {
   "cell_type": "code",
   "execution_count": 29,
   "id": "ba03d047-7054-4917-9fbd-d4b4c074c112",
   "metadata": {},
   "outputs": [
    {
     "name": "stdout",
     "output_type": "stream",
     "text": [
      "\n",
      "--- Exercício 2: Acesso Seguro à Lista ---\n",
      "\n",
      "--- Teste 2.1: Acesso válido (índice 0) ---\n",
      "  -> Tentando acessar índice 0 na lista [100, 200, 300]...\n",
      "  Valor acessado: 100\n",
      "\n",
      "--- Teste 2.2: Acesso válido (índice 2 - último elemento) ---\n",
      "  -> Tentando acessar índice 2 na lista [100, 200, 300]...\n",
      "  Valor acessado: 300\n",
      "\n",
      "--- Teste 2.3: Acesso fora do limite (índice positivo inválido) ---\n",
      "  -> Tentando acessar índice 10 na lista [100, 200, 300]...\n",
      "  AVISO: Índice '10' fora dos limites da lista. Retornando None.\n",
      "  Valor acessado: None\n",
      "\n",
      "--- Teste 2.4: Acesso fora do limite (índice negativo inválido) ---\n",
      "  -> Tentando acessar índice -5 na lista [100, 200, 300]...\n",
      "  AVISO: Índice '-5' fora dos limites da lista. Retornando None.\n",
      "  Valor acessado: None\n",
      "\n",
      "--- Teste 2.5: Acesso em lista vazia ---\n",
      "  -> Tentando acessar índice 0 na lista []...\n",
      "  AVISO: Índice '0' fora dos limites da lista. Retornando None.\n",
      "  Valor acessado: None\n",
      "--- Fim do Exercício 2 ---\n"
     ]
    }
   ],
   "source": [
    "# Exercício 2: Crie uma função que receba uma lista e uma posição (inteiro)\n",
    "# e retorne o elemento daquela posição. Caso não exista a posição,\n",
    "# não gere erro, apenas retorne None.\n",
    "\n",
    "print(\"\\n--- Exercício 2: Acesso Seguro à Lista ---\")\n",
    "\n",
    "def acessa_seguro_lista(lista, indice):\n",
    "  \"\"\"\n",
    "  Retorna o elemento da lista no índice especificado.\n",
    "  Retorna None se o índice estiver fora dos limites da lista (IndexError).\n",
    "\n",
    "  Argumentos:\n",
    "    lista (list): A lista da qual o elemento será acessado.\n",
    "    indice (int): O índice do elemento a ser acessado.\n",
    "\n",
    "  Retorna:\n",
    "    any: O elemento da lista no índice especificado, ou None se o índice for inválido.\n",
    "  \"\"\"\n",
    "  print(f\"  -> Tentando acessar índice {indice} na lista {lista}...\")\n",
    "  try:\n",
    "    return lista[indice] # Tenta acessar o elemento. Pode causar IndexError.\n",
    "  except IndexError: # Captura especificamente o IndexError.\n",
    "    # Se um IndexError ocorrer (índice fora dos limites), este bloco é executado.\n",
    "    # Em vez de travar o programa ou re-lançar o erro,\n",
    "    # a função decide \"falhar elegantemente\" retornando None.\n",
    "    print(f\"  AVISO: Índice '{indice}' fora dos limites da lista. Retornando None.\")\n",
    "    return None # Conforme o requisito do exercício, retorna None.\n",
    "  except Exception as e: # Para qualquer outro tipo de erro inesperado.\n",
    "    # Exemplo: se 'lista' não fosse uma lista, ou 'indice' não fosse um inteiro.\n",
    "    print(f\"  ERRO INESPERADO: Ocorreu um erro ao acessar a lista: {e}\")\n",
    "    return None\n",
    "\n",
    "# --- Testes para o Exercício 2 ---\n",
    "lista_exercicio_2_teste = [100, 200, 300]\n",
    "\n",
    "print(\"\\n--- Teste 2.1: Acesso válido (índice 0) ---\")\n",
    "valor1 = acessa_seguro_lista(lista_exercicio_2_teste, 0)\n",
    "print(f\"  Valor acessado: {valor1}\") # Saída: 100\n",
    "\n",
    "print(\"\\n--- Teste 2.2: Acesso válido (índice 2 - último elemento) ---\")\n",
    "valor2 = acessa_seguro_lista(lista_exercicio_2_teste, 2)\n",
    "print(f\"  Valor acessado: {valor2}\") # Saída: 300\n",
    "\n",
    "print(\"\\n--- Teste 2.3: Acesso fora do limite (índice positivo inválido) ---\")\n",
    "valor3 = acessa_seguro_lista(lista_exercicio_2_teste, 10) # Índice 10 não existe\n",
    "print(f\"  Valor acessado: {valor3}\") # Saída: None\n",
    "\n",
    "print(\"\\n--- Teste 2.4: Acesso fora do limite (índice negativo inválido) ---\")\n",
    "# Lembre-se: índices negativos contam a partir do fim (-1 é o último, -2 o penúltimo).\n",
    "# Um índice como -5 estaria fora dos limites para uma lista de 3 elementos.\n",
    "valor4 = acessa_seguro_lista(lista_exercicio_2_teste, -5)\n",
    "print(f\"  Valor acessado: {valor4}\") # Saída: None\n",
    "\n",
    "print(\"\\n--- Teste 2.5: Acesso em lista vazia ---\")\n",
    "valor5 = acessa_seguro_lista([], 0) # Lista vazia, qualquer índice é inválido\n",
    "print(f\"  Valor acessado: {valor5}\") # Saída: None\n",
    "\n",
    "print(\"--- Fim do Exercício 2 ---\")"
   ]
  },
  {
   "cell_type": "code",
   "execution_count": 30,
   "id": "938de822-7d59-470c-8512-01b27fe41734",
   "metadata": {
    "scrolled": true
   },
   "outputs": [
    {
     "name": "stdout",
     "output_type": "stream",
     "text": [
      "\n",
      "--- Exercício 3: Leitura Segura de Input ---\n",
      "\n",
      "--- Teste 3.1: Input normal ---\n",
      "\n",
      "  -> Por favor, digite algo e pressione Enter.\n",
      "     (Para testar a interrupção, pressione Ctrl+C no terminal, ou o botão de 'Stop' no Colab/Jupyter)\n"
     ]
    },
    {
     "name": "stdin",
     "output_type": "stream",
     "text": [
      "  Sua entrada:  10\n"
     ]
    },
    {
     "name": "stdout",
     "output_type": "stream",
     "text": [
      "  Resultado do input normal: '10'\n",
      "\n",
      "--- Teste 3.2: Input interrompido (pressione Ctrl+C) ---\n",
      "  ATENÇÃO: Na próxima solicitação de input, por favor, pressione Ctrl+C.\n",
      "\n",
      "  -> Por favor, digite algo e pressione Enter.\n",
      "     (Para testar a interrupção, pressione Ctrl+C no terminal, ou o botão de 'Stop' no Colab/Jupyter)\n"
     ]
    },
    {
     "name": "stdin",
     "output_type": "stream",
     "text": [
      "  Sua entrada:  15\n"
     ]
    },
    {
     "name": "stdout",
     "output_type": "stream",
     "text": [
      "  Resultado do input interrompido: '15'\n",
      "--- Fim do Exercício 3 ---\n"
     ]
    }
   ],
   "source": [
    "# Exercício 3: Crie uma função que receba a entrada do usuário (input)\n",
    "# e retorne. Caso o usuário interrompa a entrada (CTRL+C), retorne None.\n",
    "\n",
    "print(\"\\n--- Exercício 3: Leitura Segura de Input ---\")\n",
    "\n",
    "def le_input_seguro():\n",
    "  \"\"\"\n",
    "  Lê uma linha de texto do usuário usando input().\n",
    "  Retorna None se o input for interrompido pelo usuário (Ctrl+C).\n",
    "\n",
    "  Retorna:\n",
    "    str: O texto digitado pelo usuário.\n",
    "    None: Se a entrada for interrompida por KeyboardInterrupt.\n",
    "  \"\"\"\n",
    "  print(\"\\n  -> Por favor, digite algo e pressione Enter.\")\n",
    "  print(\"     (Para testar a interrupção, pressione Ctrl+C no terminal, ou o botão de 'Stop' no Colab/Jupyter)\")\n",
    "  try:\n",
    "    # A função input() pode gerar KeyboardInterrupt se o usuário pressionar Ctrl+C.\n",
    "    texto_digitado = input(\"  Sua entrada: \")\n",
    "    return texto_digitado\n",
    "  except KeyboardInterrupt: # Captura a exceção específica de interrupção do teclado.\n",
    "    # Quando Ctrl+C é pressionado, este bloco é executado.\n",
    "    print(\"\\n  AVISO: Input interrompido pelo usuário (Ctrl+C detectado). Retornando None.\")\n",
    "    return None # Retorna None, conforme o requisito.\n",
    "  except Exception as e: # Captura qualquer outro erro inesperado durante a leitura.\n",
    "    print(f\"  ERRO INESPERADO ao ler input: {e}\")\n",
    "    return None\n",
    "\n",
    "# --- Testes para o Exercício 3 ---\n",
    "\n",
    "print(\"\\n--- Teste 3.1: Input normal ---\")\n",
    "# Para este teste: digite qualquer coisa e pressione Enter.\n",
    "resultado_input_normal = le_input_seguro()\n",
    "print(f\"  Resultado do input normal: '{resultado_input_normal}'\")\n",
    "\n",
    "print(\"\\n--- Teste 3.2: Input interrompido (pressione Ctrl+C) ---\")\n",
    "print(\"  ATENÇÃO: Na próxima solicitação de input, por favor, pressione Ctrl+C.\")\n",
    "resultado_input_interrompido = le_input_seguro()\n",
    "print(f\"  Resultado do input interrompido: '{resultado_input_interrompido}'\")\n",
    "\n",
    "print(\"--- Fim do Exercício 3 ---\")"
   ]
  },
  {
   "cell_type": "code",
   "execution_count": 31,
   "id": "51c0d6de-7234-4d38-8a82-eebd748a6fee",
   "metadata": {
    "scrolled": true
   },
   "outputs": [
    {
     "name": "stdout",
     "output_type": "stream",
     "text": [
      "\n",
      "--- Exercício 4: Classe Caractere com Validação ---\n",
      "\n",
      "--- Teste 4.1: Criação e atribuição válida ---\n",
      "  -> Inicializando Caractere com valor: 'A'...\n",
      "  -> Tentando definir 'caracter' para: 'A' (tipo: <class 'str'>)\n",
      "  -> Caractere definido com sucesso: 'A'\n",
      "  Caracter atual (leitura via getter): A\n",
      "  -> Tentando definir 'caracter' para: 'Z' (tipo: <class 'str'>)\n",
      "  -> Caractere definido com sucesso: 'Z'\n",
      "  Caracter alterado para: Z\n",
      "\n",
      "--- Teste 4.2: Tentativa de atribuir texto longo (ValueError) ---\n",
      "  -> Inicializando Caractere com valor: 'B'...\n",
      "  -> Tentando definir 'caracter' para: 'B' (tipo: <class 'str'>)\n",
      "  -> Caractere definido com sucesso: 'B'\n",
      "  -> Tentando definir 'caracter' para: 'XYZ' (tipo: <class 'str'>)\n",
      "  Erro capturado durante criação/atribuição: Caractere deve ter tamanho exatamente 1 (um único caractere).\n",
      "\n",
      "--- Teste 4.3: Tentativa de atribuir número (TypeError) ---\n",
      "  -> Inicializando Caractere com valor: 'C'...\n",
      "  -> Tentando definir 'caracter' para: 'C' (tipo: <class 'str'>)\n",
      "  -> Caractere definido com sucesso: 'C'\n",
      "  -> Tentando definir 'caracter' para: '123' (tipo: <class 'int'>)\n",
      "  Erro capturado durante criação/atribuição: O valor atribuído ao caractere deve ser uma string.\n",
      "--- Fim do Exercício 4 ---\n"
     ]
    }
   ],
   "source": [
    "# Exercício 4: Crie uma classe que represente um caractere (string de tamanho 1),\n",
    "# use propriedades ou crie uma função para isso (mas deixe valor privado) e\n",
    "# caso o usuário tente inserir um texto (string de tamanho maior que 1) gere uma exceção dizendo o motivo.\n",
    "\n",
    "print(\"\\n--- Exercício 4: Classe Caractere com Validação ---\")\n",
    "\n",
    "class Caractere:\n",
    "  \"\"\"\n",
    "  Representa um único caractere (string de tamanho 1).\n",
    "  Valida o valor atribuído para garantir que seja uma string de tamanho 1.\n",
    "  Usa `@property` e `@setter` para controle e validação.\n",
    "  \"\"\"\n",
    "  def __init__(self, caracter_inicial):\n",
    "    # O atributo '__caracter' é \"privado\" por convenção em Python.\n",
    "    # É uma prática comum inicializá-lo com um valor padrão antes de usar o setter.\n",
    "    self.__caracter = ''\n",
    "    print(f\"  -> Inicializando Caractere com valor: '{caracter_inicial}'...\")\n",
    "    # Chamamos o método setter 'caracter' (definido abaixo) para\n",
    "    # que a validação seja aplicada já na criação do objeto.\n",
    "    self.caracter = caracter_inicial\n",
    "\n",
    "  @property # Este decorador define o método como uma propriedade de LEITURA (getter).\n",
    "  def caracter(self):\n",
    "    \"\"\"Getter: Retorna o caractere armazenado no atributo privado.\"\"\"\n",
    "    return self.__caracter\n",
    "\n",
    "  @caracter.setter # Este decorador define o método como um SETTER para a propriedade 'caracter'.\n",
    "  def caracter(self, value):\n",
    "    \"\"\"\n",
    "    Setter: Define o caractere, validando seu tipo e tamanho.\n",
    "    Levanta `TypeError` se não for string, `ValueError` se o tamanho não for 1.\n",
    "\n",
    "    Argumentos:\n",
    "      value (str): O valor a ser atribuído como caractere.\n",
    "    \"\"\"\n",
    "    print(f\"  -> Tentando definir 'caracter' para: '{value}' (tipo: {type(value)})\")\n",
    "    \n",
    "    # 1. Validação de TIPO: O valor deve ser uma string.\n",
    "    if not isinstance(value, str): # 'isinstance()' verifica se 'value' é uma instância da classe 'str'.\n",
    "      # Se não for string, levantamos um TypeError, pois o tipo está errado.\n",
    "      raise TypeError(\"O valor atribuído ao caractere deve ser uma string.\")\n",
    "    \n",
    "    # 2. Validação de TAMANHO: A string deve ter tamanho exatamente 1.\n",
    "    if len(value) != 1: # 'len()' retorna o número de caracteres na string.\n",
    "      # Se o tamanho não for 1, levantamos um ValueError, pois o valor está fora do esperado.\n",
    "      raise ValueError(\"Caractere deve ter tamanho exatamente 1 (um único caractere).\")\n",
    "    \n",
    "    # Se passou por TODAS as validações, então o valor é válido e pode ser atribuído.\n",
    "    self.__caracter = value\n",
    "    print(f\"  -> Caractere definido com sucesso: '{self.__caracter}'\")\n",
    "\n",
    "# --- Testes para o Exercício 4 ---\n",
    "\n",
    "print(\"\\n--- Teste 4.1: Criação e atribuição válida ---\")\n",
    "try:\n",
    "  letra1 = Caractere(\"A\") # Cria um objeto Caractere com 'A'\n",
    "  print(f\"  Caracter atual (leitura via getter): {letra1.caracter}\") # Acessa a propriedade\n",
    "  \n",
    "  letra1.caracter = \"Z\" # Atribui um novo valor válido (chama o setter)\n",
    "  print(f\"  Caracter alterado para: {letra1.caracter}\")\n",
    "except (TypeError, ValueError) as e_valida: # Captura ambos os tipos de erros de validação\n",
    "  print(f\"  Erro capturado durante criação/atribuição: {e_valida}\")\n",
    "except Exception as e_geral:\n",
    "  print(f\"  Ocorreu um erro inesperado: {e_geral}\")\n",
    "\n",
    "print(\"\\n--- Teste 4.2: Tentativa de atribuir texto longo (ValueError) ---\")\n",
    "try:\n",
    "  letra2 = Caractere(\"B\") # Cria com um valor válido inicialmente\n",
    "  letra2.caracter = \"XYZ\" # Isso vai gerar um ValueError (tamanho > 1)\n",
    "except (TypeError, ValueError) as e_valida:\n",
    "  print(f\"  Erro capturado durante criação/atribuição: {e_valida}\")\n",
    "except Exception as e_geral:\n",
    "  print(f\"  Ocorreu um erro inesperado: {e_geral}\")\n",
    "\n",
    "print(\"\\n--- Teste 4.3: Tentativa de atribuir número (TypeError) ---\")\n",
    "try:\n",
    "  letra3 = Caractere(\"C\") # Cria com um valor válido inicialmente\n",
    "  letra3.caracter = 123 # Isso vai gerar um TypeError (não é string)\n",
    "except (TypeError, ValueError) as e_valida:\n",
    "  print(f\"  Erro capturado durante criação/atribuição: {e_valida}\")\n",
    "except Exception as e_geral:\n",
    "  print(f\"  Ocorreu um erro inesperado: {e_geral}\")\n",
    "\n",
    "print(\"--- Fim do Exercício 4 ---\")"
   ]
  },
  {
   "cell_type": "markdown",
   "id": "81193fe5-bc0a-42cf-8e02-0b45a2f4382b",
   "metadata": {},
   "source": [
    "# quadro_raise_try_except.py\n",
    "\n",
    "# Este arquivo contém o quadro resumo das diferenças entre 'raise' e 'try-except'.\n",
    "# Ele é formatado para ser lido como texto em um arquivo Python.\n",
    "\n",
    "print(\"--- Diferença entre 'raise' e 'try-except' ---\")\n",
    "print(\"=============================================\\n\")\n",
    "\n",
    "print(\"Característica | 'raise'                               | 'try-except'\")\n",
    "print(\"---------------|---------------------------------------|---------------------------------------\")\n",
    "print(\"Propósito      | Gerar/Lançar uma exceção.             | Capturar/Lidar com uma exceção.\")\n",
    "print(\"Ação           | Causa uma interrupção no fluxo normal.| Restaura o fluxo normal após uma interrupção.\")\n",
    "print(\"Uso            | Quando você detecta uma condição      | Onde o código PODE falhar, mas você\")\n",
    "print(\"               | de erro grave.                        | quer gerenciar o erro.\")\n",
    "print(\"Controle       | Produtor de exceções.                 | Consumidor de exceções.\")\n",
    "\n",
    "print(\"\\nEles trabalham em conjunto: Você 'raise' uma exceção quando um problema acontece, e você usa 'try-except' em um nível superior para 'pegar' essa exceção e fazer algo a respeito, em vez de deixar o programa parar.\")"
   ]
  }
 ],
 "metadata": {
  "kernelspec": {
   "display_name": "anaconda-panel-2023.05-py310",
   "language": "python",
   "name": "conda-env-anaconda-panel-2023.05-py310-py"
  },
  "language_info": {
   "codemirror_mode": {
    "name": "ipython",
    "version": 3
   },
   "file_extension": ".py",
   "mimetype": "text/x-python",
   "name": "python",
   "nbconvert_exporter": "python",
   "pygments_lexer": "ipython3",
   "version": "3.11.5"
  }
 },
 "nbformat": 4,
 "nbformat_minor": 5
}
