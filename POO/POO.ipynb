{
 "cells": [
  {
   "cell_type": "code",
   "execution_count": null,
   "id": "e3e6b166-fe86-4390-b976-9a3278df7587",
   "metadata": {},
   "outputs": [],
   "source": [
    "# poo_exemplos.py\n",
    "\n",
    "# ===============================================\n",
    "# Seção 1: Conceitos Básicos de Classes e Objetos\n",
    "# ===============================================\n",
    "\n",
    "# Exemplo 1: Classe Simples\n",
    "# -------------------------\n",
    "class Teste:\n",
    "    pass # 'pass' é uma operação nula, usada quando você precisa de uma declaração sintaticamente, mas não quer que ela faça nada.\n",
    "\n",
    "minha_classe = Teste() # Instancia um objeto da classe 'Teste'. 'minha_classe' é agora uma instância de 'Teste'.\n",
    "print(\"--- Exemplo 1 ---\")\n",
    "print(type(minha_classe)) # Imprime o tipo da variável 'minha_classe'.\n",
    "print(\"\\n\")"
   ]
  },
  {
   "cell_type": "code",
   "execution_count": null,
   "id": "36b115f9-567e-474c-a0c4-3be41d3bed97",
   "metadata": {},
   "outputs": [],
   "source": [
    "# Exemplo 2: Construtor `__init__`\n",
    "# --------------------------------\n",
    "class NossaClasse:\n",
    "    def __init__(self): # O método '__init__' é o construtor da classe. Ele é chamado automaticamente quando um novo objeto é criado.\n",
    "        print(\"Eu existo\") # Este print é executado sempre que uma nova instância de 'NossaClasse' é criada.\n",
    "\n",
    "print(\"--- Exemplo 2 ---\")\n",
    "var = NossaClasse() # Cria uma instância de 'NossaClasse', o que aciona o método __init__.\n",
    "print(type(var)) # Imprime o tipo da variável 'var'.\n",
    "print(\"\\n\")"
   ]
  },
  {
   "cell_type": "code",
   "execution_count": null,
   "id": "10c3f175-70fa-485c-bcda-3c93c6463377",
   "metadata": {},
   "outputs": [],
   "source": [
    "# Exemplo 3: Atributos de Instância\n",
    "# ---------------------------------\n",
    "class Pessoa:\n",
    "    def __init__(self, nome, idade): # O construtor agora recebe 'nome' e 'idade' como parâmetros.\n",
    "        self.nome = nome # 'self.nome' é um atributo de instância. Cada objeto 'Pessoa' terá seu próprio 'nome'.\n",
    "        self.idade  = idade # 'self.idade' é outro atributo de instância.\n",
    "        print(\"Pessoa com nome %s e idade %d criada\" % (nome,idade)) # Confirma a criação da pessoa.\n",
    "\n",
    "print(\"--- Exemplo 3 ---\")\n",
    "pessoa1 = Pessoa('Rodrigo',34) # Cria a primeira instância de Pessoa.\n",
    "pessoa2 = Pessoa(\"Lucas\",21)   # Cria a segunda instância de Pessoa.\n",
    "\n",
    "print(pessoa1.nome)  # Acessa o atributo 'nome' do objeto 'pessoa1'.\n",
    "print(pessoa2.idade) # Acessa o atributo 'idade' do objeto 'pessoa2'.\n",
    "print(\"\\n\")"
   ]
  },
  {
   "cell_type": "code",
   "execution_count": null,
   "id": "30f37f67-89ea-4ff0-b79f-1ba159389ebf",
   "metadata": {},
   "outputs": [],
   "source": [
    "# Exemplo 4: Modificando Atributos de Instância\n",
    "# ---------------------------------------------b\n",
    "class Pessoa:\n",
    "    def __init__(self, nome, idade):\n",
    "        self.nome = nome\n",
    "        self.idade  = idade\n",
    "        print(\"Pessoa com nome %s e idade %d criada\" % (nome,idade))\n",
    "\n",
    "print(\"--- Exemplo 4 ---\")\n",
    "pessoa1 = Pessoa('Rodrigo',34) # Cria um objeto Pessoa com nome 'Rodrigo'.\n",
    "\n",
    "pessoa1.nome = \"Marcelo\" # Modifica o atributo 'nome' do objeto 'pessoa1' após sua criação.\n",
    "print(pessoa1.nome) # Imprime o novo nome.\n",
    "print(\"\\n\")"
   ]
  },
  {
   "cell_type": "markdown",
   "id": "8f36e62a-eb47-4deb-b810-75b9f291a5b8",
   "metadata": {},
   "source": [
    "# Seção 2: Atributos de Classe e Métodos"
   ]
  },
  {
   "cell_type": "code",
   "execution_count": null,
   "id": "20be03ca-e102-4565-82fb-cacecfd65a2e",
   "metadata": {},
   "outputs": [],
   "source": [
    "# Exemplo 5: Atributos de Classe\n",
    "# ------------------------------\n",
    "class Pessoa:\n",
    "    especie = \"Homo Sapiens\" # 'especie' é um atributo de classe. Ele pertence à classe 'Pessoa' e é compartilhado por todas as suas instâncias.\n",
    "    def __init__(self, nome, idade):\n",
    "        self.nome = nome\n",
    "        self.idade  = idade\n",
    "        print(\"Pessoa com nome %s e idade %d criada\" % (nome,idade))\n",
    "\n",
    "print(\"--- Exemplo 5 ---\")\n",
    "pessoa1 = Pessoa('Rodrigo',34) # Cria a primeira instância.\n",
    "pessoa2 = Pessoa(\"Lucas\",21)   # Cria a segunda instância.\n",
    "\n",
    "print(pessoa1.especie) # Acessa o atributo de classe através de uma instância.\n",
    "print(pessoa2.especie) # Acessa o mesmo atributo de classe através de outra instância.\n",
    "print(\"\\n\")\n"
   ]
  },
  {
   "cell_type": "code",
   "execution_count": null,
   "id": "62d22c67-dd2d-47b3-a1b6-902f1b8a14f1",
   "metadata": {},
   "outputs": [],
   "source": [
    "# Exemplo 6: Contador de Instâncias com Atributo de Classe\n",
    "# --------------------------------------------------------\n",
    "class Pessoa:\n",
    "    especie = \"Homo Sapiens\"\n",
    "    num_pessoas = 0 # 'num_pessoas' é um atributo de classe usado para contar quantas instâncias de 'Pessoa' foram criadas.\n",
    "    def __init__(self, nome, idade):\n",
    "        self.nome = nome\n",
    "        self.idade  = idade\n",
    "        Pessoa.num_pessoas += 1 # Incrementa o contador de pessoas cada vez que uma nova instância é criada.\n",
    "\n",
    "print(\"--- Exemplo 6 ---\")\n",
    "pessoa1 = Pessoa('Rodrigo',34)\n",
    "print(Pessoa.num_pessoas) # Acessa o atributo de classe diretamente pela classe.\n",
    "pessoa2 = Pessoa(\"Lucas\",21)\n",
    "print(Pessoa.num_pessoas)\n",
    "pessoa3 = Pessoa(\"Maria\",22)\n",
    "print(Pessoa.num_pessoas)\n",
    "print(\"\\n\")\n",
    "\n"
   ]
  },
  {
   "cell_type": "code",
   "execution_count": null,
   "id": "aa98d6f1-4bfc-432a-ac2b-c7f9ad2c00e7",
   "metadata": {},
   "outputs": [],
   "source": [
    "# Exemplo 7: Métodos de Instância\n",
    "# -------------------------------\n",
    "class Pessoa:\n",
    "    def __init__(self, nome, idade):\n",
    "        self.nome = nome\n",
    "        self.idade  = idade\n",
    "    def print_nome(self): # 'print_nome' é um método de instância. O primeiro parâmetro 'self' se refere à instância que chamou o método.\n",
    "        print(\"Meu nome é %s \" % (self.nome)) # Acessa o atributo 'nome' da instância específica.\n",
    "\n",
    "print(\"--- Exemplo 7 ---\")\n",
    "pessoa1 = Pessoa(\"Rodrigo\",\"34\") # Cria a primeira instância.\n",
    "pessoa2 = Pessoa(\"Maria\",\"22\")   # Cria a segunda instância.\n",
    "\n",
    "pessoa1.print_nome() # Chama o método 'print_nome' no objeto 'pessoa1'.\n",
    "pessoa2.print_nome() # Chama o método 'print_nome' no objeto 'pessoa2'.\n",
    "print(\"\\n\")\n"
   ]
  },
  {
   "cell_type": "code",
   "execution_count": null,
   "id": "88e324d4-1a09-4757-ae70-4c0423f39185",
   "metadata": {},
   "outputs": [],
   "source": [
    "# Exemplo 8: Chamando Métodos Internamente\n",
    "# ----------------------------------------\n",
    "class Pessoa:\n",
    "    def __init__(self, nome, idade):\n",
    "        self.nome = nome\n",
    "        self.idade  = idade\n",
    "    \n",
    "    def print_string(self, nome): # Um método auxiliar que recebe um nome como parâmetro.\n",
    "        print(\"Meu nome é %s \" % (nome))\n",
    "    \n",
    "    def print_nome(self): # Este método de instância chama outro método da mesma instância.\n",
    "        self.print_string(self.nome) # 'self.print_string' chama o método 'print_string' da própria instância.\n",
    "\n",
    "print(\"--- Exemplo 8 ---\")\n",
    "pessoa1 = Pessoa(\"Rodrigo\",\"34\")\n",
    "pessoa2 = Pessoa(\"Maria\",\"22\")\n",
    "\n",
    "pessoa1.print_nome()\n",
    "pessoa2.print_nome()\n",
    "print(\"\\n\")"
   ]
  },
  {
   "cell_type": "code",
   "execution_count": null,
   "id": "323be0fb-47f4-4cc1-ab7d-998730498036",
   "metadata": {},
   "outputs": [],
   "source": [
    "# Exemplo 9: Adicionando Atributos Após a Criação\n",
    "# -----------------------------------------------\n",
    "class Pessoa:\n",
    "    def __init__(self, nome):\n",
    "        self.nome = nome\n",
    "    def insere_idade(self,idade): # Método para adicionar o atributo 'idade' a uma instância existente.\n",
    "        self.idade = idade\n",
    "\n",
    "print(\"--- Exemplo 9 ---\")\n",
    "rodrigo = Pessoa(\"Rodrigo\") # Cria um objeto Pessoa apenas com o nome.\n",
    "# print(rodrigo.idade) # Se descomentado, daria um erro, pois 'idade' ainda não existe.\n",
    "rodrigo.insere_idade(34) # Adiciona o atributo 'idade' ao objeto 'rodrigo'.\n",
    "\n",
    "print(rodrigo.idade) # Agora o atributo 'idade' existe e pode ser acessado.\n",
    "print(\"\\n\")"
   ]
  },
  {
   "cell_type": "code",
   "execution_count": null,
   "id": "d21f01c3-4daa-4ed9-9c31-9d0b3f7c5778",
   "metadata": {},
   "outputs": [],
   "source": [
    "# Exemplo 10: Composição de Objetos\n",
    "# ---------------------------------\n",
    "class Tipo1:\n",
    "    def __init__(self, outra_classe): # O construtor de Tipo1 recebe uma instância de outra classe.\n",
    "        self.outra = outra_classe # Atribui a instância recebida a um atributo de Tipo1.\n",
    "\n",
    "class Tipo2:\n",
    "    numero = 10 # Um atributo de classe em Tipo2.\n",
    "\n",
    "print(\"--- Exemplo 10 ---\")\n",
    "classe2 = Tipo2()       # Cria uma instância de Tipo2.\n",
    "classe1 = Tipo1(classe2) # Cria uma instância de Tipo1, passando a instância de Tipo2 como parâmetro.\n",
    "\n",
    "print(classe1.outra.numero) # Acessa o atributo 'numero' da instância de Tipo2 através da instância de Tipo1.\n",
    "print(\"\\n\")\n"
   ]
  },
  {
   "cell_type": "code",
   "execution_count": null,
   "id": "72df1e36-2b16-4b00-af2a-4284f30b8846",
   "metadata": {},
   "outputs": [],
   "source": [
    "# Exemplo 11: Variáveis de Classe (sem instância)\n",
    "# -----------------------------------------------\n",
    "class Exemplo:\n",
    "    def __init__(self):\n",
    "        pass\n",
    "\n",
    "print(\"--- Exemplo 11 ---\")\n",
    "lista = []\n",
    "ex1 = Exemplo # 'ex1' não é uma instância de 'Exemplo', é uma referência à classe 'Exemplo' em si.\n",
    "ex2 = Exemplo # 'ex2' também é uma referência à classe 'Exemplo'.\n",
    "\n",
    "lista.append(ex1) # Adiciona a classe 'Exemplo' à lista.\n",
    "lista.append(ex2) # Adiciona novamente a classe 'Exemplo' à lista.\n",
    "\n",
    "print(lista[1]) # Imprime a segunda referência à classe 'Exemplo' na lista.\n",
    "print(\"\\n\")"
   ]
  },
  {
   "cell_type": "markdown",
   "id": "feacd5e0-87e5-4dab-86a7-3a310eeb4bbc",
   "metadata": {},
   "source": [
    "# Seção 3: Herança"
   ]
  },
  {
   "cell_type": "code",
   "execution_count": 2,
   "id": "d1d62f5a-ee54-47f6-8e93-238d9019104b",
   "metadata": {},
   "outputs": [
    {
     "name": "stdout",
     "output_type": "stream",
     "text": [
      "--- Exemplo 12 ---\n",
      "100\n",
      "30\n",
      "\n",
      "\n"
     ]
    }
   ],
   "source": [
    "# Exemplo 12: Herança Simples\n",
    "# ---------------------------\n",
    "class FormaGeometrica: # Classe base (pai)\n",
    "    def __init__(self,altura,largura):\n",
    "        self.altura = altura\n",
    "        self.largura = largura\n",
    "\n",
    "class Quadrado(FormaGeometrica): # Classe filha (derivada) que herda de FormaGeometrica.\n",
    "    pass # 'pass' indica que esta classe não adiciona novos atributos ou métodos, apenas herda tudo da classe pai.\n",
    "\n",
    "class Triangulo(FormaGeometrica): # Outra classe filha que herda de FormaGeometrica.\n",
    "    pass\n",
    "\n",
    "print(\"--- Exemplo 12 ---\")\n",
    "quadrado = Quadrado(100,50)   # Cria uma instância de Quadrado, passando argumentos para o construtor da classe pai.\n",
    "triangulo = Triangulo(10,30) # Cria uma instância de Triangulo.\n",
    "\n",
    "print(quadrado.altura)   # Acessa um atributo herdado da classe pai.\n",
    "print(triangulo.largura) # Acessa um atributo herdado da classe pai.\n",
    "print(\"\\n\")\n",
    "\n"
   ]
  },
  {
   "cell_type": "code",
   "execution_count": 1,
   "id": "717cf1f6-b831-4b47-a1c9-e72c7c6df332",
   "metadata": {},
   "outputs": [
    {
     "name": "stdout",
     "output_type": "stream",
     "text": [
      "--- Exemplo 13 ---\n",
      "100\n",
      "50\n",
      "10\n",
      "30\n",
      "\n",
      "\n"
     ]
    }
   ],
   "source": [
    "# Exemplo 13: Atributos em Classes Filhas\n",
    "# ---------------------------------------\n",
    "class FormaGeometrica:\n",
    "    def __init__(self,altura,largura):\n",
    "        self.altura = altura\n",
    "        self.largura = largura\n",
    "\n",
    "class Quadrado(FormaGeometrica):\n",
    "    lado = 10 # Quadrado adiciona um atributo de classe próprio.\n",
    "\n",
    "class Triangulo(FormaGeometrica):\n",
    "    angulo = 30 # Triangulo adiciona um atributo de classe próprio.\n",
    "\n",
    "print(\"--- Exemplo 13 ---\")\n",
    "quadrado = Quadrado(100,50)\n",
    "triangulo = Triangulo(10,30)\n",
    "\n",
    "print(quadrado.altura)  # Atributo herdado.\n",
    "print(quadrado.largura) # Atributo herdado.\n",
    "print(quadrado.lado)    # Atributo específico da classe Quadrado.\n",
    "\n",
    "print(triangulo.angulo) # Atributo específico da classe Triangulo.\n",
    "print(\"\\n\")\n"
   ]
  },
  {
   "cell_type": "code",
   "execution_count": 1,
   "id": "063de6f9-29b6-4f02-8219-50bfc18d7fe3",
   "metadata": {},
   "outputs": [
    {
     "name": "stdout",
     "output_type": "stream",
     "text": [
      "--- Exemplo 14 ---\n",
      "Sou herdado\n",
      "Sou herdado\n",
      "\n",
      "\n"
     ]
    }
   ],
   "source": [
    "# Exemplo 14: Métodos Herdados\n",
    "# ----------------------------\n",
    "class FormaGeometrica:\n",
    "    def __init__(self,altura,largura):\n",
    "        self.altura = altura\n",
    "        self.largura = largura\n",
    "    def funcao_herdada(self): # Um método definido na classe pai.\n",
    "        print(\"Sou herdado\")\n",
    "\n",
    "class Quadrado(FormaGeometrica):\n",
    "    pass # Quadrado herda 'funcao_herdada'.\n",
    "\n",
    "class Triangulo(FormaGeometrica):\n",
    "    pass # Triangulo herda 'funcao_herdada'.\n",
    "\n",
    "print(\"--- Exemplo 14 ---\")\n",
    "quadrado = Quadrado(100,50)\n",
    "triangulo = Triangulo(10,30)\n",
    "\n",
    "quadrado.funcao_herdada() # Chama o método herdado.\n",
    "triangulo.funcao_herdada() # Chama o método herdado.\n",
    "print(\"\\n\")\n",
    "\n"
   ]
  },
  {
   "cell_type": "code",
   "execution_count": 2,
   "id": "1976a4c6-ae45-4154-90d5-70fa1161d108",
   "metadata": {},
   "outputs": [
    {
     "name": "stdout",
     "output_type": "stream",
     "text": [
      "--- Exemplo 15 ---\n",
      "sou a classe pai\n",
      "sou a classe filha 1\n",
      "sou a classe filha 2\n",
      "\n",
      "\n"
     ]
    }
   ],
   "source": [
    "# Exemplo 15: Construtores em Herança (Chamada Implícita)\n",
    "# ------------------------------------------------------\n",
    "class ClassePai:\n",
    "    def __init__(self):\n",
    "        print(\"sou a classe pai\") # Este construtor será chamado.\n",
    "\n",
    "class ClasseFilha1(ClassePai):\n",
    "    def __init__(self):\n",
    "        print(\"sou a classe filha 1\") # Este construtor sobrescreve o do pai.\n",
    "\n",
    "class ClasseFilha2(ClassePai):\n",
    "    def __init__(self):\n",
    "        print(\"sou a classe filha 2\") # Este construtor também sobrescreve.\n",
    "\n",
    "print(\"--- Exemplo 15 ---\")\n",
    "pai = ClassePai()       # Chama o construtor de ClassePai.\n",
    "filha1 = ClasseFilha1() # Chama o construtor de ClasseFilha1 (e não o de ClassePai, pois foi sobrescrito).\n",
    "filha2 = ClasseFilha2() # Chama o construtor de ClasseFilha2.\n",
    "print(\"\\n\")\n"
   ]
  },
  {
   "cell_type": "code",
   "execution_count": 2,
   "id": "3dddb65b-3702-447a-a500-451f926a3708",
   "metadata": {},
   "outputs": [
    {
     "name": "stdout",
     "output_type": "stream",
     "text": [
      "--- Exemplo 16 ---\n",
      "100\n",
      "quadrado\n",
      "200\n",
      "triangulo\n",
      "\n",
      "\n"
     ]
    }
   ],
   "source": [
    "# Exemplo 16: Chamando o Construtor da Classe Pai (Explícito)\n",
    "# ----------------------------------------------------------\n",
    "class FormaGeometrica:\n",
    "    def __init__(self, altura, largura):\n",
    "        self.altura = altura\n",
    "        self.largura = largura\n",
    "\n",
    "class Quadrado(FormaGeometrica):\n",
    "    def __init__(self,altura, largura, atributo_quadrado): # Construtor de Quadrado.\n",
    "        FormaGeometrica.__init__(self, altura, largura) # **Chamada explícita** ao construtor da classe pai.\n",
    "        self.atributo_quadrado = atributo_quadrado # Atributo específico de Quadrado.\n",
    "\n",
    "class Triangulo(FormaGeometrica):\n",
    "    def __init__(self,altura, largura, atributo_triangulo): # Construtor de Triangulo.\n",
    "        FormaGeometrica.__init__(self, altura, largura) # **Chamada explícita** ao construtor da classe pai.\n",
    "        self.atributo_triangulo = atributo_triangulo # Atributo específico de Triangulo.\n",
    "\n",
    "print(\"--- Exemplo 16 ---\")\n",
    "quadrado = Quadrado(100,200, 'quadrado')\n",
    "triangulo = Triangulo(100,200, 'triangulo')\n",
    "\n",
    "print(quadrado.altura)           # Atributo inicializado pelo construtor pai.\n",
    "print(quadrado.atributo_quadrado) # Atributo inicializado pelo construtor filho.\n",
    "\n",
    "print(triangulo.largura)          # Atributo inicializado pelo construtor pai.\n",
    "print(triangulo.atributo_triangulo) # Atributo inicializado pelo construtor filho.\n",
    "print(\"\\n\")\n"
   ]
  },
  {
   "cell_type": "code",
   "execution_count": null,
   "id": "fffc1bc0-d137-46a4-bfcb-d1af9557a7f7",
   "metadata": {},
   "outputs": [],
   "source": [
    " Seção 4: Polimorfismo e Sobrescrita de Métodos"
   ]
  },
  {
   "cell_type": "code",
   "execution_count": null,
   "id": "48565360-c167-48d5-8e38-fc9540e53aee",
   "metadata": {},
   "outputs": [],
   "source": [
    "Exemplo 17: Polimorfismo com Sobrescrita de Métodos\n",
    "# --------------------------------------------------\n",
    "class FormaGeometrica:\n",
    "    def __init__(self,altura,largura):\n",
    "        self.altura = altura\n",
    "        self.largura = largura\n",
    "    def calcula_area(self): # Método genérico para calcular área (não implementado aqui, apenas uma \"interface\").\n",
    "        pass # Pass significa que o método será sobrescrito nas classes filhas.\n",
    "\n",
    "class Quadrado(FormaGeometrica):\n",
    "    def calcula_area(self): # Sobrescreve o método 'calcula_area' para calcular a área de um quadrado.\n",
    "        return self.altura * self.largura\n",
    "\n",
    "class Triangulo(FormaGeometrica):\n",
    "    def calcula_area(self): # Sobrescreve o método 'calcula_area' para calcular a área de um triângulo.\n",
    "        return (self.altura * self.largura)/2\n",
    "\n",
    "print(\"--- Exemplo 17 ---\")\n",
    "quadrado = Quadrado(200,200)\n",
    "triangulo = Triangulo(200,200)\n",
    "\n",
    "print(quadrado.calcula_area()) # Chama a versão de 'calcula_area' específica do Quadrado.\n",
    "print(triangulo.calcula_area()) # Chama a versão de 'calcula_area' específica do Triangulo.\n",
    "print(\"\\n\")\n"
   ]
  },
  {
   "cell_type": "code",
   "execution_count": 9,
   "id": "c60e13a9-e6c3-4022-9db7-842030e2fe57",
   "metadata": {},
   "outputs": [
    {
     "name": "stdout",
     "output_type": "stream",
     "text": [
      "--- Exemplo 18 ---\n",
      "6\n",
      "6\n",
      "5\n",
      "4\n",
      "\n",
      "\n"
     ]
    }
   ],
   "source": [
    "# Exemplo 18: Sobrescrita e Extensão de Funcionalidade\n",
    "# ----------------------------------------------------\n",
    "class Veiculo:\n",
    "    def __init__(self, marcha):\n",
    "        self.marcha = marcha\n",
    "    def aumenta_marcha(self):\n",
    "        self.marcha +=1\n",
    "        self.marcha = min(self.marcha,5) # Limita a marcha máxima a 5.\n",
    "    def diminui_marcha(self):\n",
    "        self.marcha -= 1\n",
    "        self.marcha = max(self.marcha,1) # Limita a marcha mínima a 1.\n",
    "\n",
    "class Palio(Veiculo):\n",
    "    def __init__(self, marcha):\n",
    "        Veiculo.__init__(self,marcha) # Chama o construtor da classe pai.\n",
    "\n",
    "class EcoSport(Veiculo):\n",
    "    def __init__(self, marcha):\n",
    "        Veiculo.__init__(self,marcha)\n",
    "    def aumenta_marcha(self): # EcoSport sobrescreve 'aumenta_marcha'.\n",
    "        self.marcha +=1\n",
    "        self.marcha = min(self.marcha,6) # O limite de marcha máxima para EcoSport é 6.\n",
    "\n",
    "print(\"--- Exemplo 18 ---\")\n",
    "carro = EcoSport(5) # Começa na marcha 5.\n",
    "carro.aumenta_marcha() # Aumenta para 6.\n",
    "print(carro.marcha)\n",
    "carro.aumenta_marcha() # Tenta aumentar para 7, mas o limite é 6.\n",
    "print(carro.marcha)\n",
    "carro.diminui_marcha()\n",
    "print(carro.marcha)\n",
    "carro.diminui_marcha()\n",
    "print(carro.marcha)\n",
    "print(\"\\n\")\n"
   ]
  },
  {
   "cell_type": "markdown",
   "id": "8fdf569e-8b24-45d6-b1cd-12c44fde5c25",
   "metadata": {},
   "source": [
    "# Seção 5: Herança Múltipla"
   ]
  },
  {
   "cell_type": "code",
   "execution_count": 5,
   "id": "ce045f2f-4c2a-465e-9f67-9de9b0da6933",
   "metadata": {},
   "outputs": [
    {
     "name": "stdout",
     "output_type": "stream",
     "text": [
      "--- Exemplo 19 ---\n",
      "10\n",
      "20\n",
      "Base1\n",
      "Base2\n",
      "\n",
      "\n"
     ]
    }
   ],
   "source": [
    "#Exemplo 19: Herança Múltipla\n",
    "# ----------------------------\n",
    "class Base1: # Primeira classe base.\n",
    "    def __init__(self, atributo1):\n",
    "        self.atributo1 = atributo1\n",
    "    def Base1_print(self):\n",
    "        print(\"Base1\")\n",
    "\n",
    "class Base2: # Segunda classe base.\n",
    "    def __init__(self, atributo2):\n",
    "        self.atributo2 = atributo2\n",
    "    def Base2_print(self):\n",
    "        print(\"Base2\")\n",
    "\n",
    "class MinhaClasse(Base1,Base2): # 'MinhaClasse' herda de Base1 E Base2.\n",
    "    def __init__(self):\n",
    "        Base1.__init__(self,10) # Chama o construtor da primeira classe pai.\n",
    "        Base2.__init__(self,20) # Chama o construtor da segunda classe pai.\n",
    "\n",
    "print(\"--- Exemplo 19 ---\")\n",
    "var = MinhaClasse() # Cria uma instância da classe que herda de ambas.\n",
    "print(var.atributo1)        \n",
    "print(var.atributo2)        \n",
    "var.Base1_print() # Acessa método da primeira classe pai.\n",
    "var.Base2_print() # Acessa método da segunda classe pai.\n",
    "print(\"\\n\")\n"
   ]
  },
  {
   "cell_type": "markdown",
   "id": "b4199d9b-07cc-4b74-816e-0c9c574307a1",
   "metadata": {},
   "source": [
    "# Seção 6: Encapsulamento e Propriedades"
   ]
  },
  {
   "cell_type": "code",
   "execution_count": 1,
   "id": "2954ab27-ca6a-497d-91aa-583a7c8d4b33",
   "metadata": {},
   "outputs": [
    {
     "name": "stdout",
     "output_type": "stream",
     "text": [
      "--- Exemplo 20 ---\n",
      "Tentando acessar seg.__segredo diretamente resultaria em AttributeError.\n",
      "Acesso forçado: Senha123\n",
      "\n",
      "\n"
     ]
    }
   ],
   "source": [
    "# Exemplo 20: Atributos Privados (`__`)\n",
    "# ------------------------------------\n",
    "class Segredo:\n",
    "    def __init__(self):\n",
    "        self.__segredo = 'Senha123' # '__segredo' é um atributo \"privado\" (name mangling).\n",
    "\n",
    "print(\"--- Exemplo 20 ---\")\n",
    "seg = Segredo()\n",
    "# print(seg.__segredo) # Isso geraria um AttributeError, pois o atributo é \"privado\".\n",
    "# print(seg._Segredo__segredo) # Acesso \"forçado\" via name mangling, mas não recomendado.\n",
    "print(\"Tentando acessar seg.__segredo diretamente resultaria em AttributeError.\")\n",
    "print(\"Acesso forçado: \" + seg._Segredo__segredo) # Apenas para demonstração do name mangling.\n",
    "print(\"\\n\")"
   ]
  },
  {
   "cell_type": "code",
   "execution_count": null,
   "id": "cacc655d-3051-441c-890f-7119dd579494",
   "metadata": {},
   "outputs": [],
   "source": [
    "# Exemplo 21: Métodos Privados (`__`)\n",
    "# ----------------------------------\n",
    "class Segredo:\n",
    "    def __init__(self):\n",
    "        self.__segredo = 'Senha123'\n",
    "\n",
    "    def __printa_segredo(self): # Método \"privado\" (name mangling).\n",
    "        print(self.__segredo)\n",
    "\n",
    "    def printa_segredo(self): # Método público que acessa o método privado.\n",
    "        self.__printa_segredo()\n",
    "    \n",
    "print(\"--- Exemplo 21 ---\")\n",
    "seg = Segredo()\n",
    "# seg.__printa_segredo() # Isso geraria um AttributeError, pois o método é \"privado\".\n",
    "print(\"Tentando acessar seg.__printa_segredo() diretamente resultaria em AttributeError.\")\n",
    "seg.printa_segredo() # Acessa o método privado através do método público.\n",
    "print(\"\\n\")"
   ]
  },
  {
   "cell_type": "code",
   "execution_count": 2,
   "id": "0dd353e2-d783-4f7c-9748-5b9364cfaee0",
   "metadata": {},
   "outputs": [
    {
     "name": "stdout",
     "output_type": "stream",
     "text": [
      "--- Exemplo 22 ---\n",
      "Pertenco a Base e a quem me herdar\n",
      "Pertenco a Base e a quem me herdar\n",
      "\n",
      "\n"
     ]
    }
   ],
   "source": [
    "# Exemplo 22: Atributos Protegidos (`_`)\n",
    "# ------------------------------------\n",
    "class Base:\n",
    "    def __base__privada(self): # Método \"privado\" com name mangling.\n",
    "        print('Pertenco somente a base')\n",
    "    def _baseprotegida(self): # Método \"protegido\" (por convenção, não imposto por Python).\n",
    "        print(\"Pertenco a Base e a quem me herdar\")\n",
    "\n",
    "class Filha(Base):\n",
    "    def acessa_protegida(self):\n",
    "        self._baseprotegida() # Acessa o método protegido herdado.\n",
    "\n",
    "print(\"--- Exemplo 22 ---\")\n",
    "filha = Filha()\n",
    "filha.acessa_protegida()  # Chama o método que acessa o protegido.\n",
    "filha._baseprotegida()    # Acessa o método protegido diretamente (Python permite, mas desencoraja).\n",
    "# filha.__base__privada() # Isso geraria um AttributeError.\n",
    "print(\"\\n\")"
   ]
  },
  {
   "cell_type": "code",
   "execution_count": 8,
   "id": "51567904-d970-4c02-ae46-ea3ee3e1c744",
   "metadata": {},
   "outputs": [
    {
     "name": "stdout",
     "output_type": "stream",
     "text": [
      "--- Exemplo 23 ---\n",
      "5\n",
      "3\n",
      "1\n",
      "1\n",
      "\n",
      "\n"
     ]
    }
   ],
   "source": [
    "# Exemplo 23: Encapsulamento com Métodos\n",
    "# --------------------------------------\n",
    "class Veiculo:\n",
    "    def __init__(self):\n",
    "        self.__marcha =1 # Atributo 'marcha' é \"privado\".\n",
    "    def aumenta_marcha(self):\n",
    "        self.__marcha +=1\n",
    "        self.__marcha = min(self.__marcha,5) # Lógica para controlar a marcha.\n",
    "    def diminui_marcha(self):\n",
    "        self.__marcha -=1\n",
    "        self.__marcha = max(self.__marcha,1)\n",
    "    def marcha_atual(self): # Método público para acessar o valor da marcha.\n",
    "        return self.__marcha\n",
    "print(\"--- Exemplo 23 ---\")\n",
    "carro = Veiculo()\n",
    "carro.aumenta_marcha() # Aumenta a marcha.\n",
    "carro.aumenta_marcha()\n",
    "carro.aumenta_marcha()\n",
    "carro.aumenta_marcha()\n",
    "carro.aumenta_marcha()\n",
    "print(carro.marcha_atual()) # Imprime a marcha atual (limitada a 5).\n",
    "carro.diminui_marcha() \n",
    "carro.diminui_marcha() \n",
    "print(carro.marcha_atual()) \n",
    "carro.diminui_marcha() \n",
    "carro.diminui_marcha() \n",
    "print(carro.marcha_atual()) \n",
    "carro.diminui_marcha() \n",
    "print(carro.marcha_atual()) \n",
    "print(\"\\n\")\n",
    " "
   ]
  },
  {
   "cell_type": "code",
   "execution_count": 9,
   "id": "a2e1cdd3-7d03-48c0-aa87-a2d0c89f0382",
   "metadata": {},
   "outputs": [
    {
     "name": "stdout",
     "output_type": "stream",
     "text": [
      "--- Exemplo 24 ---\n",
      "pegando nome\n",
      "Maria\n",
      "\n",
      "\n"
     ]
    }
   ],
   "source": [
    "# Exemplo 24: Propriedades (Read-Only)\n",
    "# ------------------------------------\n",
    "class Pessoa:\n",
    "    def __init__(self, nome):\n",
    "        self.__nome = nome # Atributo privado.\n",
    "\n",
    "    def get_nome(self): # Método \"getter\" para o atributo nome.\n",
    "        print(\"pegando nome\")\n",
    "        return self.__nome\n",
    "\n",
    "    nome = property(get_nome) # 'nome' se torna uma propriedade que usa 'get_nome' para leitura.\n",
    "\n",
    "print(\"--- Exemplo 24 ---\")\n",
    "instancia = Pessoa(\"Maria\")\n",
    "print(instancia.nome) # Acessa 'nome' como se fosse um atributo, mas chama 'get_nome' por trás dos panos.\n",
    "# instancia.nome = \"João\" # Geraria um AttributeError, pois não há um setter definido.\n",
    "print(\"\\n\")\n",
    "\n"
   ]
  },
  {
   "cell_type": "code",
   "execution_count": 10,
   "id": "d4639a0a-5702-4ab4-885b-c72f0af0d837",
   "metadata": {},
   "outputs": [
    {
     "name": "stdout",
     "output_type": "stream",
     "text": [
      "--- Exemplo 25 ---\n",
      "pegando nome\n",
      "Maria\n",
      "Setando nome\n",
      "pegando nome\n",
      "Marcos\n",
      "\n",
      "\n"
     ]
    }
   ],
   "source": [
    "# Exemplo 25: Propriedades (Read/Write)\n",
    "# -------------------------------------\n",
    "class Pessoa:\n",
    "    def __init__(self, nome):\n",
    "        self.__nome = nome\n",
    "\n",
    "    def get_nome(self):\n",
    "        print(\"pegando nome\")\n",
    "        return self.__nome\n",
    "    \n",
    "    def set_nome(self,nome): # Método \"setter\" para o atributo nome.\n",
    "        if len(nome)> 0: # Adiciona lógica de validação.\n",
    "            print(\"Setando nome\")    \n",
    "            self.__nome = nome\n",
    "\n",
    "    nome = property(get_nome, set_nome) # 'nome' agora é uma propriedade com getter e setter.\n",
    "\n",
    "print(\"--- Exemplo 25 ---\")\n",
    "instancia = Pessoa(\"Maria\")\n",
    "print(instancia.nome)\n",
    "instancia.nome = \"Marcos\" # Agora pode ser setado, chamando 'set_nome'.\n",
    "print(instancia.nome)\n",
    "print(\"\\n\")\n",
    "\n"
   ]
  },
  {
   "cell_type": "code",
   "execution_count": null,
   "id": "f62d7813-9d04-4668-8664-861254a21906",
   "metadata": {},
   "outputs": [],
   "source": [
    "# Exemplo 26: Propriedades (Setter Apenas)\n",
    "# ----------------------------------------\n",
    "class Pessoa:\n",
    "    def __init__(self, nome):\n",
    "        self.__nome = nome\n",
    "    \n",
    "    def set_nome(self,nome):\n",
    "        if len(nome)> 0:\n",
    "            print(\"Setando nome\")    \n",
    "            self.__nome = nome\n",
    "\n",
    "    nome = property(fset = set_nome) # Define a propriedade apenas com o setter (fset).\n",
    "\n",
    "print(\"--- Exemplo 26 ---\")\n",
    "instancia = Pessoa(\"Maria\")\n",
    "instancia.nome = \"Marcos\" # O setter é chamado.\n",
    "# print(instancia.nome) # Geraria um AttributeError, pois não há um getter.\n",
    "print(\"A propriedade 'nome' só tem setter, tentar ler 'instancia.nome' causaria um AttributeError.\")\n",
    "print(\"\\n\")"
   ]
  },
  {
   "cell_type": "code",
   "execution_count": null,
   "id": "5c5cc5dd-75aa-4e19-ae93-52af5c58db84",
   "metadata": {},
   "outputs": [],
   "source": [
    "# Exemplo 27: Decoradores `@property` e `@setter` (Recomendado)\n",
    "# -------------------------------------------------------------\n",
    "class Natural:\n",
    "    def __init__(self,numero):\n",
    "        self.__numero = numero    \n",
    "    @property # Decorador que define 'numero' como uma propriedade de leitura.\n",
    "    def numero(self):\n",
    "        print(\"pegando numero\")\n",
    "        return self.__numero\n",
    "    @numero.setter # Decorador que define o setter para a propriedade 'numero'.\n",
    "    def numero(self, value):\n",
    "        if value >=0: # Lógica de validação: número natural deve ser não negativo.\n",
    "            self.__numero = value\n",
    "            print('setando numero para ', value)\n",
    "        else:\n",
    "            print('Número deve ser não negativo.') # Adicionado para clareza da validação.\n",
    "\n",
    "print(\"--- Exemplo 27 ---\")\n",
    "numero = Natural(10)\n",
    "numero.numero = -10 # Tenta setar um valor inválido.\n",
    "print(numero.numero) # Acessa o valor atual (ainda 10, pois -10 foi inválido).\n",
    "print(\"\\n\")"
   ]
  },
  {
   "cell_type": "code",
   "execution_count": null,
   "id": "29238995-b2ba-4e90-afca-31729769ee7b",
   "metadata": {},
   "outputs": [],
   "source": [
    "# Exemplo 28: Propriedade com Capitalização\n",
    "# ----------------------------------------\n",
    "class Pessoa:\n",
    "    def __init__(self, nome):\n",
    "        self.__nome = nome\n",
    "    @property\n",
    "    def nome(self):\n",
    "        return self.__nome.capitalize() # Retorna o nome capitalizado ao ser lido.\n",
    "    @nome.setter\n",
    "    def nome(self, value):\n",
    "        if (len(value)!=0): # Validação: nome não pode ser vazio.\n",
    "            self.__nome = value\n",
    "        else:\n",
    "            print(\"Nome não pode ser vazio.\") # Adicionado para clareza da validação.\n",
    "\n",
    "print(\"--- Exemplo 28 ---\")\n",
    "pessoa = Pessoa(\"rodrigo\")\n",
    "print(pessoa.nome) # Retorna \"Rodrigo\" (capitalizado).\n",
    "pessoa.nome = 'fernando'\n",
    "print(pessoa.nome)\n",
    "pessoa.nome = '' # Tenta setar um nome vazio.\n",
    "print(pessoa.nome) # O nome permanece 'Fernando' (não foi alterado devido à validação).\n",
    "print(\"\\n\")\n"
   ]
  },
  {
   "cell_type": "markdown",
   "id": "7d03e7d0-79cd-4d2c-93a6-decb4a17f644",
   "metadata": {},
   "source": [
    "# Seção 7: Métodos de Classe e Estáticos"
   ]
  },
  {
   "cell_type": "code",
   "execution_count": null,
   "id": "11f251dd-41d6-42dd-9bf6-e9c4dc016dba",
   "metadata": {},
   "outputs": [],
   "source": [
    "# Exemplo 29: Métodos de Classe e Estáticos\n",
    "# ----------------------------------------\n",
    "class Teste:\n",
    "    def __init__(self,gasolina):\n",
    "        pass\n",
    "    @classmethod # Decorador para método de classe. Recebe a classe (cls) como primeiro argumento.\n",
    "    def class_method(cls):\n",
    "        print(cls) # Imprime a própria classe.\n",
    "    @staticmethod # Decorador para método estático. Não recebe 'self' nem 'cls'.\n",
    "    def static_method():\n",
    "        print(\"static method\")\n",
    "\n",
    "print(\"--- Exemplo 29 ---\")\n",
    "Teste.class_method()    # Chama o método de classe diretamente pela classe.\n",
    "Teste.static_method()   # Chama o método estático diretamente pela classe.\n",
    "\n",
    "testando = Teste(\"aditivada\")\n",
    "testando.class_method() # Também pode ser chamado por uma instância, mas ainda opera na classe.\n",
    "# testando.static_method() # Pode ser chamado por uma instância, mas não usa nem self nem cls.\n",
    "print(\"\\n\")\n",
    "\n"
   ]
  },
  {
   "cell_type": "code",
   "execution_count": 11,
   "id": "99d36761-a83f-41bb-a547-e5de1a8a9442",
   "metadata": {},
   "outputs": [
    {
     "name": "stdout",
     "output_type": "stream",
     "text": [
      "--- Exemplo 30 ---\n",
      "carro\n",
      "comum\n",
      "200\n",
      "trator\n",
      "\n",
      "\n"
     ]
    }
   ],
   "source": [
    "# Exemplo 30: Métodos de Classe como Construtores de Fábrica\n",
    "# --------------------------------------------------------\n",
    "class Veiculo:\n",
    "    def __init__(self,nome, gasolina, potencia):\n",
    "        self.nome = nome\n",
    "        self.gasolina = gasolina\n",
    "        self.potencia = potencia    \n",
    "    @classmethod\n",
    "    def cria_carro(cls): # Método de classe que cria uma instância de carro predefinida.\n",
    "        return cls('carro','comum',200) # Usa 'cls' para instanciar a classe.\n",
    "    @classmethod\n",
    "    def cria_trator(cls): # Método de classe que cria uma instância de trator predefinida.\n",
    "        return cls('trator','aditivada',500)\n",
    "\n",
    "print(\"--- Exemplo 30 ---\")\n",
    "veiculo1 = Veiculo.cria_carro()  # Cria um carro usando o método de fábrica.\n",
    "veiculo2 = Veiculo.cria_trator() # Cria um trator usando o método de fábrica.\n",
    "\n",
    "print(veiculo1.nome)\n",
    "print(veiculo1.gasolina)\n",
    "print(veiculo1.potencia)\n",
    "print(veiculo2.nome)\n",
    "print(\"\\n\")"
   ]
  },
  {
   "cell_type": "code",
   "execution_count": 12,
   "id": "4386d121-2453-48d9-bf35-25f81f80a943",
   "metadata": {},
   "outputs": [
    {
     "name": "stdout",
     "output_type": "stream",
     "text": [
      "--- Exemplo 31 ---\n",
      "2\n",
      "2\n",
      "\n",
      "\n"
     ]
    }
   ],
   "source": [
    "# Exemplo 31: Métodos Estáticos para Funções Utilitárias\n",
    "# ----------------------------------------------------\n",
    "class Veiculo:\n",
    "    __numero_veiculos = 0 # Atributo de classe privado para contar veículos.\n",
    "    def __init__(self,nome, gasolina, potencia):\n",
    "        self.nome = nome\n",
    "        self.gasolina = gasolina\n",
    "        self.potencia = potencia    \n",
    "        Veiculo.__numero_veiculos += 1 # Incrementa o contador na criação de cada instância.\n",
    "    @staticmethod\n",
    "    def get_numero_carros(): # Método estático para retornar o número total de veículos.\n",
    "        return Veiculo.__numero_veiculos # Acessa o atributo de classe diretamente.\n",
    "\n",
    "print(\"--- Exemplo 31 ---\")\n",
    "carro =  Veiculo(\"carro\",\"aditivada\",200)\n",
    "carro2 =  Veiculo(\"caminhao\",\"aditivada\",1000)\n",
    "print(Veiculo.get_numero_carros()) # Chama o método estático pela classe.\n",
    "print(carro.get_numero_carros()) # Também pode ser chamado pela instância (mas o efeito é o mesmo).\n",
    "print(\"\\n\")\n"
   ]
  },
  {
   "cell_type": "markdown",
   "id": "832ef49e-49dc-42ae-9e48-a61914c53b9e",
   "metadata": {},
   "source": [
    "# Seção 8: Gerenciamento de Memória e Referências"
   ]
  },
  {
   "cell_type": "code",
   "execution_count": 13,
   "id": "1ecf2300-e4df-4421-aa07-b0b86d3d8eaf",
   "metadata": {},
   "outputs": [
    {
     "name": "stdout",
     "output_type": "stream",
     "text": [
      "--- Exemplo 32 ---\n",
      "10\n",
      "\n",
      "\n"
     ]
    }
   ],
   "source": [
    "# Exemplo 32: Passagem por Referência (Tipos Imutáveis)\n",
    "# ----------------------------------------------------\n",
    "print(\"--- Exemplo 32 ---\")\n",
    "lst1 = 10 # 'lst1' aponta para o valor inteiro 10. (int é imutável)\n",
    "lst2 = lst1 # 'lst2' também aponta para o mesmo valor 10.\n",
    "lst2 = 20 # 'lst2' agora aponta para um novo valor 20. 'lst1' ainda aponta para 10.\n",
    "print(lst1)\n",
    "print(\"\\n\")"
   ]
  },
  {
   "cell_type": "code",
   "execution_count": 14,
   "id": "a92c8aaf-ff57-4b86-83c6-db16ac3d3f1f",
   "metadata": {},
   "outputs": [
    {
     "name": "stdout",
     "output_type": "stream",
     "text": [
      "--- Exemplo 33 ---\n",
      "[1, 2, 3, 10]\n",
      "\n",
      "\n"
     ]
    }
   ],
   "source": [
    "# Exemplo 33: Passagem por Referência (Tipos Mutáveis)\n",
    "# ---------------------------------------------------\n",
    "print(\"--- Exemplo 33 ---\")\n",
    "lst1 = [1,2,3] # 'lst1' aponta para uma lista (mutável).\n",
    "lst2 = lst1    # 'lst2' aponta para a MESMA lista que 'lst1'. Ambas são referências para o mesmo objeto.\n",
    "lst2.append(10) # Modifica o objeto lista através de 'lst2'.\n",
    "print(lst1) # 'lst1' reflete a mudança porque ambas referem o mesmo objeto.\n",
    "print(\"\\n\")"
   ]
  },
  {
   "cell_type": "code",
   "execution_count": null,
   "id": "9da2314d-2d2e-4465-8651-e391d41e5594",
   "metadata": {},
   "outputs": [],
   "source": [
    "# Exemplo 34: Objetos e Referências\n",
    "# --------------------------------\n",
    "class Classe:\n",
    "    def __init__(self):\n",
    "        self.num = 10\n",
    "\n",
    "print(\"--- Exemplo 34 ---\")\n",
    "class1 = Classe() # Cria uma instância de Classe.\n",
    "class2 = class1   # 'class2' aponta para a mesma instância de 'Classe' que 'class1'.\n",
    "class1.num = 20   # Modifica o atributo 'num' do objeto (que ambas as variáveis referenciam).\n",
    "print(class2.num) # 'class2' reflete a mudança.\n",
    "print(\"\\n\")"
   ]
  },
  {
   "cell_type": "code",
   "execution_count": null,
   "id": "b3f2c33d-e3ce-43fa-ba13-4165e574e846",
   "metadata": {},
   "outputs": [],
   "source": [
    "# Exemplo 35: Cópia Rasa (`copy.copy`)\n",
    "# ----------------------------------\n",
    "from copy import copy # Importa a função 'copy' para fazer cópias rasas.\n",
    "\n",
    "print(\"--- Exemplo 35 ---\")\n",
    "lst1 = [1,2,3]\n",
    "lst2 = copy(lst1) # 'lst2' é uma CÓPIA RASA de 'lst1'. É um novo objeto lista.\n",
    "lst2.append(10) # Adiciona 10 à lista 'lst2'. 'lst1' não é afetada.\n",
    "print(lst1)\n",
    "print(\"\\n\")b"
   ]
  },
  {
   "cell_type": "code",
   "execution_count": 15,
   "id": "d47d83ec-d38c-4df7-9e53-b957db52ce46",
   "metadata": {},
   "outputs": [
    {
     "name": "stdout",
     "output_type": "stream",
     "text": [
      "--- Exemplo 36 ---\n",
      "10\n",
      "\n",
      "\n"
     ]
    }
   ],
   "source": [
    "# Exemplo 36: Cópia Rasa com Objetos\n",
    "# ----------------------------------\n",
    "from copy import copy\n",
    "\n",
    "class Classe:\n",
    "    def __init__(self):\n",
    "        self.num = 10\n",
    "\n",
    "print(\"--- Exemplo 36 ---\")\n",
    "class1 = Classe()\n",
    "class2 = copy(class1) # 'class2' é uma CÓPIA RASA de 'class1'. É uma nova instância de 'Classe'.\n",
    "class1.num = 20 # Modifica o atributo 'num' do objeto 'class1'.\n",
    "print(class2.num) # 'class2.num' permanece 10, pois 'class2' é uma instância diferente.\n",
    "print(\"\\n\")"
   ]
  },
  {
   "cell_type": "code",
   "execution_count": 16,
   "id": "9256139e-6f4d-486e-b739-dca9931e347b",
   "metadata": {},
   "outputs": [
    {
     "name": "stdout",
     "output_type": "stream",
     "text": [
      "--- Exemplo 37 ---\n",
      "True\n",
      "\n",
      "\n"
     ]
    }
   ],
   "source": [
    "# Exemplo 37: Comparando Referências (`is`)\n",
    "# ---------------------------------------\n",
    "class Classe:\n",
    "    def __init__(self):\n",
    "        self.num = 10\n",
    "\n",
    "print(\"--- Exemplo 37 ---\")\n",
    "class1 = Classe()\n",
    "class2 = class1 # 'class2' é a MESMA referência que 'class1'.\n",
    "print(class2 is class1) # 'is' verifica se as duas variáveis referenciam o MESMO objeto na memória.\n",
    "print(\"\\n\")\n"
   ]
  },
  {
   "cell_type": "code",
   "execution_count": null,
   "id": "c3a66580-67f9-4c43-8c6b-84f5d98d9a3b",
   "metadata": {},
   "outputs": [],
   "source": [
    "# Exemplo 38: Comparando Referências após Cópia Rasa\n",
    "# -------------------------------------------------\n",
    "from copy import copy\n",
    "class Classe:\n",
    "    def __init__(self):\n",
    "        self.num = 10\n",
    "\n",
    "print(\"--- Exemplo 38 ---\")\n",
    "class1 = Classe()\n",
    "class2 = copy(class1) # 'class2' é uma CÓPIA RASA, portanto, é um NOVO objeto.\n",
    "print(class2 is class1) # Irá retornar False, pois são objetos diferentes na memória.\n",
    "print(\"\\n\")"
   ]
  },
  {
   "cell_type": "markdown",
   "id": "6f788399-cf1a-41e1-aace-e70062de0234",
   "metadata": {},
   "source": [
    "# Seção 9: Destruição de Objetos e Gerenciamento de Recursos"
   ]
  },
  {
   "cell_type": "code",
   "execution_count": 17,
   "id": "7d50027e-63f7-4888-9f0b-d1eff954b633",
   "metadata": {},
   "outputs": [
    {
     "name": "stdout",
     "output_type": "stream",
     "text": [
      "--- Exemplo 39 ---\n",
      "Erro esperado: name 'numero' is not defined\n",
      "\n",
      "\n"
     ]
    }
   ],
   "source": [
    "# Exemplo 39: Deleção de Variáveis (Tipos Imutáveis)\n",
    "# ------------------------------------------------\n",
    "print(\"--- Exemplo 39 ---\")\n",
    "numero = 10\n",
    "del numero # 'del' remove a referência 'numero'.\n",
    "try:\n",
    "    print(numero) # Geraria um NameError, pois a variável 'numero' não existe mais.\n",
    "except NameError as e:\n",
    "    print(f\"Erro esperado: {e}\")\n",
    "print(\"\\n\")\n"
   ]
  },
  {
   "cell_type": "code",
   "execution_count": 18,
   "id": "c6fce47b-c0ed-46d5-b697-96ab3a7c6765",
   "metadata": {},
   "outputs": [
    {
     "name": "stdout",
     "output_type": "stream",
     "text": [
      "--- Exemplo 40 ---\n",
      "Erro esperado: name 'arr' is not defined\n",
      "\n",
      "\n"
     ]
    }
   ],
   "source": [
    "# Exemplo 40: Deleção de Listas Inteiras\n",
    "# ------------------------------------\n",
    "print(\"--- Exemplo 40 ---\")\n",
    "arr = [1,2,3]\n",
    "del arr # Remove a referência 'arr' à lista.\n",
    "try:\n",
    "    print(arr) # Geraria um NameError.\n",
    "except NameError as e:\n",
    "    print(f\"Erro esperado: {e}\")\n",
    "print(\"\\n\")\n"
   ]
  },
  {
   "cell_type": "code",
   "execution_count": 19,
   "id": "aeb3d658-b7c2-4275-a7cb-37a96baf8065",
   "metadata": {},
   "outputs": [
    {
     "name": "stdout",
     "output_type": "stream",
     "text": [
      "--- Exemplo 41 ---\n",
      "[2, 3]\n",
      "\n",
      "\n"
     ]
    }
   ],
   "source": [
    "# Exemplo 41: Deleção de Elementos de Lista\n",
    "# ---------------------------------------\n",
    "print(\"--- Exemplo 41 ---\")\n",
    "arr = [1,2,3]\n",
    "del arr[0] # Remove o elemento no índice 0 da lista. A lista em si não é deletada.\n",
    "print(arr)\n",
    "print(\"\\n\")"
   ]
  },
  {
   "cell_type": "code",
   "execution_count": 20,
   "id": "eb56697f-9e3d-4380-99aa-23dea4750be8",
   "metadata": {},
   "outputs": [
    {
     "name": "stdout",
     "output_type": "stream",
     "text": [
      "--- Exemplo 42 ---\n",
      "A variável 'variavel' foi deletada. O objeto pode ser coletado pelo garbage collector.\n",
      "\n",
      "\n"
     ]
    }
   ],
   "source": [
    "# Exemplo 42: Deleção de Objeto (Sem Efeito Visível)\n",
    "# ------------------------------------------------\n",
    "class Teste:\n",
    "    def __init__(self):\n",
    "        pass\n",
    "\n",
    "print(\"--- Exemplo 42 ---\")\n",
    "variavel = Teste() # Cria um objeto.\n",
    "del variavel # Remove a referência 'variavel'. O objeto pode ser coletado pelo garbage collector se não houver outras referências.\n",
    "print(\"A variável 'variavel' foi deletada. O objeto pode ser coletado pelo garbage collector.\")\n",
    "# Tentar acessar variavel aqui causaria um NameError.\n",
    "print(\"\\n\")"
   ]
  },
  {
   "cell_type": "code",
   "execution_count": 21,
   "id": "ff981108-800c-427b-877a-c322c07ff849",
   "metadata": {},
   "outputs": [
    {
     "name": "stdout",
     "output_type": "stream",
     "text": [
      "--- Exemplo 43 ---\n",
      "10\n",
      "Erro esperado: 'Teste' object has no attribute 'num'\n",
      "\n",
      "\n"
     ]
    }
   ],
   "source": [
    "# Exemplo 43: Deleção de Atributo de Objeto\n",
    "# ----------------------------------------\n",
    "class Teste:\n",
    "    def __init__(self, num):\n",
    "        self.num = num\n",
    "\n",
    "print(\"--- Exemplo 43 ---\")\n",
    "variavel = Teste(10)\n",
    "print(variavel.num)\n",
    "\n",
    "del variavel.num # Deleta o atributo 'num' do objeto 'variavel'.\n",
    "\n",
    "try:\n",
    "    print(variavel.num) # Geraria um AttributeError, pois o atributo não existe mais.\n",
    "except AttributeError as e:\n",
    "    print(f\"Erro esperado: {e}\")\n",
    "print(\"\\n\")\n"
   ]
  },
  {
   "cell_type": "code",
   "execution_count": 22,
   "id": "8c115c5c-a402-4b39-8478-0453e24eabac",
   "metadata": {},
   "outputs": [
    {
     "name": "stdout",
     "output_type": "stream",
     "text": [
      "--- Exemplo 44 ---\n",
      "Fui deletado\n",
      "A referência 'teste' foi deletada. O método __del__ será chamado quando o objeto for coletado.\n",
      "\n",
      "\n"
     ]
    }
   ],
   "source": [
    "# Exemplo 44: O Método `__del__` (Destrutor)\n",
    "# -----------------------------------------\n",
    "class Teste:\n",
    "    def __init__(self):\n",
    "        self.lista = [1,2,3]\n",
    "    def __del__(self): # O método '__del__' é o destrutor da classe. Ele é chamado quando o objeto está prestes a ser destruído.\n",
    "        print(\"Fui deletado\")\n",
    "\n",
    "print(\"--- Exemplo 44 ---\")\n",
    "teste = Teste()\n",
    "del teste # Remove a referência. Quando o contador de referências chega a zero, __del__ é chamado.\n",
    "# O print \"Fui deletado\" pode aparecer a qualquer momento após o del, dependendo do garbage collector.\n",
    "print(\"A referência 'teste' foi deletada. O método __del__ será chamado quando o objeto for coletado.\")\n",
    "print(\"\\n\")"
   ]
  },
  {
   "cell_type": "code",
   "execution_count": 23,
   "id": "1d7d170d-763a-4430-8b9f-be7b45187c51",
   "metadata": {},
   "outputs": [
    {
     "name": "stdout",
     "output_type": "stream",
     "text": [
      "--- Exemplo 45 ---\n",
      "deletando nome\n",
      "pegando nome\n",
      "Erro esperado: 'Pessoa' object has no attribute '_Pessoa__nome'\n",
      "\n",
      "\n"
     ]
    }
   ],
   "source": [
    "# Exemplo 45: Propriedades com Deleters\n",
    "# -----------------------------------\n",
    "class Pessoa:\n",
    "    def __init__(self, nome):\n",
    "        self.__nome = nome\n",
    "\n",
    "    def get_nome(self):\n",
    "        print(\"pegando nome\")\n",
    "        return self.__nome\n",
    "    \n",
    "    def set_nome(self, nome):\n",
    "        print(\"setando nome\")\n",
    "        self.__nome = nome\n",
    "\n",
    "    def del_nome(self): # Método \"deleter\" para o atributo nome.\n",
    "        print(\"deletando nome\")\n",
    "        del self.__nome # Remove o atributo privado.\n",
    "\n",
    "    nome = property(get_nome, set_nome, del_nome) # Propriedade com getter, setter e deleter.\n",
    "\n",
    "print(\"--- Exemplo 45 ---\")\n",
    "instancia = Pessoa(\"Larissa\")\n",
    "del instancia.nome # Chama o método 'del_nome' definido na propriedade.\n",
    "try:\n",
    "    print(instancia.nome) # Geraria um AttributeError, pois o atributo foi deletado.\n",
    "except AttributeError as e:\n",
    "    print(f\"Erro esperado: {e}\")\n",
    "print(\"\\n\")\n"
   ]
  },
  {
   "cell_type": "code",
   "execution_count": 24,
   "id": "f8b91743-96ba-43ef-95e9-c1044435b3ef",
   "metadata": {},
   "outputs": [
    {
     "name": "stdout",
     "output_type": "stream",
     "text": [
      "--- Exemplo 46 ---\n",
      "deletando nome\n",
      "Erro esperado: 'Pessoa' object has no attribute '_Pessoa__nome'\n",
      "\n",
      "\n"
     ]
    }
   ],
   "source": [
    "# Exemplo 46: Decorador `@nome.deleter`\n",
    "# ------------------------------------\n",
    "class Pessoa:\n",
    "    def __init__(self, nome):\n",
    "        self.__nome = nome\n",
    "    \n",
    "    @property\n",
    "    def nome(self):\n",
    "        return self.__nome\n",
    "    \n",
    "    @nome.deleter # Decorador para o método deleter da propriedade 'nome'.\n",
    "    def nome(self):\n",
    "        print(\"deletando nome\")\n",
    "        del self.__nome\n",
    "\n",
    "print(\"--- Exemplo 46 ---\")\n",
    "instancia = Pessoa(\"Larissa\")\n",
    "del instancia.nome # Chama o deleter.\n",
    "try:\n",
    "    print(instancia.nome) # Geraria um AttributeError.\n",
    "except AttributeError as e:\n",
    "    print(f\"Erro esperado: {e}\")\n",
    "print(\"\\n\")\n"
   ]
  },
  {
   "cell_type": "markdown",
   "id": "61683c9e-a30c-40e0-91dc-7ce5ff346a78",
   "metadata": {},
   "source": [
    "# Seção 10: Verificação de Tipos e Context Managers"
   ]
  },
  {
   "cell_type": "code",
   "execution_count": 25,
   "id": "d8d0d824-08c0-469d-9a1f-796181b29393",
   "metadata": {},
   "outputs": [
    {
     "name": "stdout",
     "output_type": "stream",
     "text": [
      "--- Exemplo 47 ---\n",
      "True\n",
      "True\n",
      "\n",
      "\n"
     ]
    }
   ],
   "source": [
    "# Exemplo 47: Verificando Tipos com `isinstance()`\n",
    "# ----------------------------------------------\n",
    "print(\"--- Exemplo 47 ---\")\n",
    "e_inteiro = isinstance(5, int) # Verifica se 5 é uma instância do tipo 'int'.\n",
    "print(e_inteiro)\n",
    "e_inteiro = isinstance(5, (int, float, str)) # Verifica se 5 é instância de 'int' OU 'float' OU 'str'.\n",
    "print(e_inteiro)\n",
    "print(\"\\n\")"
   ]
  },
  {
   "cell_type": "code",
   "execution_count": 26,
   "id": "2b852728-cbe4-4ce2-9a14-36510e6ab402",
   "metadata": {},
   "outputs": [
    {
     "name": "stdout",
     "output_type": "stream",
     "text": [
      "--- Exemplo 48 ---\n",
      "True\n",
      "\n",
      "\n"
     ]
    }
   ],
   "source": [
    "# Exemplo 48: `isinstance()` com Classes Personalizadas\n",
    "# ----------------------------------------------------\n",
    "class Base:\n",
    "    def __init__(self):\n",
    "        pass\n",
    "\n",
    "print(\"--- Exemplo 48 ---\")\n",
    "classe = Base()\n",
    "e_base = isinstance(classe, Base) # Verifica se 'classe' é uma instância de 'Base'.\n",
    "print(e_base)\n",
    "print(\"\\n\")"
   ]
  },
  {
   "cell_type": "code",
   "execution_count": 27,
   "id": "0b59cb78-6870-4b57-a0de-f67376158a9b",
   "metadata": {},
   "outputs": [
    {
     "name": "stdout",
     "output_type": "stream",
     "text": [
      "--- Exemplo 49 ---\n",
      "True\n",
      "True\n",
      "\n",
      "\n"
     ]
    }
   ],
   "source": [
    "# Exemplo 49: `isinstance()` com Herança\n",
    "# -------------------------------------\n",
    "class Base:\n",
    "    def __init__(self):\n",
    "        pass\n",
    "\n",
    "class Herdeiro(Base): # 'Herdeiro' é uma subclasse de 'Base'.\n",
    "    def __init__(self):\n",
    "        pass\n",
    "\n",
    "print(\"--- Exemplo 49 ---\")\n",
    "classe = Herdeiro() # 'classe' é uma instância de 'Herdeiro'.\n",
    "\n",
    "e_base = isinstance(classe, Base)     # Uma instância de Herdeiro TAMBÉM é uma instância de Base.\n",
    "e_herdeiro = isinstance(classe, Herdeiro) # Uma instância de Herdeiro é uma instância de Herdeiro.\n",
    "\n",
    "print(e_base)\n",
    "print(e_herdeiro)\n",
    "print(\"\\n\")\n"
   ]
  },
  {
   "cell_type": "code",
   "execution_count": 28,
   "id": "9827e062-dbb0-4c12-bb6f-96543dd934af",
   "metadata": {},
   "outputs": [
    {
     "name": "stdout",
     "output_type": "stream",
     "text": [
      "--- Exemplo 50 ---\n",
      "True\n",
      "False\n",
      "\n",
      "\n"
     ]
    }
   ],
   "source": [
    "# Exemplo 50: `isinstance()` com Instância da Classe Pai\n",
    "# ----------------------------------------------------\n",
    "class Base:\n",
    "    def __init__(self):\n",
    "        pass\n",
    "\n",
    "class Herdeiro(Base):\n",
    "    def __init__(self):\n",
    "        pass\n",
    "\n",
    "print(\"--- Exemplo 50 ---\")\n",
    "classe = Base() # Agora 'classe' é uma instância de 'Base'.\n",
    "\n",
    "e_base = isinstance(classe, Base)\n",
    "e_herdeiro = isinstance(classe, Herdeiro) # 'classe' NÃO é uma instância de 'Herdeiro'.\n",
    "\n",
    "print(e_base)\n",
    "print(e_herdeiro)\n",
    "print(\"\\n\")\n"
   ]
  },
  {
   "cell_type": "code",
   "execution_count": 29,
   "id": "3e9a9edf-bcb0-4aea-aba6-c1341cd80bc8",
   "metadata": {},
   "outputs": [
    {
     "name": "stdout",
     "output_type": "stream",
     "text": [
      "--- Exemplo 51 ---\n",
      "False\n",
      "True\n",
      "\n",
      "\n"
     ]
    }
   ],
   "source": [
    "# Exemplo 51: Verificando Subclasses com `issubclass()`\n",
    "# ---------------------------------------------------\n",
    "class Base:\n",
    "    def __init__(self):\n",
    "        pass\n",
    "\n",
    "class Herdeiro(Base):\n",
    "    def __init__(self):\n",
    "        pass\n",
    "\n",
    "print(\"--- Exemplo 51 ---\")\n",
    "e_base = issubclass(Base, Herdeiro)     # Base NÃO é uma subclasse de Herdeiro.\n",
    "e_herdeiro = issubclass(Herdeiro, Base) # Herdeiro É uma subclasse de Base.\n",
    "\n",
    "print(e_base)\n",
    "print(e_herdeiro)\n",
    "print(\"\\n\")"
   ]
  },
  {
   "cell_type": "code",
   "execution_count": 30,
   "id": "e9a877c4-57f0-4460-bfd6-e1ded8f48f28",
   "metadata": {},
   "outputs": [
    {
     "name": "stdout",
     "output_type": "stream",
     "text": [
      "--- Exemplo 52 ---\n",
      "35.3\n",
      "None\n",
      "\n",
      "\n"
     ]
    }
   ],
   "source": [
    "# Exemplo 52: `isinstance()` para Validação\n",
    "# ---------------------------------------\n",
    "print(\"--- Exemplo 52 ---\")\n",
    "def soma(num1, num2):\n",
    "    # Verifica se ambos os argumentos são números (inteiros ou floats).\n",
    "    if isinstance(num1, (int, float)) and isinstance(num2, (int, float)):\n",
    "        return num1 + num2\n",
    "    else:\n",
    "        return None # Retorna None se os tipos não forem válidos.\n",
    "\n",
    "print(soma(1,34.3))       # Ambos são números, funciona.\n",
    "print(soma(True, \"texto\")) # Um é booleano (subclasse de int), outro é string, não funciona.\n",
    "print(\"\\n\")"
   ]
  },
  {
   "cell_type": "code",
   "execution_count": 33,
   "id": "6c0ed4d3-e6d5-45fc-94bc-882b753e674e",
   "metadata": {},
   "outputs": [
    {
     "name": "stdout",
     "output_type": "stream",
     "text": [
      "--- Exemplo 53 ---\n",
      "não tem ré\n",
      "Dando ré\n",
      "\n",
      "\n"
     ]
    }
   ],
   "source": [
    "# Exemplo 53: `isinstance()` para Comportamento Condicional (Polimorfismo Implícito)\n",
    "# --------------------------------------------------------------------------------\n",
    "class Veiculo:\n",
    "    def __init__(self):\n",
    "        pass\n",
    "    def acelera(self):\n",
    "        pass\n",
    "\n",
    "class Moto(Veiculo):\n",
    "    def __init__(self):\n",
    "        pass\n",
    "\n",
    "class Carro(Veiculo):\n",
    "    def __init__(self):\n",
    "        pass\n",
    "    def re(self): # Método específico de Carro.\n",
    "        print(\"Dando ré\")\n",
    "\n",
    "print(\"--- Exemplo 53 ---\")\n",
    "def faz_re(var): # Função que verifica o tipo do veículo.\n",
    "    if isinstance(var, Carro): # Se for uma instância de Carro (ou subclasse de Carro).\n",
    "        var.re() # Chama o método 're'.\n",
    "    else:\n",
    "        print(\"não tem ré\") # Mensagem para outros tipos de veículos.\n",
    "\n",
    "motinho = Moto()\n",
    "carrinho = Carro()\n",
    "\n",
    "faz_re(motinho)   # 'motinho' não é um Carro.\n",
    "faz_re(carrinho) # 'carrinho' é um Carro.\n",
    "print(\"\\n\")"
   ]
  },
  {
   "cell_type": "markdown",
   "id": "2d48a8d5-6281-4a00-bf8c-3704a7e04be5",
   "metadata": {},
   "source": [
    "# Seção 11: Context Managers (`with` Statement)"
   ]
  },
  {
   "cell_type": "code",
   "execution_count": 35,
   "id": "86b381a2-4caa-4e98-a5d9-c03e0d676462",
   "metadata": {},
   "outputs": [
    {
     "name": "stdout",
     "output_type": "stream",
     "text": [
      "--- Exemplo 54 ---\n",
      "Memória Iniciada\n",
      "0\n",
      "1\n",
      "2\n",
      "3\n",
      "4\n",
      "5\n",
      "6\n",
      "7\n",
      "8\n",
      "9\n",
      "Memória Liberada\n",
      "Aqui o objeto já não existe mais\n",
      "\n",
      "\n"
     ]
    }
   ],
   "source": [
    "# Exemplo 54: Context Manager Básico\n",
    "# ----------------------------------\n",
    "class Lista():\n",
    "    def __init__(self):\n",
    "        pass\n",
    "\n",
    "    def __enter__(self): # Método especial chamado ao ENTRAR no bloco 'with'.\n",
    "        print(\"Memória Iniciada\")\n",
    "        self.lista = [ i for i in range(0,10)] # Inicializa um recurso (a lista).\n",
    "        return self.lista # O valor retornado por __enter__ é atribuído à variável no 'as'.\n",
    "\n",
    "    def __exit__(self, *args, **kwargs): # Método especial chamado ao SAIR do bloco 'with'.\n",
    "        print(\"Memória Liberada\")\n",
    "        del self.lista # Libera o recurso.\n",
    "\n",
    "print(\"--- Exemplo 54 ---\")\n",
    "with Lista() as temp_lista: # Inicia o bloco 'with'. __enter__ é chamado.\n",
    "    for i in temp_lista:    # Trabalha com o recurso.\n",
    "        print(i)\n",
    "\n",
    "print(\"Aqui o objeto já não existe mais\") # __exit__ já foi chamado, o recurso foi liberado.\n",
    "print(\"\\n\")"
   ]
  },
  {
   "cell_type": "code",
   "execution_count": 36,
   "id": "4219b808-32bc-4dba-8e4c-4b8296bb310f",
   "metadata": {},
   "outputs": [
    {
     "name": "stdout",
     "output_type": "stream",
     "text": [
      "--- Exemplo 55 ---\n",
      "Memória Iniciada\n",
      "0\n",
      "1\n",
      "2\n",
      "3\n",
      "4\n",
      "5\n",
      "6\n",
      "7\n",
      "8\n",
      "9\n",
      "Memória Liberada\n",
      "Aqui o objeto já não existe mais\n",
      "\n",
      "\n"
     ]
    }
   ],
   "source": [
    "# Exemplo 55: Reutilizando um Context Manager\n",
    "# -----------------------------------------\n",
    "class Lista():\n",
    "    def __init__(self):\n",
    "        pass\n",
    "\n",
    "    def __enter__(self):\n",
    "        print(\"Memória Iniciada\")\n",
    "        self.lista = [ i for i in range(0,10)]\n",
    "        return self.lista\n",
    "\n",
    "    def __exit__(self, *args, **kwargs):\n",
    "        print(\"Memória Liberada\")\n",
    "        del self.lista    \n",
    "\n",
    "print(\"--- Exemplo 55 ---\")\n",
    "minha_lista = Lista() # Cria uma instância do context manager.\n",
    "\n",
    "with minha_lista as temp_lista: # Usa a instância em um bloco 'with'.\n",
    "    for i in temp_lista:\n",
    "        print(i)\n",
    "\n",
    "print(\"Aqui o objeto já não existe mais\")\n",
    "print(\"\\n\")\n"
   ]
  },
  {
   "cell_type": "markdown",
   "id": "888c2195-d39e-4a9b-83d6-104b17bf0fa1",
   "metadata": {},
   "source": [
    "# Seção 12: Sobrecarga de Operadores (Dunder Methods)"
   ]
  },
  {
   "cell_type": "code",
   "execution_count": 38,
   "id": "84b8dffc-7809-4913-926c-32d36f34d581",
   "metadata": {},
   "outputs": [
    {
     "name": "stdout",
     "output_type": "stream",
     "text": [
      "--- Exemplo 56 ---\n",
      "30.5\n",
      "\n",
      "\n"
     ]
    }
   ],
   "source": [
    "# Exemplo 56: Sobrecarga do Operador `+` (Retorna Valor Simples)\n",
    "# -------------------------------------------------------------\n",
    "class MeuNumero:\n",
    "    def __init__(self,numero):\n",
    "        self.numero = numero\n",
    "    def __add__(self, outro): # Método especial para sobrecarregar o operador '+' (adição).\n",
    "        return self.numero + outro.numero # Define como a adição deve funcionar entre objetos 'MeuNumero'.\n",
    "\n",
    "print(\"--- Exemplo 56 ---\")\n",
    "num1 = MeuNumero(10)\n",
    "num2 = MeuNumero(20.5)\n",
    "\n",
    "print(num1 + num2) # Chama num1.__add__(num2).\n",
    "print(\"\\n\")\n"
   ]
  },
  {
   "cell_type": "code",
   "execution_count": 39,
   "id": "c54c706e-1e0f-4ffc-be51-9ffb57ca8058",
   "metadata": {},
   "outputs": [
    {
     "name": "stdout",
     "output_type": "stream",
     "text": [
      "--- Exemplo 58 ---\n",
      "10.5\n",
      "\n",
      "\n"
     ]
    }
   ],
   "source": [
    "# Exemplo 58: Sobrecarga do Operador `-`\n",
    "# -------------------------------------\n",
    "class MeuNumero:\n",
    "    def __init__(self,numero):\n",
    "        self.numero = numero\n",
    "    def __sub__(self, outro): # Método especial para sobrecarregar o operador '-' (subtração).\n",
    "        return self.numero - outro.numero\n",
    "\n",
    "print(\"--- Exemplo 58 ---\")\n",
    "num1 = MeuNumero(20.5)\n",
    "num2 = MeuNumero(10)\n",
    "\n",
    "print(num1 - num2) # Chama num1.__sub__(num2).\n",
    "print(\"\\n\")"
   ]
  },
  {
   "cell_type": "code",
   "execution_count": 1,
   "id": "9fb29dd4-e709-4a11-a48b-79b184befb06",
   "metadata": {},
   "outputs": [
    {
     "name": "stdout",
     "output_type": "stream",
     "text": [
      "\n",
      "--- Testando Métodos de Classe ---\n",
      "Carro Ford Ka produzido! Total: 1\n",
      "Carro Chevrolet Onix produzido! Total: 2\n",
      "Criando um carro elétrico da marca Carro...\n",
      "Carro Tesla Model 3 produzido! Total: 3\n",
      "Carro elétrico criado: Tesla Model 3\n",
      "A fábrica produziu um total de 3 carros até agora.\n"
     ]
    }
   ],
   "source": [
    "class Carro:\n",
    "    # ATRIBUTO DE CLASSE: Compartilhado por TODOS os carros\n",
    "    quantidade_carros_produzidos = 0\n",
    "\n",
    "    def __init__(self, marca, modelo, velocidade_maxima):\n",
    "        self.marca = marca\n",
    "        self.modelo = modelo\n",
    "        self.velocidade_maxima = velocidade_maxima # Já encapsulado pelo setter\n",
    "\n",
    "        # A cada novo carro criado, incrementamos o contador da CLASSE\n",
    "        Carro.quantidade_carros_produzidos += 1\n",
    "        print(f\"Carro {self.marca} {self.modelo} produzido! Total: {Carro.quantidade_carros_produzidos}\")\n",
    "\n",
    "    # ... (Seu @property e @setter para velocidade_maxima aqui) ...\n",
    "    # Coloquei o seu código de property aqui para o exemplo funcionar\n",
    "    @property\n",
    "    def velocidade_maxima(self):\n",
    "        return self._velocidade_maxima\n",
    "\n",
    "    @velocidade_maxima.setter\n",
    "    def velocidade_maxima(self, nova_velocidade):\n",
    "        try:\n",
    "            velocidade_inteira = int(nova_velocidade)\n",
    "        except ValueError:\n",
    "            print(\"Erro: Velocidade máxima deve ser um valor numérico inteiro.\")\n",
    "            return\n",
    "\n",
    "        if velocidade_inteira > 0:\n",
    "            self._velocidade_maxima = velocidade_inteira\n",
    "        else:\n",
    "            print(\"Erro: Velocidade máxima deve ser um valor inteiro e positivo.\")\n",
    "\n",
    "\n",
    "    @classmethod # Este é um MÉTODO DE CLASSE!\n",
    "    def criar_carro_eletrico(cls, modelo, velocidade_maxima):\n",
    "        # O 'cls' aqui é a CLASSE Carro.\n",
    "        # Estamos usando-o para criar uma nova instância de Carro.\n",
    "        print(f\"Criando um carro elétrico da marca {cls.__name__}...\")\n",
    "        return cls(\"Tesla\", modelo, velocidade_maxima) # Sempre \"Tesla\" para elétricos\n",
    "\n",
    "    @classmethod # Outro MÉTODO DE CLASSE para contar\n",
    "    def mostrar_total_carros(cls):\n",
    "        # Acessa o atributo de CLASSE usando cls.\n",
    "        print(f\"A fábrica produziu um total de {cls.quantidade_carros_produzidos} carros até agora.\")\n",
    "\n",
    "# --- Testando Métodos de Classe ---\n",
    "print(\"\\n--- Testando Métodos de Classe ---\")\n",
    "carro1 = Carro(\"Ford\", \"Ka\", 160)\n",
    "carro2 = Carro(\"Chevrolet\", \"Onix\", 170)\n",
    "\n",
    "# Chamando o método de classe diretamente pela CLASSE\n",
    "carro_eletrico = Carro.criar_carro_eletrico(\"Model 3\", 250)\n",
    "print(f\"Carro elétrico criado: {carro_eletrico.marca} {carro_eletrico.modelo}\")\n",
    "\n",
    "Carro.mostrar_total_carros() # Chama o método de classe"
   ]
  }
 ],
 "metadata": {
  "kernelspec": {
   "display_name": "anaconda-panel-2023.05-py310",
   "language": "python",
   "name": "conda-env-anaconda-panel-2023.05-py310-py"
  },
  "language_info": {
   "codemirror_mode": {
    "name": "ipython",
    "version": 3
   },
   "file_extension": ".py",
   "mimetype": "text/x-python",
   "name": "python",
   "nbconvert_exporter": "python",
   "pygments_lexer": "ipython3",
   "version": "3.11.5"
  }
 },
 "nbformat": 4,
 "nbformat_minor": 5
}
