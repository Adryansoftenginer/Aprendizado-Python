{
 "cells": [
  {
   "cell_type": "markdown",
   "id": "d20d5067-51eb-4144-9964-d3606874d467",
   "metadata": {},
   "source": [
    "# Fundamentos\n"
   ]
  },
  {
   "cell_type": "markdown",
   "id": "65fd38d3-bfac-4d03-8116-9a2352607fa6",
   "metadata": {},
   "source": [
    "## Comentários"
   ]
  },
  {
   "cell_type": "code",
   "execution_count": 1,
   "id": "37ce39c3-ba1b-428c-a425-0a265e920d2d",
   "metadata": {
    "scrolled": true
   },
   "outputs": [
    {
     "name": "stdout",
     "output_type": "stream",
     "text": [
      "olá mundo\n",
      "olá mundo\n",
      "10\n",
      "20.5\n"
     ]
    }
   ],
   "source": [
    "\n",
    "# isto é um comentário\n",
    "# isto é outro comentário\n",
    "print(\"olá mundo\") # isto é um comentário\n",
    "\n",
    "''' Este é um comentário\n",
    "o comentário continua aqui\n",
    "aqui ainda continua\n",
    "e aqui termina '''\n",
    "\n",
    "print('olá mundo') # Imprime a string 'olá mundo'\n",
    "print(10) # Imprime o número inteiro 10\n",
    "print(20.5) # Imprime o número decimal 20.5\n",
    "\n"
   ]
  },
  {
   "cell_type": "code",
   "execution_count": 2,
   "id": "986b0fb7-982a-4e41-80b3-b547cac3c901",
   "metadata": {},
   "outputs": [
    {
     "name": "stdout",
     "output_type": "stream",
     "text": [
      "Maça 20 30.45\n"
     ]
    }
   ],
   "source": [
    "print(\"Maça\", 20, 30.45) # Imprime múltiplos valores separados por vírgula\n"
   ]
  },
  {
   "cell_type": "code",
   "execution_count": 3,
   "id": "11f93148-d43b-4c54-8c11-a1be484840cb",
   "metadata": {},
   "outputs": [
    {
     "name": "stdout",
     "output_type": "stream",
     "text": [
      "Maça - Pera - Uva\n"
     ]
    }
   ],
   "source": [
    "print(\"Maça\", \"Pera\", \"Uva\", sep=' - ') # Imprime os valores separados pelo caractere ' - '\n"
   ]
  },
  {
   "cell_type": "code",
   "execution_count": 4,
   "id": "7936d160-ccac-4d08-b449-c792b8467173",
   "metadata": {},
   "outputs": [
    {
     "name": "stdout",
     "output_type": "stream",
     "text": [
      "Maça Pera Fim"
     ]
    }
   ],
   "source": [
    "print(\"Maça\",\"Pera\", end = ' Fim', sep=' ') # Imprime os valores e adiciona ' Fim' no final da linha\n"
   ]
  },
  {
   "cell_type": "code",
   "execution_count": 5,
   "id": "26c69684-6f8b-495c-8bb2-dedc91dc7c5d",
   "metadata": {},
   "outputs": [
    {
     "name": "stdout",
     "output_type": "stream",
     "text": [
      "Este é um texto longo, \n",
      " eu quero quebrar a linha\n"
     ]
    }
   ],
   "source": [
    "print(\"Este é um texto longo, \\n eu quero quebrar a linha\") # Imprime um texto com quebra de linha\n"
   ]
  },
  {
   "cell_type": "code",
   "execution_count": 6,
   "id": "f41943d5-4630-41fa-8eab-13e0e8b1d350",
   "metadata": {},
   "outputs": [
    {
     "name": "stdout",
     "output_type": "stream",
     "text": [
      "Maça\n",
      "Pera\n"
     ]
    }
   ],
   "source": [
    "print(\"Maça\",\"Pera\", sep='\\n') # Imprime os valores em linhas separadas\n"
   ]
  },
  {
   "cell_type": "code",
   "execution_count": 7,
   "id": "fe879950-afdc-476e-b6d1-0fc65dcb8fa6",
   "metadata": {},
   "outputs": [
    {
     "name": "stdout",
     "output_type": "stream",
     "text": [
      "A pontuação total de Adryan foi 10 pontos\n"
     ]
    }
   ],
   "source": [
    "print(\"A pontuação total de %s foi %s pontos\" % (\"Adryan\",\"10\") ) # Formata a string usando o operador %\n"
   ]
  },
  {
   "cell_type": "code",
   "execution_count": 8,
   "id": "21dc1b43-e436-4941-9a8a-0df57fdfe989",
   "metadata": {},
   "outputs": [
    {
     "name": "stdout",
     "output_type": "stream",
     "text": [
      "A pontuação total de Adryan foi 10 pontos\n"
     ]
    }
   ],
   "source": [
    "print(\"A pontuação total de {} foi {} pontos\".format(\"Adryan\",\"10\")) # Formata a string usando o método format()\n"
   ]
  },
  {
   "cell_type": "code",
   "execution_count": 9,
   "id": "3d728e55-74c7-48a4-8928-5786daa161de",
   "metadata": {},
   "outputs": [
    {
     "name": "stdout",
     "output_type": "stream",
     "text": [
      "A pontuação total de Adryan foi 10 pontos\n"
     ]
    }
   ],
   "source": [
    "print(\"A pontuação total de\" + \" Adryan\" + \" foi\" + \" 10 \" + \"pontos\") # Concatena strings usando o operador +\n"
   ]
  },
  {
   "cell_type": "markdown",
   "id": "d9cb118b-cf8b-436e-902a-05a27a27da35",
   "metadata": {},
   "source": [
    "# exercícios"
   ]
  },
  {
   "cell_type": "code",
   "execution_count": 9,
   "id": "21e1b9a3-91f6-40f7-9def-79069a97c045",
   "metadata": {},
   "outputs": [
    {
     "name": "stdout",
     "output_type": "stream",
     "text": [
      "Adryan\n",
      "22\n",
      "1,72\n"
     ]
    }
   ],
   "source": [
    "#1 - Realize o print do seu nome completo, sua idade e sua \n",
    "# altura utilizando um print para cada valor.\n",
    "\n",
    "print(\"Adryan\") # Imprime o nome\n",
    "print(\"22\") # Imprime a idade\n",
    "print(\"1,72\") # Imprime a altura"
   ]
  },
  {
   "cell_type": "code",
   "execution_count": 10,
   "id": "5b74bb49-2be9-4b57-bb74-f508078fa65a",
   "metadata": {},
   "outputs": [
    {
     "name": "stdout",
     "output_type": "stream",
     "text": [
      "Nome: Fernando, idade:30, altura:1,90\n",
      "1-2-3\n"
     ]
    }
   ],
   "source": [
    "#2 - Realize o print do seu nome completo, sua idade e sua altura \n",
    "# utilizando apenas um print para todos valores.\n",
    "\n",
    "print(\"Nome: {}, idade:{}, altura:{}\".format(\"Fernando\", \"30\", \"1,90\")) # Imprime nome, idade e altura em uma única linha formatada\n",
    "\n",
    "#3 - Realize o print de 3 números de sua escolha em um mesmo print, \n",
    "# mas separados pelo caracter '-'.\n",
    "\n",
    "print(1,2,3, sep=\"-\") # Imprime 3 números separados por hífens"
   ]
  },
  {
   "cell_type": "markdown",
   "id": "b490db1e-3b93-4c2f-8997-e19082761733",
   "metadata": {},
   "source": [
    "# VARIAVEIS\n"
   ]
  },
  {
   "cell_type": "code",
   "execution_count": 13,
   "id": "93e0fae6-9e3b-4c46-9018-e7bdd30c8d65",
   "metadata": {},
   "outputs": [
    {
     "name": "stdout",
     "output_type": "stream",
     "text": [
      "1 2 3 4\n",
      "10\n",
      "20\n",
      "Olá mundo!\n"
     ]
    }
   ],
   "source": [
    "_numero = 1 # Cria uma variável com underscore inicial\n",
    "Numero = 2 # Cria uma variável com letra maiúscula inicial\n",
    "numero = 3 # Cria uma variável com letra minúscula inicial\n",
    "numero123 = 4 # Cria uma variável com números no final\n",
    "print(_numero, Numero, numero, numero123) # Imprime os valores das variáveis\n",
    "\n",
    "numero = 10 # Atribui o valor 10 à variável numero\n",
    "print(numero) # Imprime o valor de numero\n",
    "numero = 20 # Reatribui o valor 20 à variável numero\n",
    "print(numero) # Imprime o novo valor de numero\n",
    "\n",
    "texto = 'Olá mundo!' # Cria uma variável do tipo string\n",
    "print(texto) # Imprime a variável de texto\n"
   ]
  },
  {
   "cell_type": "code",
   "execution_count": 14,
   "id": "3c709cd2-0403-4d2d-a2e6-aa84dc1dfda3",
   "metadata": {},
   "outputs": [],
   "source": [
    "# Tipos Primitivos\"\"\""
   ]
  },
  {
   "cell_type": "code",
   "execution_count": 15,
   "id": "9a0d9fed-7da7-4baf-afe7-84111e33d47d",
   "metadata": {},
   "outputs": [
    {
     "name": "stdout",
     "output_type": "stream",
     "text": [
      "None\n",
      "10\n",
      "1.53\n",
      "olá, isto é um texto\n"
     ]
    }
   ],
   "source": [
    "variavel = None # Declara uma variável com valor None\n",
    "print(variavel) # Imprime o valor None\n",
    "\n",
    "inteiro = 10 # Declara uma variável inteira\n",
    "print(inteiro) # Imprime o valor da variável\n",
    "\n",
    "decimal = 1.53 # Declara uma variável de ponto flutuante\n",
    "print(decimal) # Imprime o valor da variável\n",
    "\n",
    "texto = \"olá, isto é um texto\" # Declara uma variável do tipo string\n",
    "print(texto) # Imprime o valor da variável"
   ]
  },
  {
   "cell_type": "code",
   "execution_count": 16,
   "id": "3e6f8aa5-18a0-46fb-9ee6-51456cc39b62",
   "metadata": {},
   "outputs": [
    {
     "name": "stdout",
     "output_type": "stream",
     "text": [
      "True\n",
      "False\n"
     ]
    }
   ],
   "source": [
    "var = True # Declara uma variável booleana com valor True\n",
    "print(var) # Imprime True\n",
    "var = False # Altera o valor da variável para False\n",
    "print(var) # Imprime False\n"
   ]
  },
  {
   "cell_type": "code",
   "execution_count": 17,
   "id": "f36965a7-3127-4646-ae04-f65ba823ea13",
   "metadata": {},
   "outputs": [
    {
     "name": "stdout",
     "output_type": "stream",
     "text": [
      "10\n"
     ]
    }
   ],
   "source": [
    "var1 = 10 # Declara uma variável inteira\n",
    "var2 = var1 # Atribui o valor de var1 para var2\n",
    "print(var2) # Imprime o valor de var2\n"
   ]
  },
  {
   "cell_type": "markdown",
   "id": "6968b3e5-4339-4da6-8e10-e8ea8df55914",
   "metadata": {},
   "source": [
    "# TIPOS PRIMITIVOS"
   ]
  },
  {
   "cell_type": "code",
   "execution_count": 10,
   "id": "6c456fbc-be54-49e4-9a4d-35e58f9d65b8",
   "metadata": {},
   "outputs": [
    {
     "name": "stdout",
     "output_type": "stream",
     "text": [
      "None\n"
     ]
    }
   ],
   "source": [
    "variavel = None # Declara uma variável com valor None\n",
    "print(variavel) # Imprime o valor None"
   ]
  },
  {
   "cell_type": "code",
   "execution_count": 11,
   "id": "b8724afb-7c85-4659-a9ad-c3a8bb20d141",
   "metadata": {},
   "outputs": [
    {
     "name": "stdout",
     "output_type": "stream",
     "text": [
      "10\n"
     ]
    }
   ],
   "source": [
    "inteiro = 10 # Declara uma variável inteira\n",
    "print(inteiro) # Imprime o valor da variável\n"
   ]
  },
  {
   "cell_type": "code",
   "execution_count": 12,
   "id": "40783abd-af3b-4a1a-9648-34510feb861f",
   "metadata": {},
   "outputs": [
    {
     "name": "stdout",
     "output_type": "stream",
     "text": [
      "1.53\n"
     ]
    }
   ],
   "source": [
    "decimal = 1.53 # Declara uma variável de ponto flutuante\n",
    "print(decimal) # Imprime o valor da variável"
   ]
  },
  {
   "cell_type": "code",
   "execution_count": 13,
   "id": "c9b39570-dac4-4d3e-9c3e-b89687890a0c",
   "metadata": {},
   "outputs": [
    {
     "name": "stdout",
     "output_type": "stream",
     "text": [
      "olá, isto é um texto\n"
     ]
    }
   ],
   "source": [
    "texto = \"olá, isto é um texto\" # Declara uma variável do tipo string\n",
    "print(texto) # Imprime o valor da variável"
   ]
  },
  {
   "cell_type": "code",
   "execution_count": 14,
   "id": "cf1768c2-a8ef-483f-b0aa-5c7d759b96cf",
   "metadata": {},
   "outputs": [
    {
     "name": "stdout",
     "output_type": "stream",
     "text": [
      "True\n",
      "False\n"
     ]
    }
   ],
   "source": [
    "var = True # Declara uma variável booleana com valor True\n",
    "print(var) # Imprime True\n",
    "var = False # Altera o valor da variável para False\n",
    "print(var) # Imprime False"
   ]
  },
  {
   "cell_type": "code",
   "execution_count": 15,
   "id": "38998776-cfaf-4325-8d42-14b71351fd31",
   "metadata": {},
   "outputs": [
    {
     "name": "stdout",
     "output_type": "stream",
     "text": [
      "10\n"
     ]
    }
   ],
   "source": [
    "var1 = 10 # Declara uma variável inteira\n",
    "var2 = var1 # Atribui o valor de var1 para var2\n",
    "print(var2) # Imprime o valor de var2"
   ]
  },
  {
   "cell_type": "code",
   "execution_count": 16,
   "id": "2cf97f24-5de6-403b-9732-4caab5b35154",
   "metadata": {},
   "outputs": [
    {
     "name": "stdout",
     "output_type": "stream",
     "text": [
      "None\n",
      "1\n",
      "Texto\n"
     ]
    }
   ],
   "source": [
    "var = None # Atribui None para a variável\n",
    "print(var) # Imprime None\n",
    "var = 1 # Atribui o inteiro 1 para a variável\n",
    "print(var) # Imprime 1\n",
    "var = \"Texto\" # Atribui a string \"Texto\" para a variável\n",
    "print(var) # Imprime \"Texto\""
   ]
  },
  {
   "cell_type": "code",
   "execution_count": 17,
   "id": "66badd53-8ef0-4290-bb7e-aba3077eb2f7",
   "metadata": {},
   "outputs": [],
   "source": []
  },
  {
   "cell_type": "markdown",
   "id": "d2a58063-559e-4567-84a6-992e58c29e64",
   "metadata": {},
   "source": [
    "# Exercícios Variáveris"
   ]
  },
  {
   "cell_type": "code",
   "execution_count": 18,
   "id": "66aca15b-a058-42a9-8117-f24caa579dd1",
   "metadata": {},
   "outputs": [
    {
     "name": "stdout",
     "output_type": "stream",
     "text": [
      "4\n",
      "1.45\n",
      "casa\n",
      "True\n",
      "False\n",
      "Adryan\n",
      "08209982656\n",
      "solteiro\n",
      "Meu nome é adryan tenho: 22 minha altura é: 1.75\n"
     ]
    }
   ],
   "source": [
    "\n",
    "\n",
    "\n",
    "#1 - Crie uma variável de cada tipo e ponha alguma valor escolhido. \n",
    "#Em seguida, printe todos esses valores.\n",
    "Int = \"4\"\n",
    "float = 1.45\n",
    "String = \"casa\"\n",
    "sucesso = True\n",
    "fracasso = False\n",
    "print(Int)\n",
    "print(float)\n",
    "print(String)\n",
    "print(sucesso)\n",
    "print(fracasso)\n",
    "\n",
    "#2 - Crie variáveis para guardar seu nome, CPF e uma que indique \n",
    "# se você esta casado, em seguida printe esses valores separadamente, \n",
    "# mas não esqueça de printar junto o que eles significam.\n",
    "Nome = \"Adryan\"\n",
    "CPF = \"08209982656\"\n",
    "estadocivil = \"solteiro\"\n",
    "print(Nome)\n",
    "print(CPF)\n",
    "print(estadocivil)\n",
    "\n",
    "# 3 \"Crie três variáveis: nome, idade e altura. Exiba uma mensagem como esta: \"Meu nome é Leandro, tenho 30 anos e minha altura é 1.75m.\"\n",
    "nome = \"adryan\"\n",
    "idade = \"22\"\n",
    "altura = \"1.75\"\n",
    "print(\"Meu nome é\", nome, \"tenho:\", idade, \"minha altura é:\", altura)"
   ]
  },
  {
   "cell_type": "markdown",
   "id": "5a93a776-15cb-4cd9-99d5-a7a9ebe387f5",
   "metadata": {
    "jupyter": {
     "source_hidden": true
    }
   },
   "source": [
    "# operadores aritméticos"
   ]
  },
  {
   "cell_type": "markdown",
   "id": "2572647c-44af-42e4-a57c-1c620d748f24",
   "metadata": {},
   "source": [
    "# FORMATAÇÃO"
   ]
  },
  {
   "cell_type": "code",
   "execution_count": null,
   "id": "e63c3463-439f-41f6-8f6a-a9c1fd04cd6f",
   "metadata": {},
   "outputs": [],
   "source": [
    "# %s Texto\n",
    "#%d inteiro\n",
    "#%f real"
   ]
  },
  {
   "cell_type": "code",
   "execution_count": 20,
   "id": "81914014-3edb-4818-bc28-7ffa5dbba20b",
   "metadata": {},
   "outputs": [
    {
     "name": "stdout",
     "output_type": "stream",
     "text": [
      "O nome dela é Ana \n"
     ]
    }
   ],
   "source": [
    "nome = \"Ana\" # Cria uma variável de nome\n",
    "texto_formatado = \"O nome dela é %s \" % (nome) # Formata a string com o nome\n",
    "print(texto_formatado) # Imprime a string formatada"
   ]
  },
  {
   "cell_type": "code",
   "execution_count": 19,
   "id": "26433c65-823c-4a0e-a9b1-9cc8498d6505",
   "metadata": {},
   "outputs": [
    {
     "name": "stdout",
     "output_type": "stream",
     "text": [
      "Meu nome é Rodrigo. tenho 23 anos e tenho 1.730000 metros de altura\n"
     ]
    }
   ],
   "source": [
    "nome = \"Rodrigo\" # Cria uma variável de nome\n",
    "idade = 23 # Cria uma variável de idade\n",
    "altura = 1.73 # Cria uma variável de altura\n",
    "texto = \"Meu nome é %s. tenho %d anos e tenho %f metros de altura\" % (nome, idade, altura) # Formata a string com todas as variáveis\n",
    "print(texto) # Imprime a string formatada"
   ]
  },
  {
   "cell_type": "code",
   "execution_count": 24,
   "id": "e231c4d3-5b65-4902-bb52-3f624494eff8",
   "metadata": {},
   "outputs": [
    {
     "name": "stdout",
     "output_type": "stream",
     "text": [
      "Olá, assim se quebra uma linha,\n",
      "\tentendeu como quebra a linha?\n",
      "\t\tfim\n"
     ]
    }
   ],
   "source": [
    "texto = \"Olá, assim se quebra uma linha,\\n\\tentendeu como quebra a linha?\\n\\t\\tfim\" # Demonstra a quebra de linha e tabulação\n",
    "print(texto) # Imprime o texto formatado\n"
   ]
  },
  {
   "cell_type": "code",
   "execution_count": 25,
   "id": "1661378b-1755-4172-8b64-fc19b3f62d7a",
   "metadata": {},
   "outputs": [
    {
     "name": "stdout",
     "output_type": "stream",
     "text": [
      "Número gigante formatado: 1.12\n"
     ]
    }
   ],
   "source": [
    "numero_gigante = 1.123456789 # Cria uma variável de ponto flutuante\n",
    "print(\"Número gigante formatado: %.2f\" % (numero_gigante)) # Formata o número para ter apenas duas casas decimais\n"
   ]
  },
  {
   "cell_type": "code",
   "execution_count": 26,
   "id": "c2e1e31d-4d16-44f4-bd8f-ab4047c22bbc",
   "metadata": {},
   "outputs": [
    {
     "name": "stdout",
     "output_type": "stream",
     "text": [
      "Deixa a 'palavra' entre aspas\n"
     ]
    }
   ],
   "source": [
    "texto = 'Deixa a \\'palavra\\' entre aspas' # Demonstra como usar aspas dentro de uma string\n",
    "print(texto) # Imprime o texto com as aspas\n"
   ]
  },
  {
   "cell_type": "code",
   "execution_count": 27,
   "id": "f292abe3-86b6-4aeb-9be4-f602f2315fdb",
   "metadata": {
    "scrolled": true
   },
   "outputs": [
    {
     "name": "stdout",
     "output_type": "stream",
     "text": [
      "Eu nasci em 4/12/1980\n",
      "Agora são 21 horas e 53 minutos\n",
      "O PI é normalmente exibido com 3.14159\n"
     ]
    }
   ],
   "source": [
    "# 1 - Escreva e formate a data em que você nasceu no formato dia/mês/ano. \n",
    "# Não esqueça de criar 3 variáveis para guardar o dia, mês e ano.\n",
    "\n",
    "dia, mes, ano = 4, 12, 1980 # Cria 3 variáveis em uma linha\n",
    "data = \"Eu nasci em %d/%d/%d\" % (dia, mes, ano) # Formata a data\n",
    "print(data) # Imprime a data formatada\n",
    "\n",
    "# 2 - Escreva e formate a hora e minuto atual. \n",
    "# Não esqueça de criar duas variáveis para guardar a hora e minuto.\n",
    "\n",
    "horas = 21 # Cria uma variável para as horas\n",
    "minutos = 53 # Cria uma variável para os minutos\n",
    "print(\"Agora são %d horas e %d minutos\" % (horas, minutos)) # Formata e imprime a hora e o minuto\n",
    "\n",
    "# 3 - Escreva um programa que contêm o número PI, que deve ter o valor exato \n",
    "# de 3.14159265359. Agora formate esse número para ter apenas cinco casas decimais.\n",
    "\n",
    "pi = 3.14159265359 # Cria a variável PI\n",
    "pi_formatado = 'O PI é normalmente exibido com %.5f' % (pi) # Formata PI com 5 casas decimais\n",
    "print(pi_formatado) # Imprime o PI formatado"
   ]
  },
  {
   "cell_type": "code",
   "execution_count": null,
   "id": "4b2d308e-af6d-4e5d-a602-d150005102ef",
   "metadata": {},
   "outputs": [],
   "source": []
  },
  {
   "cell_type": "markdown",
   "id": "acb25cb8-c59b-4ee0-b717-3f41d16d1117",
   "metadata": {},
   "source": [
    "# OPERADORES Aritméticos"
   ]
  },
  {
   "cell_type": "code",
   "execution_count": 33,
   "id": "471dc5cb-9d21-40c0-8777-e846d6e8a290",
   "metadata": {},
   "outputs": [
    {
     "name": "stdout",
     "output_type": "stream",
     "text": [
      "30\n",
      "20.5\n"
     ]
    }
   ],
   "source": [
    "print(10 + 20) # Realiza uma adição e imprime o resultado\n",
    "\n",
    "numero = 10 + 10.5 # Soma um inteiro e um float, resultando em um float\n",
    "print(numero) # Imprime o resultado\n",
    "outro_numero = 30 + numero # Soma um inteiro com um float\n",
    "print(outro_numero) # Imprime o resultado"
   ]
  },
  {
   "cell_type": "code",
   "execution_count": 36,
   "id": "89a39d23-c02b-4b4c-b09e-345d92e4c87a",
   "metadata": {},
   "outputs": [
    {
     "name": "stdout",
     "output_type": "stream",
     "text": [
      "10\n"
     ]
    }
   ],
   "source": [
    "numero = 20 -10 # Realiza uma subtração\n",
    "print(numero) # Imprime o resultado"
   ]
  },
  {
   "cell_type": "code",
   "execution_count": 35,
   "id": "3cbbb78b-3c83-4746-87e8-e072713a7ba7",
   "metadata": {},
   "outputs": [
    {
     "name": "stdout",
     "output_type": "stream",
     "text": [
      "10\n"
     ]
    }
   ],
   "source": [
    "numero = 20 -10 # Realiza uma subtração\n",
    "print(numero) # Imprime o resultado\n"
   ]
  },
  {
   "cell_type": "code",
   "execution_count": 37,
   "id": "d64c8774-9c9e-4713-a50f-6a61d3721aca",
   "metadata": {},
   "outputs": [
    {
     "name": "stdout",
     "output_type": "stream",
     "text": [
      "20\n"
     ]
    }
   ],
   "source": [
    "numero = 10 * 2 # Realiza uma multiplicação\n",
    "print(numero) # Imprime o resultado\n"
   ]
  },
  {
   "cell_type": "code",
   "execution_count": 38,
   "id": "8ed7331c-c1b1-49c6-abdb-b94d469a36ce",
   "metadata": {},
   "outputs": [
    {
     "name": "stdout",
     "output_type": "stream",
     "text": [
      "3.3333333333333335\n"
     ]
    }
   ],
   "source": [
    "numero = 10 / 3 # Realiza uma divisão com resultado em ponto flutuante\n",
    "print(numero) # Imprime o resultado"
   ]
  },
  {
   "cell_type": "code",
   "execution_count": 39,
   "id": "2120b347-0bc1-4245-b5b3-14ea840cea24",
   "metadata": {},
   "outputs": [
    {
     "name": "stdout",
     "output_type": "stream",
     "text": [
      "3\n"
     ]
    }
   ],
   "source": [
    "numero = 10 // 3 # Realiza uma divisão inteira (retorna apenas a parte inteira)\n",
    "print(numero) # Imprime o resultado"
   ]
  },
  {
   "cell_type": "code",
   "execution_count": 40,
   "id": "67ccc831-149e-47c2-b8d6-6e1768d88d6f",
   "metadata": {},
   "outputs": [
    {
     "name": "stdout",
     "output_type": "stream",
     "text": [
      "16\n"
     ]
    }
   ],
   "source": [
    "numero = 2 ** 4 # Realiza a exponenciação (2 elevado a 4)\n",
    "print(numero) # Imprime o resultado"
   ]
  },
  {
   "cell_type": "code",
   "execution_count": 41,
   "id": "edff8b2d-5a47-4f2c-8cd7-c3059e5c3adc",
   "metadata": {},
   "outputs": [
    {
     "name": "stdout",
     "output_type": "stream",
     "text": [
      "1\n"
     ]
    }
   ],
   "source": [
    "numero = 4 % 3 # Realiza o módulo (resto da divisão)\n",
    "print(numero) # Imprime o resto da divisão\n"
   ]
  },
  {
   "cell_type": "code",
   "execution_count": 43,
   "id": "33990657-0a41-4480-b3f4-53b507fb7c9c",
   "metadata": {},
   "outputs": [
    {
     "name": "stdout",
     "output_type": "stream",
     "text": [
      "21\n"
     ]
    }
   ],
   "source": [
    "nume1 = 10 * 2 + 1 # Demonstra a precedência de operadores (multiplicação antes da soma)\n",
    "print(nume1) # Imprime o resultado\n"
   ]
  },
  {
   "cell_type": "code",
   "execution_count": 44,
   "id": "9386ab96-4c80-487b-b827-0123e74389af",
   "metadata": {},
   "outputs": [
    {
     "name": "stdout",
     "output_type": "stream",
     "text": [
      "30\n"
     ]
    }
   ],
   "source": [
    "nume1 = 10 * (2 + 1) # Demonstra o uso de parênteses para mudar a precedência\n",
    "print(nume1) # Imprime o resultado\n"
   ]
  },
  {
   "cell_type": "code",
   "execution_count": 45,
   "id": "5bfc161b-2f81-4f68-8ca2-06655cbe8c33",
   "metadata": {},
   "outputs": [
    {
     "name": "stdout",
     "output_type": "stream",
     "text": [
      "0\n"
     ]
    }
   ],
   "source": [
    "nume1 = 3 * 3 - 9 # Demonstra a precedência de operadores\n",
    "print(nume1) # Imprime o resultado\n"
   ]
  },
  {
   "cell_type": "code",
   "execution_count": 46,
   "id": "80e5d566-c420-4adc-b051-a22ecc48ac88",
   "metadata": {},
   "outputs": [
    {
     "name": "stdout",
     "output_type": "stream",
     "text": [
      "-18\n"
     ]
    }
   ],
   "source": [
    "nume1 = 3 * (3 - 9) # Demonstra o uso de parênteses para mudar a precedência\n",
    "print(nume1) # Imprime o resultado"
   ]
  },
  {
   "cell_type": "code",
   "execution_count": 47,
   "id": "f16ca9bb-9448-4d3e-8eed-510dd6240a2a",
   "metadata": {},
   "outputs": [
    {
     "name": "stdout",
     "output_type": "stream",
     "text": [
      "120\n"
     ]
    }
   ],
   "source": [
    "nume1 = 20 # Declara a primeira variável\n",
    "nume2 = 40 # Declara a segunda variável\n",
    "nume3 = 60 # Declara a terceira variável\n",
    "resultado = nume1 + nume2 + nume3 # Soma as três variáveis\n",
    "print(resultado) # Imprime o resultado\n"
   ]
  },
  {
   "cell_type": "code",
   "execution_count": 48,
   "id": "8c392904-3219-4583-8a80-c80d0ceaa45f",
   "metadata": {},
   "outputs": [
    {
     "name": "stdout",
     "output_type": "stream",
     "text": [
      "240\n",
      "2\n"
     ]
    }
   ],
   "source": [
    "resultado = resultado * 2 # Multiplica o resultado anterior por 2\n",
    "print(resultado) # Imprime o novo resultado\n",
    "\n",
    "a = 1 # Declara a variável a\n",
    "a += 1 # Operador de atribuição de adição (a = a + 1)\n",
    "print(a) # Imprime o novo valor de a\n"
   ]
  },
  {
   "cell_type": "code",
   "execution_count": null,
   "id": "04ed0908-fef4-41e5-b5f4-e9ee35e5f3dd",
   "metadata": {},
   "outputs": [],
   "source": []
  },
  {
   "cell_type": "code",
   "execution_count": null,
   "id": "2a78a50d-5a47-47c5-bd8a-d8eb0f1b5f3c",
   "metadata": {},
   "outputs": [],
   "source": []
  },
  {
   "cell_type": "code",
   "execution_count": null,
   "id": "53f0d454-afcd-4d2b-97a9-c36585541046",
   "metadata": {},
   "outputs": [],
   "source": []
  },
  {
   "cell_type": "code",
   "execution_count": 31,
   "id": "6d82e90a-2e9c-464f-ab2b-efb9b9f7efb9",
   "metadata": {},
   "outputs": [
    {
     "name": "stdout",
     "output_type": "stream",
     "text": [
      "23\n"
     ]
    }
   ],
   "source": [
    "# 1 - Crie um programa que possui duas variáveis, uma recebe o ano \n",
    "# em que estamos e a outra o ano em que você nasceu. \n",
    "# Em seguida subtraia ambas para receber uma estimativa de quantos anos você tem. \n",
    "# Mostre esse valor na saída do programa.\n",
    "ano = 2025\n",
    "nascido = 2002\n",
    "anos_de_vida = (ano - nascido)\n",
    "print(anos_de_vida)"
   ]
  },
  {
   "cell_type": "code",
   "execution_count": 30,
   "id": "acbbc225-e853-49e1-a2c6-6290bcd8a905",
   "metadata": {},
   "outputs": [
    {
     "name": "stdout",
     "output_type": "stream",
     "text": [
      "A média é 10.333333 \n"
     ]
    }
   ],
   "source": [
    "# 2 - Crie um programa que faz a média aritmética entre três números. \n",
    "# Estes números devem ser salvos em uma variável. \n",
    "# Mostre esse valor na saída do programa.\n",
    "\n",
    "num1 = 10\n",
    "num2 = 15\n",
    "num3 = 6\n",
    "media = (num1 + num2 + num3) / 3\n",
    "print(\"A média é %f \" % (media))"
   ]
  },
  {
   "cell_type": "code",
   "execution_count": 29,
   "id": "e7b0de56-a81f-4d1a-adb9-81dbe8056627",
   "metadata": {},
   "outputs": [
    {
     "name": "stdout",
     "output_type": "stream",
     "text": [
      "O IMC é  27.0\n"
     ]
    }
   ],
   "source": [
    "# 3 - Crie um programa que calcule o IMC (índice de massa corporal).\n",
    "# O IMC é dado pelo peso em KG divido pela altura em metros elevado ao quadrado. \n",
    "# Salvar esses valores em uma variável. Mostre esse valor na saída do programa.\n",
    "\n",
    "peso = 80.5\n",
    "altura = 1.72\n",
    "imc = peso // altura ** 2\n",
    "print('O IMC é ', imc)"
   ]
  },
  {
   "cell_type": "code",
   "execution_count": 28,
   "id": "d7539056-9fbe-47c8-a802-368250248990",
   "metadata": {},
   "outputs": [
    {
     "name": "stdout",
     "output_type": "stream",
     "text": [
      "Tenho inicialmente 56 ovos para 3 pessoas \n",
      "Cada uma das 3 pessoas terá 18 ovo(s) \n",
      "Restou 2 ovo(s) que não puderam ser divididos\n"
     ]
    }
   ],
   "source": [
    "# 4 (Desafio) - Você tem um determinado números de ovos de páscoa para dividir \n",
    "# entre um determinado número de pessoas (duas variáveis iniciais). \n",
    "# Determine quantos ovos ficarão por pessoa e quantos ovos sobrarão \n",
    "# pois não puderam ser divido igualmente. \n",
    "# Lembre que o número de ovos por pessoa é um número inteiro\n",
    "\n",
    "ovos = 56\n",
    "pessoas = 3\n",
    "print(\"Tenho inicialmente %d ovos para %d pessoas \" % (ovos, pessoas))\n",
    "ovos_por_pessoas = ovos // pessoas\n",
    "ovos_restantes = ovos % pessoas\n",
    "print(\"Cada uma das %d pessoas terá %d ovo(s) \" % (pessoas, ovos_por_pessoas))\n",
    "print(\"Restou %d ovo(s) que não puderam ser divididos\" % (ovos_restantes))"
   ]
  },
  {
   "cell_type": "markdown",
   "id": "124031ad-80e4-443c-ad0c-80854893f746",
   "metadata": {},
   "source": [
    "# OPERADORES LÓGICOS"
   ]
  },
  {
   "cell_type": "code",
   "execution_count": 286,
   "id": "3f7dda5d-5964-457c-914a-8f14efabc391",
   "metadata": {},
   "outputs": [
    {
     "name": "stdout",
     "output_type": "stream",
     "text": [
      "False\n"
     ]
    }
   ],
   "source": [
    "'''AND: resulta verdadeiro se todos os valores envolvidos na operação \n",
    "forem verdadeiros, caso contrário resulta false\n",
    " True AND False => False\n",
    " True AND True => True\n",
    " False and False => False\n",
    "\n",
    " OR: resulta em verdadeiro de qualquer um dos operadores for \n",
    "verdadeiro\n",
    " True OR False => True\n",
    " True OR True => True\n",
    " \n",
    " False OR False => False\n",
    " NOT: inverte o resultado lógico\n",
    " Not(True) => False\n",
    " Not(False) => True '''\n",
    "\n",
    "# Prioridade\n",
    "# NOT , AND, OR\n",
    "\n",
    "\n",
    "\n",
    "\n",
    "# %%\n",
    "True or False\n",
    "7 != 3 and 2 > 3\n",
    "\n",
    "# Tabela verdade do AND\n",
    "True and True\n",
    "True and False\n",
    "False and True\n",
    "False and False\n",
    "True and True and False and True and True and True\n",
    "\n",
    "# Tabela verdade do OR\n",
    "True or True\n",
    "True or False\n",
    "False or True\n",
    "False or False\n",
    "False or False or True or False or False or False\n",
    "\n",
    "# Tabela verdade do XOR\n",
    "# True != True\n",
    "# True != False\n",
    "# False != True\n",
    "# False != False\n",
    "\n",
    "# Operador de Negação (unário)\n",
    "not True\n",
    "not False\n",
    "\n",
    "not 0\n",
    "not 1\n",
    "not not -1\n",
    "not not True\n",
    "\n",
    "\n"
   ]
  },
  {
   "cell_type": "code",
   "execution_count": 268,
   "id": "6bd874b1-232b-4112-b4ca-fbcc3d49ac8b",
   "metadata": {},
   "outputs": [
    {
     "name": "stdout",
     "output_type": "stream",
     "text": [
      "True\n"
     ]
    }
   ],
   "source": [
    "resultado2 = True and True\n",
    "print(resultado2)"
   ]
  },
  {
   "cell_type": "code",
   "execution_count": 270,
   "id": "a8540dbd-ccfd-403d-bc89-634cbdbf2690",
   "metadata": {},
   "outputs": [
    {
     "name": "stdout",
     "output_type": "stream",
     "text": [
      "False\n"
     ]
    }
   ],
   "source": [
    "var1 = True\n",
    "var2 = True\n",
    "var3 = False\n",
    "print(var1 and var2 and var3)"
   ]
  },
  {
   "cell_type": "code",
   "execution_count": 272,
   "id": "b3e154ae-cc1d-456c-befd-51d579d53a8d",
   "metadata": {},
   "outputs": [
    {
     "name": "stdout",
     "output_type": "stream",
     "text": [
      "Vou ao mercado?  True\n"
     ]
    }
   ],
   "source": [
    "clima_bom = True\n",
    "estou_disposto = True\n",
    "vou_ao_mercado = clima_bom and estou_disposto\n",
    "print(\"Vou ao mercado? \", vou_ao_mercado)"
   ]
  },
  {
   "cell_type": "code",
   "execution_count": 274,
   "id": "9f158f38-69cc-49dc-b57c-7a8b2c35e360",
   "metadata": {},
   "outputs": [
    {
     "name": "stdout",
     "output_type": "stream",
     "text": [
      "True\n"
     ]
    }
   ],
   "source": [
    "resultado = True or False\n",
    "print(resultado)"
   ]
  },
  {
   "cell_type": "code",
   "execution_count": 276,
   "id": "2196aa01-1dd2-4159-87c5-ead302e388d2",
   "metadata": {},
   "outputs": [
    {
     "name": "stdout",
     "output_type": "stream",
     "text": [
      "True\n"
     ]
    }
   ],
   "source": [
    "resultado = True or True\n",
    "print(resultado)"
   ]
  },
  {
   "cell_type": "code",
   "execution_count": 278,
   "id": "f27bbf6b-8a78-4e4e-bbe6-825bc7e7d546",
   "metadata": {},
   "outputs": [
    {
     "name": "stdout",
     "output_type": "stream",
     "text": [
      "False\n"
     ]
    }
   ],
   "source": [
    "resultado = False or False\n",
    "print(resultado)"
   ]
  },
  {
   "cell_type": "code",
   "execution_count": 280,
   "id": "effbaa46-f869-403f-afff-158a858d9466",
   "metadata": {},
   "outputs": [
    {
     "name": "stdout",
     "output_type": "stream",
     "text": [
      "Terei um bom salário?  True\n"
     ]
    }
   ],
   "source": [
    "sei_programar = True\n",
    "sei_investir = False\n",
    "ganho_bom_salario = sei_programar or sei_investir\n",
    "print(\"Terei um bom salário? \", ganho_bom_salario)"
   ]
  },
  {
   "cell_type": "code",
   "execution_count": 282,
   "id": "6fda4a7f-0e55-4b27-9007-fec3cf1ff966",
   "metadata": {},
   "outputs": [
    {
     "name": "stdout",
     "output_type": "stream",
     "text": [
      "True\n"
     ]
    }
   ],
   "source": [
    "resultado = False\n",
    "print(not resultado)"
   ]
  },
  {
   "cell_type": "code",
   "execution_count": 284,
   "id": "37d5c833-4aa9-4c14-8cf3-afc456c1b99c",
   "metadata": {},
   "outputs": [
    {
     "name": "stdout",
     "output_type": "stream",
     "text": [
      "Estou trancado?  True\n"
     ]
    }
   ],
   "source": [
    "porta_aberta = False\n",
    "tem_chave = False\n",
    "print(\"Estou trancado? \", not porta_aberta and not tem_chave)"
   ]
  },
  {
   "cell_type": "code",
   "execution_count": 289,
   "id": "6f1b150f-db12-4270-b424-96db9df5993f",
   "metadata": {},
   "outputs": [
    {
     "name": "stdout",
     "output_type": "stream",
     "text": [
      "True\n"
     ]
    }
   ],
   "source": [
    "bool1 = True or False and True\n",
    "print(bool1)"
   ]
  },
  {
   "cell_type": "code",
   "execution_count": 291,
   "id": "c28db80e-6a51-41af-98af-bd2e6db7f6bd",
   "metadata": {},
   "outputs": [
    {
     "name": "stdout",
     "output_type": "stream",
     "text": [
      "True\n"
     ]
    }
   ],
   "source": [
    "bool2 = True or not False\n",
    "print(bool2)"
   ]
  },
  {
   "cell_type": "code",
   "execution_count": 293,
   "id": "1fe75ca4-bcbc-4d87-9f78-f6a67cccea5b",
   "metadata": {},
   "outputs": [
    {
     "name": "stdout",
     "output_type": "stream",
     "text": [
      "False\n"
     ]
    }
   ],
   "source": [
    "bool3 = True and not (True or False)\n",
    "print(bool3)"
   ]
  },
  {
   "cell_type": "code",
   "execution_count": 309,
   "id": "539a75e5-acc4-48dc-ad73-1aba4c122de1",
   "metadata": {},
   "outputs": [
    {
     "name": "stdout",
     "output_type": "stream",
     "text": [
      "hoje é dia de compras? True\n",
      "Posso atravessar?  True\n"
     ]
    }
   ],
   "source": [
    "# 1 - Crie um programa que diga “se você precisar ir ao mercado”. \n",
    "# Você precisa ir ao mercado se “faltar comida” ou “se for sábado”. \n",
    "# Mostre na saída do programa o valor lógico, indicando sim ou não.\n",
    "\n",
    "falta_comida = True\n",
    "se_for_no_sábado = True\n",
    "Irei_ao_mercado = falta_comida and se_for_no_sábado\n",
    "print(\"hoje é dia de compras?\", Irei_ao_mercado)\n",
    "\n",
    "# 2 - Crie um programa que responda “se você pode atravessar a rua” \n",
    "# na faixa de pedestres. Você pode atravessar a rua se o “sinal estiver  \n",
    "# vermelho” e “se não houver nenhum carro vindo da direita” E “nem da esquerda”. \n",
    "# Altere as variáveis para verificar se o programa esta correto.\n",
    "# Mostre na saída do programa o valor lógico.\n",
    "\n",
    "sinal_vermelho = True\n",
    "carro_vindo_direita = False\n",
    "carro_vindo_esquerda = False\n",
    "pode_atravessar = sinal_vermelho and not carro_vindo_direita and not carro_vindo_esquerda\n",
    "print(\"Posso atravessar? \", pode_atravessar)\n"
   ]
  },
  {
   "cell_type": "code",
   "execution_count": 75,
   "id": "c9b3d82e-9bcb-4e12-874c-01c7812d1b11",
   "metadata": {},
   "outputs": [
    {
     "name": "stdout",
     "output_type": "stream",
     "text": [
      "A média é: 11.666666666666666 \n",
      " média é maior que 10? True\n"
     ]
    }
   ],
   "source": [
    "# Calcule a média de três números e verifique se a média é mairo que 10.\n",
    "num1= 5\n",
    "num2 = 10\n",
    "num3 = 20\n",
    "media = (num1 + num2 + num3)/ 3\n",
    "booleano = media >= 10\n",
    "print(\"A média é:\", media,'\\n',\"média é maior que 10?\",booleano)\n"
   ]
  },
  {
   "cell_type": "code",
   "execution_count": 83,
   "id": "74f597cc-9db4-4077-ac57-7a99e0008860",
   "metadata": {},
   "outputs": [
    {
     "name": "stdin",
     "output_type": "stream",
     "text": [
      "Digite o primeiro número:  15\n",
      "Digite o segundo número:  18\n"
     ]
    },
    {
     "name": "stdout",
     "output_type": "stream",
     "text": [
      "O maior número é: 18.0\n",
      "O menor número é: 15.0\n"
     ]
    }
   ],
   "source": [
    "#Peço ao usuario para inserir dois números  e exiba: o maior e o menor\n",
    "# Solicita ao usuário que insira dois números e converte as entradas para float\n",
    "num1 = float(input(\"Digite o primeiro número: \"))  # Corrigido: removido parêntese extra\n",
    "num2 = float(input(\"Digite o segundo número: \"))   # Corrigido: removido parêntese extra\n",
    "\n",
    "# Compara os dois números para determinar qual é maior\n",
    "if num1 > num2:  # Corrigido: adicionado dois-pontos\n",
    "    print(\"O maior número é:\", num1)  # Corrigido: removido espaço entre 'num' e '1'\n",
    "    print(\"O menor número é:\", num2)\n",
    "else:\n",
    "    print(\"O maior número é:\", num2)\n",
    "    print(\"O menor número é:\", num1)"
   ]
  },
  {
   "cell_type": "markdown",
   "id": "1bd63a76-fdda-44db-9b12-048f86227b74",
   "metadata": {},
   "source": [
    "# Input"
   ]
  },
  {
   "cell_type": "code",
   "execution_count": 4,
   "id": "24ba7ee4-db02-4cc9-bda9-0bfcca17b6e4",
   "metadata": {},
   "outputs": [
    {
     "name": "stdin",
     "output_type": "stream",
     "text": [
      " 20\n"
     ]
    },
    {
     "name": "stdout",
     "output_type": "stream",
     "text": [
      "<class 'str'>\n",
      "20\n"
     ]
    }
   ],
   "source": [
    "valor_escrito = input()\n",
    "print(type(valor_escrito))\n",
    "print(valor_escrito)"
   ]
  },
  {
   "cell_type": "code",
   "execution_count": 6,
   "id": "246fbeaf-e675-46e2-83c0-1123ae35c448",
   "metadata": {},
   "outputs": [
    {
     "name": "stdin",
     "output_type": "stream",
     "text": [
      " Adryan\n"
     ]
    },
    {
     "name": "stdout",
     "output_type": "stream",
     "text": [
      "Eu me chamo Adryan \n"
     ]
    }
   ],
   "source": [
    "meu_nome = input()\n",
    "print(\"Eu me chamo %s \" % (meu_nome))"
   ]
  },
  {
   "cell_type": "code",
   "execution_count": 8,
   "id": "05ffb702-ad34-424e-bb73-0c312d3f5813",
   "metadata": {},
   "outputs": [
    {
     "name": "stdin",
     "output_type": "stream",
     "text": [
      "Insira o dia:  01\n",
      "Insira o mês:  10\n",
      "Insira o ano:  2002\n"
     ]
    },
    {
     "name": "stdout",
     "output_type": "stream",
     "text": [
      "A data inserida for 01/10/2002 \n"
     ]
    }
   ],
   "source": [
    "dia = input(\"Insira o dia: \")\n",
    "mes = input(\"Insira o mês: \")\n",
    "ano = input(\"Insira o ano: \")\n",
    "print(\"A data inserida for %s/%s/%s \" % (dia, mes, ano))"
   ]
  },
  {
   "cell_type": "code",
   "execution_count": 10,
   "id": "b678cddd-99a3-4361-8ce9-04f2364001d9",
   "metadata": {
    "scrolled": true
   },
   "outputs": [
    {
     "name": "stdin",
     "output_type": "stream",
     "text": [
      "Digite 1 para verdadeiro e 0 para falso:  0\n"
     ]
    },
    {
     "name": "stdout",
     "output_type": "stream",
     "text": [
      "Você escolheu: False \n",
      "ou ainda, você escolheu: 0 \n"
     ]
    }
   ],
   "source": [
    "entrada_usuario = input(\"Digite 1 para verdadeiro e 0 para falso: \")\n",
    "valor_inteiro = int(entrada_usuario)\n",
    "valor_logico = bool(valor_inteiro)\n",
    "print(\"Você escolheu: %s \" % valor_logico)\n",
    "print(\"ou ainda, você escolheu: %i \" % (valor_inteiro))"
   ]
  },
  {
   "cell_type": "markdown",
   "id": "abc4d7b7-a84b-4131-a5e5-6f5f3b6b7c76",
   "metadata": {},
   "source": [
    "# Operadores de Atribuição e Combinação de Operadores Lógicos"
   ]
  },
  {
   "cell_type": "code",
   "execution_count": 18,
   "id": "a84c14d7-e35c-4e25-8fff-ea7621b372b6",
   "metadata": {},
   "outputs": [
    {
     "data": {
      "text/plain": [
       "True"
      ]
     },
     "execution_count": 18,
     "metadata": {},
     "output_type": "execute_result"
    }
   ],
   "source": [
    "# %%\n",
    "3 > 4     # Maior que: Verifica se o valor à esquerda é maior que o valor à direita. Retorna False neste caso.\n",
    "4 >= 3    # Maior ou igual a: Verifica se o valor à esquerda é maior ou igual ao valor à direita. Retorna True neste caso.\n",
    "1 < 2     # Menor que: Verifica se o valor à esquerda é menor que o valor à direita. Retorna True neste caso.\n",
    "3 <= 1    # Menor ou igual a: Verifica se o valor à esquerda é menor ou igual ao valor à direita. Retorna False neste caso.\n",
    "3 != 2    # Diferente de: Verifica se o valor à esquerda é diferente do valor à direita. Retorna True neste caso.\n",
    "3 == 3    # Igual a: Verifica se o valor à esquerda é igual ao valor à direita. Retorna True neste caso."
   ]
  },
  {
   "cell_type": "code",
   "execution_count": 19,
   "id": "f2148d15-48b8-4006-8da1-3f57b4bca289",
   "metadata": {},
   "outputs": [
    {
     "name": "stdout",
     "output_type": "stream",
     "text": [
      "2\n"
     ]
    }
   ],
   "source": [
    "numero = 1 # Declara uma variável\n",
    "numero = numero + 1 # Atribui o resultado da soma para a variável\n",
    "print(numero) # Imprime o resultado\n"
   ]
  },
  {
   "cell_type": "code",
   "execution_count": 20,
   "id": "6a9e1675-7b92-4d2e-8a4d-b1a0385218f8",
   "metadata": {},
   "outputs": [
    {
     "name": "stdout",
     "output_type": "stream",
     "text": [
      "2\n"
     ]
    }
   ],
   "source": [
    "numero = 1 # Declara a variável\n",
    "numero += 1 # Operador de atribuição de adição, equivalente a numero = numero + 1\n",
    "print(numero) # Imprime o resultado"
   ]
  },
  {
   "cell_type": "code",
   "execution_count": 21,
   "id": "d56ee3f0-b5f3-43cf-94f6-1d999eeb6bd7",
   "metadata": {},
   "outputs": [
    {
     "name": "stdout",
     "output_type": "stream",
     "text": [
      "5.0\n"
     ]
    }
   ],
   "source": [
    "numero = 10 # Declara a variável\n",
    "numero = numero / 2 # Atribui o resultado da divisão para a variável\n",
    "print(numero) # Imprime o resultado\n"
   ]
  },
  {
   "cell_type": "code",
   "execution_count": 22,
   "id": "100f8746-48ce-4627-a709-cb6a3313f5e9",
   "metadata": {},
   "outputs": [
    {
     "name": "stdout",
     "output_type": "stream",
     "text": [
      "5.0\n"
     ]
    }
   ],
   "source": [
    "numero = 10 # Declara a variável\n",
    "numero /= 2 # Operador de atribuição de divisão, equivalente a numero = numero / 2\n",
    "print(numero) # Imprime o resultado"
   ]
  },
  {
   "cell_type": "code",
   "execution_count": 23,
   "id": "6bb93200-9043-46f5-8d8e-76df287873e7",
   "metadata": {},
   "outputs": [
    {
     "name": "stdout",
     "output_type": "stream",
     "text": [
      "True\n"
     ]
    }
   ],
   "source": [
    "num = 10 # Declara a variável\n",
    "booleana = (num == 10) # Compara se num é igual a 10\n",
    "print(booleana) # Imprime o resultado booleano (True)\n"
   ]
  },
  {
   "cell_type": "code",
   "execution_count": 24,
   "id": "20e7249e-c3cd-444f-b4b0-66bdd379f689",
   "metadata": {},
   "outputs": [
    {
     "name": "stdout",
     "output_type": "stream",
     "text": [
      "False\n"
     ]
    }
   ],
   "source": [
    "num = 10 # Declara a variável\n",
    "booleana = (num != 10) # Compara se num é diferente de 10\n",
    "print(booleana) # Imprime o resultado booleano (False)\n"
   ]
  },
  {
   "cell_type": "code",
   "execution_count": 25,
   "id": "29ee290b-dbbf-47b5-be2a-2808ee219098",
   "metadata": {},
   "outputs": [
    {
     "name": "stdout",
     "output_type": "stream",
     "text": [
      "True\n"
     ]
    }
   ],
   "source": [
    "num1 = 10 # Declara a primeira variável\n",
    "num2 = 20 # Declara a segunda variável\n",
    "e_maior = num1 < num2 # Compara se num1 é menor que num2\n",
    "print(e_maior) # Imprime o resultado booleano (True)"
   ]
  },
  {
   "cell_type": "code",
   "execution_count": 26,
   "id": "681c2260-45c9-4cc9-89b2-a38b932e87d9",
   "metadata": {},
   "outputs": [
    {
     "name": "stdout",
     "output_type": "stream",
     "text": [
      "False\n"
     ]
    }
   ],
   "source": [
    "num1 = 21 # Declara a primeira variável\n",
    "num2 = 20 # Declara a segunda variável\n",
    "e_maior = num1 <= num2 # Compara se num1 é menor ou igual a num2\n",
    "print(e_maior) # Imprime o resultado booleano (False)"
   ]
  },
  {
   "cell_type": "code",
   "execution_count": 27,
   "id": "ec285e9e-fcdf-4526-93a1-1449263ec65f",
   "metadata": {},
   "outputs": [
    {
     "name": "stdout",
     "output_type": "stream",
     "text": [
      "False\n"
     ]
    }
   ],
   "source": [
    "num = 11 # Declara a variável\n",
    "boolean = num > 0 and num < 10 # Combina duas comparações com o operador AND\n",
    "print(boolean) # Imprime o resultado booleano (False)"
   ]
  },
  {
   "cell_type": "code",
   "execution_count": 28,
   "id": "63af5896-a29a-4878-8bbb-c67b1aeae803",
   "metadata": {},
   "outputs": [
    {
     "name": "stdout",
     "output_type": "stream",
     "text": [
      "True\n"
     ]
    }
   ],
   "source": [
    "#ver. se é tipo float e igual a 10.1. ou 20.2\n",
    "num = 10.1 # Declara a variável\n",
    "boolean = type(num) == float and (num == 10.1 or num == 20.2) # Combina a verificação de tipo com o operador OR\n",
    "print(boolean) # Imprime o resultado booleano (True)\n"
   ]
  },
  {
   "cell_type": "code",
   "execution_count": null,
   "id": "21c31283-2273-4e8d-9863-f90bd6aaed73",
   "metadata": {},
   "outputs": [],
   "source": []
  },
  {
   "cell_type": "code",
   "execution_count": null,
   "id": "f7cf379b-a52c-460d-bf96-8f0c79d08209",
   "metadata": {
    "jupyter": {
     "source_hidden": true
    }
   },
   "outputs": [],
   "source": [
    "# 1 - Crie um programa que leia por input dois números e realize\n",
    "# a divisão entre ambos. Formate o print para mostrar o cálculo completo.\n",
    "\n",
    "num1 = input(\"Insira o primeiro número: \") # Lê o primeiro número como string\n",
    "num2 = input(\"Insira o segundo número: \") # Lê o segundo número como string\n",
    "divisao =  float(num1) / float(num2) # Converte as strings para float e realiza a divisão\n",
    "print(\"%s dividido por %s é %.2f\" % (num1, num2, divisao) ) # Imprime o cálculo formatado\n"
   ]
  },
  {
   "cell_type": "code",
   "execution_count": null,
   "id": "80e5f6a5-6440-4906-8749-0f25cc9e2975",
   "metadata": {},
   "outputs": [],
   "source": [
    "# 1 - Crie um programa que responda se você foi aprovado numa prova. \n",
    "# Você somente foi aprovado numa prova se sua média for maior ou igual que 7 \n",
    "# ou se sua nota no exame for maior ou igual a 5. Leia esses valores por input.\n",
    "\n",
    "media_input = input(\"Digite sua média nas provas: \") # Lê a média como string\n",
    "exame_input = input(\"Digite sua nota no exame: \") # Lê a nota do exame como string\n",
    "media_prova = int(media_input) # Converte a média para inteiro\n",
    "nota_exame = int(exame_input) # Converte a nota para inteiro\n",
    "aprovado = (media_prova >=7) or (nota_exame >= 5) # Aplica a lógica de aprovação\n",
    "print(\"Aprovação: \", aprovado) # Imprime o resultado"
   ]
  },
  {
   "cell_type": "code",
   "execution_count": null,
   "id": "8691acc4-8e63-41d8-92b1-695327a11a45",
   "metadata": {},
   "outputs": [],
   "source": [
    "\n",
    "# 2 - Crie  um programa que diga se a senha esta correta e portanto você tem \n",
    "# acesso ao sistema. A senha devera ser salva no código, e a tentativa deve ser \n",
    "# lida por input.\n",
    "\n",
    "senha_tentativa = input(\"Digite a senha: \") # Lê a tentativa de senha\n",
    "senha_padrao = \"1234\" # Define a senha padrão\n",
    "print(\"Senha está correta? \", senha_tentativa == senha_padrao) # Compara a tentativa com a senha padrão\n"
   ]
  },
  {
   "cell_type": "code",
   "execution_count": null,
   "id": "f94e9963-0312-4e2f-846d-061e02ae4733",
   "metadata": {},
   "outputs": [],
   "source": []
  },
  {
   "cell_type": "markdown",
   "id": "bade57e6-391b-4e2b-b669-11846f8fa68c",
   "metadata": {},
   "source": [
    "# Casting\n"
   ]
  },
  {
   "cell_type": "code",
   "execution_count": 49,
   "id": "888ecc39-f953-4b4d-bacd-b885f48c1fd6",
   "metadata": {},
   "outputs": [
    {
     "name": "stdout",
     "output_type": "stream",
     "text": [
      "<class 'str'>\n",
      "<class 'int'>\n",
      "<class 'float'>\n",
      "<class 'bool'>\n"
     ]
    }
   ],
   "source": [
    "texto = \"olá\" # Declara uma string\n",
    "numero = 2 # Declara um inteiro\n",
    "decimal = 1.5 # Declara um float\n",
    "booleano = True # Declara um booleano\n",
    "print(type(texto)) # Imprime o tipo da variável texto\n",
    "print(type(numero)) # Imprime o tipo da variável numero\n",
    "print(type(decimal)) # Imprime o tipo da variável decimal\n",
    "print(type(booleano)) # Imprime o tipo da variável booleano"
   ]
  },
  {
   "cell_type": "code",
   "execution_count": 1,
   "id": "a3880115-2764-4fd2-b7a4-ad85d531e4dd",
   "metadata": {},
   "outputs": [
    {
     "name": "stdout",
     "output_type": "stream",
     "text": [
      "<class 'str'>\n",
      "<class 'int'>\n",
      "<class 'float'>\n",
      "3.5\n"
     ]
    }
   ],
   "source": [
    "texto1 = \"2\" # String contendo um número inteiro\n",
    "texto2 = \"1.5\" # String contendo um número float\n",
    "numero1 = int(texto1) # Converte a string \"2\" para o inteiro 2\n",
    "numero2 = float(texto2) # Converte a string \"1.5\" para o float 1.5\n",
    "print(type(texto1)) # Imprime o tipo de texto1\n",
    "print(type(numero1)) # Imprime o tipo de numero1\n",
    "print(type(numero2)) # Imprime o tipo de numero2\n",
    "print(numero1 + numero2) # Soma o inteiro 2 e o float 1.5"
   ]
  },
  {
   "cell_type": "code",
   "execution_count": 2,
   "id": "1d6e3bcb-07cb-4c05-8d8a-5294fcdd7f5e",
   "metadata": {},
   "outputs": [
    {
     "name": "stdout",
     "output_type": "stream",
     "text": [
      "A parte inteira de 21.456460 é 21\n"
     ]
    }
   ],
   "source": [
    "num = 21.45646 # Declara um float\n",
    "inteira = int(num) # Converte o float para um inteiro, truncando a parte decimal\n",
    "print(\"A parte inteira de %f é %d\" % (num, inteira)) # Imprime o resultado da conversão\n"
   ]
  },
  {
   "cell_type": "code",
   "execution_count": 3,
   "id": "ab809260-aeb4-4c35-b813-db4dad54d7b6",
   "metadata": {},
   "outputs": [
    {
     "name": "stdout",
     "output_type": "stream",
     "text": [
      "O número é:  10.3\n",
      "<class 'str'>\n"
     ]
    }
   ],
   "source": [
    "texto = \"O número é: \" # Declara uma string\n",
    "numero = 10.3 # Declara um float\n",
    "numero_em_string = str(numero) # Converte o float para uma string\n",
    "print(texto, numero_em_string) # Imprime a string e a string convertida\n",
    "print(type(numero_em_string)) # Imprime o tipo da variável convertida\n"
   ]
  },
  {
   "cell_type": "code",
   "execution_count": 4,
   "id": "cb128cbb-a0cf-4d26-a468-131eed14229b",
   "metadata": {},
   "outputs": [
    {
     "name": "stdout",
     "output_type": "stream",
     "text": [
      "O número 123 tem 3 digitos \n"
     ]
    }
   ],
   "source": [
    "numero = 123 # Declara um inteiro\n",
    "texto = str(numero) # Converte o inteiro para uma string\n",
    "numero_de_digitos = len(texto) # Usa a função len() para contar os caracteres da string\n",
    "print(\"O número %s tem %d digitos \" % (texto, numero_de_digitos)) # Imprime o número e sua quantidade de dígitos\n"
   ]
  },
  {
   "cell_type": "code",
   "execution_count": 7,
   "id": "7a3f1a5b-983e-4295-8b4b-574724a4e8d8",
   "metadata": {},
   "outputs": [],
   "source": [
    "vazio = None # Declara uma variável com None\n",
    "numero_um = 15 # Declara um inteiro não zero\n",
    "numero_zero = 0 # Declara um inteiro zero\n",
    "texto = \"Texto\" # Declara uma string não vazia\n",
    "texto_vazio = \"\" # Declara uma string vazia\n",
    "decimal_zero = 0.0 # Declara um float zero\n",
    "decimal = 3.5 # Declara um float não zero\n"
   ]
  },
  {
   "cell_type": "code",
   "execution_count": 8,
   "id": "c8cd9a42-739c-49e7-954b-aa447e3b0deb",
   "metadata": {
    "scrolled": true
   },
   "outputs": [
    {
     "name": "stdout",
     "output_type": "stream",
     "text": [
      "Variável tem valor:  False\n",
      "Número tem valor:  True\n",
      "Número tem valor:  False\n",
      "String tem conteúdo:  True\n",
      "String tem conteúdo:  False\n",
      "Float tem valor:  False\n",
      "Float tem valor:  True\n"
     ]
    }
   ],
   "source": [
    "print(\"Variável tem valor: \", bool(vazio)) # bool(None) é False\n",
    "\n",
    "print(\"Número tem valor: \", bool(numero_um)) # bool(inteiro não zero) é True\n",
    "print(\"Número tem valor: \", bool(numero_zero)) # bool(0) é False\n",
    "\n",
    "print(\"String tem conteúdo: \", bool(texto)) # bool(string não vazia) é True\n",
    "print(\"String tem conteúdo: \", bool(texto_vazio)) # bool(string vazia) é False\n",
    "\n",
    "print(\"Float tem valor: \", bool(decimal_zero)) # bool(0.0) é False\n",
    "print(\"Float tem valor: \", bool(decimal)) # bool(float não zero) é True"
   ]
  },
  {
   "cell_type": "code",
   "execution_count": 9,
   "id": "99ae3103-c280-4704-abd9-75ac1b81f279",
   "metadata": {},
   "outputs": [],
   "source": [
    "# Exercícios Casting"
   ]
  },
  {
   "cell_type": "markdown",
   "id": "34429917-7084-49c5-918b-33a7de9f08e5",
   "metadata": {},
   "source": [
    "2002\n",
    "# 1 - Crie um programa que leia por input dois números e realize\n",
    "# a divisão entre ambos. Formate o print para mostrar o cálculo completo.\n",
    "num1 = input(\"Insira o primeiro número: \")\n",
    "num2 = input(\"Insira o segundo número: \")\n",
    "divisao =  float(num1) / float(num2)\n",
    "print(\"%s dividido por %s é %.2f\" % (num1, num2, divisao) )\n",
    "\n",
    "\n",
    " "
   ]
  },
  {
   "cell_type": "code",
   "execution_count": null,
   "id": "300b53cc-7501-4052-821c-778f12fca4ec",
   "metadata": {},
   "outputs": [],
   "source": [
    "# 2 - Crie um programa que mostre o dia, mês, ano, hora, \n",
    "# minuto e segundos inseridos pelo usuário. Formate o valor.\n",
    "\n",
    "dia = input(\"Insira o dia: \")\n",
    "mes = input(\"Insira o mês: \")\n",
    "ano = input(\"Insira o ano: \")\n",
    "hora = input(\"Insira a hora: \")\n",
    "minuto = input(\"Insira o minuto: \")\n",
    "segundo = input(\"Insira o segundo: \")\n",
    "print(\"%s/%s/%s %s:%s:%s\" % (dia, mes, ano, hora, minuto, segundo))\n"
   ]
  },
  {
   "cell_type": "code",
   "execution_count": 3,
   "id": "44b46735-92f4-4518-b07d-f27006c158d6",
   "metadata": {},
   "outputs": [
    {
     "name": "stdin",
     "output_type": "stream",
     "text": [
      "insira um número: 15\n",
      "insira um numero: 10\n"
     ]
    },
    {
     "name": "stdout",
     "output_type": "stream",
     "text": [
      "(25.0, 1.5, 5.0)\n"
     ]
    }
   ],
   "source": [
    "# 3 - Crie um programa que peça para o usuário inserir dois números e exiba:\n",
    "calcular = input(\"insira um número:\")\n",
    "calcular2 = input(\"insira um numero:\")\n",
    "\n",
    "calculo_conv = float(calcular)      # ✅ Corrigido: nome da variável ajustado para 'calculo_conv'\n",
    "calculo_conv2 = float(calcular2)    # ✅ Corrigido: nome da variável ajustado para 'calculo_conv2'\n",
    "\n",
    "# ✅ Corrigido: uso consistente das variáveis 'calculo_conv' e 'calculo_conv2'\n",
    "operação = (\n",
    "    calculo_conv + calculo_conv2,\n",
    "    calculo_conv / calculo_conv2,\n",
    "    calculo_conv - calculo_conv2\n",
    ")\n",
    "\n",
    "print(operação)"
   ]
  },
  {
   "cell_type": "code",
   "execution_count": 27,
   "id": "ce42cc52-6170-49a4-aef1-d72b3012e739",
   "metadata": {},
   "outputs": [
    {
     "name": "stdin",
     "output_type": "stream",
     "text": [
      "insira seu nome:   Adryan\n"
     ]
    },
    {
     "name": "stdout",
     "output_type": "stream",
     "text": [
      "Adryan Adryan Adryan Adryan Adryan Adryan Adryan Adryan Adryan Adryan \n"
     ]
    }
   ],
   "source": [
    "# Escreva um programa que peça o nome do usuário e o repita 10 vezes, usando apenas uma linha de código\n",
    "seu_nome = input(\"insira seu nome:  \" )\n",
    "print((seu_nome + \" \") * 10)"
   ]
  },
  {
   "cell_type": "markdown",
   "id": "8d0b5f68-eb3f-4aa8-a6b0-11ab968728b4",
   "metadata": {},
   "source": [
    "# STRING / operadores strings"
   ]
  },
  {
   "cell_type": "code",
   "execution_count": null,
   "id": "15aadc63-7e89-4187-a29d-bc4a277f4fbe",
   "metadata": {},
   "outputs": [],
   "source": [
    "texto1 = \"olá\" # Declara a primeira string\n",
    "texto2 = \", \" # Declara a segunda string\n",
    "texto3 = \"tudo bem?\" # Declara a terceira string\n",
    "texto_completo = texto1 + texto2 + texto3 # Concatena as três strings\n",
    "print(texto_completo) # Imprime a string completa"
   ]
  },
  {
   "cell_type": "code",
   "execution_count": 8,
   "id": "80195ebf-3bb8-45c1-95f5-3f638f710c35",
   "metadata": {},
   "outputs": [
    {
     "name": "stdout",
     "output_type": "stream",
     "text": [
      "Olá mundo\n"
     ]
    }
   ],
   "source": [
    "texto1 = \"olá\" # Declara a primeira string\n",
    "texto1 += \" mundo\" # Operador de atribuição de adição para strings (concatenação)\n",
    "print(texto1) # Imprime a string concatenada"
   ]
  },
  {
   "cell_type": "code",
   "execution_count": 38,
   "id": "a05422e2-ed96-41ca-b75d-487c8f66dfc4",
   "metadata": {},
   "outputs": [
    {
     "name": "stdout",
     "output_type": "stream",
     "text": [
      "Python é bem produtivo, Python é bem produtivo, Python é bem produtivo, \n",
      "todo gay é viado\n"
     ]
    }
   ],
   "source": [
    "texto = \"Python é bem produtivo,\" # Declara a string\n",
    "texto_repetido = texto * 3 # Repete a string 3 vezes\n",
    "print(texto_repetido) # Imprime a string repetida\n"
   ]
  },
  {
   "cell_type": "code",
   "execution_count": 67,
   "id": "5e84b9f7-df73-4dd5-8f23-59abdba61682",
   "metadata": {},
   "outputs": [
    {
     "name": "stdout",
     "output_type": "stream",
     "text": [
      "e\n",
      "x\n",
      "ucodefruta\n"
     ]
    }
   ],
   "source": [
    "texto = \"exemplo\" # Declara a string\n",
    "print(texto[0]) # Acessa e imprime o caractere na posição 0\n",
    "print(texto[1]) # Acessa e imprime o caractere na posição 1"
   ]
  },
  {
   "cell_type": "code",
   "execution_count": 79,
   "id": "891ff1f6-d9f9-4fbe-825b-ca53b8580f0f",
   "metadata": {},
   "outputs": [
    {
     "name": "stdout",
     "output_type": "stream",
     "text": [
      "xem\n",
      "mplo\n",
      "exemp\n"
     ]
    }
   ],
   "source": [
    "texto = \"exemplo\" # Declara a string\n",
    "print(texto[1:4]) # Imprime um slice da posição 1 até a 3 (o 4 é exclusivo)\n",
    "print(texto[3:]) # Imprime um slice da posição 3 até o final\n",
    "print(texto[:5]) # Imprime um slice do início até a posição 4 (o 5 é exclusivo)\n"
   ]
  },
  {
   "cell_type": "code",
   "execution_count": 26,
   "id": "59e4620d-139f-4ae7-820d-bf214bf7ffe0",
   "metadata": {},
   "outputs": [
    {
     "name": "stdout",
     "output_type": "stream",
     "text": [
      "a\n",
      "arro\n",
      "carr\n",
      "car\n",
      "arro\n"
     ]
    }
   ],
   "source": [
    "texto = \"carro\" # Declara a string\n",
    "print(texto[-4]) # Acessa e imprime o caractere na quarta posição a partir do final\n",
    "print(texto[-4:]) # Imprime um slice da quarta posição a partir do final até o final\n",
    "print(texto[:-1]) # Imprime um slice do início até o penúltimo caractere\n",
    "print(texto[-5:-2]) # Imprime um slice da quinta posição a partir do final até a terceira a partir do final\n"
   ]
  },
  {
   "cell_type": "code",
   "execution_count": null,
   "id": "c57cde7a-293c-4dcb-ad69-324f4f0e77d2",
   "metadata": {},
   "outputs": [],
   "source": [
    "texto = \"metro\" # Declara a string\n",
    "print(texto[::-1]) # Inverte a string\n",
    "print(texto[3::-1]) # Inverte a string a partir da posição 3\n",
    "print(texto[3:1:-1]) # Inverte um slice da string da posição 3 até a 2\n"
   ]
  },
  {
   "cell_type": "code",
   "execution_count": null,
   "id": "80877bbf-18cf-4f5c-a6da-e0c2684e775b",
   "metadata": {},
   "outputs": [],
   "source": [
    "texto = \"abcdefg\" # Declara a string\n",
    "texto = texto[:3] + texto[4:] # Remove o caractere na posição 3\n",
    "print(texto) # Imprime a string modificada\n",
    "\n"
   ]
  },
  {
   "cell_type": "code",
   "execution_count": null,
   "id": "85744a1e-ae47-49b2-86a8-aaafa19cd91b",
   "metadata": {},
   "outputs": [],
   "source": [
    "texto1 = \"Olá\" # Declara a primeira string\n",
    "texto2 = \"Olá\" # Declara a segunda string\n",
    "igual = texto1 == texto2 # Compara se as duas strings são iguais\n",
    "print(\"Textos são iguais? \", igual) # Imprime o resultado\n"
   ]
  },
  {
   "cell_type": "code",
   "execution_count": 38,
   "id": "026300af-bcc9-4214-8ae7-37e0ee289d6f",
   "metadata": {},
   "outputs": [
    {
     "name": "stdout",
     "output_type": "stream",
     "text": [
      "11\n"
     ]
    }
   ],
   "source": [
    "print(\"a\" != \"b\") # Compara se 'a' é diferente de 'b'"
   ]
  },
  {
   "cell_type": "code",
   "execution_count": null,
   "id": "a2862b3d-d0b4-42ab-ae50-68bed10695b7",
   "metadata": {},
   "outputs": [],
   "source": [
    "texto = \"Programação\" # Declara a string\n",
    "print(\"a\" in texto) # Verifica se o caractere 'a' está na string\n",
    "print(\"e\" in texto) # Verifica se o caractere 'e' está na string\n",
    "print(\"Programa\" in texto) # Verifica se a substring 'Programa' está na string\n",
    "print(\"Programa\" not in texto) # Verifica se a substring 'Programa' não está na string\n",
    "print(\"Vinte\" not in texto) # Verifica se a substring 'Vinte' não está na string\n",
    "\n",
    "tamanho = len(texto) # Usa a função len() para obter o tamanho da string\n",
    "print(tamanho) # Imprime o tamanho\n"
   ]
  },
  {
   "cell_type": "code",
   "execution_count": null,
   "id": "4a674f7e-d41a-4ccd-ab1d-2f25ba3b871d",
   "metadata": {},
   "outputs": [],
   "source": [
    "# 1 - Crie um única string que contêm seu nome e sobrenome, em seguida use o \n",
    "# slicing para separar o nome em uma variável e o seu sobrenome em outra. \n",
    "# Printe esses valores.\n",
    "\n",
    "nome_completo = \"Carlos Silva\" # String com nome e sobrenome\n",
    "nome = nome_completo[:6] # Pega o nome usando slicing\n",
    "sobrenome = nome_completo[7:] # Pega o sobrenome usando slicing\n",
    "print(\"Nome: \", nome) # Imprime o nome\n",
    "print(\"Sobrenome\", sobrenome) # Imprime o sobrenome\n"
   ]
  },
  {
   "cell_type": "code",
   "execution_count": null,
   "id": "7607ca20-b452-4dad-82f5-7dd75134fd70",
   "metadata": {},
   "outputs": [],
   "source": [
    "# 2 - Leia uma string através do input e retire o ultimo caractere.\n",
    "string = input(\"Digite um texto qualquer: \") # Lê uma string do usuário\n",
    "string = string[:-1] # Remove o último caractere usando slicing\n",
    "print(string) # Imprime a string modificada"
   ]
  },
  {
   "cell_type": "code",
   "execution_count": null,
   "id": "d2a1a562-725c-461a-86ef-d502e730ba6a",
   "metadata": {},
   "outputs": [],
   "source": [
    "# 3 - Faça um programa que leia uma string através do input e diga se \n",
    "# ela possui uma vogal.\n",
    "\n",
    "texto = input(\"Digite uma palavra: \") # Lê a palavra\n",
    "possui_vogal = (\"a\" in texto) or (\"e\" in texto) or (\"i\" in texto) or (\"o\" in texto)  or   (\"u\" in texto) # Usa o operador 'in' para verificar se há alguma vogal\n",
    "print(\"Possui vogal? \", possui_vogal) # Imprime o resultado\n"
   ]
  },
  {
   "cell_type": "code",
   "execution_count": null,
   "id": "f8e6f257-4813-4da6-86d3-8b5041630312",
   "metadata": {},
   "outputs": [],
   "source": [
    "# 4 - Faça um programa que insira a palavra 'ABC' na primeira posição \n",
    "# de uma string lida por input.\n",
    "\n",
    "texto = input(\"Digite uma palavra: \") # Lê a palavra\n",
    "texto = \"ABC\" + texto[0:] # Concatena \"ABC\" com a palavra lida\n",
    "print(texto) # Imprime a string modificada"
   ]
  },
  {
   "cell_type": "markdown",
   "id": "bfe40db3-b14e-42ae-b64f-9319b58b5573",
   "metadata": {},
   "source": [
    "# operadores unitários"
   ]
  },
  {
   "cell_type": "code",
   "execution_count": null,
   "id": "69fca4f4-8c46-4f85-a9dd-052d0abcffb6",
   "metadata": {},
   "outputs": [],
   "source": []
  },
  {
   "cell_type": "code",
   "execution_count": null,
   "id": "a0cf31be-38e5-472f-bc22-4f52786c4a33",
   "metadata": {},
   "outputs": [],
   "source": []
  }
 ],
 "metadata": {
  "kernelspec": {
   "display_name": "anaconda-panel-2023.05-py310",
   "language": "python",
   "name": "conda-env-anaconda-panel-2023.05-py310-py"
  },
  "language_info": {
   "codemirror_mode": {
    "name": "ipython",
    "version": 3
   },
   "file_extension": ".py",
   "mimetype": "text/x-python",
   "name": "python",
   "nbconvert_exporter": "python",
   "pygments_lexer": "ipython3",
   "version": "3.11.5"
  }
 },
 "nbformat": 4,
 "nbformat_minor": 5
}
