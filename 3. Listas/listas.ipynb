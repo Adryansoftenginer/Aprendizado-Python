{
 "cells": [
  {
   "cell_type": "markdown",
   "id": "868c7945-f661-47f7-aa01-147d3e894e7f",
   "metadata": {},
   "source": [
    "# listas"
   ]
  },
  {
   "cell_type": "markdown",
   "id": "6dc80919-b46e-4851-a15e-a7e544d32739",
   "metadata": {},
   "source": [
    "# List\n"
   ]
  },
  {
   "cell_type": "code",
   "execution_count": 172,
   "id": "b2921fe5-601d-4a51-a722-0b29e620b23c",
   "metadata": {},
   "outputs": [
    {
     "data": {
      "text/plain": [
       "'\\nDefinição: Uma coleção ordenada e mutável de itens. Os itens são separados por vírgulas e envolvidos por colchetes [].\\nCaracterísticas Principais:\\nOrdenadas: A ordem dos elementos é preservada.\\nMutáveis: É possível adicionar, remover e modificar elementos após a criação.\\nPermitem Duplicatas: Uma lista pode conter múltiplos elementos com o mesmo valor.\\nIndexadas: Os elementos são acessados por um índice (começando em 0).\\nPodem Conter Diferentes Tipos de Dados: Uma única lista pode armazenar elementos de tipos diversos.\\n'"
      ]
     },
     "execution_count": 172,
     "metadata": {},
     "output_type": "execute_result"
    }
   ],
   "source": [
    "'''\n",
    "Definição: Uma coleção ordenada e mutável de itens. Os itens são separados por vírgulas e envolvidos por colchetes [].\n",
    "Características Principais:\n",
    "Ordenadas: A ordem dos elementos é preservada.\n",
    "Mutáveis: É possível adicionar, remover e modificar elementos após a criação.\n",
    "Permitem Duplicatas: Uma lista pode conter múltiplos elementos com o mesmo valor.\n",
    "Indexadas: Os elementos são acessados por um índice (começando em 0).\n",
    "Podem Conter Diferentes Tipos de Dados: Uma única lista pode armazenar elementos de tipos diversos.\n",
    "'''"
   ]
  },
  {
   "cell_type": "code",
   "execution_count": 11,
   "id": "d264cfd0-9d56-4732-9718-10074993c613",
   "metadata": {},
   "outputs": [
    {
     "name": "stdout",
     "output_type": "stream",
     "text": [
      "[1, 2, 3]\n",
      "[56.3, -2.2, 0.5]\n",
      "['A', 'B', 'C']\n",
      "[2, 2.3, 'ABC']\n"
     ]
    }
   ],
   "source": [
    "array_numero = [1,2,3]\n",
    "array_floats = [56.3, -2.2,0.5]\n",
    "array_str = [\"A\", \"B\", \"C\"]\n",
    "array_misto =[2,2.3, \"ABC\"]\n",
    "print(array_numero)\n",
    "print(array_floats)\n",
    "print(array_str)\n",
    "print(array_misto)"
   ]
  },
  {
   "cell_type": "code",
   "execution_count": 15,
   "id": "f3fe1798-5690-48b3-9b67-2c880978cb90",
   "metadata": {},
   "outputs": [
    {
     "name": "stdout",
     "output_type": "stream",
     "text": [
      "[1, 2, 3, 4, 5]\n"
     ]
    }
   ],
   "source": [
    "color = [1,2,\n",
    "         3,\n",
    "         4,5]\n",
    "print(color)"
   ]
  },
  {
   "cell_type": "code",
   "execution_count": 7,
   "id": "eea39c92-7131-4f1a-9eec-2309be4c83a1",
   "metadata": {},
   "outputs": [
    {
     "name": "stdout",
     "output_type": "stream",
     "text": [
      "[1, 2, 3]\n",
      "1\n",
      "20\n",
      "3\n",
      "[20, 2, 3]\n"
     ]
    }
   ],
   "source": [
    "array = list([1,2,3])\n",
    "print(array)\n",
    "primeiro_elemento = array[0]\n",
    "print(primeiro_elemento)\n",
    "array[0] = 20\n",
    "primeiro_elemento = array[0]\n",
    "print(primeiro_elemento)\n",
    "print(array[-1])\n",
    "print(array)\n"
   ]
  },
  {
   "cell_type": "code",
   "execution_count": 8,
   "id": "3ed7cced-76ec-4021-9644-31fb16879d78",
   "metadata": {},
   "outputs": [
    {
     "name": "stdout",
     "output_type": "stream",
     "text": [
      "['texto', 3]\n"
     ]
    }
   ],
   "source": [
    "array =[1,\"texto\",3]\n",
    "print(array[1:3])"
   ]
  },
  {
   "cell_type": "code",
   "execution_count": 46,
   "id": "33e59eed-16ab-4b4c-94a7-61232961c890",
   "metadata": {},
   "outputs": [
    {
     "name": "stdout",
     "output_type": "stream",
     "text": [
      "[2.3, 20, '3']\n",
      "[2.3, 20, '4', '3']\n"
     ]
    }
   ],
   "source": [
    "array = [10,2.3,20,\"3\"]\n",
    "array.remove(10)\n",
    "print(array)\n",
    "array.insert(2,\"4\")\n",
    "print(array)\n"
   ]
  },
  {
   "cell_type": "code",
   "execution_count": 56,
   "id": "82614745-fe0c-4da6-9779-0361f11e30b9",
   "metadata": {},
   "outputs": [
    {
     "name": "stdout",
     "output_type": "stream",
     "text": [
      "[2, 3, 20, '3']\n",
      "[2, 3, '3']\n"
     ]
    }
   ],
   "source": [
    "array  = [10,2,3,20,\"3\"]\n",
    "array.remove(10)\n",
    "print(array)\n",
    "array.pop(2)\n",
    "print(array)\n",
    "# remove(valor) → Remove o primeiro valor encontrado na lista\n",
    "# pop(índice) → Remove o valor que está na posição indicada"
   ]
  },
  {
   "cell_type": "code",
   "execution_count": 52,
   "id": "ba8466f2-6d89-4eb7-9d6a-42e59fae78a6",
   "metadata": {},
   "outputs": [
    {
     "name": "stdout",
     "output_type": "stream",
     "text": [
      "3\n"
     ]
    }
   ],
   "source": [
    "print(len(array))"
   ]
  },
  {
   "cell_type": "code",
   "execution_count": 178,
   "id": "24d34879-66c7-41cb-bf9a-8b0d9b2fbb9d",
   "metadata": {},
   "outputs": [
    {
     "name": "stdout",
     "output_type": "stream",
     "text": [
      "[]\n"
     ]
    }
   ],
   "source": [
    "array.clear()\n",
    "print(array)\n",
    "#clear - limpa a lista."
   ]
  },
  {
   "cell_type": "code",
   "execution_count": 62,
   "id": "e39f00b0-6ff2-4272-a21e-49420fa86eb2",
   "metadata": {},
   "outputs": [
    {
     "name": "stdout",
     "output_type": "stream",
     "text": [
      "True\n",
      "True\n"
     ]
    }
   ],
   "source": [
    "array = [1, 'teste', 1.3, True]\n",
    "print(1 in array)\n",
    "print(False not in array)\n"
   ]
  },
  {
   "cell_type": "code",
   "execution_count": 180,
   "id": "8d9f3f5c-9371-4a18-baf2-b50fe44fb7a4",
   "metadata": {},
   "outputs": [
    {
     "name": "stdout",
     "output_type": "stream",
     "text": [
      "2\n"
     ]
    }
   ],
   "source": [
    "lista = [5,6,7,2,3,4,7]\n",
    "teste = lista.count(7)\n",
    "print(teste)\n",
    "#lista.count(valor) → Retorna o número de vezes que o valor aparece na lista."
   ]
  },
  {
   "cell_type": "code",
   "execution_count": 182,
   "id": "3f391197-b7c9-4527-9eaa-ead219db4207",
   "metadata": {},
   "outputs": [
    {
     "name": "stdout",
     "output_type": "stream",
     "text": [
      "0\n"
     ]
    }
   ],
   "source": [
    "lista = [5,6,7,2,3,4,7]\n",
    "pos = lista.index(5)\n",
    "print(pos)\n",
    "#lista.index(valor) → retorna o índice da primeira vez que o valor aparece.\n",
    "\n",
    "# Se o valor não existir na lista, o Python vai gerar um erro (ValueError)."
   ]
  },
  {
   "cell_type": "code",
   "execution_count": 68,
   "id": "84c3902c-7e44-46d9-b932-6fd05bba7521",
   "metadata": {},
   "outputs": [
    {
     "name": "stdout",
     "output_type": "stream",
     "text": [
      "[1, 2, 3, 3, 4, 5]\n"
     ]
    }
   ],
   "source": [
    "array1 = [1,2,3]\n",
    "array2 = [3,4,5]\n",
    "soma = array1 + array2\n",
    "print(soma)"
   ]
  },
  {
   "cell_type": "code",
   "execution_count": 70,
   "id": "4c7db2a4-70b0-4aeb-8a12-691acfd4af3e",
   "metadata": {},
   "outputs": [
    {
     "name": "stdout",
     "output_type": "stream",
     "text": [
      "[1, 2, 3, 1, 2, 3, 1, 2, 3]\n"
     ]
    }
   ],
   "source": [
    "array1 = [1,2,3]\n",
    "mult = array1 * 3\n",
    "print(mult)"
   ]
  },
  {
   "cell_type": "code",
   "execution_count": 76,
   "id": "b82f1d70-4871-4943-8c19-9536e1d33cd6",
   "metadata": {},
   "outputs": [
    {
     "name": "stdout",
     "output_type": "stream",
     "text": [
      "um\n",
      "dois\n",
      "três\n"
     ]
    }
   ],
   "source": [
    "numeros = [\"um\",\"dois\",\"três\"]\n",
    "x,y,z = numeros\n",
    "print(x)\n",
    "print(y)\n",
    "print(z)"
   ]
  },
  {
   "cell_type": "code",
   "execution_count": 184,
   "id": "9477188d-23ff-4cf3-bd4b-ae57ae0cbed9",
   "metadata": {},
   "outputs": [
    {
     "name": "stdout",
     "output_type": "stream",
     "text": [
      "azul\n",
      "preto\n",
      "amarelo\n"
     ]
    }
   ],
   "source": [
    "cores = [\"azul\",\"preto\",\"amarelo\"]\n",
    "for x in cores:\n",
    "  print(x)\n",
    "# O laço for percorre cada item da lista cores e, em cada iteração, atribui o item a x.\n",
    "# O comando print(x) exibe a cor correspondente."
   ]
  },
  {
   "cell_type": "code",
   "execution_count": 80,
   "id": "5c38aa00-cd64-4b8d-9380-a24b382830eb",
   "metadata": {},
   "outputs": [
    {
     "name": "stdout",
     "output_type": "stream",
     "text": [
      "azul\n",
      "preto\n",
      "amarelo\n"
     ]
    }
   ],
   "source": [
    "cores = [\"azul\",\"preto\",\"amarelo\"]\n",
    "for i in range(0,len(cores)):\n",
    "  print(cores[i])"
   ]
  },
  {
   "cell_type": "code",
   "execution_count": 88,
   "id": "8731952e-eded-400e-ac60-d729075d94b5",
   "metadata": {},
   "outputs": [
    {
     "name": "stdout",
     "output_type": "stream",
     "text": [
      "azul\n",
      "preto\n",
      "amarelo\n"
     ]
    }
   ],
   "source": [
    "cores = [\"azul\", \"preto\", \"amarelo\"]\n",
    "indice = 0\n",
    "while (indice <len(cores)):\n",
    "    print(cores[indice])\n",
    "    indice += 1\n"
   ]
  },
  {
   "cell_type": "code",
   "execution_count": 90,
   "id": "d63b3aca-93f0-4ad7-be43-27841723310c",
   "metadata": {},
   "outputs": [
    {
     "name": "stdout",
     "output_type": "stream",
     "text": [
      "[1, 2, 3]\n",
      "[4, 5, 6]\n",
      "5\n"
     ]
    }
   ],
   "source": [
    "# lista aninhada ou lista multidimensional\n",
    "lista = [[1,2,3] ,[4,5,6] ]\n",
    "primeira_lista =  lista[0]\n",
    "segunda_lista = lista[1]\n",
    "print(primeira_lista)\n",
    "print(segunda_lista)\n",
    "primeiro_elemento_primeira_lista = lista[1][1]\n",
    "print(primeiro_elemento_primeira_lista)\n",
    "\n",
    "#sempre que houver listas dentro de listas, você precisa usar dois índices:\n",
    "#O primeiro índice acessa a sublista.\n",
    "#O segundo índice acessa o elemento dentro da sublista"
   ]
  },
  {
   "cell_type": "markdown",
   "id": "197ad7b6-d7a3-4e61-846a-44fbb6e52a92",
   "metadata": {},
   "source": [
    "# Set"
   ]
  },
  {
   "cell_type": "code",
   "execution_count": 174,
   "id": "e14c0d22-cf73-4236-800f-b3e222af60d1",
   "metadata": {},
   "outputs": [
    {
     "data": {
      "text/plain": [
       "'\\nConjuntos (set)\\nDefinição: Uma coleção não ordenada de itens únicos. Os itens são separados por vírgulas e envolvidos por chaves {}.\\nCaracterísticas Principais:\\nNão Ordenados: A ordem dos elementos não é garantida e pode mudar.\\nMutáveis: É possível adicionar e remover elementos após a criação.\\nNão Permitem Duplicatas: Um conjunto conterá apenas uma ocorrência de cada valor. \\nSe você tentar adicionar um valor já existente, ele será ignorado.\\nNão Indexados: Os elementos não possuem uma ordem específica, portanto, não é possível acessá-los por índice diretamente.\\n'"
      ]
     },
     "execution_count": 174,
     "metadata": {},
     "output_type": "execute_result"
    }
   ],
   "source": [
    "'''\n",
    "Conjuntos (set)\n",
    "Definição: Uma coleção não ordenada de itens únicos. Os itens são separados por vírgulas e envolvidos por chaves {}.\n",
    "Características Principais:\n",
    "Não Ordenados: A ordem dos elementos não é garantida e pode mudar.\n",
    "Mutáveis: É possível adicionar e remover elementos após a criação.\n",
    "Não Permitem Duplicatas: Um conjunto conterá apenas uma ocorrência de cada valor. \n",
    "Se você tentar adicionar um valor já existente, ele será ignorado.\n",
    "Não Indexados: Os elementos não possuem uma ordem específica, portanto, não é possível acessá-los por índice diretamente.\n",
    "'''"
   ]
  },
  {
   "cell_type": "code",
   "execution_count": 125,
   "id": "10e871b0-5dd1-40ac-b19a-8c1277675117",
   "metadata": {},
   "outputs": [
    {
     "name": "stdout",
     "output_type": "stream",
     "text": [
      "{}\n",
      "{1, 2, 3}\n",
      "{1, 2, 3}\n"
     ]
    }
   ],
   "source": [
    "lista_set = {}\n",
    "lista2_set = {1,2,3}\n",
    "lista3_set = set({1,2,3})\n",
    "print(lista_set)\n",
    "print(lista2_set)\n",
    "print(lista3_set)\n"
   ]
  },
  {
   "cell_type": "code",
   "execution_count": 111,
   "id": "6d71ad3a-229b-44db-b9f9-417c6cec70a4",
   "metadata": {
    "collapsed": true,
    "jupyter": {
     "outputs_hidden": true
    }
   },
   "outputs": [
    {
     "ename": "TypeError",
     "evalue": "'set' object does not support item assignment",
     "output_type": "error",
     "traceback": [
      "\u001b[1;31m---------------------------------------------------------------------------\u001b[0m",
      "\u001b[1;31mTypeError\u001b[0m                                 Traceback (most recent call last)",
      "Cell \u001b[1;32mIn[111], line 2\u001b[0m\n\u001b[0;32m      1\u001b[0m lista2_set \u001b[38;5;241m=\u001b[39m {\u001b[38;5;241m1\u001b[39m,\u001b[38;5;241m2\u001b[39m,\u001b[38;5;241m3\u001b[39m}\n\u001b[1;32m----> 2\u001b[0m lista2_set[\u001b[38;5;241m0\u001b[39m] \u001b[38;5;241m=\u001b[39m \u001b[38;5;241m2\u001b[39m\n\u001b[0;32m      3\u001b[0m lista_set \u001b[38;5;241m=\u001b[39m {\u001b[38;5;241m1\u001b[39m,\u001b[38;5;241m2\u001b[39m,\u001b[38;5;241m3\u001b[39m}\n\u001b[0;32m      4\u001b[0m lista_set\u001b[38;5;241m.\u001b[39madd(\u001b[38;5;241m5\u001b[39m)\n",
      "\u001b[1;31mTypeError\u001b[0m: 'set' object does not support item assignment"
     ]
    }
   ],
   "source": [
    "#Por que deu erro?\n",
    "lista2_set = {1,2,3}\n",
    "lista2_set[0] = 2\n",
    "# ❌ set não suporta acesso por índice (como listas)\n",
    "# sets são coleções **não ordenadas** e **sem índices**\n",
    "# por isso, lista2_set[0] = 2 dá erro: TypeError: 'set' object does not support item assignment\n"
   ]
  },
  {
   "cell_type": "code",
   "execution_count": 113,
   "id": "ce29fdca-ae2e-477e-b20b-5a7b10d5aca4",
   "metadata": {},
   "outputs": [
    {
     "name": "stdout",
     "output_type": "stream",
     "text": [
      "{1, 2, 3, 5}\n",
      "{2, 3, 5}\n"
     ]
    }
   ],
   "source": [
    "lista_set = {1,2,3}\n",
    "lista_set.add(5)\n",
    "print(lista_set)\n",
    "lista_set.remove(1)\n",
    "print(lista_set)"
   ]
  },
  {
   "cell_type": "code",
   "execution_count": 115,
   "id": "b5835358-7e42-4c5c-991f-3c7f64c09e8e",
   "metadata": {},
   "outputs": [
    {
     "name": "stdout",
     "output_type": "stream",
     "text": [
      "{1, 2, 3, 4}\n"
     ]
    }
   ],
   "source": [
    "lista_set = {1,2,3,4,2} # Cria um set (conjunto) — valores duplicados são ignorados\n",
    "lista_set.add(1) # Tenta adicionar o número 1 — mas já existe, então nada muda\n",
    "print(lista_set) # Exibe: {1, 2, 3, 4}\n",
    "\n",
    "\n",
    "\n"
   ]
  },
  {
   "cell_type": "code",
   "execution_count": 117,
   "id": "a8225873-64f3-465d-9d01-1ea7be96fc95",
   "metadata": {},
   "outputs": [
    {
     "name": "stdout",
     "output_type": "stream",
     "text": [
      "set()\n"
     ]
    }
   ],
   "source": [
    "lista_set = {1,2,3,4}\n",
    "lista_set.clear()\n",
    "print(lista_set)"
   ]
  },
  {
   "cell_type": "code",
   "execution_count": 119,
   "id": "101ea07f-3b8e-4973-b7be-578c8c0aa2c2",
   "metadata": {},
   "outputs": [
    {
     "name": "stdout",
     "output_type": "stream",
     "text": [
      "4\n"
     ]
    }
   ],
   "source": [
    "lista_set = {1,2,3,4}\n",
    "print(len(lista_set)) # conta o número de elementos presentes no set"
   ]
  },
  {
   "cell_type": "code",
   "execution_count": 121,
   "id": "79ea7ad4-9f5c-4b45-ae91-b6685ca64073",
   "metadata": {},
   "outputs": [
    {
     "name": "stdout",
     "output_type": "stream",
     "text": [
      "False\n"
     ]
    }
   ],
   "source": [
    "lista_set = {1,2,3,4}\n",
    "print(5 in lista_set) #averigua se o elemento 5 está presente no set"
   ]
  },
  {
   "cell_type": "code",
   "execution_count": 123,
   "id": "fc1eba22-78b2-4b51-b3d5-73d9276d9b98",
   "metadata": {},
   "outputs": [
    {
     "name": "stdout",
     "output_type": "stream",
     "text": [
      "0\n",
      "2\n",
      "3\n",
      "6.1\n",
      "4\n"
     ]
    }
   ],
   "source": [
    "lista_set = {0,2,3,'4', False, 6.1} # Cria um set com tipos mistos (int, str, bool, float)\n",
    "for item in lista_set: # Percorre e imprime cada item do set (ordem imprevisível)\n",
    "  print(item)"
   ]
  },
  {
   "cell_type": "code",
   "execution_count": 127,
   "id": "cbd393fb-252e-41a8-aa28-20e3f504aac6",
   "metadata": {},
   "outputs": [
    {
     "name": "stdout",
     "output_type": "stream",
     "text": [
      "{1, 2, 3, 4}\n"
     ]
    }
   ],
   "source": [
    "set1 = {1,2,3}\n",
    "set2 = {1,2,3,4}\n",
    "set_unido = set1.union(set2) # Une os dois sets sem repetir valores\n",
    "print(set_unido)"
   ]
  },
  {
   "cell_type": "code",
   "execution_count": 129,
   "id": "3833e961-de16-48d0-901b-04ca389f85ac",
   "metadata": {},
   "outputs": [
    {
     "name": "stdout",
     "output_type": "stream",
     "text": [
      "{1, 2, 3, 4, 5, 6}\n"
     ]
    }
   ],
   "source": [
    "set1 = {1,2,3}\n",
    "set2 = {3,4,5,6}\n",
    "set_unido = set1.union(set2)\n",
    "print(set_unido)"
   ]
  },
  {
   "cell_type": "code",
   "execution_count": 131,
   "id": "9b466c73-734f-44c1-a93c-18a026b84d6d",
   "metadata": {},
   "outputs": [
    {
     "name": "stdout",
     "output_type": "stream",
     "text": [
      "{1, 2, 3}\n"
     ]
    }
   ],
   "source": [
    "set1 = {1,2,3}\n",
    "set2 = {1,2,3,4}\n",
    "set_inser = set1.intersection(set2)\n",
    "print(set_inser)"
   ]
  },
  {
   "cell_type": "code",
   "execution_count": 133,
   "id": "cee74653-8aac-4028-8159-accc62ae1677",
   "metadata": {},
   "outputs": [
    {
     "name": "stdout",
     "output_type": "stream",
     "text": [
      "{4}\n"
     ]
    }
   ],
   "source": [
    "set1 = {1,2,3}\n",
    "set2 = {1,2,3,4}\n",
    "set_dif = set2.difference(set1)\n",
    "print(set_dif)"
   ]
  },
  {
   "cell_type": "markdown",
   "id": "9dfe9bac-83f8-462d-8ff5-cee81941aba6",
   "metadata": {},
   "source": [
    "# Tuple"
   ]
  },
  {
   "cell_type": "code",
   "execution_count": 176,
   "id": "66b487da-8c34-4230-80f3-a4ea5ce0948d",
   "metadata": {
    "scrolled": true
   },
   "outputs": [
    {
     "data": {
      "text/plain": [
       "'\\nDefinição: Uma coleção ordenada e imutável de itens. Os itens são separados por vírgulas e geralmente envolvidos por parênteses (). Embora os parênteses sejam opcionais para tuplas com um ou mais itens, é uma boa prática usá-los para clareza.\\nCaracterísticas Principais:\\nOrdenadas: A ordem dos elementos é preservada.\\nImutáveis: Uma vez criada, a tupla não pode ter seus elementos alterados (não é possível adicionar, remover ou modificar itens diretamente).\\nPermitem Duplicatas: Tuplas podem conter múltiplos elementos com o mesmo valor.\\nIndexadas: Os elementos são acessados por um índice (começando em 0).\\nPodem Conter Diferentes Tipos de Dados: Similar às listas, tuplas podem armazenar elementos de diferentes tipos.\\n'"
      ]
     },
     "execution_count": 176,
     "metadata": {},
     "output_type": "execute_result"
    }
   ],
   "source": [
    "'''\n",
    "Definição: Uma coleção ordenada e imutável de itens. Os itens são separados por vírgulas e geralmente envolvidos por parênteses (). Embora os parênteses sejam opcionais para tuplas com um ou mais itens, é uma boa prática usá-los para clareza.\n",
    "Características Principais:\n",
    "Ordenadas: A ordem dos elementos é preservada.\n",
    "Imutáveis: Uma vez criada, a tupla não pode ter seus elementos alterados (não é possível adicionar, remover ou modificar itens diretamente).\n",
    "Permitem Duplicatas: Tuplas podem conter múltiplos elementos com o mesmo valor.\n",
    "Indexadas: Os elementos são acessados por um índice (começando em 0).\n",
    "Podem Conter Diferentes Tipos de Dados: Similar às listas, tuplas podem armazenar elementos de diferentes tipos.\n",
    "'''"
   ]
  },
  {
   "cell_type": "code",
   "execution_count": 138,
   "id": "e3b5f2ee-fb12-4efd-aecb-eafbe31ca90a",
   "metadata": {},
   "outputs": [
    {
     "name": "stdout",
     "output_type": "stream",
     "text": [
      "('chocolate', 'bom bom', 'paçoca')\n"
     ]
    }
   ],
   "source": [
    "#doces = tuple((\"chocolate\",\"bom bom\", \"paçoca\"))\n",
    "doces = ('chocolate','bom bom','paçoca')\n",
    "print(doces)"
   ]
  },
  {
   "cell_type": "code",
   "execution_count": 140,
   "id": "2597fb48-36d6-47b1-b5c7-c84a911b9407",
   "metadata": {},
   "outputs": [
    {
     "name": "stdout",
     "output_type": "stream",
     "text": [
      "3\n"
     ]
    }
   ],
   "source": [
    "nums = ('1','2','3')\n",
    "print(len(nums))"
   ]
  },
  {
   "cell_type": "code",
   "execution_count": 142,
   "id": "7b3bc35e-ccba-437f-b6fa-16f01eba9523",
   "metadata": {},
   "outputs": [
    {
     "name": "stdout",
     "output_type": "stream",
     "text": [
      "3\n"
     ]
    }
   ],
   "source": [
    "nums = ('1','2','3')\n",
    "print(nums[2])"
   ]
  },
  {
   "cell_type": "code",
   "execution_count": 144,
   "id": "83445ae2-3f06-4b27-a8b1-847caeb69345",
   "metadata": {},
   "outputs": [
    {
     "name": "stdout",
     "output_type": "stream",
     "text": [
      "(3, 4)\n"
     ]
    }
   ],
   "source": [
    "nums = (1,2,3,4,5,6,7,8)\n",
    "sub_tupla =  nums[2:4]\n",
    "print(sub_tupla)"
   ]
  },
  {
   "cell_type": "code",
   "execution_count": 146,
   "id": "3b6b08a0-b9b5-4d2a-8856-b31eae457039",
   "metadata": {},
   "outputs": [
    {
     "name": "stdout",
     "output_type": "stream",
     "text": [
      "False\n"
     ]
    }
   ],
   "source": [
    "nums = (1,2,3,4,5,6,7,8)\n",
    "print(9 in nums)"
   ]
  },
  {
   "cell_type": "code",
   "execution_count": 148,
   "id": "0b807569-0723-4aa1-b5a1-10ca5472ec77",
   "metadata": {},
   "outputs": [
    {
     "ename": "TypeError",
     "evalue": "'tuple' object does not support item assignment",
     "output_type": "error",
     "traceback": [
      "\u001b[1;31m---------------------------------------------------------------------------\u001b[0m",
      "\u001b[1;31mTypeError\u001b[0m                                 Traceback (most recent call last)",
      "Cell \u001b[1;32mIn[148], line 2\u001b[0m\n\u001b[0;32m      1\u001b[0m tupla \u001b[38;5;241m=\u001b[39m \u001b[38;5;28mtuple\u001b[39m((\u001b[38;5;241m10\u001b[39m,\u001b[38;5;241m20\u001b[39m,\u001b[38;5;241m40\u001b[39m))\n\u001b[1;32m----> 2\u001b[0m tupla[\u001b[38;5;241m0\u001b[39m] \u001b[38;5;241m=\u001b[39m \u001b[38;5;241m20\u001b[39m\n",
      "\u001b[1;31mTypeError\u001b[0m: 'tuple' object does not support item assignment"
     ]
    }
   ],
   "source": [
    "tupla = tuple((10,20,40)) # Cria uma tupla com três elementos\n",
    "tupla[0] = 20 # ❌ Erro! Tuplas são imutáveis"
   ]
  },
  {
   "cell_type": "code",
   "execution_count": 150,
   "id": "3f18e358-881e-4ab3-a3a9-e5e0ea1ae19e",
   "metadata": {},
   "outputs": [
    {
     "name": "stdout",
     "output_type": "stream",
     "text": [
      "3\n"
     ]
    }
   ],
   "source": [
    "tupla = (6,7,8,9,10,6,6) \n",
    "print(tupla.count(6)) # Conta quantas vezes o número 6 aparece na tupla "
   ]
  },
  {
   "cell_type": "code",
   "execution_count": 152,
   "id": "31eeeea3-b6ac-4789-9bfe-766c802ee601",
   "metadata": {},
   "outputs": [
    {
     "name": "stdout",
     "output_type": "stream",
     "text": [
      "1\n"
     ]
    }
   ],
   "source": [
    "tupla = (5,'3', True, 7234)\n",
    "pos = tupla.index('3') #.index(valor) retorna o índice da primeira ocorrência do valor informado.\n",
    "print(pos)"
   ]
  },
  {
   "cell_type": "code",
   "execution_count": 154,
   "id": "bf921882-b690-4752-a4a7-4319a95567c0",
   "metadata": {},
   "outputs": [
    {
     "name": "stdout",
     "output_type": "stream",
     "text": [
      "5\n",
      "3\n",
      "True\n",
      "7234\n"
     ]
    }
   ],
   "source": [
    "tupla = (5,'3', True, 7234)\n",
    "for x in tupla:\n",
    "  print(x)"
   ]
  },
  {
   "cell_type": "code",
   "execution_count": 10,
   "id": "22ce59cb-1cd0-4fb3-b8b2-e7d931715243",
   "metadata": {},
   "outputs": [
    {
     "name": "stdout",
     "output_type": "stream",
     "text": [
      "5\n",
      "3\n",
      "True\n",
      "7234\n"
     ]
    }
   ],
   "source": [
    "tupla = (5,'3', True, 7234)\n",
    "for i in range(0, len(tupla)):\n",
    "  print(tupla[i])"
   ]
  },
  {
   "cell_type": "code",
   "execution_count": 160,
   "id": "ba18bfe0-ffb2-45b5-aa4a-b88e4ea15ba5",
   "metadata": {},
   "outputs": [
    {
     "name": "stdout",
     "output_type": "stream",
     "text": [
      "5\n",
      "3\n",
      "True\n",
      "7234\n"
     ]
    }
   ],
   "source": [
    "tupla = (5,'3', True, 7234)\n",
    "indice = 0\n",
    "while (indice < len(tupla)):\n",
    "  print(tupla[indice])\n",
    "  indice += 1"
   ]
  },
  {
   "cell_type": "code",
   "execution_count": 166,
   "id": "14438a91-67f3-4bf5-9cee-19d563f19ca9",
   "metadata": {},
   "outputs": [
    {
     "name": "stdout",
     "output_type": "stream",
     "text": [
      "(12, 2, 3, 'Fim')\n"
     ]
    }
   ],
   "source": [
    "numeros_set = (1,2,3) # Criação de um set (tupla neste caso)\n",
    "numeros_lista = list(numeros_set)  # Converte a tupla para lista, pois listas são mutáveis\n",
    "numeros_lista[0] = 12 # Modifica o primeiro elemento da lista\n",
    "numeros_lista.append(\"Fim\") # Adiciona o valor \"Fim\" no final da lista\n",
    "numeros_set = tuple(numeros_lista) # Converte de volta para tupla\n",
    "print(numeros_set) # Imprime a nova tupla"
   ]
  },
  {
   "cell_type": "markdown",
   "id": "67a41162-17e3-4796-b464-22b866d8a527",
   "metadata": {},
   "source": [
    "# Dictionaries"
   ]
  },
  {
   "cell_type": "code",
   "execution_count": 187,
   "id": "9e4fdd7e-bf9d-477b-81f6-194f8b7646f5",
   "metadata": {},
   "outputs": [
    {
     "data": {
      "text/plain": [
       "'\\nDefinição: Uma coleção não ordenada de pares chave-valor. \\nCada chave é única dentro do dicionário e é usada para acessar o valor correspondente. \\nOs pares chave-valor são separados por dois pontos : \\ne os itens do dicionário são separados por vírgulas, envolvidos por chaves {}\\n'"
      ]
     },
     "execution_count": 187,
     "metadata": {},
     "output_type": "execute_result"
    }
   ],
   "source": [
    "'''\n",
    "Definição: Uma coleção não ordenada de pares chave-valor. \n",
    "Cada chave é única dentro do dicionário e é usada para acessar o valor correspondente. \n",
    "Os pares chave-valor são separados por dois pontos : \n",
    "e os itens do dicionário são separados por vírgulas, envolvidos por chaves {}\n",
    "'''"
   ]
  },
  {
   "cell_type": "code",
   "execution_count": null,
   "id": "80517a38-356b-4a70-b8c4-c5f025fbfd2b",
   "metadata": {},
   "outputs": [],
   "source": [
    "#Não Ordenados (até Python 3.6): Em versões anteriores ao Python 3.7, a ordem dos itens não era garantida. A partir do Python 3.7, os dicionários preservam a ordem de inserção dos itens.\n",
    "#Mutáveis: É possível adicionar, remover e modificar pares chave-valor após a criação.\n",
    "#Chaves Únicas: Cada chave em um dicionário deve ser única. Se você tentar usar a mesma chave novamente, o valor anterior será substituído.\n",
    "#Acesso por Chave: Os valores são acessados usando suas respectivas chaves (não por índice).\n",
    "#Podem Conter Diferentes Tipos de Dados (para valores): Os valores podem ser de qualquer tipo de dado. \n",
    "#As chaves geralmente são tipos imutáveis (como strings, números ou tuplas de elementos imutáveis)."
   ]
  },
  {
   "cell_type": "code",
   "execution_count": 191,
   "id": "4d1e721f-cddb-4248-a137-adf814020eac",
   "metadata": {},
   "outputs": [
    {
     "name": "stdout",
     "output_type": "stream",
     "text": [
      "{'ana': 10, 'maria': 20, 'joão': 34, 'fernando': 'indefinido'}\n"
     ]
    }
   ],
   "source": [
    "idades = {'ana':10 ,'maria': 20, 'joão':34, 'fernando':'indefinido' }\n",
    "print(idades)"
   ]
  },
  {
   "cell_type": "code",
   "execution_count": 197,
   "id": "3855e57d-ea15-4ee6-ad27-6e38835704bc",
   "metadata": {},
   "outputs": [
    {
     "name": "stdout",
     "output_type": "stream",
     "text": [
      "{7.1: 'sete virgula um', 9.8: 'nove virgula oito', 10.43: 'dez virgula quarenta e três'}\n"
     ]
    }
   ],
   "source": [
    "nome_numeros = { 7.1: \"sete virgula um\", 9.8: \"nove virgula oito\", 10.43: \"dez virgula quarenta e três\"}\n",
    "print(nome_numeros)"
   ]
  },
  {
   "cell_type": "code",
   "execution_count": 199,
   "id": "f50a2920-629a-4fce-951d-b3c011854dd6",
   "metadata": {},
   "outputs": [
    {
     "name": "stdout",
     "output_type": "stream",
     "text": [
      "20\n",
      "indefinido\n"
     ]
    },
    {
     "data": {
      "text/plain": [
       "'indefinido'"
      ]
     },
     "execution_count": 199,
     "metadata": {},
     "output_type": "execute_result"
    }
   ],
   "source": [
    "idades = {'ana':10 ,'maria': 20, 'joão':34, 'fernando':'indefinido' }\n",
    "print(idades['maria'])\n",
    "print(idades['fernando'])\n",
    "idades.get('fernando') # Usando o método 'get' para acessar o valor associado à chave 'fernando'\n",
    "# A diferença entre get e o acesso direto via [chave] é que o 'get' não gera erro se a chave não existir"
   ]
  },
  {
   "cell_type": "code",
   "execution_count": 201,
   "id": "6f1d187b-6ee7-4792-a535-bc87e9918de8",
   "metadata": {
    "collapsed": true,
    "jupyter": {
     "outputs_hidden": true
    }
   },
   "outputs": [
    {
     "name": "stdout",
     "output_type": "stream",
     "text": [
      "sete virgula um\n",
      "dez virgula quarenta e três\n"
     ]
    }
   ],
   "source": [
    "nome_numeros = { \n",
    "    7.1: \"sete virgula um\", \n",
    "    9.8: \"nove virgula oito\", \n",
    "    10.43: \"dez virgula quarenta e três\"}\n",
    "print(nome_numeros[7.1])\n",
    "print(nome_numeros.get(10.43))\n"
   ]
  },
  {
   "cell_type": "code",
   "execution_count": 203,
   "id": "a0c740a0-2f43-464a-8c4b-b3c35809418a",
   "metadata": {},
   "outputs": [
    {
     "name": "stdout",
     "output_type": "stream",
     "text": [
      "True\n",
      "True\n"
     ]
    }
   ],
   "source": [
    "idades = {'ana':10 ,'maria': 20, 'joão':34, 'fernando':'indefinido' }\n",
    "print(\"ana\" in idades)\n",
    "print(\"roberto\" not in idades)"
   ]
  },
  {
   "cell_type": "code",
   "execution_count": 207,
   "id": "0957debd-00c9-4825-9b87-b0969933019c",
   "metadata": {},
   "outputs": [
    {
     "name": "stdout",
     "output_type": "stream",
     "text": [
      "{'ana': 10, 'maria': 30, 'joão': 40, 'fernando': 'indefinido'}\n"
     ]
    }
   ],
   "source": [
    "idades = {'ana':10 ,'maria': 20, 'joão':34, 'fernando':'indefinido' }\n",
    "idades['maria'] = 30 # Alterando diretamente o valor associado à chave 'maria'\n",
    "idades.update({\"joão\":40}) # O método update() permite atualizar valores em um dicionário de forma mais flexível. \n",
    "#No caso, o comando idades.update({\"joão\": 40}) altera o valor da chave 'joão' de 34 para 40.\n",
    "print(idades)"
   ]
  },
  {
   "cell_type": "code",
   "execution_count": 211,
   "id": "047da4e6-5539-4e6d-ac42-0321f4412f2f",
   "metadata": {},
   "outputs": [
    {
     "name": "stdout",
     "output_type": "stream",
     "text": [
      "{'maria': 20, 'joão': 34, 'fernando': 'indefinido', 'marcos': 90}\n",
      "{'maria': 20, 'joão': 34, 'fernando': 'indefinido'}\n"
     ]
    }
   ],
   "source": [
    "idades = {'ana':10 ,'maria': 20, 'joão':34, 'fernando':'indefinido' }\n",
    "idades['marcos'] = 90 # Adicionando um novo par chave-valor\n",
    "idades.pop('ana') # Removendo o par chave-valor com a chave 'ana'\n",
    "print(idades) \n",
    "idades.popitem() # Removendo o último par chave-valor inserido (usando popitem)\n",
    "print(idades)"
   ]
  },
  {
   "cell_type": "code",
   "execution_count": 227,
   "id": "5cb90ed3-41a6-4133-a7be-54d02ddd79f6",
   "metadata": {
    "scrolled": true
   },
   "outputs": [
    {
     "name": "stdout",
     "output_type": "stream",
     "text": [
      "dict_items([('ana', 10), ('maria', 20), ('joão', 34), ('fernando', 'indefinido')])\n",
      "\n",
      "ana 10\n",
      "maria 20\n",
      "joão 34\n",
      "fernando indefinido\n"
     ]
    }
   ],
   "source": [
    "idades = {'ana':10 ,'maria': 20, 'joão':34, 'fernando':'indefinido' }\n",
    "lista = idades.items()\n",
    "#O método items() retorna uma \"view\" que contém todos os pares chave-valor do dicionário. \n",
    "#Isso não cria uma lista de verdade, mas uma view, que permite \n",
    "#iterar sobre os itens do dicionário sem realmente copiar os dados para uma lista.\n",
    "\n",
    "print(lista, end='\\n\\n')\n",
    "for item in lista:\n",
    "  print(item[0], item[1])"
   ]
  },
  {
   "cell_type": "code",
   "execution_count": 11,
   "id": "2beb3610-75f3-44b7-a9bc-0e546f9b95ea",
   "metadata": {},
   "outputs": [
    {
     "name": "stdout",
     "output_type": "stream",
     "text": [
      "masculino\n"
     ]
    }
   ],
   "source": [
    "dados_maria = {\n",
    "    'sexo' : 'feminino',\n",
    "    'cpf' : '12345678910',\n",
    "    'rg' : '19487555'\n",
    "}\n",
    "dados_joao = {\n",
    "    'sexo' : 'masculino',\n",
    "    'cpf' : '12345678745',\n",
    "    'rg' : '878164'\n",
    "}\n",
    "dados_ana = {\n",
    "    'sexo' : 'feminino',\n",
    "    'cpf' : '787846555421',\n",
    "    'rg' : '820000035'\n",
    "}\n",
    "\n",
    "dados_por_nome ={\n",
    "    'ana' : dados_ana,\n",
    "    'maria': dados_maria,\n",
    "    'joao' : dados_joao\n",
    "}\n",
    "\n",
    "print(dados_por_nome['joao']['sexo'])"
   ]
  },
  {
   "cell_type": "code",
   "execution_count": null,
   "id": "0350ea26-e885-42f9-aebe-298e80605de2",
   "metadata": {},
   "outputs": [],
   "source": [
    "dados_por_nome = {\n",
    "    'ana': {  \n",
    "        'sexo':'feminino',\n",
    "        'cpf':'787846555421',\n",
    "        'rg': '820000035'\n",
    "    },\n",
    "    'maria': {\n",
    "        'sexo' : 'feminino',\n",
    "        'cpf' : '12345678910',\n",
    "        'rg' : '19487555'\n",
    "    },\n",
    "    'joao': {\n",
    "        'sexo' : 'masculino',\n",
    "        'cpf' : '12345678745',\n",
    "        'rg' : '878164'\n",
    "    }\n",
    "}\n",
    "print(dados_por_nome['ana']['rg'])\n",
    "\n"
   ]
  },
  {
   "cell_type": "code",
   "execution_count": null,
   "id": "621170d9-9685-4a4c-8b8a-abacc9abcb16",
   "metadata": {},
   "outputs": [],
   "source": []
  },
  {
   "cell_type": "code",
   "execution_count": null,
   "id": "97473632-c2ac-4b53-8d27-6c26d9083d56",
   "metadata": {},
   "outputs": [],
   "source": []
  },
  {
   "cell_type": "code",
   "execution_count": null,
   "id": "cf68e924-e99e-4451-b3fe-7f64951ef810",
   "metadata": {},
   "outputs": [],
   "source": []
  },
  {
   "cell_type": "markdown",
   "id": "7f841774-f0f9-4dfe-a818-b635d2543e20",
   "metadata": {},
   "source": [
    "#List comprehensions"
   ]
  },
  {
   "cell_type": "code",
   "execution_count": null,
   "id": "60a4489d-56e5-4638-ac6c-0843389dabda",
   "metadata": {},
   "outputs": [],
   "source": [
    "#List Comprehension é uma forma concisa e elegante de criar listas em Python. \n",
    "#Ao invés de usar loops for tradicionais, podemos construir listas com uma única linha de código, tornando o código mais legível e eficiente."
   ]
  },
  {
   "cell_type": "code",
   "execution_count": null,
   "id": "95ae6aa8-8f9c-4e51-ba8b-8881b25fc2fb",
   "metadata": {},
   "outputs": [],
   "source": [
    "#[expressão for item in iterável if condição]"
   ]
  },
  {
   "cell_type": "code",
   "execution_count": 175,
   "id": "eb2c23d1-849e-4b18-99c6-0209c6e9209b",
   "metadata": {},
   "outputs": [
    {
     "name": "stdout",
     "output_type": "stream",
     "text": [
      "[0, 1, 2, 3, 4, 5, 6, 7, 8, 9]\n"
     ]
    }
   ],
   "source": [
    "lista = [x for x in range(0,10)]  # Cria lista de 0 a 9\n",
    "print(lista)\n",
    "# Saída: [0, 1, 2, 3, 4, 5, 6, 7, 8, 9]\n",
    "#Mostrar a forma básica de list comprehension com range()."
   ]
  },
  {
   "cell_type": "code",
   "execution_count": 177,
   "id": "92451c63-8e3f-4d2c-81b3-c0725a7e4305",
   "metadata": {},
   "outputs": [
    {
     "name": "stdout",
     "output_type": "stream",
     "text": [
      "['1', 'zero', 'Quatro']\n"
     ]
    }
   ],
   "source": [
    "lista = ['1', 'zero', 'Quatro']     # Lista de strings\n",
    "lista = [x for x in lista]          # Copia cada elemento da lista original\n",
    "print(lista)\n",
    "# Saída: ['1', 'zero', 'Quatro']\n",
    "# Demonstrar que é possível iterar sobre qualquer lista (não só números)."
   ]
  },
  {
   "cell_type": "code",
   "execution_count": 163,
   "id": "54cbb035-86f5-4973-a1c4-952ed848c24f",
   "metadata": {},
   "outputs": [
    {
     "name": "stdout",
     "output_type": "stream",
     "text": [
      "[2, 4, 6, 8, 10]\n"
     ]
    }
   ],
   "source": [
    "lista = [x for x in range(1,11) if x % 2 == 0]  # Apenas números pares de 1 a 10\n",
    "print(lista)\n",
    "# Saída: [2, 4, 6, 8, 10]\n",
    "# Introduzir condição (if) dentro de list comprehension."
   ]
  },
  {
   "cell_type": "code",
   "execution_count": 165,
   "id": "167dadcd-9e08-473e-8154-2be2da15a624",
   "metadata": {},
   "outputs": [
    {
     "name": "stdout",
     "output_type": "stream",
     "text": [
      "[2, 3, 4, 6, 7, 8, 10]\n"
     ]
    }
   ],
   "source": [
    "lista_aux = [1,5,9]\n",
    "lista = [x for x in range(1,11) if x not in lista_aux]  # Exclui valores da lista_aux\n",
    "print(lista)\n",
    "# Saída: [2, 3, 4, 6, 7, 8, 10]\n",
    "#Mostrar como remover elementos indesejados durante a criação da lista"
   ]
  },
  {
   "cell_type": "code",
   "execution_count": 167,
   "id": "091ca0f1-b8e3-4651-9d09-51510a8b1356",
   "metadata": {},
   "outputs": [
    {
     "name": "stdout",
     "output_type": "stream",
     "text": [
      "[0, 1, 2, 3, 4, 5, 6, 7, 8, 9, 10]\n"
     ]
    }
   ],
   "source": [
    "lista = [x for x in range(-10,20) if x <= 10 if x >= 0]  # Números entre 0 e 10\n",
    "print(lista)\n",
    "# Saída: [0, 1, 2, 3, 4, 5, 6, 7, 8, 9, 10]"
   ]
  },
  {
   "cell_type": "code",
   "execution_count": 169,
   "id": "75224839-16c8-4422-9527-be1106d0fb73",
   "metadata": {},
   "outputs": [
    {
     "name": "stdout",
     "output_type": "stream",
     "text": [
      "[0, 2, 4, 6, 8, 10, 12, 14, 16, 18, 20]\n"
     ]
    }
   ],
   "source": [
    "lista = [x * 2 for x in range(0,11)]  # Multiplica cada número de 0 a 10 por 2\n",
    "print(lista)\n",
    "# Saída: [0, 2, 4, 6, 8, 10, 12, 14, 16, 18, 20]"
   ]
  },
  {
   "cell_type": "code",
   "execution_count": 171,
   "id": "d2c6bccb-92b4-4228-918e-b087f5af1dde",
   "metadata": {},
   "outputs": [
    {
     "name": "stdout",
     "output_type": "stream",
     "text": [
      "['0', '1', '2', '3', '4', '5', '6', '7', '8', '9', '1', '1', '1', '1', '1', '1', '1', '1', '1', '1', '2']\n"
     ]
    }
   ],
   "source": [
    "lista = [str(x)[0] for x in range(0,21)]  # Pega o primeiro caractere da versão string\n",
    "print(lista)\n",
    "# Saída: ['0', '1', '2', '3', '4', '5', '6', '7', '8', '9', '1', '1', '1', '1', '1', '1', '1', '1', '1', '2', '2']"
   ]
  },
  {
   "cell_type": "code",
   "execution_count": 173,
   "id": "c04d65e6-ecf8-4edd-8dfa-3685696264cc",
   "metadata": {},
   "outputs": [
    {
     "name": "stdout",
     "output_type": "stream",
     "text": [
      "['negativo', 'negativo', 'negativo', 'positivo', 'positivo', 'positivo', 'positivo']\n"
     ]
    }
   ],
   "source": [
    "lista = ['negativo' if x < 0 else 'positivo' for x in range(-3, 4)]\n",
    "print(lista)\n",
    "# Saída: ['negativo', 'negativo', 'negativo', 'positivo', 'positivo', 'positivo', 'positivo']"
   ]
  },
  {
   "cell_type": "markdown",
   "id": "64c791b7-1506-4c17-9033-cf7551d44a1e",
   "metadata": {},
   "source": [
    "# Builtiin"
   ]
  },
  {
   "cell_type": "markdown",
   "id": "5e9f6b2e-0355-480b-87d0-679b95036d5c",
   "metadata": {},
   "source": [
    "Funções matemáticas"
   ]
  },
  {
   "cell_type": "code",
   "execution_count": 10,
   "id": "1b8c1202-59ea-4a0d-bbd0-dc53eb32e07f",
   "metadata": {},
   "outputs": [
    {
     "name": "stdout",
     "output_type": "stream",
     "text": [
      "10\n",
      "10\n",
      "20\n"
     ]
    }
   ],
   "source": [
    "num1 = -10\n",
    "num2 = 10\n",
    "print(abs(num1))\n",
    "print(abs(num2))\n",
    "print(abs(num1) + abs(num2))\n",
    "# abs desconsidera o sinal do operando."
   ]
  },
  {
   "cell_type": "code",
   "execution_count": 12,
   "id": "63c99461-81c2-45e4-b68c-69fc9e54aed7",
   "metadata": {},
   "outputs": [
    {
     "name": "stdout",
     "output_type": "stream",
     "text": [
      "30\n"
     ]
    }
   ],
   "source": [
    "maior_valor = max(10,20,30)\n",
    "print(maior_valor)"
   ]
  },
  {
   "cell_type": "code",
   "execution_count": 18,
   "id": "009890c8-5a37-427a-8520-d429e5bae196",
   "metadata": {},
   "outputs": [
    {
     "name": "stdout",
     "output_type": "stream",
     "text": [
      "-20\n"
     ]
    }
   ],
   "source": [
    "lista = [-20,1,2.3,3]\n",
    "print(min(lista))"
   ]
  },
  {
   "cell_type": "code",
   "execution_count": 28,
   "id": "e388a268-e01e-4ffd-9c81-335589a5077e",
   "metadata": {},
   "outputs": [
    {
     "name": "stdout",
     "output_type": "stream",
     "text": [
      "8\n"
     ]
    }
   ],
   "source": [
    "x = 2\n",
    "y = 3\n",
    "print(pow(x,y))"
   ]
  },
  {
   "cell_type": "code",
   "execution_count": 30,
   "id": "237d12cc-bdab-4e9a-a8ec-d79ff92839e8",
   "metadata": {},
   "outputs": [
    {
     "name": "stdout",
     "output_type": "stream",
     "text": [
      "5.0\n"
     ]
    }
   ],
   "source": [
    "import math\n",
    "print (math.sqrt(25))# raiz quadrada"
   ]
  },
  {
   "cell_type": "code",
   "execution_count": 44,
   "id": "00229e3a-a5e5-41f4-b0cd-e6e110de4da3",
   "metadata": {},
   "outputs": [
    {
     "name": "stdout",
     "output_type": "stream",
     "text": [
      "2.46\n"
     ]
    }
   ],
   "source": [
    "print(round(2.4566,2)) # após a vírgula definimos quantas casas decimais deverão ter."
   ]
  },
  {
   "cell_type": "code",
   "execution_count": 52,
   "id": "fa58265e-8064-49d0-aba3-492571da0b2e",
   "metadata": {},
   "outputs": [
    {
     "name": "stdout",
     "output_type": "stream",
     "text": [
      "2\n",
      "3\n"
     ]
    }
   ],
   "source": [
    "from math import floor,ceil\n",
    "print(floor(2.4566)) #arredonda o valor para baixo\n",
    "print(ceil(2.4566)) #arredonda o valor para cima"
   ]
  },
  {
   "cell_type": "code",
   "execution_count": 56,
   "id": "054106e6-bb94-4ff8-82c0-131eee8f8d37",
   "metadata": {},
   "outputs": [
    {
     "name": "stdout",
     "output_type": "stream",
     "text": [
      "(2, 2)\n"
     ]
    }
   ],
   "source": [
    "print(divmod(10,4)) #mostra o quociente e o resto."
   ]
  },
  {
   "cell_type": "markdown",
   "id": "113aaa2a-82e2-4f37-b23e-80cc73d35903",
   "metadata": {},
   "source": [
    "Caracteres para Números e Números para Caracteres"
   ]
  },
  {
   "cell_type": "code",
   "execution_count": 73,
   "id": "f9ad7f2d-15f0-421f-bf3d-2def35a34bd4",
   "metadata": {},
   "outputs": [
    {
     "name": "stdout",
     "output_type": "stream",
     "text": [
      "o número 70 é mapeado para o caractere F\n"
     ]
    }
   ],
   "source": [
    "numero = 70\n",
    "caractere = chr(numero)  # chr converte para caractere\n",
    "print(\"o número %d é mapeado para o caractere %s\" % (numero, caractere))"
   ]
  },
  {
   "cell_type": "code",
   "execution_count": 103,
   "id": "9333815f-7671-46f0-a3ac-8c1e11782172",
   "metadata": {},
   "outputs": [
    {
     "name": "stdout",
     "output_type": "stream",
     "text": [
      "1 - \u0001\n",
      "2 - \u0002\n",
      "3 - \u0003\n",
      "4 - \u0004\n",
      "5 - \u0005\n",
      "6 - \u0006\n",
      "7 - \u0007\n",
      "8 -\n",
      "9 - \t\n",
      "10 - \n",
      "\n",
      "11 - \u000b",
      "\n",
      "12 - \f",
      "\n",
      "13 - \n",
      "14 - \u000e\n",
      "15 - \u000f\n",
      "16 - \u0010\n",
      "17 - \u0011\n",
      "18 - \u0012\n",
      "19 - \u0013\n",
      "20 - \u0014\n",
      "21 - \u0015\n",
      "22 - \u0016\n",
      "23 - \u0017\n",
      "24 - \u0018\n",
      "25 - \u0019\n",
      "26 - \u001a\n",
      "27 - \u001b\n",
      "28 - \u001c",
      "\n",
      "29 - \u001d",
      "\n",
      "30 - \u001e",
      "\n",
      "31 - \u001f\n",
      "32 -  \n",
      "33 - !\n",
      "34 - \"\n",
      "35 - #\n",
      "36 - $\n",
      "37 - %\n",
      "38 - &\n",
      "39 - '\n",
      "40 - (\n",
      "41 - )\n",
      "42 - *\n",
      "43 - +\n",
      "44 - ,\n",
      "45 - -\n",
      "46 - .\n",
      "47 - /\n",
      "48 - 0\n",
      "49 - 1\n",
      "50 - 2\n",
      "51 - 3\n",
      "52 - 4\n",
      "53 - 5\n",
      "54 - 6\n",
      "55 - 7\n",
      "56 - 8\n",
      "57 - 9\n",
      "58 - :\n",
      "59 - ;\n",
      "60 - <\n",
      "61 - =\n",
      "62 - >\n",
      "63 - ?\n",
      "64 - @\n",
      "65 - A\n",
      "66 - B\n",
      "67 - C\n",
      "68 - D\n",
      "69 - E\n",
      "70 - F\n",
      "71 - G\n",
      "72 - H\n",
      "73 - I\n",
      "74 - J\n",
      "75 - K\n",
      "76 - L\n",
      "77 - M\n",
      "78 - N\n",
      "79 - O\n",
      "80 - P\n",
      "81 - Q\n",
      "82 - R\n",
      "83 - S\n",
      "84 - T\n",
      "85 - U\n",
      "86 - V\n",
      "87 - W\n",
      "88 - X\n",
      "89 - Y\n",
      "90 - Z\n",
      "91 - [\n",
      "92 - \\\n",
      "93 - ]\n",
      "94 - ^\n",
      "95 - _\n",
      "96 - `\n",
      "97 - a\n",
      "98 - b\n",
      "99 - c\n"
     ]
    }
   ],
   "source": [
    "for i in range(1, 100):\n",
    "    caractere = chr(i)\n",
    "    print(\"%d - %s\" % (i, caractere), end='\\n')"
   ]
  },
  {
   "cell_type": "code",
   "execution_count": 105,
   "id": "d6b7f788-24a7-455f-8062-1791288adf82",
   "metadata": {},
   "outputs": [
    {
     "name": "stdout",
     "output_type": "stream",
     "text": [
      "O caractere F se mapeia para o número 70\n"
     ]
    }
   ],
   "source": [
    "caractere = \"F\"\n",
    "numero = ord(caractere) #ord verificia qual número representa aquele caractere.\n",
    "print(\"O caractere %s se mapeia para o número %d\" % (caractere, numero))"
   ]
  },
  {
   "cell_type": "markdown",
   "id": "bd8f58a4-e41d-42cd-a991-d4100ccefeeb",
   "metadata": {},
   "source": [
    "Funções de Texto"
   ]
  },
  {
   "cell_type": "code",
   "execution_count": null,
   "id": "cc84c088-0923-4851-9ab2-5bceedb92d77",
   "metadata": {},
   "outputs": [],
   "source": [
    "texto = \"olá, tudo bem?\"\n",
    "print(texto.capitalize()) # o método .capitalize deixa a primeira letra tamanho maíscula."
   ]
  },
  {
   "cell_type": "code",
   "execution_count": 111,
   "id": "021ba235-d37e-4ba2-8619-ee195e9f879c",
   "metadata": {},
   "outputs": [
    {
     "name": "stdout",
     "output_type": "stream",
     "text": [
      "isto é estranho\n",
      "ISTO É ESTRANHO\n",
      "iStO É eSTRAnho\n"
     ]
    }
   ],
   "source": [
    "texto = \"IsTo é EstraNHO\"\n",
    "print(texto.lower()) #transforma tudo em minúsculo\n",
    "print(texto.upper()) #transforma tudo em maiúsculo\n",
    "print(texto.swapcase()) # inverte maiusculo para minúsculo e vice versa."
   ]
  },
  {
   "cell_type": "code",
   "execution_count": 113,
   "id": "f44e6b0a-8edc-4db8-ade5-0167d89d7b2c",
   "metadata": {},
   "outputs": [
    {
     "name": "stdout",
     "output_type": "stream",
     "text": [
      "Eu Sou Um Ótimo Programador Python\n"
     ]
    }
   ],
   "source": [
    "texto = \"Eu sou um ótimo programador python\"\n",
    "print(texto.title()) #transforma em maiúscula as letras de cada palavra."
   ]
  },
  {
   "cell_type": "code",
   "execution_count": 119,
   "id": "2aac17cc-ecc7-442a-9b74-751578d32065",
   "metadata": {
    "scrolled": true
   },
   "outputs": [
    {
     "name": "stdout",
     "output_type": "stream",
     "text": [
      " 1234567 \n",
      "   1234567    \n",
      "---1234567----\n"
     ]
    }
   ],
   "source": [
    "texto = \"1234567\"\n",
    "print(texto.center(9)) #centraliza o texto acrescentando mais caracteres até chagar 9\n",
    "print(texto.center(14))#centraliza o texto acrescentando mais caracteres até chagar 14\n",
    "print(texto.center(14, \"-\"))#centraliza o texto acrescentando mais caracteres \"-\""
   ]
  },
  {
   "cell_type": "code",
   "execution_count": 139,
   "id": "de2a5753-4759-4793-8fbb-c66b2ae25097",
   "metadata": {},
   "outputs": [
    {
     "name": "stdout",
     "output_type": "stream",
     "text": [
      "True\n",
      "True\n"
     ]
    }
   ],
   "source": [
    "texto = \"12345678912\"\n",
    "print(texto.startswith(\"12\")) #verifica se o texto inicia com o valor solicitado\n",
    "print(texto.endswith(\"12\")) #verifica se o texto termina com o valor solicitado"
   ]
  },
  {
   "cell_type": "code",
   "execution_count": 141,
   "id": "75a43f06-f43f-4364-9639-0cd288e8f697",
   "metadata": {},
   "outputs": [
    {
     "name": "stdout",
     "output_type": "stream",
     "text": [
      "15\n",
      "-1\n"
     ]
    }
   ],
   "source": [
    "texto = \"me encontra 20 10 5\"\n",
    "pos = texto.find(\"10\") # .find encontra a posição do objeto\n",
    "print(pos)\n",
    "pos = texto. find(\"4\") # quando não encontrado ele retorna o valor -1\n",
    "print(pos)"
   ]
  },
  {
   "cell_type": "code",
   "execution_count": 143,
   "id": "d5f75c4e-b2f2-4947-b3fd-e24fa2de0c0e",
   "metadata": {},
   "outputs": [
    {
     "name": "stdout",
     "output_type": "stream",
     "text": [
      "15\n"
     ]
    }
   ],
   "source": [
    "texto = \"me encontra 20 10 5\"\n",
    "pos = texto.index(\"10\") # .index  encontra a posição do objeto.\n",
    "print(pos)\n",
    "#caso não encontre acarretará em erro.\n",
    "\n",
    "#Use .find() quando quiser evitar exceções, \n",
    "#e .index() quando quiser que o erro pare o programa caso a substring não exista."
   ]
  },
  {
   "cell_type": "code",
   "execution_count": 147,
   "id": "7e4675dc-cc41-4514-98f1-18c29fd05a3d",
   "metadata": {},
   "outputs": [
    {
     "name": "stdout",
     "output_type": "stream",
     "text": [
      "ola eu sou a fulana\n"
     ]
    }
   ],
   "source": [
    "texto = \"ol@ eu sou @ ful@n@\"\n",
    "novo_texto = texto.replace(\"@\",\"a\") # .replace() substitui o valor solicitado.\n",
    "print(novo_texto)"
   ]
  },
  {
   "cell_type": "code",
   "execution_count": null,
   "id": "720b8cec-74fb-43a8-bbc4-4a9458123e95",
   "metadata": {},
   "outputs": [],
   "source": [
    "texto '10,20,30'\n",
    "print(texto.split(\",\")) # separa o texto onde indicamos, nesse caso após a vírgula"
   ]
  },
  {
   "cell_type": "code",
   "execution_count": 153,
   "id": "55cd78ad-2cf9-4989-9bb8-89567991cbe1",
   "metadata": {},
   "outputs": [
    {
     "name": "stdout",
     "output_type": "stream",
     "text": [
      "False\n"
     ]
    }
   ],
   "source": [
    "print(\"abcde3\".isalpha()) #isalpha verifica se o texto é apenas caracteres."
   ]
  },
  {
   "cell_type": "code",
   "execution_count": 155,
   "id": "934def7e-e882-48d3-ad37-17a8c61abb80",
   "metadata": {},
   "outputs": [
    {
     "name": "stdout",
     "output_type": "stream",
     "text": [
      "False\n"
     ]
    }
   ],
   "source": [
    "print(\"abc,dE3\".isalnum())"
   ]
  },
  {
   "cell_type": "code",
   "execution_count": 157,
   "id": "5011bb18-482f-47c5-825a-c19878229351",
   "metadata": {},
   "outputs": [
    {
     "name": "stdout",
     "output_type": "stream",
     "text": [
      "False\n"
     ]
    }
   ],
   "source": [
    "print(\"123\".isspace()) #verifica se há espaço no texto"
   ]
  },
  {
   "cell_type": "code",
   "execution_count": 163,
   "id": "17a074fe-b44f-440b-a5ca-c22bf4509440",
   "metadata": {},
   "outputs": [
    {
     "name": "stdout",
     "output_type": "stream",
     "text": [
      "True\n",
      "True\n"
     ]
    }
   ],
   "source": [
    "print(\"abc\".islower()) #verifica se o texto é minúsculo\n",
    "print(\"ABC\".isupper()) #verifica se o texto é maiúsculo"
   ]
  },
  {
   "cell_type": "markdown",
   "id": "ca998da8-addf-4438-b1b2-01776aed8135",
   "metadata": {},
   "source": [
    "Funções para Listas"
   ]
  },
  {
   "cell_type": "code",
   "execution_count": 167,
   "id": "b45fcf25-01f8-47ee-942f-4427eaf12371",
   "metadata": {},
   "outputs": [
    {
     "name": "stdout",
     "output_type": "stream",
     "text": [
      "[1, 2, 5, 5, 10, 10]\n"
     ]
    }
   ],
   "source": [
    "lista = [5,10,2,1,5,10]\n",
    "lista.sort() # ordena a lista\n",
    "print(lista)"
   ]
  },
  {
   "cell_type": "code",
   "execution_count": 175,
   "id": "57f57e62-2592-4dee-9b7e-48daa9ea7f96",
   "metadata": {},
   "outputs": [
    {
     "name": "stdout",
     "output_type": "stream",
     "text": [
      "['h', 'w', 'x', 'y', 'z']\n"
     ]
    }
   ],
   "source": [
    "lista = [\"x\",\"y\",\"z\",\"w\",\"h\"]\n",
    "lista.sort() # ordena a lista\n",
    "print(lista)"
   ]
  },
  {
   "cell_type": "code",
   "execution_count": 179,
   "id": "792c3bc3-5db8-44f0-95c9-92bb5785c6e4",
   "metadata": {},
   "outputs": [
    {
     "name": "stdout",
     "output_type": "stream",
     "text": [
      "[10, 10, 5, 5, 2, 1]\n"
     ]
    }
   ],
   "source": [
    "lista = [5,10,2,1,5,10]\n",
    "lista.sort(reverse = True) # ordena a lista em ordem descrescente\n",
    "print(lista)"
   ]
  },
  {
   "cell_type": "code",
   "execution_count": 181,
   "id": "45db1fe9-a4f8-47cc-8387-836dc0c0e896",
   "metadata": {},
   "outputs": [
    {
     "name": "stdout",
     "output_type": "stream",
     "text": [
      "['a', 'b', 'ab', 'de', 'abc', 'abcd']\n"
     ]
    }
   ],
   "source": [
    "# Define uma função que recebe um item (string) e retorna seu comprimento\n",
    "def sort_por_tamanho(item):\n",
    "    return len(item)  # Retorna o número de caracteres da string\n",
    "\n",
    "# Cria uma lista de strings com tamanhos variados\n",
    "lista = [\"a\", \"b\", \"ab\", \"de\", \"abc\", \"abcd\"]\n",
    "\n",
    "# Ordena a lista com base no comprimento de cada string\n",
    "# A função sort_por_tamanho será aplicada a cada item como critério de ordenação\n",
    "lista.sort(key = sort_por_tamanho) # O key=sort_por_tamanho diz: \"ordene a lista usando o comprimento de cada item como critério\".\n",
    "\n",
    "# Exibe a lista ordenada pelo tamanho das strings (do menor para o maior)\n",
    "print(lista)"
   ]
  },
  {
   "cell_type": "code",
   "execution_count": 185,
   "id": "09a891a7-2296-4ed9-a0db-c297fb06f015",
   "metadata": {},
   "outputs": [
    {
     "name": "stdout",
     "output_type": "stream",
     "text": [
      "carro R$ 100.000\n",
      "cadeira R$ 1000\n",
      "Moto R$ 40000\n",
      "geladeira R$ 20000\n",
      "armário R$ 1500\n"
     ]
    }
   ],
   "source": [
    "# Cria uma lista de listas, onde cada sublista representa um produto e seu valor\n",
    "produtos = [['carro','R$ 100.000'] ,\n",
    "            ['cadeira','R$ 1000'] ,\n",
    "            ['Moto',\"R$ 40000\"],\n",
    "            ['geladeira','R$ 20000'],\n",
    "            ['armário','R$ 1500']]\n",
    "\n",
    "# Percorre a lista 'produtos', desempacotando cada sublista em 'produto' e 'valor'\n",
    "for produto, valor in produtos:\n",
    "    # Exibe o nome do produto e seu valor formatado\n",
    "    print(produto, valor)"
   ]
  },
  {
   "cell_type": "code",
   "execution_count": 187,
   "id": "68a6aadc-6389-4c4e-bc85-1e3be35007ca",
   "metadata": {},
   "outputs": [
    {
     "name": "stdout",
     "output_type": "stream",
     "text": [
      "{'José': 10, 'Carlos': 10, 'João': 10}\n"
     ]
    }
   ],
   "source": [
    "nomes = ('José','Carlos','João')\n",
    "dicionario = dict.fromkeys(nomes,10) # cria objeto dicionário atribindo 10 para cada elemento da tupla.\n",
    "print(dicionario)"
   ]
  },
  {
   "cell_type": "markdown",
   "id": "daf837e1-fdc7-4e6d-a376-6e1d71e473bb",
   "metadata": {},
   "source": [
    "Funções de Data e Hora\n"
   ]
  },
  {
   "cell_type": "code",
   "execution_count": 189,
   "id": "5ecbf0c2-7781-4888-a95e-419c5f6638a8",
   "metadata": {},
   "outputs": [
    {
     "name": "stdout",
     "output_type": "stream",
     "text": [
      "2025-05-01 16:25:03.141945\n",
      "2025-05-01\n",
      "16:25:03.141945\n"
     ]
    }
   ],
   "source": [
    "import datetime\n",
    "data_completa = datetime.datetime.now()\n",
    "data = data_completa.date()\n",
    "hora = data_completa.time()\n",
    "\n",
    "print(data_completa)\n",
    "print(data)\n",
    "print(hora)"
   ]
  },
  {
   "cell_type": "code",
   "execution_count": 191,
   "id": "a014c195-ccf9-4915-a8bf-93f7ee16a445",
   "metadata": {},
   "outputs": [
    {
     "name": "stdout",
     "output_type": "stream",
     "text": [
      "Dia 1\n",
      "Mês 5\n",
      "Ano 2025\n",
      "hora 16\n",
      "minuto 44\n"
     ]
    }
   ],
   "source": [
    "import datetime\n",
    "data_completa = datetime.datetime.now()\n",
    "\n",
    "print(\"Dia\", data_completa.day)\n",
    "print(\"Mês\", data_completa.month)\n",
    "print(\"Ano\", data_completa.year)\n",
    "print(\"hora\", data_completa.hour)\n",
    "print(\"minuto\", data_completa.second)"
   ]
  },
  {
   "cell_type": "code",
   "execution_count": 197,
   "id": "1e9f8745-bed6-42c2-98a7-807fa4a29d57",
   "metadata": {},
   "outputs": [
    {
     "name": "stdout",
     "output_type": "stream",
     "text": [
      "2000-09-30\n"
     ]
    }
   ],
   "source": [
    "import datetime\n",
    "data = datetime.date(2000, 9,30)\n",
    "data = datetime.date(day = 30, month = 9, year = 2000)\n",
    "print(data)\n",
    "\n",
    "\n"
   ]
  },
  {
   "cell_type": "code",
   "execution_count": 199,
   "id": "1a52d949-2de6-4cf1-be44-c8bfb15676f8",
   "metadata": {},
   "outputs": [
    {
     "name": "stdout",
     "output_type": "stream",
     "text": [
      "16:30:44\n"
     ]
    }
   ],
   "source": [
    "import datetime\n",
    "hora = datetime.time(16, 30, 44)\n",
    "print(hora)"
   ]
  },
  {
   "cell_type": "code",
   "execution_count": 203,
   "id": "40b23963-f038-4272-b437-53a1ea3520f4",
   "metadata": {},
   "outputs": [
    {
     "name": "stdout",
     "output_type": "stream",
     "text": [
      "25/05/01 16:34:34\n"
     ]
    }
   ],
   "source": [
    "import datetime\n",
    "# y ano\n",
    "# m mês\n",
    "# d dia\n",
    "# H hora\n",
    "# M minuto\n",
    "# S segundo\n",
    "atual = datetime.datetime.now()\n",
    "current_time = atual.strftime(\"%y/%m/%d %H:%M:%S\") # O método strftime() em Python é usado para formatar objetos de data e hora (datetime) como strings, de acordo com um formato especificado.\n",
    "print(current_time)"
   ]
  },
  {
   "cell_type": "code",
   "execution_count": 205,
   "id": "d1da7885-5780-4170-abf6-4b5ac7f77e3a",
   "metadata": {},
   "outputs": [
    {
     "name": "stdout",
     "output_type": "stream",
     "text": [
      "Saturday  - Sat\n",
      "September  - Sep\n",
      "10  - 10\n",
      "10  - AM\n"
     ]
    }
   ],
   "source": [
    "import datetime\n",
    "# y ano\n",
    "# m mês\n",
    "# d dia\n",
    "# H hora formato 00-23\n",
    "# M minuto\n",
    "# S segundo\n",
    "\n",
    "# A dia da semana\n",
    "# a dia da semana abrev.\n",
    "# B nome do mês\n",
    "# b nome do mês abrev.\n",
    "# I hora formato 12 horas\n",
    "# p AM PM\n",
    "\n",
    "data = datetime.datetime(2000,9,30,10,30,20)\n",
    "print(data.strftime(\"%A  - %a\"))\n",
    "print(data.strftime(\"%B  - %b\"))\n",
    "print(data.strftime(\"%H  - %I\"))\n",
    "print(data.strftime(\"%I  - %p\"))"
   ]
  },
  {
   "cell_type": "code",
   "execution_count": null,
   "id": "cdbc6f39-0d21-4d17-8c29-9fa1f4cc2817",
   "metadata": {},
   "outputs": [],
   "source": []
  },
  {
   "cell_type": "markdown",
   "id": "a17bb4ba-c601-4227-bbe0-43be3d9cd292",
   "metadata": {},
   "source": [
    "# operadores ternários"
   ]
  },
  {
   "cell_type": "code",
   "execution_count": 36,
   "id": "f850def7-b804-4743-a939-70ab5f9e925d",
   "metadata": {},
   "outputs": [
    {
     "name": "stdout",
     "output_type": "stream",
     "text": [
      "Hoje estou com as roupas secas.\n",
      "Hoje estou com as roupas secas.\n"
     ]
    }
   ],
   "source": [
    "# %%\n",
    "esta_chuvendo = False\n",
    "#o operador ternário permite escrever expressões condicionais de forma mais compacta.\n",
    "\n",
    "print('Hoje estou com as roupas ' + ('secas.', 'molhadas.')[esta_chuvendo])\n",
    "print('Hoje estou com as roupas ' + \n",
    "      ('molhadas.' if esta_chuvendo else 'secas.'))"
   ]
  },
  {
   "cell_type": "markdown",
   "id": "1142b35a-2dab-400a-b1c0-363580afc7ac",
   "metadata": {},
   "source": [
    "# mais operadores"
   ]
  },
  {
   "cell_type": "code",
   "execution_count": 47,
   "id": "4deb519a-8a91-48d3-a6ac-013ff5f1d4d2",
   "metadata": {},
   "outputs": [
    {
     "data": {
      "text/plain": [
       "True"
      ]
     },
     "execution_count": 47,
     "metadata": {},
     "output_type": "execute_result"
    }
   ],
   "source": [
    "# %%\n",
    "# Operador de Membro\n",
    "lista = [1, 2, 3, 'Ana', 'Carla']\n",
    "2 in lista\n",
    "'Ana' not in lista\n",
    "\n",
    "# Operador de Identidade\n",
    "x = 3\n",
    "y = x\n",
    "z = 3\n",
    "x is y\n",
    "y is z\n",
    "x is not z\n",
    "\n",
    "lista_a = [1, 2, 3]\n",
    "lista_b = lista_a\n",
    "lista_c = [1, 2, 3]\n",
    "\n",
    "lista_a is lista_b\n",
    "# %%\n",
    "# Operador de Membro\n",
    "lista = [1, 2, 3, 'Ana', 'Carla']\n",
    "2 in lista\n",
    "'Ana' not in lista\n",
    "\n",
    "# Operador de Identidade\n",
    "x = 3\n",
    "y = x\n",
    "z = 3\n",
    "x is y\n",
    "y is z\n",
    "x is not z\n",
    "\n",
    "lista_a = [1, 2, 3]\n",
    "lista_b = lista_a\n",
    "lista_c = [1, 2, 3]\n",
    "\n",
    "lista_a is lista_b\n",
    "lista_b is lista_c\n",
    "lista_a is not lista_c #nesse último caso a afirmação torna-se verdadeira, pois as listas são diferentes."
   ]
  },
  {
   "cell_type": "markdown",
   "id": "4784fc4a-e7fd-4620-98e9-a233ef511e4c",
   "metadata": {},
   "source": [
    "# builts"
   ]
  },
  {
   "cell_type": "code",
   "execution_count": 56,
   "id": "2dc333f4-f6dd-46bc-be76-0ea2ff4c8c19",
   "metadata": {},
   "outputs": [
    {
     "name": "stdout",
     "output_type": "stream",
     "text": [
      "3.3333333333333335\n"
     ]
    },
    {
     "data": {
      "text/plain": [
       "['In',\n",
       " 'Out',\n",
       " '_',\n",
       " '_1',\n",
       " '_10',\n",
       " '_11',\n",
       " '_13',\n",
       " '_15',\n",
       " '_17',\n",
       " '_19',\n",
       " '_2',\n",
       " '_20',\n",
       " '_21',\n",
       " '_22',\n",
       " '_23',\n",
       " '_24',\n",
       " '_25',\n",
       " '_26',\n",
       " '_27',\n",
       " '_28',\n",
       " '_29',\n",
       " '_31',\n",
       " '_33',\n",
       " '_35',\n",
       " '_37',\n",
       " '_38',\n",
       " '_39',\n",
       " '_4',\n",
       " '_40',\n",
       " '_41',\n",
       " '_42',\n",
       " '_43',\n",
       " '_44',\n",
       " '_45',\n",
       " '_46',\n",
       " '_47',\n",
       " '_48',\n",
       " '_49',\n",
       " '_5',\n",
       " '_50',\n",
       " '_51',\n",
       " '_52',\n",
       " '_53',\n",
       " '_54',\n",
       " '_55',\n",
       " '_7',\n",
       " '_8',\n",
       " '__',\n",
       " '___',\n",
       " '__builtin__',\n",
       " '__builtins__',\n",
       " '__doc__',\n",
       " '__loader__',\n",
       " '__name__',\n",
       " '__package__',\n",
       " '__pandas',\n",
       " '__session__',\n",
       " '__spec__',\n",
       " '_dh',\n",
       " '_i',\n",
       " '_i1',\n",
       " '_i10',\n",
       " '_i11',\n",
       " '_i12',\n",
       " '_i13',\n",
       " '_i14',\n",
       " '_i15',\n",
       " '_i16',\n",
       " '_i17',\n",
       " '_i18',\n",
       " '_i19',\n",
       " '_i2',\n",
       " '_i20',\n",
       " '_i21',\n",
       " '_i22',\n",
       " '_i23',\n",
       " '_i24',\n",
       " '_i25',\n",
       " '_i26',\n",
       " '_i27',\n",
       " '_i28',\n",
       " '_i29',\n",
       " '_i3',\n",
       " '_i30',\n",
       " '_i31',\n",
       " '_i32',\n",
       " '_i33',\n",
       " '_i34',\n",
       " '_i35',\n",
       " '_i36',\n",
       " '_i37',\n",
       " '_i38',\n",
       " '_i39',\n",
       " '_i4',\n",
       " '_i40',\n",
       " '_i41',\n",
       " '_i42',\n",
       " '_i43',\n",
       " '_i44',\n",
       " '_i45',\n",
       " '_i46',\n",
       " '_i47',\n",
       " '_i48',\n",
       " '_i49',\n",
       " '_i5',\n",
       " '_i50',\n",
       " '_i51',\n",
       " '_i52',\n",
       " '_i53',\n",
       " '_i54',\n",
       " '_i55',\n",
       " '_i56',\n",
       " '_i6',\n",
       " '_i7',\n",
       " '_i8',\n",
       " '_i9',\n",
       " '_ih',\n",
       " '_ii',\n",
       " '_iii',\n",
       " '_oh',\n",
       " 'a',\n",
       " 'dataframe_columns',\n",
       " 'dataframe_hash',\n",
       " 'despesas',\n",
       " 'despesas_controladas',\n",
       " 'dtypes_str',\n",
       " 'esta_chuvendo',\n",
       " 'exit',\n",
       " 'get_dataframes',\n",
       " 'get_ipython',\n",
       " 'getpass',\n",
       " 'hashlib',\n",
       " 'import_pandas_safely',\n",
       " 'is_data_frame',\n",
       " 'json',\n",
       " 'lista',\n",
       " 'lista_a',\n",
       " 'lista_b',\n",
       " 'lista_c',\n",
       " 'mais_saudavel',\n",
       " 'meta',\n",
       " 'nome',\n",
       " 'open',\n",
       " 'quit',\n",
       " 'salario',\n",
       " 'saldo',\n",
       " 'saldo_positivo',\n",
       " 'sorvete',\n",
       " 'trabalho_quinta',\n",
       " 'trabalho_terca',\n",
       " 'tv_32',\n",
       " 'tv_50',\n",
       " 'x',\n",
       " 'y',\n",
       " 'z']"
      ]
     },
     "execution_count": 56,
     "metadata": {},
     "output_type": "execute_result"
    }
   ],
   "source": [
    "#built-in são aquelas já disponíveis sem a necessidade de importar módulos.\n",
    "#Exemplo:\n",
    "# type()\n",
    "type(1)\n",
    "__builtins__.type('Fala Galera!')\n",
    "__builtins__.print(10 / 3)\n",
    "\n",
    "# __builtins__.help(__builtins__.dir)\n",
    "\n",
    "# a = 7\n",
    "# import math\n",
    "# dir()\n",
    "# dir(__builtins__)\n",
    "\n",
    "\n",
    "nome = 'João da Silva'\n",
    "type(nome)\n",
    "# __builtin__.len(nome)\n",
    "\n",
    "dir()\n"
   ]
  },
  {
   "cell_type": "markdown",
   "id": "08f1276d-ffc5-4000-8257-7c88c1661f06",
   "metadata": {},
   "source": [
    "# conversão de tipos"
   ]
  },
  {
   "cell_type": "code",
   "execution_count": 73,
   "id": "aa5a2794-4afb-4250-a064-385e4fb9a99a",
   "metadata": {},
   "outputs": [
    {
     "name": "stdout",
     "output_type": "stream",
     "text": [
      "<class 'int'>\n",
      "<class 'str'>\n",
      "5\n",
      "23\n"
     ]
    },
    {
     "data": {
      "text/plain": [
       "str"
      ]
     },
     "execution_count": 73,
     "metadata": {},
     "output_type": "execute_result"
    }
   ],
   "source": [
    "2 + 3\n",
    "'2' + '3'\n",
    " # 2 + '3' (esse caso será dado erro, uma vez que o python não consegue entender aquilo que queremos executar.\n",
    "#print( 2+ '3')\n",
    "a= 2\n",
    "b= '3'\n",
    "print(type(a))\n",
    "print(type(b))\n",
    "\n",
    "print(a + int(b))\n",
    "print(str(a) + b)\n",
    "type(str(a))\n",
    "\n",
    "# print(2 + int('3.4'))"
   ]
  },
  {
   "cell_type": "markdown",
   "id": "17f35e3e-cb56-4b3f-ab20-ea66609e483e",
   "metadata": {},
   "source": [
    "# números 1"
   ]
  },
  {
   "cell_type": "code",
   "execution_count": 94,
   "id": "4e975433-1329-440e-b756-1a4ad858d2b1",
   "metadata": {},
   "outputs": [
    {
     "data": {
      "text/plain": [
       "3.6"
      ]
     },
     "execution_count": 94,
     "metadata": {},
     "output_type": "execute_result"
    }
   ],
   "source": [
    "dir(int)\n",
    "dir(float)\n",
    "\n",
    "a = 5\n",
    "b = 2.5\n",
    "a / b\n",
    "a + b\n",
    "a * b\n",
    "\n",
    "type(a)\n",
    "type(b)\n",
    "type(a - b)\n",
    "\n",
    "b.is_integer()\n",
    "5.0.is_integer()\n",
    "\n",
    "dir(int)\n",
    "int.__add__(2, 3)\n",
    "2 + 3\n",
    "\n",
    "(-2).__abs__()\n",
    "abs(-2)\n",
    "\n",
    "(-3.6).__abs__()\n",
    "dir(float)\n",
    "abs(-3.6)"
   ]
  },
  {
   "cell_type": "markdown",
   "id": "41a901a1-7d5f-490a-83a0-63f31dd84582",
   "metadata": {},
   "source": [
    "# números 2"
   ]
  },
  {
   "cell_type": "code",
   "execution_count": 114,
   "id": "0d4df472-af82-4d20-865f-3279d4ee4254",
   "metadata": {},
   "outputs": [
    {
     "data": {
      "text/plain": [
       "['Decimal',\n",
       " 'In',\n",
       " 'Out',\n",
       " '_',\n",
       " '_1',\n",
       " '_10',\n",
       " '_101',\n",
       " '_102',\n",
       " '_103',\n",
       " '_104',\n",
       " '_105',\n",
       " '_107',\n",
       " '_108',\n",
       " '_109',\n",
       " '_11',\n",
       " '_110',\n",
       " '_111',\n",
       " '_112',\n",
       " '_113',\n",
       " '_13',\n",
       " '_15',\n",
       " '_17',\n",
       " '_19',\n",
       " '_2',\n",
       " '_20',\n",
       " '_21',\n",
       " '_22',\n",
       " '_23',\n",
       " '_24',\n",
       " '_25',\n",
       " '_26',\n",
       " '_27',\n",
       " '_28',\n",
       " '_29',\n",
       " '_31',\n",
       " '_33',\n",
       " '_35',\n",
       " '_37',\n",
       " '_38',\n",
       " '_39',\n",
       " '_4',\n",
       " '_40',\n",
       " '_41',\n",
       " '_42',\n",
       " '_43',\n",
       " '_44',\n",
       " '_45',\n",
       " '_46',\n",
       " '_47',\n",
       " '_48',\n",
       " '_49',\n",
       " '_5',\n",
       " '_50',\n",
       " '_51',\n",
       " '_52',\n",
       " '_53',\n",
       " '_54',\n",
       " '_55',\n",
       " '_56',\n",
       " '_57',\n",
       " '_58',\n",
       " '_59',\n",
       " '_60',\n",
       " '_61',\n",
       " '_62',\n",
       " '_64',\n",
       " '_66',\n",
       " '_68',\n",
       " '_7',\n",
       " '_70',\n",
       " '_72',\n",
       " '_73',\n",
       " '_74',\n",
       " '_75',\n",
       " '_76',\n",
       " '_77',\n",
       " '_78',\n",
       " '_79',\n",
       " '_8',\n",
       " '_80',\n",
       " '_81',\n",
       " '_82',\n",
       " '_83',\n",
       " '_84',\n",
       " '_85',\n",
       " '_86',\n",
       " '_87',\n",
       " '_88',\n",
       " '_89',\n",
       " '_90',\n",
       " '_91',\n",
       " '_92',\n",
       " '_93',\n",
       " '_94',\n",
       " '_95',\n",
       " '_96',\n",
       " '_97',\n",
       " '_99',\n",
       " '__',\n",
       " '___',\n",
       " '__builtin__',\n",
       " '__builtins__',\n",
       " '__doc__',\n",
       " '__loader__',\n",
       " '__name__',\n",
       " '__package__',\n",
       " '__pandas',\n",
       " '__session__',\n",
       " '__spec__',\n",
       " '_dh',\n",
       " '_i',\n",
       " '_i1',\n",
       " '_i10',\n",
       " '_i100',\n",
       " '_i101',\n",
       " '_i102',\n",
       " '_i103',\n",
       " '_i104',\n",
       " '_i105',\n",
       " '_i106',\n",
       " '_i107',\n",
       " '_i108',\n",
       " '_i109',\n",
       " '_i11',\n",
       " '_i110',\n",
       " '_i111',\n",
       " '_i112',\n",
       " '_i113',\n",
       " '_i114',\n",
       " '_i12',\n",
       " '_i13',\n",
       " '_i14',\n",
       " '_i15',\n",
       " '_i16',\n",
       " '_i17',\n",
       " '_i18',\n",
       " '_i19',\n",
       " '_i2',\n",
       " '_i20',\n",
       " '_i21',\n",
       " '_i22',\n",
       " '_i23',\n",
       " '_i24',\n",
       " '_i25',\n",
       " '_i26',\n",
       " '_i27',\n",
       " '_i28',\n",
       " '_i29',\n",
       " '_i3',\n",
       " '_i30',\n",
       " '_i31',\n",
       " '_i32',\n",
       " '_i33',\n",
       " '_i34',\n",
       " '_i35',\n",
       " '_i36',\n",
       " '_i37',\n",
       " '_i38',\n",
       " '_i39',\n",
       " '_i4',\n",
       " '_i40',\n",
       " '_i41',\n",
       " '_i42',\n",
       " '_i43',\n",
       " '_i44',\n",
       " '_i45',\n",
       " '_i46',\n",
       " '_i47',\n",
       " '_i48',\n",
       " '_i49',\n",
       " '_i5',\n",
       " '_i50',\n",
       " '_i51',\n",
       " '_i52',\n",
       " '_i53',\n",
       " '_i54',\n",
       " '_i55',\n",
       " '_i56',\n",
       " '_i57',\n",
       " '_i58',\n",
       " '_i59',\n",
       " '_i6',\n",
       " '_i60',\n",
       " '_i61',\n",
       " '_i62',\n",
       " '_i63',\n",
       " '_i64',\n",
       " '_i65',\n",
       " '_i66',\n",
       " '_i67',\n",
       " '_i68',\n",
       " '_i69',\n",
       " '_i7',\n",
       " '_i70',\n",
       " '_i71',\n",
       " '_i72',\n",
       " '_i73',\n",
       " '_i74',\n",
       " '_i75',\n",
       " '_i76',\n",
       " '_i77',\n",
       " '_i78',\n",
       " '_i79',\n",
       " '_i8',\n",
       " '_i80',\n",
       " '_i81',\n",
       " '_i82',\n",
       " '_i83',\n",
       " '_i84',\n",
       " '_i85',\n",
       " '_i86',\n",
       " '_i87',\n",
       " '_i88',\n",
       " '_i89',\n",
       " '_i9',\n",
       " '_i90',\n",
       " '_i91',\n",
       " '_i92',\n",
       " '_i93',\n",
       " '_i94',\n",
       " '_i95',\n",
       " '_i96',\n",
       " '_i97',\n",
       " '_i98',\n",
       " '_i99',\n",
       " '_ih',\n",
       " '_ii',\n",
       " '_iii',\n",
       " '_oh',\n",
       " 'a',\n",
       " 'b',\n",
       " 'dataframe_columns',\n",
       " 'dataframe_hash',\n",
       " 'decimal',\n",
       " 'despesas',\n",
       " 'despesas_controladas',\n",
       " 'dtypes_str',\n",
       " 'esta_chuvendo',\n",
       " 'exit',\n",
       " 'get_dataframes',\n",
       " 'get_ipython',\n",
       " 'getcontext',\n",
       " 'getpass',\n",
       " 'hashlib',\n",
       " 'import_pandas_safely',\n",
       " 'is_data_frame',\n",
       " 'json',\n",
       " 'lista',\n",
       " 'lista_a',\n",
       " 'lista_b',\n",
       " 'lista_c',\n",
       " 'mais_saudavel',\n",
       " 'meta',\n",
       " 'nome',\n",
       " 'open',\n",
       " 'quit',\n",
       " 'salario',\n",
       " 'saldo',\n",
       " 'saldo_positivo',\n",
       " 'sorvete',\n",
       " 'trabalho_quinta',\n",
       " 'trabalho_terca',\n",
       " 'tv_32',\n",
       " 'tv_50',\n",
       " 'x',\n",
       " 'y',\n",
       " 'z']"
      ]
     },
     "execution_count": 114,
     "metadata": {},
     "output_type": "execute_result"
    }
   ],
   "source": [
    "import decimal\n",
    "from decimal import Decimal, getcontext\n",
    "1.1 + 2.2\n",
    "Decimal(1) / Decimal(7)\n",
    "\n",
    "getcontext().prec = 4\n",
    "Decimal(1) / Decimal(7)\n",
    "Decimal.max(Decimal(1), Decimal(7))\n",
    "dir(Decimal)\n",
    "dir()"
   ]
  },
  {
   "cell_type": "markdown",
   "id": "54185b24-6136-4fb2-8dd1-adb122b4232a",
   "metadata": {},
   "source": [
    "# STRING"
   ]
  },
  {
   "cell_type": "code",
   "execution_count": null,
   "id": "93758633-c23b-422b-bb71-488e6a017da7",
   "metadata": {},
   "outputs": [],
   "source": []
  },
  {
   "cell_type": "code",
   "execution_count": 149,
   "id": "94a1ec11-1938-4b94-979a-06442d9ec459",
   "metadata": {},
   "outputs": [
    {
     "name": "stdout",
     "output_type": "stream",
     "text": [
      "Texto com múltiplas\n",
      "\t... linhas\n",
      "Texto com múltiplas\n",
      "    ... linhas\n"
     ]
    },
    {
     "data": {
      "text/plain": [
       "['__add__',\n",
       " '__class__',\n",
       " '__contains__',\n",
       " '__delattr__',\n",
       " '__dir__',\n",
       " '__doc__',\n",
       " '__eq__',\n",
       " '__format__',\n",
       " '__ge__',\n",
       " '__getattribute__',\n",
       " '__getitem__',\n",
       " '__getnewargs__',\n",
       " '__getstate__',\n",
       " '__gt__',\n",
       " '__hash__',\n",
       " '__init__',\n",
       " '__init_subclass__',\n",
       " '__iter__',\n",
       " '__le__',\n",
       " '__len__',\n",
       " '__lt__',\n",
       " '__mod__',\n",
       " '__mul__',\n",
       " '__ne__',\n",
       " '__new__',\n",
       " '__reduce__',\n",
       " '__reduce_ex__',\n",
       " '__repr__',\n",
       " '__rmod__',\n",
       " '__rmul__',\n",
       " '__setattr__',\n",
       " '__sizeof__',\n",
       " '__str__',\n",
       " '__subclasshook__',\n",
       " 'capitalize',\n",
       " 'casefold',\n",
       " 'center',\n",
       " 'count',\n",
       " 'encode',\n",
       " 'endswith',\n",
       " 'expandtabs',\n",
       " 'find',\n",
       " 'format',\n",
       " 'format_map',\n",
       " 'index',\n",
       " 'isalnum',\n",
       " 'isalpha',\n",
       " 'isascii',\n",
       " 'isdecimal',\n",
       " 'isdigit',\n",
       " 'isidentifier',\n",
       " 'islower',\n",
       " 'isnumeric',\n",
       " 'isprintable',\n",
       " 'isspace',\n",
       " 'istitle',\n",
       " 'isupper',\n",
       " 'join',\n",
       " 'ljust',\n",
       " 'lower',\n",
       " 'lstrip',\n",
       " 'maketrans',\n",
       " 'partition',\n",
       " 'removeprefix',\n",
       " 'removesuffix',\n",
       " 'replace',\n",
       " 'rfind',\n",
       " 'rindex',\n",
       " 'rjust',\n",
       " 'rpartition',\n",
       " 'rsplit',\n",
       " 'rstrip',\n",
       " 'split',\n",
       " 'splitlines',\n",
       " 'startswith',\n",
       " 'strip',\n",
       " 'swapcase',\n",
       " 'title',\n",
       " 'translate',\n",
       " 'upper',\n",
       " 'zfill']"
      ]
     },
     "execution_count": 149,
     "metadata": {},
     "output_type": "execute_result"
    }
   ],
   "source": [
    "dir(str)\n",
    "nome = 'Saulo Pedro'\n",
    "nome[0]\n",
    "# nome[0] = 'P'\n",
    "\n",
    "# 'marca d'água'\n",
    "\"Dias D'Avila\" == 'Dias D\\'Avila'\n",
    "\"Teste \\\" funciona!\"\n",
    "texto = 'Texto entre apostrófos pode ter \"aspas\"'\n",
    "texto\n",
    "\n",
    "doc = \"\"\"Texto com múltiplas\n",
    "    ... linhas\"\"\"\n",
    "doc\n",
    "\n",
    "print('Texto com múltiplas\\n\\t... linhas')\n",
    "print(doc)\n",
    "\n",
    "doc2 = '''Também é possível\n",
    "... com 3 aspas simples'''\n",
    "doc2\n",
    "\n",
    "# %%\n",
    "nome = 'Ana Paula'\n",
    "nome[0]\n",
    "nome[6]\n",
    "nome[-3]\n",
    "nome[-5:]\n",
    "nome[:3]\n",
    "nome[2:5]\n",
    "\n",
    "numeros = '1234567890'\n",
    "numeros\n",
    "numeros[::]\n",
    "numeros[::2]\n",
    "numeros[1::2]\n",
    "numeros[::-1]\n",
    "numeros[::-2]\n",
    "\n",
    "nome[::-1]\n",
    "\n",
    "# %%\n",
    "frase = 'Python é uma linguagem excelente'\n",
    "'py' not in frase\n",
    "'ing' in frase\n",
    "len(frase)\n",
    "frase.lower()\n",
    "frase\n",
    "frase = frase.upper()\n",
    "frase\n",
    "\n",
    "frase.split()\n",
    "frase.split('E')\n",
    "\n",
    "# dir(str)\n",
    "# help(str.center)\n",
    "\n",
    "# %%\n",
    "a = '123'\n",
    "b = ' de Oliveira 4'\n",
    "a + b\n",
    "a.__add__(b)\n",
    "str.__add__(a, b)\n",
    "\n",
    "len(a)\n",
    "a.__len__()\n",
    "'1' in a\n",
    "a.__contains__('1')\n",
    "\n",
    "dir(str)"
   ]
  },
  {
   "cell_type": "code",
   "execution_count": null,
   "id": "69fca4f4-8c46-4f85-a9dd-052d0abcffb6",
   "metadata": {},
   "outputs": [],
   "source": []
  },
  {
   "cell_type": "code",
   "execution_count": null,
   "id": "a0cf31be-38e5-472f-bc22-4f52786c4a33",
   "metadata": {},
   "outputs": [],
   "source": []
  }
 ],
 "metadata": {
  "kernelspec": {
   "display_name": "anaconda-panel-2023.05-py310",
   "language": "python",
   "name": "conda-env-anaconda-panel-2023.05-py310-py"
  },
  "language_info": {
   "codemirror_mode": {
    "name": "ipython",
    "version": 3
   },
   "file_extension": ".py",
   "mimetype": "text/x-python",
   "name": "python",
   "nbconvert_exporter": "python",
   "pygments_lexer": "ipython3",
   "version": "3.11.5"
  }
 },
 "nbformat": 4,
 "nbformat_minor": 5
}
